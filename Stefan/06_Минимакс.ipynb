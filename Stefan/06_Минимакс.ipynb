{
 "cells": [
  {
   "cell_type": "markdown",
   "metadata": {},
   "source": [
    "# Минимакс"
   ]
  },
  {
   "cell_type": "markdown",
   "metadata": {},
   "source": [
    "## Референци\n",
    "- [Lichess и Stockfish](https://lichess.org/analysis)"
   ]
  },
  {
   "cell_type": "code",
   "execution_count": 1,
   "metadata": {},
   "outputs": [
    {
     "data": {
      "image/jpeg": "[encoded data removed]",
      "text/html": [
       "\n",
       "        <iframe\n",
       "            width=\"400\"\n",
       "            height=\"300\"\n",
       "            src=\"https://www.youtube.com/embed/f_Sk-LiXk7Y\"\n",
       "            frameborder=\"0\"\n",
       "            allowfullscreen\n",
       "            \n",
       "        ></iframe>\n",
       "        "
      ],
      "text/plain": [
       "<IPython.lib.display.YouTubeVideo at 0x7ff4b166d9f0>"
      ]
     },
     "execution_count": 1,
     "metadata": {},
     "output_type": "execute_result"
    }
   ],
   "source": [
    "from IPython.lib.display import YouTubeVideo\n",
    "YouTubeVideo('f_Sk-LiXk7Y')"
   ]
  },
  {
   "cell_type": "code",
   "execution_count": 2,
   "metadata": {},
   "outputs": [],
   "source": [
    "from graph import Graph"
   ]
  },
  {
   "cell_type": "code",
   "execution_count": 3,
   "metadata": {},
   "outputs": [],
   "source": [
    "g = Graph()\n",
    "for vertex in ['A', 'B', 'C', 'D', 'E', 'F', 'G', 'H', 'I', 'J', 'K', \n",
    "               'L', 'M', 'N', 'O', 'P', 'Q', 'R', 'S', 'T', 'U', 'V']:\n",
    "    g.add_vertex(vertex)\n",
    "for edge in [('A', 'B'), ('A', 'C'), ('A', 'D'), ('B', 'E'), ('B', 'F'), ('C', 'G'), \n",
    "             ('C', 'H'), ('D', 'I'), ('D', 'J'), ('E', 'K'), ('E', 'L'),\n",
    "             ('F', 'M'), ('F', 'N'), ('G', 'O'), ('G', 'P'), ('H', 'Q'), ('H', 'R'),\n",
    "             ('I', 'S'), ('I', 'T'), ('J', 'U'), ('J', 'V')]:\n",
    "    g.add_edge(edge, add_reversed=False)\n",
    "leafs = {'K': 4, 'L': 6, 'M': 7, 'N': 9, 'O': 1, 'P': 2, 'Q': 0, 'R': 1, 'S': 8, 'T': 1, 'U': 9, 'V': 2}"
   ]
  },
  {
   "cell_type": "code",
   "execution_count": 4,
   "metadata": {},
   "outputs": [],
   "source": [
    "plus_inf = float('inf')\n",
    "minus_inf = float('-inf')"
   ]
  },
  {
   "cell_type": "code",
   "execution_count": 5,
   "metadata": {},
   "outputs": [],
   "source": [
    "def other_player(player):\n",
    "    return 'MIN' if player == 'MAX' else 'MAX'"
   ]
  },
  {
   "cell_type": "code",
   "execution_count": 6,
   "metadata": {},
   "outputs": [],
   "source": [
    "def minimax(graph, node, player):\n",
    "    \"\"\"\n",
    "    Implements minimax without alpha-beta pruning.\n",
    "    :graph: graph\n",
    "    :node: graph's node\n",
    "    :player: player on turn, MIN or MAX\n",
    "    \"\"\"\n",
    "#     Ако стигнеме да разгрануваме лист, тогаш ја враќаме вредноста на тој лист. \n",
    "#     Ова е резултат на играта или пак евалуација на моменталната состојба.\n",
    "    if node in leafs:\n",
    "        print(node, end=' ')\n",
    "        return leafs[node]\n",
    "#     Во спортивно, треба да ја пресметаме вредноста на играта за тој јазол преку истражување на сите негови деца.\n",
    "#     Ако сега на ред е MAX играчот тогаш моментално најдобриот избор за него е -inf.\n",
    "#     Ако сега на ред е MIN играчот тогаш моментално најдобриот избор за него е inf.\n",
    "    best = plus_inf if player == 'MIN' else minus_inf\n",
    "#     Итерираме низ децата на коренот `node` за да го најдеме најдобриот потег за моменталниот играч `player`.\n",
    "    for child in graph.neighbours(node):\n",
    "#         За секое дете го пресметуваме резултатот на играта од детето па надолу низ сите негови гранки.\n",
    "        result = minimax(graph, child, other_player(player))\n",
    "#         Ако на ред е MIN играчот, тогаш за него ја бараме најмалата вредност за играта која ќе ја добиеме од неговите деца.\n",
    "        if player == 'MIN' and result < best:\n",
    "            best = result\n",
    "#         Инаку, ако на ред е MAX играчот, тогаш за него ја бараме најголема вредност за играта која ќе ја добиеме од неговите деца.\n",
    "        elif player == 'MAX' and result > best:\n",
    "            best = result\n",
    "    return best"
   ]
  },
  {
   "cell_type": "code",
   "execution_count": 7,
   "metadata": {},
   "outputs": [
    {
     "name": "stdout",
     "output_type": "stream",
     "text": [
      "K L M N O P Q R S T U V "
     ]
    },
    {
     "data": {
      "text/plain": [
       "8"
      ]
     },
     "execution_count": 7,
     "metadata": {},
     "output_type": "execute_result"
    }
   ],
   "source": [
    "game_result = minimax(g, 'A', 'MAX')\n",
    "game_result"
   ]
  },
  {
   "cell_type": "markdown",
   "metadata": {},
   "source": [
    "## Минимакс со алфа-бета поткастрување"
   ]
  },
  {
   "cell_type": "code",
   "execution_count": 8,
   "metadata": {},
   "outputs": [],
   "source": [
    "def minimax_alpha_beta(graph, node, player, alpha=minus_inf, beta=plus_inf):\n",
    "    \"\"\"\n",
    "    Implements minimax with alpha-beta pruning.\n",
    "    :graph: graph\n",
    "    :node: graph's node\n",
    "    :player: player on turn, MIN or MAX\n",
    "    :alpha: best move for MAX on the current path\n",
    "    :beta: best move for MIN on the current path\n",
    "    \"\"\"\n",
    "#     Ако стигнеме да разгрануваме лист, тогаш ја враќаме вредноста на тој лист. \n",
    "#     Ова е резултат на играта или пак евалуација на моменталната состојба.\n",
    "    if node in leafs:\n",
    "        print(node, end=' ')\n",
    "        return leafs[node]\n",
    "#     Во спортивно, треба да ја пресметаме вредноста на играта за тој јазол преку истражување на сите негови деца.\n",
    "#     Ако сега на ред е MAX играчот тогаш моментално најдобриот избор за него е -inf.\n",
    "#     Ако сега на ред е MIN играчот тогаш моментално најдобриот избор за него е inf.\n",
    "    best = plus_inf if player == 'MIN' else minus_inf\n",
    "#     Итерираме низ децата на коренот `node` за да го најдеме најдобриот потег за моменталниот играч `player`.\n",
    "    for child in graph.neighbours(node):\n",
    "#         За секое дете го пресметуваме резултатот на играта од детето па надолу низ сите негови гранки.\n",
    "        result = minimax_alpha_beta(graph, child, other_player(player), alpha, beta)\n",
    "#         Ако на ред е MIN играчот,\n",
    "        if player == 'MIN':\n",
    "#             Најпрво испитуваме дали најновата вредност за играта добиена од моменталното дете \n",
    "#             е помала или еднаква на alpha - моментално најдобрата вредност за MAX играчот од тука до коренот на дрвото.\n",
    "#             Ако овој услов е исполнет, тогаш нема потреба да разгрануваме повеќе бидејќи колку и да е помала вредноста на играта.\n",
    "#             која ќе ја пронајдеме од некое друго дете, MAX играчот ќе ја избере вредноста alpha еден степен погоре.\n",
    "            if result <= alpha:\n",
    "                return result\n",
    "#             Во овој момент ја обновуваме вредноста на beta за да ја пратиме како аргумент на наредното дете \n",
    "#             како досега најдобра вредност за MIN играчот.\n",
    "            if result < beta:\n",
    "                beta = result\n",
    "#             Ја бараме најмалата вредност на играта, бидејќи сега на ред е MIN, и ќе ја зачуваме како резултат во моменталниот јазол `node`.\n",
    "            if result < best:\n",
    "                best = result\n",
    "#         Инаку, ако на ред е MAX играчот,\n",
    "        elif player == 'MAX':\n",
    "#             Најпрво испитуваме дали најновата вредност за играта добиена од моменталното дете \n",
    "#             е поголема или еднаква на beta - моментално најдобрата вредност за MIN играчот од тука до коренот на дрвото.\n",
    "#             Ако овој услов е исполнет, тогаш нема потреба да разгрануваме повеќе бидејќи колку и да е поголема вредноста на играта\n",
    "#             која ќе ја пронајдеме од некое друго дете, MIN играчот ќе ја избере вредноста beta еден степен погоре.\n",
    "            if result >= beta:\n",
    "                return result\n",
    "#             Во овој момент ја обновуваме вредноста на alpha за да ја пратиме како аргумент на наредното дете \n",
    "#             како досега најдобра вредност за MAX играчот.\n",
    "            if result > alpha:\n",
    "                alpha = result\n",
    "#             Ја бараме најголемата вредност на играта, бидејќи сега на ред е MAX, и ќе ја зачуваме како резултат во моменталниот јазол `node`.\n",
    "            if result > best:\n",
    "                best = result\n",
    "    return best"
   ]
  },
  {
   "cell_type": "code",
   "execution_count": 9,
   "metadata": {},
   "outputs": [
    {
     "name": "stdout",
     "output_type": "stream",
     "text": [
      "K L M O P S T U "
     ]
    },
    {
     "data": {
      "text/plain": [
       "8"
      ]
     },
     "execution_count": 9,
     "metadata": {},
     "output_type": "execute_result"
    }
   ],
   "source": [
    "game_result = minimax_alpha_beta(g, 'A', 'MAX')\n",
    "game_result"
   ]
  },
  {
   "cell_type": "code",
   "execution_count": null,
   "metadata": {},
   "outputs": [],
   "source": []
  },
  {
   "cell_type": "code",
   "execution_count": null,
   "metadata": {},
   "outputs": [],
   "source": []
  },
  {
   "cell_type": "code",
   "execution_count": null,
   "metadata": {},
   "outputs": [],
   "source": []
  }
 ],
 "metadata": {
  "kernelspec": {
   "display_name": "Python 3 (ipykernel)",
   "language": "python",
   "name": "python3"
  },
  "language_info": {
   "codemirror_mode": {
    "name": "ipython",
    "version": 3
   },
   "file_extension": ".py",
   "mimetype": "text/x-python",
   "name": "python",
   "nbconvert_exporter": "python",
   "pygments_lexer": "ipython3",
   "version": "3.10.8"
  }
 },
 "nbformat": 4,
 "nbformat_minor": 4
}
