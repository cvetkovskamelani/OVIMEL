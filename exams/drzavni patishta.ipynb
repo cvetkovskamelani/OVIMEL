{
 "cells": [
  {
   "cell_type": "markdown",
   "metadata": {},
   "source": [
    "# Прв парцијален испит по Основи на Вештачката Интелигенција (2/2)\n",
    "\n",
    "Датум: 21.11.2022"
   ]
  },
  {
   "cell_type": "markdown",
   "metadata": {},
   "source": [
    "## Задача 2 - Државни Патишта"
   ]
  },
  {
   "cell_type": "markdown",
   "metadata": {
    "tags": []
   },
   "source": [
    "Ја разгледуваме задачата со државните патишта, од аудиториските вежби. Таму проблемот се решава со пребарување со униформна цена, а потоа со пребарување А* користејќи евклидово растојание.\n",
    "\n",
    "### Прашања\n",
    "1. **(15 поени)** Кој е најдобар начин да дознаеме дали навистина алгоритамот А* побрзо стигнува до целта за разлика од пребарувањето со униформна цена? Користејќи најмалку 3 примери, покажете дека алгоритамот А* навистина работи побрзо.\n",
    "1. **(10 поени)** За функцијата за дојава искористете го растојанието Менхетен. Дали алгоритамот ќе стигне до оптималното решение? Ако не, зошто не? Покажете преку пример."
   ]
  },
  {
   "cell_type": "markdown",
   "metadata": {},
   "source": [
    "1.\n",
    "* најдобро е преку број на разгранети јазли"
   ]
  },
  {
   "cell_type": "code",
   "execution_count": 1,
   "metadata": {},
   "outputs": [],
   "source": [
    "import pandas as pd\n",
    "from plotly import graph_objects as go"
   ]
  },
  {
   "cell_type": "code",
   "execution_count": 2,
   "metadata": {},
   "outputs": [],
   "source": [
    "class WeightedGraph:\n",
    "    def __init__(self):\n",
    "        self.graph_dict = {}\n",
    "    \n",
    "    def add_vertex(self, vertex):\n",
    "        if vertex not in self.graph_dict:\n",
    "            self.graph_dict[vertex] = {}\n",
    "    \n",
    "    def vertices(self):\n",
    "        return list(self.graph_dict.keys())\n",
    "    \n",
    "    def add_edge(self, edge, add_reversed=True):\n",
    "        vertex1, vertex2, weight = edge\n",
    "        self.graph_dict[vertex1][vertex2] = weight\n",
    "        if add_reversed:\n",
    "            self.graph_dict[vertex2][vertex1] = weight\n",
    "    \n",
    "    def edges(self):\n",
    "        edges = []\n",
    "        for vertex in self.graph_dict:\n",
    "            for neighbour, weight in self.graph_dict[vertex].items():\n",
    "                edges.append((vertex, neighbour, weight))\n",
    "        return edges\n",
    "    \n",
    "    def neighbours(self, vertex):\n",
    "        return list(self.graph_dict[vertex].items())"
   ]
  },
  {
   "cell_type": "code",
   "execution_count": 3,
   "metadata": {},
   "outputs": [],
   "source": [
    "g = WeightedGraph()\n",
    "files = pd.read_csv('roads/roads_info.csv')['Кратенка']\n",
    "for file in files:\n",
    "    df = pd.read_csv(f'roads/{file}.csv')\n",
    "    df['ОД'] = df['ЈАЗОЛ НА ПОЧЕТОКОТ']\n",
    "    df['ДО'] = df['ЈАЗОЛ НА КРАЈОТ']\n",
    "    for row in df.itertuples():\n",
    "        g.add_vertex(row.ОД)\n",
    "        g.add_vertex(row.ДО)\n",
    "        g.add_edge((row.ОД, row.ДО, row.ДОЛЖИНА))"
   ]
  },
  {
   "cell_type": "code",
   "execution_count": 4,
   "metadata": {},
   "outputs": [],
   "source": [
    "def city(graph,city):\n",
    "    for vertex in graph.vertices():\n",
    "        if city.lower() in vertex.lower():\n",
    "            print(vertex)"
   ]
  },
  {
   "cell_type": "code",
   "execution_count": 5,
   "metadata": {},
   "outputs": [
    {
     "name": "stdout",
     "output_type": "stream",
     "text": [
      "364 - Пробиштип\n",
      "195 - Младо Нагоричане\n",
      "378 - Старо Нагоричане 1\n",
      "512 - Младо Нагоричане\n"
     ]
    }
   ],
   "source": [
    "city(g, 'Пробиштип')\n",
    "city(g, 'Нагоричане')"
   ]
  },
  {
   "cell_type": "code",
   "execution_count": 6,
   "metadata": {},
   "outputs": [],
   "source": [
    "# so uniformna cena\n",
    "import heapq\n",
    "def uniform_cost_search(graph,starting_vertex, goal_vertex):\n",
    "    global c\n",
    "    if starting_vertex == goal_vertex:\n",
    "        return []\n",
    "    expanded = set()\n",
    "    queue = [(0, [starting_vertex])]\n",
    "    heapq.heapify(queue)\n",
    "    while queue:\n",
    "        c+=1\n",
    "        weight, vertex_list = heapq.heappop(queue) \n",
    "        vertex_to_expand = vertex_list[-1]\n",
    "        if vertex_to_expand == goal_vertex:\n",
    "            return weight, vertex_list\n",
    "        if vertex_to_expand not in expanded:\n",
    "            for  neighbour, new_weight in graph.neighbours(vertex_to_expand):\n",
    "                if neighbour not in expanded: \n",
    "                    heapq.heappush(queue, (weight + new_weight, vertex_list + [neighbour]))\n",
    "        expanded.add(vertex_to_expand)"
   ]
  },
  {
   "cell_type": "code",
   "execution_count": 7,
   "metadata": {},
   "outputs": [
    {
     "data": {
      "text/plain": [
       "36229.390811682366"
      ]
     },
     "execution_count": 7,
     "metadata": {},
     "output_type": "execute_result"
    }
   ],
   "source": [
    "df = pd.read_csv('roads/coordinates.csv')\n",
    "\n",
    "def eucledian_distance(vertex1, vertex2):\n",
    "    vertex1 = int(vertex1.split('-')[0])\n",
    "    vertex2 = int(vertex2.split('-')[0])\n",
    "    vertex1 = df.query(f'Јазол == {vertex1}')\n",
    "    vertex2 = df.query(f'Јазол == {vertex2}')\n",
    "    import math\n",
    "    delta_x_squared = math.pow(float(vertex1.X) - float(vertex2.X), 2)\n",
    "    delta_y_squared = math.pow(float(vertex1.Y) - float(vertex2.Y), 2)\n",
    "    return math.sqrt(delta_x_squared + delta_y_squared)\n",
    "\n",
    "eucledian_distance('364 - Пробиштип', '378 - Старо Нагоричане 1')"
   ]
  },
  {
   "cell_type": "code",
   "execution_count": 8,
   "metadata": {},
   "outputs": [],
   "source": [
    "def a_star_search(graph, starting_vertex, goal_vertex, alpha=1):\n",
    "    global c\n",
    "    if starting_vertex == goal_vertex:\n",
    "        return []\n",
    "    expanded = set()\n",
    "    queue = [((0, 0), [starting_vertex])]\n",
    "    heapq.heapify(queue)\n",
    "    while queue:\n",
    "        c+=1\n",
    "        weight_tuple, vertex_list = heapq.heappop(queue)\n",
    "        current_a_star_weight, current_path_weight = weight_tuple\n",
    "        vertex_to_expand = vertex_list[-1]\n",
    "        if vertex_to_expand == goal_vertex:\n",
    "            return current_path_weight, vertex_list\n",
    "        if vertex_to_expand not in expanded:\n",
    "            for neighbour, new_weight in graph.neighbours(vertex_to_expand):\n",
    "                if neighbour not in expanded:\n",
    "                    path_weight = current_path_weight + new_weight\n",
    "                    a_star_weight = path_weight + alpha * eucledian_distance(neighbour, goal_vertex)\n",
    "                    heapq.heappush(queue, ((a_star_weight, path_weight), vertex_list + [neighbour]))\n",
    "        expanded.add(vertex_to_expand)"
   ]
  },
  {
   "cell_type": "code",
   "execution_count": 67,
   "metadata": {},
   "outputs": [
    {
     "data": {
      "text/plain": [
       "57"
      ]
     },
     "execution_count": 67,
     "metadata": {},
     "output_type": "execute_result"
    }
   ],
   "source": [
    "c=0\n",
    "uniform_cost_search(g,'364 - Пробиштип', '378 - Старо Нагоричане 1')\n",
    "c"
   ]
  },
  {
   "cell_type": "code",
   "execution_count": 65,
   "metadata": {},
   "outputs": [
    {
     "data": {
      "text/plain": [
       "12"
      ]
     },
     "execution_count": 65,
     "metadata": {},
     "output_type": "execute_result"
    }
   ],
   "source": [
    "c=0\n",
    "a_star_search(g,'364 - Пробиштип', '378 - Старо Нагоричане 1')\n",
    "c"
   ]
  },
  {
   "cell_type": "code",
   "execution_count": 68,
   "metadata": {},
   "outputs": [
    {
     "data": {
      "text/plain": [
       "2"
      ]
     },
     "execution_count": 68,
     "metadata": {},
     "output_type": "execute_result"
    }
   ],
   "source": [
    "c=0\n",
    "uniform_cost_search(g,'183 - Инджиково (автопат)', '556 - Петровец (автопат)')\n",
    "c"
   ]
  },
  {
   "cell_type": "code",
   "execution_count": 69,
   "metadata": {},
   "outputs": [
    {
     "data": {
      "text/plain": [
       "2"
      ]
     },
     "execution_count": 69,
     "metadata": {},
     "output_type": "execute_result"
    }
   ],
   "source": [
    "c=0\n",
    "a_star_search(g,'183 - Инджиково (автопат)', '556 - Петровец (автопат)')\n",
    "c"
   ]
  },
  {
   "cell_type": "code",
   "execution_count": 70,
   "metadata": {},
   "outputs": [
    {
     "data": {
      "text/plain": [
       "4"
      ]
     },
     "execution_count": 70,
     "metadata": {},
     "output_type": "execute_result"
    }
   ],
   "source": [
    "c=0\n",
    "uniform_cost_search(g,'15 - Бучиште', '367 - Пишица')\n",
    "c"
   ]
  },
  {
   "cell_type": "code",
   "execution_count": 71,
   "metadata": {},
   "outputs": [
    {
     "data": {
      "text/plain": [
       "2"
      ]
     },
     "execution_count": 71,
     "metadata": {},
     "output_type": "execute_result"
    }
   ],
   "source": [
    "c=0\n",
    "a_star_search(g,'15 - Бучиште', '367 - Пишица')\n",
    "c"
   ]
  },
  {
   "cell_type": "markdown",
   "metadata": {},
   "source": [
    "b) не, нема да стигне до оптимално решение затоа што менхетен генерално се користи за пресметки каде што патот е всушност grid како во шах, и дава по ефективни чисти пресметки\n",
    "* еквалидовото расотојание пак се користи за да се пресмета разликата од некој вектор и почетниот вектор, што дава малку по реална слика за патот кој ние го мериме"
   ]
  },
  {
   "cell_type": "code",
   "execution_count": 9,
   "metadata": {},
   "outputs": [
    {
     "data": {
      "text/plain": [
       "29499.83999999985"
      ]
     },
     "execution_count": 9,
     "metadata": {},
     "output_type": "execute_result"
    }
   ],
   "source": [
    "# sega so menheten\n",
    "import math\n",
    "df = pd.read_csv('roads/coordinates.csv')\n",
    "def manhattan_distance(vertex1, vertex2):\n",
    "    vertex1 = int(vertex1.split('-')[0])\n",
    "    vertex2 = int(vertex2.split('-')[0])\n",
    "    vertex1 = df.query(f'Јазол == {vertex1}')\n",
    "    vertex2 = df.query(f'Јазол == {vertex2}')\n",
    "    return abs(float(vertex1.X) - float(vertex2.X)) + abs(float(vertex1.Y) - float(vertex1.Y))\n",
    "manhattan_distance('364 - Пробиштип', '378 - Старо Нагоричане 1')"
   ]
  },
  {
   "cell_type": "code",
   "execution_count": 10,
   "metadata": {},
   "outputs": [],
   "source": [
    "def a_star_search(graph, starting_vertex, goal_vertex, alpha=1):\n",
    "    global c\n",
    "    if starting_vertex == goal_vertex:\n",
    "        return []\n",
    "    expanded = set()\n",
    "    queue = [((0, 0), [starting_vertex])]\n",
    "    heapq.heapify(queue)\n",
    "    while queue:\n",
    "        c+=1\n",
    "        weight_tuple, vertex_list = heapq.heappop(queue)\n",
    "        current_a_star_weight, current_path_weight = weight_tuple\n",
    "        vertex_to_expand = vertex_list[-1]\n",
    "        if vertex_to_expand == goal_vertex:\n",
    "            return current_path_weight, vertex_list\n",
    "        if vertex_to_expand not in expanded:\n",
    "            for neighbour, new_weight in graph.neighbours(vertex_to_expand):\n",
    "                if neighbour not in expanded:\n",
    "                    path_weight = current_path_weight + new_weight\n",
    "                    a_star_weight = path_weight + alpha * manhattan_distance(neighbour, goal_vertex)\n",
    "                    heapq.heappush(queue, ((a_star_weight, path_weight), vertex_list + [neighbour]))\n",
    "        expanded.add(vertex_to_expand)"
   ]
  },
  {
   "cell_type": "code",
   "execution_count": 11,
   "metadata": {},
   "outputs": [
    {
     "data": {
      "text/plain": [
       "17"
      ]
     },
     "execution_count": 11,
     "metadata": {},
     "output_type": "execute_result"
    }
   ],
   "source": [
    "c=0\n",
    "a_star_search(g,'364 - Пробиштип', '378 - Старо Нагоричане 1')\n",
    "c"
   ]
  },
  {
   "cell_type": "markdown",
   "metadata": {},
   "source": [
    "* со еквалид беа разгранети 12 јазли\n",
    "* со менхетен беа разгранети 17 јазли "
   ]
  },
  {
   "cell_type": "code",
   "execution_count": null,
   "metadata": {},
   "outputs": [],
   "source": []
  }
 ],
 "metadata": {
  "kernelspec": {
   "display_name": "Python 3 (ipykernel)",
   "language": "python",
   "name": "python3"
  },
  "language_info": {
   "codemirror_mode": {
    "name": "ipython",
    "version": 3
   },
   "file_extension": ".py",
   "mimetype": "text/x-python",
   "name": "python",
   "nbconvert_exporter": "python",
   "pygments_lexer": "ipython3",
   "version": "3.10.8"
  }
 },
 "nbformat": 4,
 "nbformat_minor": 4
}
