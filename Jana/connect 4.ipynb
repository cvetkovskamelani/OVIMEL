{
 "cells": [
  {
   "cell_type": "code",
   "execution_count": 116,
   "id": "63b197c2-a6e2-46a3-826d-681102118d2a",
   "metadata": {},
   "outputs": [],
   "source": [
    "from time import sleep\n",
    "from collections import deque\n",
    "from copy import deepcopy\n",
    "from plotly import graph_objects as go\n",
    "import ipywidgets as widgets\n",
    "from IPython.display import display\n",
    "\n",
    "#kje se razgleduva tabla 6x7\n",
    "plus_inf = float('inf')\n",
    "minus_inf = float('-inf')\n",
    "\n",
    "start = (\n",
    "    ('.', '.', '.','.','.','.','.'),\n",
    "    ('.', '.', '.','.','.','.','.'),\n",
    "    ('.', '.', '.','.','.','.','.'),\n",
    "    ('.', '.', '.','.','.','.','.'),\n",
    "    ('.', '.', '.','.','.','.','.'),\n",
    "    ('.', '.', '.','.','.','.','.'),\n",
    ")\n",
    "\n",
    "def turn(player):\n",
    "    if player=='MAX':\n",
    "        return 'MIN'\n",
    "    else:\n",
    "        return 'MAX'\n",
    "        \n",
    "def check_score(state):\n",
    "    for row in range(6):\n",
    "        for col in range(7):\n",
    "            if (col+3)<7:\n",
    "                if state[row][col]==state[row][col+1]==state[row][col+2]==state[row][col+3] and state[row][col]!='.': #dali 4 ima po koloni\n",
    "                    return 1 if state[row][col] == 'x' else -1\n",
    "    for col in range(7):\n",
    "        for row in range(6):\n",
    "            if (row+3)<6:\n",
    "                if state[row][col]==state[row+1][col]==state[row+2][col]==state[row+3][col] and state[row][col]!='.': #dal 4 ima po redici\n",
    "                    return 1 if state[row][col] == 'x' else -1\n",
    "    for row in range(6):\n",
    "        for col in range(6):\n",
    "            if (row+3)<6 and (col+3)<6:\n",
    "                if state[row][col]==state[row+1][col+1]==state[row+2][col+2]==state[row+3][col+3] and state[row][col]!='.': #glavna dijagonala\n",
    "                    return 1 if state[row][col] == 'x' else -1\n",
    "    for col in reversed(range(7)):\n",
    "        for row in range(5):\n",
    "            if (row+3)<6 and (col-3)>0:\n",
    "                if state[row][col]==state[row+1][col-1]==state[row+2][col-2]==state[row+3][col-3] and state[row][col]!='.': #sporedna dijagonala\n",
    "                    return 1 if state[row][col] == 'x' else -1\n",
    "    return 'keep playing'"
   ]
  },
  {
   "cell_type": "code",
   "execution_count": 167,
   "id": "ea4c5b8d-0aba-4da5-95bf-8210bdf88907",
   "metadata": {},
   "outputs": [
    {
     "data": {
      "text/plain": [
       "'keep playing'"
      ]
     },
     "execution_count": 167,
     "metadata": {},
     "output_type": "execute_result"
    }
   ],
   "source": [
    "state = (\n",
    "    ('.', '.', '.','.','.','.','.'),\n",
    "    ('.', '.', '.','.','.','.','.'),\n",
    "    ('.', '.', '.','.','.','o','.'),\n",
    "    ('.', '.', 'o','.','x','x','.'),\n",
    "    ('.', '.', 'o','x','o','x','.'),\n",
    "    ('.', 'x', 'o','x','x','x','.'),\n",
    ")\n",
    "check_score(state)"
   ]
  },
  {
   "cell_type": "code",
   "execution_count": 168,
   "id": "196ebb80-d37a-4019-89db-41bafb249556",
   "metadata": {},
   "outputs": [],
   "source": [
    "def tuple_to_list(state):\n",
    "    return list(list(row) for row in state)\n",
    "\n",
    "def expand_state(state, player):\n",
    "    states = []\n",
    "    symbol = 'x' if player == 'MAX' else 'o'\n",
    "    for col_i in range(7):\n",
    "        row_i = 5\n",
    "        while state[row_i][col_i] != '.' and row_i >= 0:\n",
    "            row_i -= 1\n",
    "        if state[0][col_i] == '.':\n",
    "            state_pom = tuple_to_list(state)\n",
    "            state_pom[row_i][col_i] = symbol\n",
    "            states.append((list(state_pom), (row_i, col_i)))\n",
    "    return states"
   ]
  },
  {
   "cell_type": "code",
   "execution_count": 169,
   "id": "9c408832-45c5-47c1-b700-3d656c441334",
   "metadata": {},
   "outputs": [
    {
     "data": {
      "text/plain": [
       "[([['.', '.', '.', '.', '.', '.', '.'],\n",
       "   ['.', '.', '.', '.', '.', '.', '.'],\n",
       "   ['.', '.', '.', '.', '.', 'o', '.'],\n",
       "   ['.', '.', 'o', '.', 'x', 'x', '.'],\n",
       "   ['.', '.', 'o', 'x', 'o', 'x', '.'],\n",
       "   ['x', 'x', 'o', 'x', 'x', 'x', '.']],\n",
       "  (5, 0)),\n",
       " ([['.', '.', '.', '.', '.', '.', '.'],\n",
       "   ['.', '.', '.', '.', '.', '.', '.'],\n",
       "   ['.', '.', '.', '.', '.', 'o', '.'],\n",
       "   ['.', '.', 'o', '.', 'x', 'x', '.'],\n",
       "   ['.', 'x', 'o', 'x', 'o', 'x', '.'],\n",
       "   ['.', 'x', 'o', 'x', 'x', 'x', '.']],\n",
       "  (4, 1)),\n",
       " ([['.', '.', '.', '.', '.', '.', '.'],\n",
       "   ['.', '.', '.', '.', '.', '.', '.'],\n",
       "   ['.', '.', 'x', '.', '.', 'o', '.'],\n",
       "   ['.', '.', 'o', '.', 'x', 'x', '.'],\n",
       "   ['.', '.', 'o', 'x', 'o', 'x', '.'],\n",
       "   ['.', 'x', 'o', 'x', 'x', 'x', '.']],\n",
       "  (2, 2)),\n",
       " ([['.', '.', '.', '.', '.', '.', '.'],\n",
       "   ['.', '.', '.', '.', '.', '.', '.'],\n",
       "   ['.', '.', '.', '.', '.', 'o', '.'],\n",
       "   ['.', '.', 'o', 'x', 'x', 'x', '.'],\n",
       "   ['.', '.', 'o', 'x', 'o', 'x', '.'],\n",
       "   ['.', 'x', 'o', 'x', 'x', 'x', '.']],\n",
       "  (3, 3)),\n",
       " ([['.', '.', '.', '.', '.', '.', '.'],\n",
       "   ['.', '.', '.', '.', '.', '.', '.'],\n",
       "   ['.', '.', '.', '.', 'x', 'o', '.'],\n",
       "   ['.', '.', 'o', '.', 'x', 'x', '.'],\n",
       "   ['.', '.', 'o', 'x', 'o', 'x', '.'],\n",
       "   ['.', 'x', 'o', 'x', 'x', 'x', '.']],\n",
       "  (2, 4)),\n",
       " ([['.', '.', '.', '.', '.', '.', '.'],\n",
       "   ['.', '.', '.', '.', '.', 'x', '.'],\n",
       "   ['.', '.', '.', '.', '.', 'o', '.'],\n",
       "   ['.', '.', 'o', '.', 'x', 'x', '.'],\n",
       "   ['.', '.', 'o', 'x', 'o', 'x', '.'],\n",
       "   ['.', 'x', 'o', 'x', 'x', 'x', '.']],\n",
       "  (1, 5)),\n",
       " ([['.', '.', '.', '.', '.', '.', '.'],\n",
       "   ['.', '.', '.', '.', '.', '.', '.'],\n",
       "   ['.', '.', '.', '.', '.', 'o', '.'],\n",
       "   ['.', '.', 'o', '.', 'x', 'x', '.'],\n",
       "   ['.', '.', 'o', 'x', 'o', 'x', '.'],\n",
       "   ['.', 'x', 'o', 'x', 'x', 'x', 'x']],\n",
       "  (5, 6))]"
      ]
     },
     "execution_count": 169,
     "metadata": {},
     "output_type": "execute_result"
    }
   ],
   "source": [
    "expand_state(state, 'MAX')"
   ]
  },
  {
   "cell_type": "code",
   "execution_count": 170,
   "id": "8197b476-0414-4df0-b8bb-ae76a8b595b8",
   "metadata": {},
   "outputs": [],
   "source": [
    "#pobednik kje bide onoj shto ima povekje 3ki redosledno, toest znaci mu falelo 1 za da pobedi\n",
    "def evaluate_state(state):\n",
    "    counter_x=0\n",
    "    counter_o=0\n",
    "    for row in range(6):\n",
    "        for col in range(5):            \n",
    "            if state[row][col]==state[row][col+1]==state[row][col+2] and state[row][col]!='.': #dali 3 ima po koloni\n",
    "                if state[row][col]=='x':\n",
    "                    counter_x+=1\n",
    "                else: counter_o+=1\n",
    "    for col in range(7):\n",
    "        for row in range(4):\n",
    "            if state[row][col]==state[row+1][col]==state[row+2][col] and state[row][col]!='.': #dali 3 ima po redici\n",
    "                if state[row][col]=='x':\n",
    "                    counter_x+=1\n",
    "                else: counter_o+=1\n",
    "    for row in range(4):\n",
    "        for col in range(5):\n",
    "            if state[row][col]==state[row+1][col+1]==state[row+2][col+2] and state[row][col]!='.': #glavna dijagonala\n",
    "                if state[row][col]=='x':\n",
    "                    counter_x+=1\n",
    "                else: counter_o+=1\n",
    "    for col in reversed(range(7)):\n",
    "        for row in range(5):\n",
    "            if (row+2)<5 and (col-2)>0:\n",
    "                if state[row][col]==state[row+1][col-1]==state[row+2][col-2] and state[row][col]!='.': #sporedna dijagonala\n",
    "                    if state[row][col]=='x':\n",
    "                        counter_x+=1\n",
    "                    else: counter_o+=1\n",
    "    # x e max, o e min\n",
    "    return (counter_x - counter_o)/50 # ako e pozitiven broj, x vodi, ako e negativen, o vodi"
   ]
  },
  {
   "cell_type": "code",
   "execution_count": 171,
   "id": "a06e3d59-9078-4113-91b2-a3b408a353c9",
   "metadata": {},
   "outputs": [
    {
     "data": {
      "text/plain": [
       "0.02"
      ]
     },
     "execution_count": 171,
     "metadata": {},
     "output_type": "execute_result"
    }
   ],
   "source": [
    "evaluate_state(state)"
   ]
  },
  {
   "cell_type": "code",
   "execution_count": 179,
   "id": "c979a15c-3686-41cb-93d8-c4ad3358f4f5",
   "metadata": {},
   "outputs": [],
   "source": [
    "def minimax(state, player, symbol, alpha=-2, beta=2, depth=0):\n",
    "    winner = check_score(state)\n",
    "    if winner != 'keep playing':\n",
    "        return winner, None\n",
    "    # пример како да се прекине со пребарување после длабочина 3\n",
    "    if depth == 3:\n",
    "        return evaluate_state(state), None\n",
    "    best_value = 2 if player == 'MIN' else -2\n",
    "    best_move = None\n",
    "    for child, move in expand_state(state, player):\n",
    "        other_player = 'MIN' if player == 'MAX' else 'MAX'\n",
    "        other_symbol = 'x' if symbol == 'o' else 'o'\n",
    "        result, _ = minimax(child, other_player, other_symbol, alpha, beta, depth+1)\n",
    "        if player == 'MIN':\n",
    "            if result <= alpha:\n",
    "                return result, best_move\n",
    "            if result < beta:\n",
    "                beta = result\n",
    "            if result < best_value:\n",
    "                best_value = result\n",
    "                best_move = move\n",
    "        elif player == 'MAX':\n",
    "            if result >= beta:\n",
    "                return result, best_move\n",
    "            if result > alpha:\n",
    "                alpha = result\n",
    "            if result > best_value:\n",
    "                best_value = result\n",
    "                best_move = move\n",
    "    return best_value, best_move\n"
   ]
  },
  {
   "cell_type": "code",
   "execution_count": 180,
   "id": "4a624a6c-3049-4cc0-ac67-d09df5b1366b",
   "metadata": {},
   "outputs": [
    {
     "data": {
      "text/plain": [
       "(('.', '.', '.', '.', '.', '.', '.'),\n",
       " ('.', '.', '.', '.', '.', '.', '.'),\n",
       " ('.', '.', '.', '.', '.', 'o', '.'),\n",
       " ('.', '.', 'o', '.', 'x', 'x', '.'),\n",
       " ('.', '.', 'o', 'x', 'o', 'x', '.'),\n",
       " ('.', 'x', 'o', 'x', 'x', 'x', '.'))"
      ]
     },
     "execution_count": 180,
     "metadata": {},
     "output_type": "execute_result"
    }
   ],
   "source": [
    "state"
   ]
  },
  {
   "cell_type": "code",
   "execution_count": 182,
   "id": "a6b2aa10-150c-45cb-8d07-7a010180c333",
   "metadata": {},
   "outputs": [
    {
     "data": {
      "text/plain": [
       "(-1, (2, 2))"
      ]
     },
     "execution_count": 182,
     "metadata": {},
     "output_type": "execute_result"
    }
   ],
   "source": [
    "minimax(state, 'MIN', 'o', alpha=minus_inf, beta=plus_inf, depth=0)"
   ]
  },
  {
   "cell_type": "code",
   "execution_count": null,
   "id": "5a67b5ba-537a-48d4-b626-de76d1137a52",
   "metadata": {},
   "outputs": [],
   "source": []
  }
 ],
 "metadata": {
  "kernelspec": {
   "display_name": "Python 3 (ipykernel)",
   "language": "python",
   "name": "python3"
  },
  "language_info": {
   "codemirror_mode": {
    "name": "ipython",
    "version": 3
   },
   "file_extension": ".py",
   "mimetype": "text/x-python",
   "name": "python",
   "nbconvert_exporter": "python",
   "pygments_lexer": "ipython3",
   "version": "3.10.8"
  }
 },
 "nbformat": 4,
 "nbformat_minor": 5
}
