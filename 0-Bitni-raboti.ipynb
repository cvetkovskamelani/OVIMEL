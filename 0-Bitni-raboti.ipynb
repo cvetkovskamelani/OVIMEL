{
 "cells": [
  {
   "cell_type": "markdown",
   "id": "91c998a2-840e-4e07-b353-4198d3093e08",
   "metadata": {
    "tags": []
   },
   "source": [
    "# БИТНИ РАБОТИ"
   ]
  },
  {
   "cell_type": "code",
   "execution_count": 6,
   "id": "c20d9cd1-df83-4d29-ace2-cadd22c129ae",
   "metadata": {},
   "outputs": [
    {
     "data": {
      "text/plain": [
       "[0, 1, 2, 3, 4]"
      ]
     },
     "execution_count": 6,
     "metadata": {},
     "output_type": "execute_result"
    }
   ],
   "source": [
    "a = [i for i in range(5)]\n",
    "a"
   ]
  },
  {
   "cell_type": "code",
   "execution_count": 3,
   "id": "cf55cfd0-272b-4ea1-a479-fdc1617a407a",
   "metadata": {},
   "outputs": [
    {
     "name": "stdout",
     "output_type": "stream",
     "text": [
      "True\n"
     ]
    }
   ],
   "source": [
    "a = 5\n",
    "b = 5\n",
    "if a == b == 5:\n",
    "    print(True)"
   ]
  },
  {
   "cell_type": "code",
   "execution_count": 1,
   "id": "4c4fef45-b795-49c1-9581-33726ef3f33b",
   "metadata": {},
   "outputs": [
    {
     "data": {
      "text/plain": [
       "0"
      ]
     },
     "execution_count": 1,
     "metadata": {},
     "output_type": "execute_result"
    }
   ],
   "source": [
    "a = [9, 8, 7]\n",
    "a.index(9)"
   ]
  },
  {
   "cell_type": "code",
   "execution_count": 21,
   "id": "a963033e-8273-4a73-9fde-0574c2bd180c",
   "metadata": {},
   "outputs": [],
   "source": [
    "def yield_function():\n",
    "    i = 1\n",
    "    yield i\n",
    "    i = 2\n",
    "    yield i"
   ]
  },
  {
   "cell_type": "code",
   "execution_count": 31,
   "id": "f34a5ad5-228e-4478-aaaf-84728474fd96",
   "metadata": {},
   "outputs": [
    {
     "name": "stdout",
     "output_type": "stream",
     "text": [
      "1\n",
      "2\n"
     ]
    }
   ],
   "source": [
    "yield_obj = yield_function()\n",
    "for i in range(2):\n",
    "    print(next(yield_obj))"
   ]
  },
  {
   "cell_type": "code",
   "execution_count": 8,
   "id": "233ff793-1a16-4849-83c9-27c56af3ea97",
   "metadata": {},
   "outputs": [
    {
     "data": {
      "text/html": [
       "<div>\n",
       "<style scoped>\n",
       "    .dataframe tbody tr th:only-of-type {\n",
       "        vertical-align: middle;\n",
       "    }\n",
       "\n",
       "    .dataframe tbody tr th {\n",
       "        vertical-align: top;\n",
       "    }\n",
       "\n",
       "    .dataframe thead th {\n",
       "        text-align: right;\n",
       "    }\n",
       "</style>\n",
       "<table border=\"1\" class=\"dataframe\">\n",
       "  <thead>\n",
       "    <tr style=\"text-align: right;\">\n",
       "      <th></th>\n",
       "      <th>Кратенка</th>\n",
       "      <th>Опис на патот</th>\n",
       "    </tr>\n",
       "  </thead>\n",
       "  <tbody>\n",
       "    <tr>\n",
       "      <th>0</th>\n",
       "      <td>A2</td>\n",
       "      <td>A2 - Граница со Бугарија (ГП Деве Баир)-К.Пала...</td>\n",
       "    </tr>\n",
       "    <tr>\n",
       "      <th>1</th>\n",
       "      <td>A1</td>\n",
       "      <td>A1 - Граница со Србија (ГП Табановци)-Куманово...</td>\n",
       "    </tr>\n",
       "    <tr>\n",
       "      <th>2</th>\n",
       "      <td>A3</td>\n",
       "      <td>A3 - Крстосница Требениште (врска со A2)-крсто...</td>\n",
       "    </tr>\n",
       "    <tr>\n",
       "      <th>3</th>\n",
       "      <td>A4</td>\n",
       "      <td>A4 - Граница со Косово (ГП Блаце)-крстосница С...</td>\n",
       "    </tr>\n",
       "    <tr>\n",
       "      <th>4</th>\n",
       "      <td>P1101</td>\n",
       "      <td>P1101 - Прилеп (врска со A1,A3)-Битола-Макаѕи ...</td>\n",
       "    </tr>\n",
       "    <tr>\n",
       "      <th>...</th>\n",
       "      <td>...</td>\n",
       "      <td>...</td>\n",
       "    </tr>\n",
       "    <tr>\n",
       "      <th>106</th>\n",
       "      <td>P29372</td>\n",
       "      <td>P29372 - Врска со A3 - Ротино-детско одмаралиш...</td>\n",
       "    </tr>\n",
       "    <tr>\n",
       "      <th>107</th>\n",
       "      <td>P29374</td>\n",
       "      <td>P29374 - Варош (врска со P1303)-Манастир Св Бо...</td>\n",
       "    </tr>\n",
       "    <tr>\n",
       "      <th>108</th>\n",
       "      <td>P29375</td>\n",
       "      <td>P29375 - Костинци (врска со P2336) - Манастир ...</td>\n",
       "    </tr>\n",
       "    <tr>\n",
       "      <th>109</th>\n",
       "      <td>P29376</td>\n",
       "      <td>P29376 - Врска со P1308 - Манастир Св. Ќорќија...</td>\n",
       "    </tr>\n",
       "    <tr>\n",
       "      <th>110</th>\n",
       "      <td>P29471</td>\n",
       "      <td>P29471 - Подареш (врска со P1310)-Јаргулица-По...</td>\n",
       "    </tr>\n",
       "  </tbody>\n",
       "</table>\n",
       "<p>111 rows × 2 columns</p>\n",
       "</div>"
      ],
      "text/plain": [
       "    Кратенка                                      Опис на патот\n",
       "0         A2  A2 - Граница со Бугарија (ГП Деве Баир)-К.Пала...\n",
       "1         A1  A1 - Граница со Србија (ГП Табановци)-Куманово...\n",
       "2         A3  A3 - Крстосница Требениште (врска со A2)-крсто...\n",
       "3         A4  A4 - Граница со Косово (ГП Блаце)-крстосница С...\n",
       "4      P1101  P1101 - Прилеп (врска со A1,A3)-Битола-Макаѕи ...\n",
       "..       ...                                                ...\n",
       "106   P29372  P29372 - Врска со A3 - Ротино-детско одмаралиш...\n",
       "107   P29374  P29374 - Варош (врска со P1303)-Манастир Св Бо...\n",
       "108   P29375  P29375 - Костинци (врска со P2336) - Манастир ...\n",
       "109   P29376  P29376 - Врска со P1308 - Манастир Св. Ќорќија...\n",
       "110   P29471  P29471 - Подареш (врска со P1310)-Јаргулица-По...\n",
       "\n",
       "[111 rows x 2 columns]"
      ]
     },
     "execution_count": 8,
     "metadata": {},
     "output_type": "execute_result"
    }
   ],
   "source": [
    "import pandas as pd\n",
    "\n",
    "# so read_csv se zemat site podatoci od tabela\n",
    "# indeksiranjeto ne e del od tabelata, to ne e element sho se\n",
    "# sodrzi vo samiot files\n",
    "\n",
    "files = pd.read_csv('data/roads/roads_info.csv')\n",
    "files"
   ]
  },
  {
   "cell_type": "code",
   "execution_count": 48,
   "id": "aaaefd61-082e-497f-9ed1-8e8d62315bdd",
   "metadata": {},
   "outputs": [
    {
     "name": "stdout",
     "output_type": "stream",
     "text": [
      "0       A2\n",
      "1       A1\n",
      "2       A3\n",
      "3       A4\n",
      "4    P1101\n",
      "Name: Кратенка, dtype: object\n",
      "A2\n",
      "A1\n",
      "A3\n",
      "A4\n",
      "P1101\n",
      "['174 - Миладиновци 1 (автопат)', '175 - Илинден (автопат)', '154 - Инджиково (автопат)', '177 - Ченто 2 (автопат)', '550 - Клучка Стенковец']\n",
      "['174 - Миладиновци 1 (автопат)', '175 - Илинден (автопат)', '154 - Инджиково (автопат)', '177 - Ченто 2 (автопат)', '550 - Клучка Стенковец']\n",
      "174 - Миладиновци 1 (автопат)\n",
      "\n",
      "   СЕКЦИЈА БР                                      СЕКЦИЈА  ДОЛЖИНА  \\\n",
      "0          51  Миладиновци 1 (автопат) - Илинден (автопат)     7340   \n",
      "\n",
      "              ЈАЗОЛ НА ПОЧЕТОКОТ          ЈАЗОЛ НА КРАЈОТ  \\\n",
      "0  174 - Миладиновци 1 (автопат)  175 - Илинден (автопат)   \n",
      "\n",
      "                              OD  \n",
      "0  174 - Миладиновци 1 (автопат)  \n",
      "\n",
      "0    Миладиновци 1 (автопат) - Илинден (автопат)\n",
      "Name: СЕКЦИЈА, dtype: object\n"
     ]
    }
   ],
   "source": [
    "import pandas as pd\n",
    "\n",
    "# df = dataframe = tabela\n",
    "# tabela['Ime_na_kolona'] gi dava vrednostite od kolonata\n",
    "\n",
    "files = pd.read_csv('data/roads/roads_info.csv')['Кратенка']\n",
    "print(files[:5])\n",
    "\n",
    "# iako files ne e lista ili torka, koke se izminva niz nego, se zemat\n",
    "# elementite kako da bi se zemale od lista/torka\n",
    "for file in files[:5]:\n",
    "    print(file)\n",
    "    \n",
    "df = pd.read_csv('data/roads/A2.csv')\n",
    "df['OD'] = df['ЈАЗОЛ НА ПОЧЕТОКОТ'] # dodava nova kolona sho gi ima istite\n",
    "# vrednoti ko 'ЈАЗОЛ НА ПОЧЕТОКОТ'\n",
    "\n",
    "# tabela['Ime_na_kolona'] gi dava vrednostite od kolonata\n",
    "print(list(df['OD'][:5]))\n",
    "print(list(df.OD[:5]))\n",
    "\n",
    "# so itertuples se iterira niz redicite od tabelata, za edna redica\n",
    "# se dobiva tuple sho e slicno na recnik (sodrzi ime na kolona = element vo\n",
    "# ta kolona). Do elementot se pristapva so row.Ime_na_kolona (imeto ne mozi da sodrzi\n",
    "# prazno mesto)\n",
    "for row in df.itertuples():\n",
    "    print(row.OD)\n",
    "    break\n",
    "print()\n",
    "    \n",
    "# df.query('Ime_na_kolona == element_od_taa_kolona') ja dava redicata\n",
    "# kaj sho se sodrzi element_od_taa_kolona\n",
    "cela_redica = df.query('ДОЛЖИНА == 7340')\n",
    "print(cela_redica)\n",
    "print()\n",
    "print(cela_redica.СЕКЦИЈА)"
   ]
  },
  {
   "cell_type": "code",
   "execution_count": 19,
   "id": "e686afe2-88b5-48d5-bb54-fd788c257970",
   "metadata": {},
   "outputs": [
    {
     "data": {
      "text/plain": [
       "[(2, [4, 6, 8]), (1, [3, 5, 7])]"
      ]
     },
     "execution_count": 19,
     "metadata": {},
     "output_type": "execute_result"
    }
   ],
   "source": [
    "# list(dict.items()) dava lista od (key, value)\n",
    "\n",
    "dict = {\n",
    "    2: [4, 6, 8],\n",
    "    1: [3, 5, 7]\n",
    "}\n",
    "list(dict.items())"
   ]
  },
  {
   "cell_type": "code",
   "execution_count": 21,
   "id": "163caf2f-e6cf-4181-bc11-d82255a6d1b2",
   "metadata": {},
   "outputs": [
    {
     "data": {
      "text/plain": [
       "[(4, 6)]"
      ]
     },
     "execution_count": 21,
     "metadata": {},
     "output_type": "execute_result"
    }
   ],
   "source": [
    "dict = {\n",
    "    2: {4: 6},\n",
    "    1: {3: 5}\n",
    "}\n",
    "list(dict[2].items())"
   ]
  },
  {
   "cell_type": "code",
   "execution_count": 1,
   "id": "eccd7fb8-3fa4-42f1-ab0d-2a85a77bea85",
   "metadata": {},
   "outputs": [
    {
     "name": "stdout",
     "output_type": "stream",
     "text": [
      "['Jas ', ' se ', ' vikam ', ' 5']\n",
      " 5\n",
      "5\n"
     ]
    }
   ],
   "source": [
    "string = 'Jas - se - vikam - 5'\n",
    "a = string.split('-')\n",
    "print(a)\n",
    "print(a[3])\n",
    "print(int(a[3]))"
   ]
  },
  {
   "cell_type": "code",
   "execution_count": 11,
   "id": "5bde2c2e-1e90-4cdb-81f5-9ecf9f09d215",
   "metadata": {},
   "outputs": [
    {
     "name": "stdout",
     "output_type": "stream",
     "text": [
      "True\n"
     ]
    }
   ],
   "source": [
    "# Najdi dali zbor se sodrzi vo string\n",
    "a = 'Jas se vikam Jana'\n",
    "word_to_search = 'jana'\n",
    "if word_to_search.lower() in a.lower():\n",
    "    print(True)"
   ]
  },
  {
   "cell_type": "code",
   "execution_count": 12,
   "id": "b73dd294-b4e7-448a-a72f-4f04bdd2ebbc",
   "metadata": {},
   "outputs": [
    {
     "name": "stdout",
     "output_type": "stream",
     "text": [
      "True\n"
     ]
    }
   ],
   "source": [
    "a = 7\n",
    "if 0 < a < 10:\n",
    "    print(True)"
   ]
  },
  {
   "cell_type": "code",
   "execution_count": 38,
   "id": "f50e48af-4dc8-4a8c-9045-978f2c5141c3",
   "metadata": {},
   "outputs": [
    {
     "name": "stdout",
     "output_type": "stream",
     "text": [
      "[4, 9, 10]\n",
      "4\n"
     ]
    }
   ],
   "source": [
    "a = [[5, 3, 1], [4, 9, 10]]\n",
    "print(min(a))\n",
    "print(min(min(a)))"
   ]
  },
  {
   "cell_type": "code",
   "execution_count": 21,
   "id": "f79a5a4d-804f-4117-aabe-b67eb5c180ef",
   "metadata": {},
   "outputs": [
    {
     "name": "stdout",
     "output_type": "stream",
     "text": [
      "8\n",
      "8\n"
     ]
    }
   ],
   "source": [
    "# 2**3 == 2^3\n",
    "print(pow(2, 3))\n",
    "print(2**3)"
   ]
  },
  {
   "cell_type": "code",
   "execution_count": 24,
   "id": "216ad817-1e90-4f90-8d3c-33b5712340ce",
   "metadata": {},
   "outputs": [
    {
     "data": {
      "text/plain": [
       "3.0"
      ]
     },
     "execution_count": 24,
     "metadata": {},
     "output_type": "execute_result"
    }
   ],
   "source": [
    "import math\n",
    "math.sqrt(9)"
   ]
  },
  {
   "cell_type": "code",
   "execution_count": 16,
   "id": "73aa9deb-1f25-4a56-a04a-e66965999eef",
   "metadata": {},
   "outputs": [
    {
     "data": {
      "text/plain": [
       "5"
      ]
     },
     "execution_count": 16,
     "metadata": {},
     "output_type": "execute_result"
    }
   ],
   "source": [
    "# 16 // 3 == int(16/3)\n",
    "16 // 3"
   ]
  },
  {
   "cell_type": "code",
   "execution_count": 35,
   "id": "4adcc001-a6dc-443e-8310-380dc316bcb1",
   "metadata": {},
   "outputs": [
    {
     "data": {
      "text/plain": [
       "[[(1, 2), (3, 2), (5, 2)], [(1, 4), (3, 4), (5, 4)], [(1, 6), (3, 6), (5, 6)]]"
      ]
     },
     "execution_count": 35,
     "metadata": {},
     "output_type": "execute_result"
    }
   ],
   "source": [
    "a = [1, 3, 5]\n",
    "b = [2, 4, 6]\n",
    "\n",
    "def make_tuple(i, j):\n",
    "    return (i, j)\n",
    "\n",
    "tuple_list = [[make_tuple(i, j) for i in a] for j in b]\n",
    "tuple_list"
   ]
  },
  {
   "cell_type": "code",
   "execution_count": 5,
   "id": "1bd561f1-a2a4-415b-8e76-7d31579afd70",
   "metadata": {},
   "outputs": [
    {
     "data": {
      "text/plain": [
       "[(1, 2), (3, 2), (5, 2), (1, 4), (3, 4), (5, 4), (1, 6), (3, 6), (5, 6)]"
      ]
     },
     "execution_count": 5,
     "metadata": {},
     "output_type": "execute_result"
    }
   ],
   "source": [
    "a = [1, 3, 5]\n",
    "b = [2, 4, 6]\n",
    "\n",
    "def make_tuple(i, j):\n",
    "    return (i, j)\n",
    "\n",
    "tuple_list = []\n",
    "for j in b:\n",
    "    for i in a:\n",
    "        tuple_list.append(make_tuple(i, j))\n",
    "        \n",
    "tuple_list"
   ]
  },
  {
   "cell_type": "code",
   "execution_count": 2,
   "id": "ea3d2e1e-aa87-4f55-a8ee-316acaf2579f",
   "metadata": {},
   "outputs": [
    {
     "data": {
      "text/plain": [
       "3"
      ]
     },
     "execution_count": 2,
     "metadata": {},
     "output_type": "execute_result"
    }
   ],
   "source": [
    "import heapq\n",
    "a = [8, 3, 4]\n",
    "heapq.heapify(a)\n",
    "b = heapq.heappop(a)\n",
    "b"
   ]
  },
  {
   "cell_type": "code",
   "execution_count": 3,
   "id": "de34c6e6-d45b-4a0a-818e-914b638c7191",
   "metadata": {},
   "outputs": [
    {
     "data": {
      "text/plain": [
       "((1, 7), ['A'])"
      ]
     },
     "execution_count": 3,
     "metadata": {},
     "output_type": "execute_result"
    }
   ],
   "source": [
    "import heapq\n",
    "a = [((2, 3), ['L']), ((1, 7), ['A'])]\n",
    "heapq.heapify(a)\n",
    "b = heapq.heappop(a)\n",
    "print(b)\n",
    "\n",
    "import heapq\n",
    "a = [[(2, 3), 'L'], [(9, 7), 'A'], [(8, 2), 'D']]\n",
    "heapq.heapify(a)\n",
    "b = heapq.heappop(a)\n",
    "print(b)"
   ]
  },
  {
   "cell_type": "code",
   "execution_count": 1,
   "id": "ab3896f6-5433-46b0-b9b2-8f7506f3bc6f",
   "metadata": {},
   "outputs": [
    {
     "name": "stdout",
     "output_type": "stream",
     "text": [
      "CPU times: total: 0 ns\n",
      "Wall time: 0 ns\n"
     ]
    },
    {
     "data": {
      "text/plain": [
       "[5, 6, 4]"
      ]
     },
     "execution_count": 1,
     "metadata": {},
     "output_type": "execute_result"
    }
   ],
   "source": [
    "%%time # vreme na izvrsvanje na kelijata\n",
    "\n",
    "a = [5, 6, 4]\n",
    "a"
   ]
  },
  {
   "cell_type": "code",
   "execution_count": 33,
   "id": "6be77d66-840d-4b85-b469-9256f99b43fb",
   "metadata": {},
   "outputs": [
    {
     "data": {
      "text/plain": [
       "0"
      ]
     },
     "execution_count": 33,
     "metadata": {},
     "output_type": "execute_result"
    }
   ],
   "source": [
    "a = [2, 5, 4]\n",
    "a.index(2)"
   ]
  },
  {
   "cell_type": "code",
   "execution_count": 34,
   "id": "91f7bc5d-a1ab-45c0-bdc0-a2dc2953fe87",
   "metadata": {},
   "outputs": [
    {
     "data": {
      "text/plain": [
       "[5, 6]"
      ]
     },
     "execution_count": 34,
     "metadata": {},
     "output_type": "execute_result"
    }
   ],
   "source": [
    "a = [4, 5, 6]\n",
    "a.remove(4)\n",
    "a"
   ]
  },
  {
   "cell_type": "code",
   "execution_count": 31,
   "id": "9a3da8d2-c0fc-45f5-8bc4-cada9ecb2876",
   "metadata": {},
   "outputs": [
    {
     "name": "stdout",
     "output_type": "stream",
     "text": [
      "0\n",
      "1\n",
      "2\n"
     ]
    }
   ],
   "source": [
    "a = [10, 100, 1000]\n",
    "for i, element in enumerate(a):\n",
    "    print(i)"
   ]
  },
  {
   "cell_type": "code",
   "execution_count": 3,
   "id": "7a7a480b-093a-4bd4-9f7f-d48c10917122",
   "metadata": {},
   "outputs": [
    {
     "name": "stdout",
     "output_type": "stream",
     "text": [
      "Ima 5 deca i 8 vozrasni\n",
      "Ima 5 deca i 8 vozrasni\n"
     ]
    }
   ],
   "source": [
    "a = 5\n",
    "b = 8\n",
    "print('Ima {} deca i {} vozrasni'.format(a, b))\n",
    "print(f'Ima {a} deca i {b} vozrasni')"
   ]
  },
  {
   "cell_type": "code",
   "execution_count": 2,
   "id": "dc1e2dcc-de24-40de-9bc0-e0b6b482b292",
   "metadata": {},
   "outputs": [
    {
     "name": "stdout",
     "output_type": "stream",
     "text": [
      "0\n",
      "1\n",
      "2\n"
     ]
    }
   ],
   "source": [
    "a = [2, 4, 6]\n",
    "for i, element in enumerate(a):\n",
    "    print(i)"
   ]
  },
  {
   "cell_type": "code",
   "execution_count": 10,
   "id": "dd7896a0-1a7d-42f7-8426-b700a751c634",
   "metadata": {},
   "outputs": [
    {
     "name": "stdout",
     "output_type": "stream",
     "text": [
      "[(2, 4), (2, 5), (4, 2), (4, 5), (5, 2), (5, 4)]\n"
     ]
    }
   ],
   "source": [
    "a = [2, 4, 5]\n",
    "combinations = []\n",
    "\n",
    "for i in a:\n",
    "    for j in a:\n",
    "        if i != j:\n",
    "            combinations.append((i, j))\n",
    "        \n",
    "print(combinations)"
   ]
  },
  {
   "cell_type": "code",
   "execution_count": 21,
   "id": "272909ed-c58f-4924-990d-790285d74ce6",
   "metadata": {},
   "outputs": [
    {
     "name": "stdout",
     "output_type": "stream",
     "text": [
      "3\n",
      "5\n"
     ]
    }
   ],
   "source": [
    "a = (2, 3, 4)\n",
    "print(len(a))\n",
    "b = (2, 3, 4, None, None)\n",
    "print(len(b))"
   ]
  },
  {
   "cell_type": "code",
   "execution_count": 18,
   "id": "df828586-1d24-4b9e-b11d-07f4b9dee8cf",
   "metadata": {},
   "outputs": [
    {
     "data": {
      "text/plain": [
       "3"
      ]
     },
     "execution_count": 18,
     "metadata": {},
     "output_type": "execute_result"
    }
   ],
   "source": [
    "a = [2, 3, 4]\n",
    "len(a)"
   ]
  },
  {
   "cell_type": "code",
   "execution_count": 24,
   "id": "445eb1da-ec61-402d-b83b-27ef6666f9c2",
   "metadata": {},
   "outputs": [
    {
     "data": {
      "text/plain": [
       "[2, 4, 6]"
      ]
     },
     "execution_count": 24,
     "metadata": {},
     "output_type": "execute_result"
    }
   ],
   "source": [
    "a = [2, 4, 6, 8, 10]\n",
    "b = a[0:3]\n",
    "b"
   ]
  },
  {
   "cell_type": "code",
   "execution_count": 35,
   "id": "06c02a92-1e71-4e53-9c38-cf918695525f",
   "metadata": {},
   "outputs": [
    {
     "data": {
      "text/plain": [
       "[5, 5, 5, 5]"
      ]
     },
     "execution_count": 35,
     "metadata": {},
     "output_type": "execute_result"
    }
   ],
   "source": [
    "a = [5] * 4\n",
    "a"
   ]
  },
  {
   "cell_type": "code",
   "execution_count": 36,
   "id": "beeb14da-0d54-4d11-b84c-8bc7a1ba88ca",
   "metadata": {},
   "outputs": [
    {
     "data": {
      "text/plain": [
       "6"
      ]
     },
     "execution_count": 36,
     "metadata": {},
     "output_type": "execute_result"
    }
   ],
   "source": [
    "a = [(5, 6), (7, 8)]\n",
    "a[0][1]"
   ]
  },
  {
   "cell_type": "code",
   "execution_count": 37,
   "id": "e901969a-17bf-47b8-8826-e93f2ab1ac27",
   "metadata": {},
   "outputs": [
    {
     "name": "stdout",
     "output_type": "stream",
     "text": [
      "1\n"
     ]
    }
   ],
   "source": [
    "a = [2, 4, 5, None]\n",
    "for element in a:\n",
    "    if element == None:\n",
    "        print(1)\n"
   ]
  },
  {
   "cell_type": "code",
   "execution_count": 1,
   "id": "ecbe477e-cdcd-4517-9f95-97d69ec4310f",
   "metadata": {},
   "outputs": [
    {
     "data": {
      "text/plain": [
       "4"
      ]
     },
     "execution_count": 1,
     "metadata": {},
     "output_type": "execute_result"
    }
   ],
   "source": [
    "int(4.6)"
   ]
  },
  {
   "cell_type": "code",
   "execution_count": 9,
   "id": "8fc614cd-bad5-4d69-8e68-dc687f476f79",
   "metadata": {},
   "outputs": [
    {
     "data": {
      "text/plain": [
       "4"
      ]
     },
     "execution_count": 9,
     "metadata": {},
     "output_type": "execute_result"
    }
   ],
   "source": [
    "import math\n",
    "a = 4.6\n",
    "math.floor(a)"
   ]
  },
  {
   "cell_type": "code",
   "execution_count": 10,
   "id": "b09b0297-d0e3-4709-805a-114e774f532a",
   "metadata": {},
   "outputs": [
    {
     "data": {
      "text/plain": [
       "5"
      ]
     },
     "execution_count": 10,
     "metadata": {},
     "output_type": "execute_result"
    }
   ],
   "source": [
    "import math\n",
    "math.ceil(4.2)"
   ]
  },
  {
   "cell_type": "code",
   "execution_count": 14,
   "id": "187abb5f-3e24-4d01-acc1-674c32958257",
   "metadata": {},
   "outputs": [
    {
     "name": "stdout",
     "output_type": "stream",
     "text": [
      "2\n",
      "3\n",
      "4\n"
     ]
    }
   ],
   "source": [
    "for element in [2, 3, 4]:\n",
    "    print(element)"
   ]
  },
  {
   "cell_type": "code",
   "execution_count": 16,
   "id": "69fd8503-1949-4d42-81b8-487dc1fa7613",
   "metadata": {},
   "outputs": [
    {
     "name": "stdout",
     "output_type": "stream",
     "text": [
      "1\n",
      "2\n",
      "3\n",
      "4\n",
      "5\n",
      "6\n"
     ]
    }
   ],
   "source": [
    "for index in range(1, 7):\n",
    "    print(index)"
   ]
  },
  {
   "cell_type": "code",
   "execution_count": 17,
   "id": "4f487147-ff74-4f70-91db-f75c119d845d",
   "metadata": {},
   "outputs": [
    {
     "name": "stdout",
     "output_type": "stream",
     "text": [
      "1\n",
      "3\n",
      "5\n"
     ]
    }
   ],
   "source": [
    "for index in range(1, 7, 2):\n",
    "    print(index)"
   ]
  },
  {
   "cell_type": "code",
   "execution_count": 19,
   "id": "f65c6674-5c68-4f8c-8c33-12bd8d4aa443",
   "metadata": {},
   "outputs": [
    {
     "data": {
      "text/plain": [
       "[100, 3, 4]"
      ]
     },
     "execution_count": 19,
     "metadata": {},
     "output_type": "execute_result"
    }
   ],
   "source": [
    "a = [2, 3, 4]\n",
    "b = a\n",
    "b[0] = 100\n",
    "a\n"
   ]
  },
  {
   "cell_type": "code",
   "execution_count": 24,
   "id": "f85fc3c8-c530-40af-b264-b0ada0f6612e",
   "metadata": {},
   "outputs": [
    {
     "data": {
      "text/plain": [
       "[2, 3, 4]"
      ]
     },
     "execution_count": 24,
     "metadata": {},
     "output_type": "execute_result"
    }
   ],
   "source": [
    "import copy\n",
    "# MN BITNO!!!!!!\n",
    "a = [2, 3, 4]\n",
    "b = copy.deepcopy(a)\n",
    "b[0] = 100\n",
    "a"
   ]
  },
  {
   "cell_type": "code",
   "execution_count": 27,
   "id": "fa4fd1e0-fdb7-413e-af6e-18c116850512",
   "metadata": {},
   "outputs": [
    {
     "name": "stdout",
     "output_type": "stream",
     "text": [
      "1\n",
      "0\n",
      "2\n"
     ]
    }
   ],
   "source": [
    "a = [(1, 2, None), (2, 3, 4), (5, None, None)]\n",
    "for row in a:\n",
    "    print(row.count(None))"
   ]
  },
  {
   "cell_type": "code",
   "execution_count": 29,
   "id": "0e244e66-1829-441b-a7c3-422eb3384df5",
   "metadata": {},
   "outputs": [
    {
     "ename": "TypeError",
     "evalue": "unhashable type: 'list'",
     "output_type": "error",
     "traceback": [
      "\u001b[1;31m---------------------------------------------------------------------------\u001b[0m",
      "\u001b[1;31mTypeError\u001b[0m                                 Traceback (most recent call last)",
      "Cell \u001b[1;32mIn [29], line 1\u001b[0m\n\u001b[1;32m----> 1\u001b[0m a \u001b[38;5;241m=\u001b[39m {[\u001b[38;5;241m1\u001b[39m, \u001b[38;5;241m2\u001b[39m], [\u001b[38;5;241m3\u001b[39m, \u001b[38;5;241m4\u001b[39m]}\n\u001b[0;32m      2\u001b[0m a\n",
      "\u001b[1;31mTypeError\u001b[0m: unhashable type: 'list'"
     ]
    }
   ],
   "source": [
    "# NE MOZI MNOZESTVO OD LISTI\n",
    "# MNOZESTVATA SODRAT SAMO HASHABLE TYPES\n",
    "# hashable types: int, float, string, tuple\n",
    "# unhashable types: list, set, dict\n",
    "a = {[1, 2], [3, 4]}\n",
    "a"
   ]
  },
  {
   "cell_type": "code",
   "execution_count": null,
   "id": "d3615fb7-1c5a-442c-a6c5-aff0630f3aff",
   "metadata": {},
   "outputs": [],
   "source": [
    "# Vo prebaruvanje so uniformna cena, vo expand ne gi sobirame tezinite,\n",
    "# samo kazvame kolkava e tezinata izmegu dvete sostojbi (kako kolku e rastojanieto megu\n",
    "# dvata jazli, a ne vkupnoto rastojanie)"
   ]
  }
 ],
 "metadata": {
  "kernelspec": {
   "display_name": "Python 3 (ipykernel)",
   "language": "python",
   "name": "python3"
  },
  "language_info": {
   "codemirror_mode": {
    "name": "ipython",
    "version": 3
   },
   "file_extension": ".py",
   "mimetype": "text/x-python",
   "name": "python",
   "nbconvert_exporter": "python",
   "pygments_lexer": "ipython3",
   "version": "3.10.8"
  }
 },
 "nbformat": 4,
 "nbformat_minor": 5
}
