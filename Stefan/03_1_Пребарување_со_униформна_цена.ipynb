{
 "cells": [
  {
   "cell_type": "markdown",
   "metadata": {},
   "source": [
    "# Пребарување со униформна цена"
   ]
  },
  {
   "cell_type": "markdown",
   "metadata": {
    "jp-MarkdownHeadingCollapsed": true,
    "tags": []
   },
   "source": [
    "## Референци\n",
    "\n",
    "1. [Пребарување со униформна цена](https://en.wikipedia.org/wiki/Dijkstra's_algorithm#Practical_optimizations_and_infinite_graphs)\n",
    "1. [Податочна структура хип](https://en.wikipedia.org/wiki/Heap_(data_structure))\n",
    "1. [Објаснување за временската сложеност со пајтон примери](https://towardsdatascience.com/understanding-time-complexity-with-python-examples-2bda6e8158a7)\n",
    "1. [Објаснување за нотација за пресметковна сложеност](https://www.youtube.com/watch?v=__vX2sjlpXU)\n",
    "1. [Временска сложеност на операциите на податочните структури во пајтон](https://www.ics.uci.edu/~brgallar/week8_2.html#overview)\n",
    "1. [Објаснување за хип структура](https://www.youtube.com/watch?v=g9YK6sftDi0)"
   ]
  },
  {
   "cell_type": "code",
   "execution_count": 1,
   "metadata": {},
   "outputs": [
    {
     "data": {
      "image/jpeg": "[encoded data removed]",
      "text/html": [
       "\n",
       "        <iframe\n",
       "            width=\"400\"\n",
       "            height=\"300\"\n",
       "            src=\"https://www.youtube.com/embed/e6PgjjiUIg8\"\n",
       "            frameborder=\"0\"\n",
       "            allowfullscreen\n",
       "            \n",
       "        ></iframe>\n",
       "        "
      ],
      "text/plain": [
       "<IPython.lib.display.YouTubeVideo at 0x7f594e942ef0>"
      ]
     },
     "execution_count": 1,
     "metadata": {},
     "output_type": "execute_result"
    }
   ],
   "source": [
    "from IPython.lib.display import YouTubeVideo\n",
    "YouTubeVideo('e6PgjjiUIg8')"
   ]
  },
  {
   "cell_type": "markdown",
   "metadata": {},
   "source": [
    "![](images/weighted_graph.png)"
   ]
  },
  {
   "cell_type": "markdown",
   "metadata": {
    "tags": []
   },
   "source": [
    "## Претставување тежински граф преку речник"
   ]
  },
  {
   "cell_type": "code",
   "execution_count": 2,
   "metadata": {},
   "outputs": [],
   "source": [
    "class WeightedGraph:\n",
    "    def __init__(self):\n",
    "        \"\"\"\n",
    "        Initialises an empty dict as the graph data structure.\n",
    "        \"\"\"\n",
    "        self.graph_dict = {}\n",
    "    \n",
    "    def add_vertex(self, vertex):\n",
    "        \"\"\"\n",
    "        Adds a vertex to the graph.\n",
    "        \n",
    "        Args:\n",
    "            vertex: vertex to be added in the graph\n",
    "        \"\"\"\n",
    "        if vertex not in self.graph_dict:\n",
    "            self.graph_dict[vertex] = {}\n",
    "    \n",
    "    def vertices(self):\n",
    "        \"\"\"\n",
    "        Returns the graph's vertices.\n",
    "        \"\"\"\n",
    "        return list(self.graph_dict.keys())\n",
    "    \n",
    "    def add_edge(self, edge, add_reversed=True):\n",
    "        \"\"\"\n",
    "        Adds an edge to the graph.\n",
    "        \n",
    "        Args:\n",
    "            edge: a tupple of three vertices, (first_vertex, second_vertex, weight)\n",
    "            add_reversed: whether to add the edge in reversed direction, (second_vertex, first_vertex)\n",
    "        \"\"\"\n",
    "        vertex1, vertex2, weight = edge\n",
    "        self.graph_dict[vertex1][vertex2] = weight\n",
    "        if add_reversed:\n",
    "            self.graph_dict[vertex2][vertex1] = weight\n",
    "    \n",
    "    def edges(self):\n",
    "        \"\"\"\n",
    "        Returns a list of all edges in the graph, with respected weights.\n",
    "        \"\"\"\n",
    "        edges = []\n",
    "        for vertex in self.graph_dict:\n",
    "            for neighbour, weight in self.graph_dict[vertex].items():\n",
    "                edges.append((vertex, neighbour, weight))\n",
    "        return edges\n",
    "    \n",
    "    def neighbours(self, vertex):\n",
    "        \"\"\"\n",
    "        Returns all neighbours of the given vertex.\n",
    "        \"\"\"\n",
    "        return list(self.graph_dict[vertex].items())"
   ]
  },
  {
   "cell_type": "code",
   "execution_count": 3,
   "metadata": {},
   "outputs": [],
   "source": [
    "g = WeightedGraph()"
   ]
  },
  {
   "cell_type": "code",
   "execution_count": 4,
   "metadata": {},
   "outputs": [],
   "source": [
    "g.add_vertex('A')\n",
    "g.add_vertex('B')\n",
    "g.add_vertex('C')\n",
    "g.add_vertex('D')\n",
    "g.add_vertex('E')\n",
    "g.add_vertex('F')"
   ]
  },
  {
   "cell_type": "code",
   "execution_count": 5,
   "metadata": {},
   "outputs": [
    {
     "data": {
      "text/plain": [
       "['A', 'B', 'C', 'D', 'E', 'F']"
      ]
     },
     "execution_count": 5,
     "metadata": {},
     "output_type": "execute_result"
    }
   ],
   "source": [
    "g.vertices()"
   ]
  },
  {
   "cell_type": "code",
   "execution_count": 6,
   "metadata": {},
   "outputs": [],
   "source": [
    "g.add_edge(('A', 'B', 2))\n",
    "g.add_edge(('A', 'C', 4))\n",
    "g.add_edge(('A', 'E', 5))\n",
    "g.add_edge(('B', 'E', 1))\n",
    "g.add_edge(('E', 'D', 3))\n",
    "g.add_edge(('E', 'F', 2))\n",
    "g.add_edge(('F', 'D', 1))\n",
    "g.add_edge(('C', 'D', 3))"
   ]
  },
  {
   "cell_type": "code",
   "execution_count": 7,
   "metadata": {},
   "outputs": [
    {
     "data": {
      "text/plain": [
       "[('A', 'B', 2),\n",
       " ('A', 'C', 4),\n",
       " ('A', 'E', 5),\n",
       " ('B', 'A', 2),\n",
       " ('B', 'E', 1),\n",
       " ('C', 'A', 4),\n",
       " ('C', 'D', 3),\n",
       " ('D', 'E', 3),\n",
       " ('D', 'F', 1),\n",
       " ('D', 'C', 3),\n",
       " ('E', 'A', 5),\n",
       " ('E', 'B', 1),\n",
       " ('E', 'D', 3),\n",
       " ('E', 'F', 2),\n",
       " ('F', 'E', 2),\n",
       " ('F', 'D', 1)]"
      ]
     },
     "execution_count": 7,
     "metadata": {},
     "output_type": "execute_result"
    }
   ],
   "source": [
    "g.edges()"
   ]
  },
  {
   "cell_type": "code",
   "execution_count": 8,
   "metadata": {},
   "outputs": [
    {
     "data": {
      "text/plain": [
       "[('B', 2), ('C', 4), ('E', 5)]"
      ]
     },
     "execution_count": 8,
     "metadata": {},
     "output_type": "execute_result"
    }
   ],
   "source": [
    "g.neighbours('A')"
   ]
  },
  {
   "cell_type": "markdown",
   "metadata": {},
   "source": [
    "## Пребарување со униформна цена"
   ]
  },
  {
   "cell_type": "code",
   "execution_count": 9,
   "metadata": {},
   "outputs": [],
   "source": [
    "import heapq"
   ]
  },
  {
   "cell_type": "code",
   "execution_count": 10,
   "metadata": {},
   "outputs": [],
   "source": [
    "#heapify gi redi najmaliot da e napred\n",
    "def uniform_cost_search(graph, starting_vertex, goal_vertex, verbose=False):\n",
    "    \"\"\"\n",
    "    Returns the path from starting_vertex to goal_vertex using the uniform-cost algorithm.\n",
    "    \"\"\"\n",
    "    # Ако почетниот јазол е еднаков на целниот, тогаш нема логика да пребаруваме воопшто\n",
    "    if starting_vertex == goal_vertex:\n",
    "        if verbose:\n",
    "            print('Почетниот и бараниот јазол се исти')\n",
    "        return\n",
    "    # Користиме множество на разгранети јазли. \n",
    "    # За разгранет јазол го сметаме оној јазол на кој ќе му ги истражиме и испроцесираме соседите.\n",
    "    expanded = set()\n",
    "    # Користиме листа која ни е подредена редица од која ќе го земаме следниот јазол за разгранување.\n",
    "    # Тука ја памтиме и моменталната патека за секој јазол од почетниот. Дополнително, ја памтиме и цената на патот до тој момент.\n",
    "    # Редицата ја преуредуваме на специјален начин така што ќе ја направиме хип структура (анг. heap).\n",
    "    # Понатаму, со редицата ќе работиме само преку heapq библиотеката.\n",
    "    queue = [(0, [starting_vertex])]\n",
    "    heapq.heapify(queue)\n",
    "    # Пребаруваме сѐ додека има јазли за разгранување во редицата.\n",
    "    while queue:\n",
    "        if verbose:\n",
    "            print('Ред за разгранување:')\n",
    "            for element in queue:\n",
    "                print(element, end=' ')\n",
    "            print()\n",
    "            print()\n",
    "        # Членови на редицата јазли се патеките од почетниот јазол до некој јазол кој треба да се разграни.\n",
    "        # За да го земеме наредниот јазол за разгранување, ние треба од редицата да ја извадиме патеката на тој јазол.\n",
    "        weight, vertex_list = heapq.heappop(queue) #go vleche elementot so najmala cena\n",
    "        # Јазолот за разгранување е последниот во оваа листа.\n",
    "        vertex_to_expand = vertex_list[-1]\n",
    "        # Тука ја вршиме проверката дали сме стигнале до целниот јазол.\n",
    "        if vertex_to_expand == goal_vertex:\n",
    "            if verbose:\n",
    "                print('Го пронајдовме посакуваниот јазол {}. Патеката да стигнеме до тука е {} со цена {}'\n",
    "                      .format(vertex_to_expand, vertex_list, weight))\n",
    "            return weight, vertex_list\n",
    "        # Ако веќе сме го разграниле овој јазол, нема логика да го разгрануваме пак.\n",
    "        if vertex_to_expand in expanded:\n",
    "            if verbose:\n",
    "                print('{} е веќе разгранет'.format(vertex_to_expand, weight, vertex_list))\n",
    "            continue\n",
    "        if verbose:\n",
    "            print('Го разгрануваме јазолот {} од ({}, {})'.format(vertex_to_expand, weight, vertex_list))\n",
    "        # На оваа линија код, сигурни сме дека не сме го разграниле моменталниот јазол. Го разгрануваме така што пребаруваме низ сите негови соседи.\n",
    "        for neighbour, new_weight in graph.neighbours(vertex_to_expand):\n",
    "            if neighbour in expanded:\n",
    "                if verbose:\n",
    "                    print('{} е веќе разгранет'.format(neighbour))\n",
    "            else:\n",
    "                # Ако моменталниот сосед не е разгранет, го додаваме во редицата на јазли за разгранување.\n",
    "                if verbose:\n",
    "                    print('{} со тежина {}, кој е соседен јазол на {}, го додаваме во редот за разгранување со нова '\n",
    "                          'цена и го означуваме како разгранет'.format(neighbour, new_weight, vertex_to_expand))\n",
    "                # Бидејќи ова е пребарување со униформна цена, соседот кој го додаваме ќе биде соодветно додаден преку библиотеката heapq.\n",
    "                heapq.heappush(queue, (weight + new_weight, vertex_list + [neighbour]))\n",
    "        # Откако го разгранивме јазолот, го додаваме во множеството разгранети јазли.\n",
    "        expanded.add(vertex_to_expand)\n",
    "        if verbose:\n",
    "            print()"
   ]
  },
  {
   "cell_type": "code",
   "execution_count": 11,
   "metadata": {},
   "outputs": [
    {
     "name": "stdout",
     "output_type": "stream",
     "text": [
      "Ред за разгранување:\n",
      "(0, ['A']) \n",
      "\n",
      "Го разгрануваме јазолот A од (0, ['A'])\n",
      "B со тежина 2, кој е соседен јазол на A, го додаваме во редот за разгранување со нова цена и го означуваме како разгранет\n",
      "C со тежина 4, кој е соседен јазол на A, го додаваме во редот за разгранување со нова цена и го означуваме како разгранет\n",
      "E со тежина 5, кој е соседен јазол на A, го додаваме во редот за разгранување со нова цена и го означуваме како разгранет\n",
      "\n",
      "Ред за разгранување:\n",
      "(2, ['A', 'B']) (4, ['A', 'C']) (5, ['A', 'E']) \n",
      "\n",
      "Го разгрануваме јазолот B од (2, ['A', 'B'])\n",
      "A е веќе разгранет\n",
      "E со тежина 1, кој е соседен јазол на B, го додаваме во редот за разгранување со нова цена и го означуваме како разгранет\n",
      "\n",
      "Ред за разгранување:\n",
      "(3, ['A', 'B', 'E']) (5, ['A', 'E']) (4, ['A', 'C']) \n",
      "\n",
      "Го разгрануваме јазолот E од (3, ['A', 'B', 'E'])\n",
      "A е веќе разгранет\n",
      "B е веќе разгранет\n",
      "D со тежина 3, кој е соседен јазол на E, го додаваме во редот за разгранување со нова цена и го означуваме како разгранет\n",
      "F со тежина 2, кој е соседен јазол на E, го додаваме во редот за разгранување со нова цена и го означуваме како разгранет\n",
      "\n",
      "Ред за разгранување:\n",
      "(4, ['A', 'C']) (5, ['A', 'B', 'E', 'F']) (6, ['A', 'B', 'E', 'D']) (5, ['A', 'E']) \n",
      "\n",
      "Го разгрануваме јазолот C од (4, ['A', 'C'])\n",
      "A е веќе разгранет\n",
      "D со тежина 3, кој е соседен јазол на C, го додаваме во редот за разгранување со нова цена и го означуваме како разгранет\n",
      "\n",
      "Ред за разгранување:\n",
      "(5, ['A', 'B', 'E', 'F']) (5, ['A', 'E']) (6, ['A', 'B', 'E', 'D']) (7, ['A', 'C', 'D']) \n",
      "\n",
      "Го пронајдовме посакуваниот јазол F. Патеката да стигнеме до тука е ['A', 'B', 'E', 'F'] со цена 5\n"
     ]
    },
    {
     "data": {
      "text/plain": [
       "(5, ['A', 'B', 'E', 'F'])"
      ]
     },
     "execution_count": 11,
     "metadata": {},
     "output_type": "execute_result"
    }
   ],
   "source": [
    "uniform_cost_search(g, starting_vertex='A', goal_vertex='F', verbose=True)"
   ]
  },
  {
   "cell_type": "markdown",
   "metadata": {},
   "source": [
    "## За пресметковните сложености"
   ]
  },
  {
   "cell_type": "markdown",
   "metadata": {},
   "source": [
    "![](images/big-o.webp)"
   ]
  },
  {
   "cell_type": "code",
   "execution_count": 12,
   "metadata": {},
   "outputs": [
    {
     "data": {
      "image/jpeg": "[encoded data removed]",
      "text/html": [
       "\n",
       "        <iframe\n",
       "            width=\"400\"\n",
       "            height=\"300\"\n",
       "            src=\"https://www.youtube.com/embed/__vX2sjlpXU\"\n",
       "            frameborder=\"0\"\n",
       "            allowfullscreen\n",
       "        ></iframe>\n",
       "        "
      ],
      "text/plain": [
       "<IPython.lib.display.YouTubeVideo at 0x7f85ecd9d610>"
      ]
     },
     "execution_count": 12,
     "metadata": {},
     "output_type": "execute_result"
    }
   ],
   "source": [
    "from IPython.lib.display import YouTubeVideo\n",
    "YouTubeVideo('__vX2sjlpXU')"
   ]
  },
  {
   "cell_type": "code",
   "execution_count": null,
   "metadata": {},
   "outputs": [],
   "source": []
  },
  {
   "cell_type": "code",
   "execution_count": null,
   "metadata": {},
   "outputs": [],
   "source": []
  },
  {
   "cell_type": "code",
   "execution_count": null,
   "metadata": {},
   "outputs": [],
   "source": []
  }
 ],
 "metadata": {
  "kernelspec": {
   "display_name": "Python 3 (ipykernel)",
   "language": "python",
   "name": "python3"
  },
  "language_info": {
   "codemirror_mode": {
    "name": "ipython",
    "version": 3
   },
   "file_extension": ".py",
   "mimetype": "text/x-python",
   "name": "python",
   "nbconvert_exporter": "python",
   "pygments_lexer": "ipython3",
   "version": "3.10.8"
  }
 },
 "nbformat": 4,
 "nbformat_minor": 4
}
