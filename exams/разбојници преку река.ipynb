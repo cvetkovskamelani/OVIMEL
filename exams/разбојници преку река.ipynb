{
 "cells": [
  {
   "cell_type": "markdown",
   "id": "8f0eb65b-2c7d-4a4d-96ea-73b049c43eff",
   "metadata": {},
   "source": [
    "# Разбојници\n",
    "Три разбојници кои штотуку ограбиле банка треба да ја преминат реката. Првиот украл 3000, вториот 5000, а третиот 8000. Парите секој си ги чува во торба.\n",
    "* Чамецот може да издржи највеќе два разбојника или разбојник и една торба.\n",
    "* Ниеден затвореник не смее да остане насамо со торба која вреди повеќе отколку што тој украл.\n",
    "* Сите разбојници знаат да веслаат."
   ]
  },
  {
   "cell_type": "code",
   "execution_count": 8,
   "id": "34b3fe0d-4cd7-40f6-9708-2f3af7646d13",
   "metadata": {},
   "outputs": [],
   "source": [
    "#indeksite kje bidat numerirani 0-prv razbojnik, 1-vtor razbojnik, 2-tret razbojnik, 3-torba so 30000, 4-torba so 5000, 5-torba so 80000, 6-chamec"
   ]
  },
  {
   "cell_type": "code",
   "execution_count": 22,
   "id": "c8778f87-f9db-4a18-b0c8-593fe86c6dfa",
   "metadata": {},
   "outputs": [],
   "source": [
    "def one_person_goes(state,indeks):\n",
    "    \"\"\"\n",
    "    функција со која се менува состојбата, односно кога некој поминува на другата страна од реката\n",
    "    \"\"\"\n",
    "    states=list(state)\n",
    "    states[6]=states[indeks]=1\n",
    "    return tuple(states)"
   ]
  },
  {
   "cell_type": "code",
   "execution_count": 23,
   "id": "af6ad0c6-624f-44d2-b68c-ded8ec8e07b3",
   "metadata": {},
   "outputs": [],
   "source": [
    "def two_person_goes(state,indeks1,indeks2):\n",
    "    \"\"\"\n",
    "    функција со која се менува состојбата, односно кога минува разбојник со торба\n",
    "    \"\"\"\n",
    "    states=list(state)\n",
    "    states[6]=states[indeks1]=states[indeks2]=1\n",
    "    return tuple(states)"
   ]
  },
  {
   "cell_type": "code",
   "execution_count": 24,
   "id": "5e8e9734-2095-4c03-a38a-de58b63f8a7b",
   "metadata": {},
   "outputs": [],
   "source": [
    "def one_person_comes(state,indeks):\n",
    "    \"\"\"\n",
    "    функција со која се менува состојбата, односно кога некој се враќа на првата страна од реката\n",
    "    \"\"\"\n",
    "    states=list(state)\n",
    "    states[6]=states[indeks]=0\n",
    "    return tuple(states)"
   ]
  },
  {
   "cell_type": "code",
   "execution_count": 25,
   "id": "77057134-293b-427a-b6c0-45af90cd236b",
   "metadata": {},
   "outputs": [],
   "source": [
    "def two_person_comes(state,indeks1,indeks2):\n",
    "    \"\"\"\n",
    "    функција со која се менува состојбата, односно кога минуваат разбојник и торба\n",
    "    \"\"\"\n",
    "    states=list(state)\n",
    "    states[6]=states[indeks1]=states[indeks2]=0\n",
    "    return tuple(states)"
   ]
  },
  {
   "cell_type": "code",
   "execution_count": 26,
   "id": "550d69dc-585a-47b3-b5d0-20544838a03d",
   "metadata": {},
   "outputs": [],
   "source": [
    "def expand_state(state):\n",
    "    \"\"\"\n",
    "    индексите во стејт имаат значење:\n",
    "    0-прв разбојник, 1-втор разбојник, 2-трет разбојник, 3-торба 3000, 4-торба 5000, 5-торба 8000 и 6-чамецот\n",
    "    прво проверува чамецот на која страна е и минува низ дадените правила да провери дали се исполнети и прави движења\n",
    "    \"\"\"\n",
    "    states=[]\n",
    "    prv,vtor,tret,torba1,torba2,torba3,camec=range(7)\n",
    "    if state[6]==0:\n",
    "        if state[0]==state[4]==state[5]==0:\n",
    "            if state[3]==1:\n",
    "                states.append(one_person_comes(state,0))\n",
    "            if state[3]==0:\n",
    "                states.append(two_person_comes(state,0,3))\n",
    "        if state[1]==state[3]==state[5]==0:\n",
    "            if state[4]==1:\n",
    "                states.append(one_person_comes(state,1))\n",
    "            if state[4]==0:\n",
    "                states.append(two_person_comes(state,1,4))\n",
    "        if state[2]==state[3]==state[4]==0:\n",
    "            if state[5]==1:\n",
    "                states.append(one_person_comes(state,2))\n",
    "            if state[5]==0:\n",
    "                states.append(two_person_comes(state,2,5))\n",
    "    if state[6]==1:\n",
    "        if state[0]==state[4]==state[5]==1:\n",
    "            if state[3]==0:\n",
    "                states.append(one_person_comes(state,0))\n",
    "            if state[3]==1:\n",
    "                states.append(two_person_comes(state,0,3))\n",
    "        if state[1]==state[3]==state[5]==1:\n",
    "            if state[4]==0:\n",
    "                states.append(one_person_comes(state,1))\n",
    "            if state[4]==1:\n",
    "                states.append(two_person_comes(state,1,4))\n",
    "        if state[2]==state[3]==state[4]==1:\n",
    "            if state[5]==0:\n",
    "                states.append(one_person_comes(state,2))\n",
    "            if state[5]==1:\n",
    "                states.append(two_person_comes(state,2,5))\n",
    "    return states"
   ]
  },
  {
   "cell_type": "code",
   "execution_count": 27,
   "id": "4af209a4-d59f-4583-897b-4e11dc183bfe",
   "metadata": {},
   "outputs": [],
   "source": [
    "from collections import deque\n",
    "def breadth_first_search_find_path(starting_vertex, goal_vertex):\n",
    "    if starting_vertex == goal_vertex:\n",
    "        return []\n",
    "    visited = {starting_vertex} \n",
    "    queue = deque([[starting_vertex]]) \n",
    "    while queue:\n",
    "        vertex_list = queue.popleft() \n",
    "        vertex_to_expand = vertex_list[-1]\n",
    "        for neighbour in expand_state(vertex_to_expand):\n",
    "            if neighbour not in visited:\n",
    "                if neighbour == goal_vertex:\n",
    "                    return vertex_list + [neighbour]\n",
    "                visited.add(neighbour)\n",
    "                queue.append(vertex_list + [neighbour])"
   ]
  },
  {
   "cell_type": "code",
   "execution_count": 28,
   "id": "d92bfc68-9a42-4981-a120-be22037e859c",
   "metadata": {},
   "outputs": [],
   "source": [
    "breadth_first_search_find_path((0,0,0,0,0,0,0,0,0), (1,1,1,1,1,1,1,1,1))"
   ]
  },
  {
   "cell_type": "code",
   "execution_count": null,
   "id": "b3d168ce-98fc-4453-8f4d-54cd6768b243",
   "metadata": {},
   "outputs": [],
   "source": []
  }
 ],
 "metadata": {
  "kernelspec": {
   "display_name": "Python 3 (ipykernel)",
   "language": "python",
   "name": "python3"
  },
  "language_info": {
   "codemirror_mode": {
    "name": "ipython",
    "version": 3
   },
   "file_extension": ".py",
   "mimetype": "text/x-python",
   "name": "python",
   "nbconvert_exporter": "python",
   "pygments_lexer": "ipython3",
   "version": "3.10.8"
  }
 },
 "nbformat": 4,
 "nbformat_minor": 5
}
