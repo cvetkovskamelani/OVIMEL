{
 "cells": [
  {
   "cell_type": "markdown",
   "id": "7c20e06b",
   "metadata": {
    "tags": []
   },
   "source": [
    "# Втор парцијален испит по Основи на Вештачката Интелигенција - 1/2\n",
    "\n",
    "**Датум**: 18.01.2023"
   ]
  },
  {
   "cell_type": "markdown",
   "id": "7da0c235",
   "metadata": {},
   "source": [
    "## 1. Амазон\n",
    "Ја разгледуваме задачата за играта Амазон, од аудиториските вежби."
   ]
  },
  {
   "cell_type": "markdown",
   "id": "f52f8b9d",
   "metadata": {},
   "source": [
    "### Прашања и задачи"
   ]
  },
  {
   "cell_type": "markdown",
   "id": "25933454",
   "metadata": {},
   "source": [
    "Бидејќи дрвото на играта е мало, во решението од аудиториските се разгранува целото дрво. Сакаме да дознаеме колку вкупно состојби се разгрануваат при пребарувањето низ дрвото."
   ]
  },
  {
   "cell_type": "markdown",
   "id": "b06f2764",
   "metadata": {},
   "source": [
    "1.1. **(5 поени)** Без користење на калкулатор, дискутирајте на кој начин ќе процените колку состојби треба да се разгранат за да се истражи целото дрво на играта.\n",
    "    "
   ]
  },
  {
   "cell_type": "markdown",
   "id": "487f8f40-e6d3-44d6-89d0-8ebfaa7d885a",
   "metadata": {},
   "source": [
    "* Ако сакаме да го разграниме целото дрво, тогаш не треба да користиме алфа бета поткаструвањe, значи ќе ја користeме функцијата minimax во која не фигурираат алфа и бета.\n",
    "    * Во функцијата ќе поставиме бројач кој ќе брои колку пати ќе се повикува таа функција. Бидејќи секоја состојба од дрвото се повикува еднаш, значи бројот на повикувања = бројот на состојби кои се разгрануваат"
   ]
  },
  {
   "cell_type": "markdown",
   "id": "c05df7b3",
   "metadata": {},
   "source": [
    "1.2. **(5 поени) (код)** Пресметајте колку точно состојби се разгрануваат за да се истражи целото дрво на играта?"
   ]
  },
  {
   "cell_type": "code",
   "execution_count": 1,
   "id": "465e2905-671a-4d2e-865c-f072cdcd41d5",
   "metadata": {},
   "outputs": [],
   "source": [
    "# Funkciite gi izvadov od klasata Game, zatoa sto vo momentot bitno mi e samo da ja odredam vrednosta na counter \n",
    "# (ne sakam da ja igram samata igra i ne mi treba kodot za vizuelizacija)"
   ]
  },
  {
   "cell_type": "code",
   "execution_count": 9,
   "id": "c088f45d-6ea0-4a58-a8a5-24a94c0a4b8b",
   "metadata": {},
   "outputs": [],
   "source": [
    "from copy import deepcopy"
   ]
  },
  {
   "cell_type": "code",
   "execution_count": 10,
   "id": "8134e155-faaf-425a-8b87-c95afae50abb",
   "metadata": {},
   "outputs": [],
   "source": [
    "scores = {'S': 1, 'P': -1}\n",
    "N = 3\n",
    "\n",
    "def minimax(node, player):\n",
    "    global counter\n",
    "    counter += 1\n",
    "    winner = check_victory(node, 'S' if player == 'MAX' else 'P')\n",
    "    if winner != 'keep_playing':\n",
    "        return scores[winner], None\n",
    "    best_value = 2 if player == 'MIN' else -2\n",
    "    best_move = None\n",
    "    for child, move in expand_state(node, player):\n",
    "        other_player = 'MIN' if player == 'MAX' else 'MAX'\n",
    "        result, _ = minimax(child, other_player)\n",
    "        if player == 'MIN' and result < best_value:\n",
    "            best_value = result\n",
    "            best_move = move\n",
    "        elif player == 'MAX' and result > best_value:\n",
    "            best_value = result\n",
    "            best_move = move\n",
    "    return best_value, best_move\n",
    "\n",
    "def find_queen(state, queen_symbol):\n",
    "    for y in range(N):\n",
    "        for x in range(N):\n",
    "            if state[y][x] == queen_symbol:\n",
    "                return x, y\n",
    "\n",
    "def possible_moves(state, x, y):\n",
    "    deltas = [\n",
    "        (0, 1), (0, -1), (1, 0), (-1, 0),\n",
    "        (1, 1), (1, -1), (-1, 1), (-1, -1)]\n",
    "    for dx, dy in deltas:\n",
    "        nx, ny = x + dx, y + dy\n",
    "        while 0 <= nx < N and 0 <= ny < N:\n",
    "            if state[ny][nx] == '·':\n",
    "                yield nx, ny\n",
    "            else:\n",
    "                break\n",
    "            nx += dx\n",
    "            ny += dy\n",
    "\n",
    "def possible_shots(state, x, y):\n",
    "    shots = [\n",
    "        (0, 1), (0, -1), (1, 0), (-1, 0),\n",
    "        (1, 1), (1, -1), (-1, 1), (-1, -1)]\n",
    "    for dx, dy in shots:\n",
    "        nx, ny = x + dx, y + dy\n",
    "        if 0 <= nx < N and 0 <= ny < N:\n",
    "            if state[ny][nx] == '·':\n",
    "                yield nx, ny\n",
    "\n",
    "def expand_state(state, player):\n",
    "    symbol = 'S' if player == 'MAX' else 'P'\n",
    "    qx, qy = find_queen(state, symbol)\n",
    "    for px_move, py_move in possible_moves(state, qx, qy):\n",
    "        state_after_move = list([list(row) for row in state])\n",
    "        state_after_move[py_move][px_move] = symbol\n",
    "        state_after_move[qy][qx] = '·'\n",
    "        for px_shot, py_shot in possible_moves(state_after_move, px_move, py_move):\n",
    "            state_after_shot = deepcopy(state_after_move)\n",
    "            state_after_shot[py_shot][px_shot] = 'x'\n",
    "            state_after_shot = tuple([tuple(row) for row in state_after_shot])\n",
    "            yield state_after_shot, [qx, qy, px_move, py_move, px_shot, py_shot]\n",
    "\n",
    "def other_queen_symbol(queen_symbol):\n",
    "    return 'P' if queen_symbol == 'S' else 'S'\n",
    "\n",
    "def check_victory(state, queen_to_move__symbol):\n",
    "    queen_to_move__symbol\n",
    "    qx, qy = find_queen(state, queen_to_move__symbol)\n",
    "    if list(possible_moves(state, qx, qy)) == []:\n",
    "        return other_queen_symbol(queen_to_move__symbol)\n",
    "    return 'keep_playing'"
   ]
  },
  {
   "cell_type": "code",
   "execution_count": 11,
   "id": "27a4f534-3a4f-4364-a692-0f541dfe8431",
   "metadata": {},
   "outputs": [],
   "source": [
    "counter = 0\n",
    "# primer ova e nasata pocetna sostojba, a na red e MAX igracot\n",
    "state = [\n",
    "    ['·', '·', 'P'],\n",
    "    ['·', '·', '·'],\n",
    "    ['S', '·', '·'],\n",
    "]"
   ]
  },
  {
   "cell_type": "code",
   "execution_count": 12,
   "id": "4ab48845-e59c-44d6-b77d-3d62e4d9a203",
   "metadata": {},
   "outputs": [
    {
     "name": "stdout",
     "output_type": "stream",
     "text": [
      "CPU times: user 11.6 s, sys: 0 ns, total: 11.6 s\n",
      "Wall time: 11.6 s\n"
     ]
    },
    {
     "data": {
      "text/plain": [
       "(1, [0, 2, 0, 1, 1, 1])"
      ]
     },
     "execution_count": 12,
     "metadata": {},
     "output_type": "execute_result"
    }
   ],
   "source": [
    "%%time\n",
    "minimax(state, 'MAX')"
   ]
  },
  {
   "cell_type": "code",
   "execution_count": 13,
   "id": "7cd944dc-2ae2-40a1-a264-ad1c8fdf6737",
   "metadata": {},
   "outputs": [
    {
     "data": {
      "text/plain": [
       "907652"
      ]
     },
     "execution_count": 13,
     "metadata": {},
     "output_type": "execute_result"
    }
   ],
   "source": [
    "counter"
   ]
  },
  {
   "cell_type": "markdown",
   "id": "8dd8c2ab",
   "metadata": {},
   "source": [
    "1.3. **(5 поени)** Што е алфа-бета поткастрување? Зошто користиме алфа-бета поткастрување во оваа игра?"
   ]
  },
  {
   "cell_type": "markdown",
   "id": "c0d8cd46-a071-4991-99d6-bc7462748746",
   "metadata": {},
   "source": [
    "* Алфа-бета поткаструвањето е метода која се користи со цел да се минимизира бројот на состојби кои се испитуваат. Ова овозможува minimax алгоритмот да се извршува во пократко време, но притоа повторно секогаш да го дава точниот резултат (поткаструвањето ги елиминира гранките кои сигурно нема да се крајното решение).\n",
    "* Алфа-бета поткаструвањето се користи во играта со цел компјутерот побрзо да може да го пресмета наредниот чекор што играчот треба да го направи. (поточно што побрзо да изврши minimax)"
   ]
  },
  {
   "cell_type": "markdown",
   "id": "44340625",
   "metadata": {},
   "source": [
    "1.4. **(10 поени) (код)** Покажете дека користењето на постапката за алфа-бета поткастрување се исплати во оваа игра. На кој начин подобро ќе се покаже: (1) преку времето потребно за извршување на алгоритмите или (2) преку броење на разгранетите јазли?"
   ]
  },
  {
   "cell_type": "code",
   "execution_count": 17,
   "id": "14b4ee31-0e51-4e8b-a615-6fb651dd014f",
   "metadata": {},
   "outputs": [],
   "source": [
    "scores = {'S': 1, 'P': -1}\n",
    "N = 3\n",
    "\n",
    "def minimax_alpha_beta(node, player, alpha=-2, beta=2):\n",
    "    global counter\n",
    "    counter += 1\n",
    "    winner = check_victory(node, 'S' if player == 'MAX' else 'P')\n",
    "    if winner != 'keep_playing':\n",
    "        return scores[winner], None\n",
    "    best_value = 2 if player == 'MIN' else -2\n",
    "    best_move = None\n",
    "    for child, move in expand_state(node, player):\n",
    "        other_player = 'MIN' if player == 'MAX' else 'MAX'\n",
    "        result, _ = minimax_alpha_beta(child, other_player, alpha, beta)\n",
    "        if player == 'MIN':\n",
    "            if result <= alpha:\n",
    "                return result, best_move\n",
    "            if result < beta:\n",
    "                beta = result\n",
    "            if result < best_value:\n",
    "                best_value = result\n",
    "                best_move = move\n",
    "        elif player == 'MAX':\n",
    "            if result >= beta:\n",
    "                return result, best_move\n",
    "            if result > alpha:\n",
    "                alpha = result\n",
    "            if result > best_value:\n",
    "                best_value = result\n",
    "                best_move = move\n",
    "    return best_value, best_move\n",
    "\n",
    "# podolnite funkcii se istite kako vo kodot od zadaca 1.2\n",
    "def find_queen(state, queen_symbol):\n",
    "    for y in range(N):\n",
    "        for x in range(N):\n",
    "            if state[y][x] == queen_symbol:\n",
    "                return x, y\n",
    "\n",
    "def possible_moves(state, x, y):\n",
    "    deltas = [\n",
    "        (0, 1), (0, -1), (1, 0), (-1, 0),\n",
    "        (1, 1), (1, -1), (-1, 1), (-1, -1)]\n",
    "    for dx, dy in deltas:\n",
    "        nx, ny = x + dx, y + dy\n",
    "        while 0 <= nx < N and 0 <= ny < N:\n",
    "            if state[ny][nx] == '·':\n",
    "                yield nx, ny\n",
    "            else:\n",
    "                break\n",
    "            nx += dx\n",
    "            ny += dy\n",
    "\n",
    "def possible_shots(state, x, y):\n",
    "    shots = [\n",
    "        (0, 1), (0, -1), (1, 0), (-1, 0),\n",
    "        (1, 1), (1, -1), (-1, 1), (-1, -1)]\n",
    "    for dx, dy in shots:\n",
    "        nx, ny = x + dx, y + dy\n",
    "        if 0 <= nx < N and 0 <= ny < N:\n",
    "            if state[ny][nx] == '·':\n",
    "                yield nx, ny\n",
    "\n",
    "def expand_state(state, player):\n",
    "    symbol = 'S' if player == 'MAX' else 'P'\n",
    "    qx, qy = find_queen(state, symbol)\n",
    "    for px_move, py_move in possible_moves(state, qx, qy):\n",
    "        state_after_move = list([list(row) for row in state])\n",
    "        state_after_move[py_move][px_move] = symbol\n",
    "        state_after_move[qy][qx] = '·'\n",
    "        for px_shot, py_shot in possible_moves(state_after_move, px_move, py_move):\n",
    "            state_after_shot = deepcopy(state_after_move)\n",
    "            state_after_shot[py_shot][px_shot] = 'x'\n",
    "            state_after_shot = tuple([tuple(row) for row in state_after_shot])\n",
    "            yield state_after_shot, [qx, qy, px_move, py_move, px_shot, py_shot]\n",
    "\n",
    "def other_queen_symbol(queen_symbol):\n",
    "    return 'P' if queen_symbol == 'S' else 'S'\n",
    "\n",
    "def check_victory(state, queen_to_move__symbol):\n",
    "    queen_to_move__symbol\n",
    "    qx, qy = find_queen(state, queen_to_move__symbol)\n",
    "    if list(possible_moves(state, qx, qy)) == []:\n",
    "        return other_queen_symbol(queen_to_move__symbol)\n",
    "    return 'keep_playing'"
   ]
  },
  {
   "cell_type": "code",
   "execution_count": 18,
   "id": "1f3e8bc3-74fc-4632-b70f-45c56c9a757e",
   "metadata": {},
   "outputs": [],
   "source": [
    "counter = 0\n",
    "# primer ova e nasata pocetna sostojba, a na red e MAX igracot\n",
    "state = [\n",
    "    ['·', '·', 'P'],\n",
    "    ['·', '·', '·'],\n",
    "    ['S', '·', '·'],\n",
    "]"
   ]
  },
  {
   "cell_type": "code",
   "execution_count": 19,
   "id": "066b824b-67c1-4f33-8b7e-92bd33120600",
   "metadata": {},
   "outputs": [
    {
     "name": "stdout",
     "output_type": "stream",
     "text": [
      "CPU times: user 147 ms, sys: 0 ns, total: 147 ms\n",
      "Wall time: 146 ms\n"
     ]
    },
    {
     "data": {
      "text/plain": [
       "(1, [0, 2, 0, 1, 1, 1])"
      ]
     },
     "execution_count": 19,
     "metadata": {},
     "output_type": "execute_result"
    }
   ],
   "source": [
    "%%time\n",
    "minimax_alpha_beta(state, 'MAX')"
   ]
  },
  {
   "cell_type": "code",
   "execution_count": 20,
   "id": "04085a68-dbe0-4d3d-b09c-20da7c3a5869",
   "metadata": {},
   "outputs": [
    {
     "data": {
      "text/plain": [
       "11147"
      ]
     },
     "execution_count": 20,
     "metadata": {},
     "output_type": "execute_result"
    }
   ],
   "source": [
    "counter"
   ]
  },
  {
   "cell_type": "markdown",
   "id": "7793ab74-f1d5-4d60-a224-a59721de4580",
   "metadata": {},
   "source": [
    "* и преку времето и преку бројачот, очигледна е разликата што алфа бета поткаструвањето ја прави. Бројачот од околу 900.000 сега е околу 11.000, а времето од 11.5 секунди сега е од редот на милисекунди."
   ]
  },
  {
   "cell_type": "markdown",
   "id": "4c72c5bb",
   "metadata": {},
   "source": [
    "Целото дрво брзо се истражува на компјутер од 2022 година. Во продолжение разгледуваме случај кога овој алгоритам се поставува на компјутер кој нема доволно пресметковна моќ и мемориски ресурси за да го пребара целото дрво во логично време за еден потег. Ова е случај кога таблата наместо 3х3 ќе биде 6х6. Стандардната постапка во овој случај е да се ограничи длабочината до која пребарува алгоритамот, па тогаш да се проценува исходот од играта преку функција за евристика."
   ]
  },
  {
   "cell_type": "markdown",
   "id": "b9858f38",
   "metadata": {},
   "source": [
    "1.5. **(20 поени) (код)** Предложете функција за проценка на победникот (евристика) за оваа игра. Имплементирајте ја во код. Функцијата може да се напише без да ја тестирате со готовата игра од аудиториските вежби. Важно е да се објасни секоја логичка целина од кодот на функцијата која ќе ја напишете."
   ]
  },
  {
   "cell_type": "code",
   "execution_count": 21,
   "id": "ed651150-03c2-4e4f-b048-e3672add24b7",
   "metadata": {},
   "outputs": [],
   "source": [
    "# Nekoi funckii go sodrzat zborot evolved bidejki koga go pisuvav kodot za natprevarot, prvo imav polosi verzii od ovie funkcii.\n",
    "# Ne sakam da gi smenam iminjata bidejki nekade mozi ke zaboravam da smenam i se javi problem.\n",
    "\n",
    "# ispituva dali kralicata moze vo eden poteg da stigni do goal_position\n",
    "# ovaa funkcija e potrebna za ponatamu da se iskoristi vo how_many_squares_in_one_move_evolved\n",
    "def can_reach_directly_evolved(goal_position, queen_position, state):\n",
    "    gx, gy = goal_position\n",
    "    qx, qy = queen_position\n",
    "    if qy == gy: # ako kralicite se naogjaat vo ista kolona\n",
    "        minx, maxx = (qx, gx) if qx < gx else (gx, qx)\n",
    "        for x in range(minx+1, maxx):\n",
    "            if state[qy][x] != '·': # ako izmegu dvete kralici ima precka\n",
    "                return False\n",
    "        return True # ako izmegu dvete kralici nema precki\n",
    "    \n",
    "    if qx == gx: # ako kralicite se naogjaat na ista redica\n",
    "        miny, maxy = (qy, gy) if qy < gy else (gy, qy)\n",
    "        for y in range(miny+1, maxy):\n",
    "            if state[y][qx] != '·':\n",
    "                return False\n",
    "        return True\n",
    "    \n",
    "    if qx-qy == gx-gy: # na glavna dijagonala\n",
    "        minx, maxx, miny = (qx, gx, qy) if qx < gx else (gx, qx, gy)\n",
    "        for i in range(1, maxx-minx):\n",
    "            if state[miny+i][minx+i] != '·':\n",
    "                return False\n",
    "        return True\n",
    "    \n",
    "    if qx+qy == gx+gy: # na sporedna dijagonala\n",
    "        minx, maxx, miny = (qx, gx, qy) if qx < gx else (gx, qx, gy)\n",
    "        for i in range(1, maxx-minx):\n",
    "            if state[miny-i][minx+i] != '·':\n",
    "                return False\n",
    "        return True\n",
    "    \n",
    "    return False\n",
    "   \n",
    "# do kolku polinja kralicata moze da stigne vo eden poteg\n",
    "def how_many_squares_in_one_move_evolved(state, queen_position):\n",
    "    how_many = 0\n",
    "    for row_index, row in enumerate(state):\n",
    "        for col_index, element in enumerate(row):\n",
    "            if element == '·':\n",
    "                if can_reach_directly_evolved((col_index, row_index), queen_position, state):\n",
    "                    how_many += 1\n",
    "    return how_many\n",
    "            \n",
    "\n",
    "# ispituva koja kralica ima poveke mobilnost (moze vo eden poteg da stigne do poveke polinja).\n",
    "# na izlez se vraka odreden score koj e megu -1 i 1 (ako e negativen broj, MIN kralicata ima\n",
    "# prednost. Ako e pozitiven, MAX kralicata e vo prednost\n",
    "def mobility(state):\n",
    "    s_position = find_queen(state, 'S')\n",
    "    p_position = find_queen(state, 'P')\n",
    "    s_mobility = how_many_squares_in_one_move_evolved(state, s_position)\n",
    "    p_mobility = how_many_squares_in_one_move_evolved(state, p_position)\n",
    "    return (s_mobility - p_mobility) / 19 # najmnogu ima do 19 polinja mobilnost\n",
    "                                          # toa e ako kralicata se naogja vo centarot na 6x6 tabla\n",
    "\n",
    "def chebyshev(pos_1, pos_2):\n",
    "    x1, y1 = pos_1\n",
    "    x2, y2 = pos_2\n",
    "    return max(abs(x1-x2), abs(y1-y2))\n",
    "\n",
    "\n",
    "# Ispituva koja kralica e poblisku do odredeno pole t.e. go *poseduva* toa pole\n",
    "# Ne e precizno bidejki ne zema vo predvid dali ima iksovci izmegu kralicata i odredenoto pole\n",
    "def who_owns_square(state, square_position):\n",
    "    s_position = find_queen(state, 'S')\n",
    "    p_position = find_queen(state, 'P')\n",
    "    s_dist = chebyshev(s_position, square_position)\n",
    "    p_dist = chebyshev(p_position, square_position)\n",
    "    if s_dist == p_dist:\n",
    "        return 0\n",
    "    return 1 if s_dist < p_dist else -1\n",
    "\n",
    "\n",
    "# Kazuva koja kralica e vo prednost, koga se raboti za brojot na polinja koi tie gi poseduvaat\n",
    "# Kralicata koja poseduva poveke polinja e vo prednost\n",
    "def territory(state):\n",
    "    score = 0\n",
    "    how_many_squares = 0\n",
    "    for row_index, row in enumerate(state):\n",
    "        for col_index, element in enumerate(row):\n",
    "            if element == '·':\n",
    "                how_many_squares += 1 # how_many_squares na krajot ke pokazuva kolku vkupno prazni polinja ima na tablata\n",
    "                score += who_owns_square(state, (col_index, row_index))\n",
    "    return score / how_many_squares\n",
    "\n",
    "\n",
    "# Kazuva kolku polinja direktno okolu kralicata se slobodni, podeleno so 8\n",
    "# (bidejki maksimum 8 polinja moze da se slobodni okolu kralicata\n",
    "def freedom_queen(state, symbol):\n",
    "    N = len(state)\n",
    "    how_many = 0\n",
    "    x, y = find_queen(state, symbol)\n",
    "    deltas = [\n",
    "        (0, 1), (0, -1), (1, 0), (-1, 0),\n",
    "        (1, 1), (1, -1), (-1, 1), (-1, -1)\n",
    "    ]\n",
    "    for dx, dy in deltas:\n",
    "        nx, ny = x + dx, y + dy\n",
    "        if 0 <= nx < N and 0 <= ny < N and state[ny][nx] == '·':\n",
    "            how_many += 1\n",
    "            nx += dx\n",
    "            ny += dy\n",
    "    return how_many/8\n",
    "\n",
    "\n",
    "# Dava score za koja kralica e poslobodna\n",
    "# Poslobodna e onaa kralica koja ima poveke polinja direktno okolu nea\n",
    "def freedom(state):\n",
    "    freedom_s = freedom_queen(state, 'S')\n",
    "    freedom_p = freedom_queen(state, 'P')\n",
    "    return freedom_s - freedom_p\n",
    "\n",
    "\n",
    "# Konecnata evaluation function. Broevite se zemeni so testiranje.\n",
    "def evaluate_state(state, symbol):\n",
    "    return (3*mobility(state) + territory(state) + freedom(state)) / 5"
   ]
  }
 ],
 "metadata": {
  "kernelspec": {
   "display_name": "Python 3 (ipykernel)",
   "language": "python",
   "name": "python3"
  },
  "language_info": {
   "codemirror_mode": {
    "name": "ipython",
    "version": 3
   },
   "file_extension": ".py",
   "mimetype": "text/x-python",
   "name": "python",
   "nbconvert_exporter": "python",
   "pygments_lexer": "ipython3",
   "version": "3.10.8"
  }
 },
 "nbformat": 4,
 "nbformat_minor": 5
}
