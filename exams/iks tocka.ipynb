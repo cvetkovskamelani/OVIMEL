{
 "cells": [
  {
   "cell_type": "markdown",
   "id": "85ee0676",
   "metadata": {
    "tags": []
   },
   "source": [
    "# Втор парцијален испит по Основи на Вештачката Интелигенција - 1/2\n",
    "\n",
    "Датум: 22.01.2022"
   ]
  },
  {
   "cell_type": "markdown",
   "id": "1ab96141",
   "metadata": {},
   "source": [
    "## 1. Икс-точка\n",
    "Ја разгледуваме задачата за икс-точка, од аудиториските вежби."
   ]
  },
  {
   "cell_type": "markdown",
   "id": "21fe407c",
   "metadata": {},
   "source": [
    "### Прашања и задачи"
   ]
  },
  {
   "cell_type": "markdown",
   "id": "adcff285",
   "metadata": {},
   "source": [
    "Бидејќи дрвото на играта е мало, во решението од аудиториските се разгранува целото дрво. Сакаме да дознаеме колку вкупно состојби се разгрануваат при пребарувањето низ дрвото."
   ]
  },
  {
   "cell_type": "markdown",
   "id": "e36d54c8",
   "metadata": {},
   "source": [
    "1.1. **(5 поени)** Без користење на калкулатор, дискутирајте на кој начин ќе процените колку состојби треба да се разгранат за да се истражи целото дрво на играта.\n",
    "    "
   ]
  },
  {
   "cell_type": "markdown",
   "id": "93a49e11-d84e-4065-8d2e-b2287c44eb01",
   "metadata": {},
   "source": [
    "* можеме да поставиме бројач во минимакс алгоритмот кој ќе инкрементира секој пат кога ќе биде повикан да разгранува јазол"
   ]
  },
  {
   "cell_type": "markdown",
   "id": "53cd72f3",
   "metadata": {},
   "source": [
    "1.2. **(5 поени) (код)** Пресметајте колку точно состојби се разгрануваат за да се истражи целото дрво на играта?"
   ]
  },
  {
   "cell_type": "code",
   "execution_count": null,
   "id": "cac0404a",
   "metadata": {},
   "outputs": [],
   "source": [
    "#ез претходниот код во играта ќе го ставам само минимакс алгоритмот кој брои состојби\n",
    "def minimax(state, player):\n",
    "    global c\n",
    "    c+=1\n",
    "    if check_score(state)!='keep playing':\n",
    "        return scores[check_score(state)],None\n",
    "    best_move=None\n",
    "    best = plus_inf if player == 'MIN' else minus_inf\n",
    "    symbol='x' if player=='MAX' else 'o'\n",
    "    for next_state,next_move in expand_state(state,player):\n",
    "        result,result_move = minimax(next_state,turn(player))\n",
    "        if player == 'MIN' and result < best:\n",
    "            best = result\n",
    "            best_move=result_move\n",
    "        elif player == 'MAX' and result > best:\n",
    "            best = result\n",
    "            best_move=result_move\n",
    "    return best,best_move\n",
    "# бидејќи ц бројачот е глобален потоа може само да се повика вон функцијата"
   ]
  },
  {
   "cell_type": "markdown",
   "id": "a1488c4d",
   "metadata": {},
   "source": [
    "1.3. **(5 поени)** Што е алфа-бета поткастрување? Зошто користиме алфа-бета поткастрување во оваа игра?"
   ]
  },
  {
   "cell_type": "markdown",
   "id": "575a7d22-df85-4932-b031-309ebb2b6200",
   "metadata": {},
   "source": [
    "* алфа бета поткаструвањето всушност помага играта да се одвива побрзо затоа што нема да бидат разграснувани сите јазли\n",
    "* тоа всушност однапред предвидува дали некој јазол ќе треба да се разграни, на пример ако на ред е да бира мин и има земено некоја вредност 4 а во другиот пар избор има прва гранка 2 тоа за МАКС секако ќе биде неприфатливо и МАКС ќе избере 4 па воопшто нема ни да разгледува понатаму МИН"
   ]
  },
  {
   "cell_type": "markdown",
   "id": "72f5eb42",
   "metadata": {},
   "source": [
    "1.4. **(10 поени) (код)** Покажете дека користењето на постапката за алфа-бета поткастрување се исплати во оваа игра. На кој начин подобро ќе се покаже: (1) преку времето потребно за извршување на алгоритмите или (2) преку броење на разгранетите јазли?"
   ]
  },
  {
   "cell_type": "code",
   "execution_count": null,
   "id": "6c9d212a",
   "metadata": {},
   "outputs": [],
   "source": [
    "def minimax_alpha_beta(state, player, alpha=minus_inf, beta=plus_inf):\n",
    "    global c\n",
    "    c+=1\n",
    "    if check_score(state)!='keep playing':\n",
    "        return scores[check_score(state)],None   \n",
    "    best = plus_inf if player == 'MIN' else minus_inf\n",
    "    symbol='x' if player=='MAX' else 'o'\n",
    "    best_move=None\n",
    "    for next_state,next_move in expand_state(state,player):\n",
    "        result,result_move = minimax_alpha_beta(next_state,turn(player), alpha, beta)\n",
    "        if player == 'MIN':\n",
    "            if result <= alpha:\n",
    "                return result\n",
    "            if result < beta:\n",
    "                beta = result\n",
    "            if result < best:\n",
    "                best = result\n",
    "                best_move=result_move\n",
    "        elif player == 'MAX':\n",
    "            if result >= beta:\n",
    "                return result\n",
    "            if result > alpha:\n",
    "                alpha = result\n",
    "            if result > best:\n",
    "                best = result\n",
    "                best_move=result_move\n",
    "    return best, best_move"
   ]
  },
  {
   "cell_type": "markdown",
   "id": "c5b73cd7-62f7-47d2-9079-508d8f9fe5d0",
   "metadata": {},
   "source": [
    "* бидејќи дрвото е мало, нема да биде потребно многу време и целото да се разграни, и иако ќе има разглика во времето за кое ќе биде извршено таа разлика ќе биде најверојатно во милисекунди, но сепак ќе биде забележана\n",
    "* разликата во број на јазли би била позабележана затоа што ќе се види колку јазли биле скратени со поткаструвањето"
   ]
  },
  {
   "cell_type": "markdown",
   "id": "4956d5de",
   "metadata": {},
   "source": [
    "Целото дрво брзо се истражува на компјутер од 2022 година. Во продолжение разгледуваме случај кога овој алгоритам се поставува на компјутер кој нема доволно пресметковна моќ и мемориски ресурси за да го пребара целото дрво во логично време за еден потег. Стандардната постапка во овој случај е да се ограничи длабочината до која пребарува алгоритамот, па тогаш да се проценува исходот од играта преку функција за евристика."
   ]
  },
  {
   "cell_type": "markdown",
   "id": "c2704bc6",
   "metadata": {},
   "source": [
    "1.5. **(10 поени)** Предложете функција за евристика за оваа игра."
   ]
  },
  {
   "cell_type": "markdown",
   "id": "c63756a1-d675-45ab-bb50-1b564b8133b1",
   "metadata": {},
   "source": [
    "* евристиката би можела да биде кој има повеќе двојки на редени на таблата, односно 2исти симболи еден до друг или пак 2 симболи раздвоени со едно поле"
   ]
  },
  {
   "cell_type": "markdown",
   "id": "c644e8ff",
   "metadata": {},
   "source": [
    "### Бонус"
   ]
  },
  {
   "cell_type": "markdown",
   "id": "aed6796a",
   "metadata": {},
   "source": [
    "1.6. **(10 поени) (код)** Имплементирајте ја предложената функција од прашањето 5."
   ]
  },
  {
   "cell_type": "code",
   "execution_count": 2,
   "id": "aedb2a90",
   "metadata": {},
   "outputs": [],
   "source": [
    "global count"
   ]
  },
  {
   "cell_type": "code",
   "execution_count": 4,
   "id": "2386509f",
   "metadata": {},
   "outputs": [],
   "source": [
    "def count(state,player):\n",
    "    symbol='x' if player=='MAX' else 'o'\n",
    "    if state[0][0]==state[1][1]==symbol:\n",
    "        count+=1\n",
    "    if state[0][0]==state[2][2]==symbol:\n",
    "        count+=1\n",
    "    if state[2][2]==state[1][1]==symbol:\n",
    "        count+=1\n",
    "    if state[0][2]==state[1][1]==symbol:\n",
    "        count+=1\n",
    "    if state[0][2]==state[2][0]==symbol:\n",
    "        count+=1\n",
    "    if state[2][0]==state[1][1]==symbol: #tuka gi proveruva diagonalite po parovi, i glavna i sporedna\n",
    "        count+=1\n",
    "    for row,i in enumerate(state):\n",
    "        for col,j in enumerate(i):\n",
    "            if state[row][col]==state[row+1][col]==symbol:\n",
    "                count+=1\n",
    "            if state[row][col]==state[row+2][col]==symbol:    #tuka gi proveruva po koloni i redovi dali ima eden do drug ili preku drug isti\n",
    "                count+=1\n",
    "            if state[row][col]==state[row][col+1]==symbol:\n",
    "                count+=1\n",
    "            if state[row][col]==state[row][col+2]==symbol:\n",
    "                count+=1\n",
    "    return count"
   ]
  },
  {
   "cell_type": "code",
   "execution_count": 5,
   "id": "a7b2fcb1",
   "metadata": {},
   "outputs": [],
   "source": [
    "def winner(state):\n",
    "    count=0\n",
    "    count_MAX=count(state,'MAX')\n",
    "    count=0\n",
    "    count_MIN=count(state,'MIN')\n",
    "    if count_MAX>count_MIN:\n",
    "        print('The winner is x')\n",
    "    else: \n",
    "        print('The winner is o')"
   ]
  },
  {
   "cell_type": "code",
   "execution_count": null,
   "id": "3e9dbe7f-458e-417d-a8ab-74fefb0b58bc",
   "metadata": {},
   "outputs": [],
   "source": []
  }
 ],
 "metadata": {
  "kernelspec": {
   "display_name": "Python 3 (ipykernel)",
   "language": "python",
   "name": "python3"
  },
  "language_info": {
   "codemirror_mode": {
    "name": "ipython",
    "version": 3
   },
   "file_extension": ".py",
   "mimetype": "text/x-python",
   "name": "python",
   "nbconvert_exporter": "python",
   "pygments_lexer": "ipython3",
   "version": "3.10.8"
  }
 },
 "nbformat": 4,
 "nbformat_minor": 5
}
