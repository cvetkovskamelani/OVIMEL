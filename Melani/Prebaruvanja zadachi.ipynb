{
 "cells": [
  {
   "cell_type": "markdown",
   "id": "cfac42d0-8d26-4d18-b6c4-b2ae24829b7f",
   "metadata": {
    "jp-MarkdownHeadingCollapsed": true,
    "tags": []
   },
   "source": [
    "# Претурање вода во садови\n",
    "Имате на располагање 3 садови. Нивниот капацитет е 5, 8 и 10 соодветно. На почетокот сите садови се празни. Задачата е да претурите 1 литар во садот од 5 литри. Можете да претурате вода меѓу садовите, но не знаете точно колку претурате бидејќи садовите не се обележани. Единствено може да го испразните садот од кој претурате или да го наполните до врв садот во кој претурате. Постои и чешма од која може да надополните некој сад до врвот. Секогаш може да ја истурите водата од некој сад. Скратено: имате на располагање 3 садови. Нивниот капацитет е (x, y, z) соодветно. Почетната состојба е (x_0, y_0, z_0). Задачата е да стигнете до посакуваната состојба."
   ]
  },
  {
   "cell_type": "code",
   "execution_count": 1,
   "id": "267ea01f-a6f3-42ad-9138-3f28d3689f10",
   "metadata": {},
   "outputs": [],
   "source": [
    "cap=(5,8,10)"
   ]
  },
  {
   "cell_type": "code",
   "execution_count": 2,
   "id": "ba77365c-0435-4acf-be00-9f560ad6a600",
   "metadata": {},
   "outputs": [],
   "source": [
    "from collections import deque\n",
    "from itertools import combinations"
   ]
  },
  {
   "cell_type": "code",
   "execution_count": 3,
   "id": "f348bc56-55d2-495e-8429-a8fa2725d7c0",
   "metadata": {},
   "outputs": [],
   "source": [
    "def transfer(current, sink, source):\n",
    "    current=list(current)\n",
    "    available = cap[sink]-current[sink]\n",
    "    newsource = max(current[source] - available,0)\n",
    "    newsink = min(current[source] + current[sink],cap[sink])\n",
    "    new_current = current\n",
    "    new_current[source] = newsource\n",
    "    new_current[sink] = newsink\n",
    "    return tuple(new_current)"
   ]
  },
  {
   "cell_type": "code",
   "execution_count": 4,
   "id": "e9f494f0-8f8c-4ab6-b707-6293a5d22f67",
   "metadata": {},
   "outputs": [
    {
     "data": {
      "text/plain": [
       "(5, 4, 10)"
      ]
     },
     "execution_count": 4,
     "metadata": {},
     "output_type": "execute_result"
    }
   ],
   "source": [
    "transfer((4, 5, 10), 0, 1)"
   ]
  },
  {
   "cell_type": "code",
   "execution_count": 5,
   "id": "317ac029-91f8-4d47-998e-8d59910162a8",
   "metadata": {},
   "outputs": [],
   "source": [
    "def expand_state(state):\n",
    "    new_state=[]\n",
    "    for index, element in enumerate(state):\n",
    "        lista=list(state)\n",
    "        if element>0:\n",
    "            lista[index]=0\n",
    "            new_state.append(tuple(lista))\n",
    "    for index, element in enumerate(state):\n",
    "        lista=list(state)\n",
    "        if element<cap[index]:\n",
    "            lista[index]=cap[index]\n",
    "            new_state.append(tuple(lista))\n",
    "    for i1, element1 in enumerate(state):\n",
    "        for i2, element2 in enumerate(state):\n",
    "            if i1!=i2:\n",
    "                if transfer(state,i1,i2) not in new_state:\n",
    "                    new_state.append(transfer(state,i1,i2))\n",
    "    return tuple(new_state)"
   ]
  },
  {
   "cell_type": "code",
   "execution_count": 6,
   "id": "e0dd3911-2e10-4fab-857c-5cb481a678e7",
   "metadata": {},
   "outputs": [
    {
     "data": {
      "text/plain": [
       "((0, 0, 0), (5, 0, 0), (2, 8, 0), (2, 0, 10), (2, 0, 0), (0, 2, 0), (0, 0, 2))"
      ]
     },
     "execution_count": 6,
     "metadata": {},
     "output_type": "execute_result"
    }
   ],
   "source": [
    "expand_state((2, 0, 0))"
   ]
  },
  {
   "cell_type": "code",
   "execution_count": 35,
   "id": "6680ef64-0561-44b7-8b9c-6025adb7e460",
   "metadata": {},
   "outputs": [
    {
     "data": {
      "text/plain": [
       "((0, 8, 10), (5, 0, 10), (5, 8, 0), (5, 8, 10))"
      ]
     },
     "execution_count": 35,
     "metadata": {},
     "output_type": "execute_result"
    }
   ],
   "source": [
    "start=(5, 8, 10)\n",
    "expand_state(start)"
   ]
  },
  {
   "cell_type": "code",
   "execution_count": 36,
   "id": "260a19e0-5dea-4133-b3bc-6af26a45deb1",
   "metadata": {},
   "outputs": [],
   "source": [
    "def search(initial_state, goal_state, alg):\n",
    "    visited = {initial_state}\n",
    "    queue = deque([[initial_state]])\n",
    "    while queue:\n",
    "        vertex_list = queue.popleft()\n",
    "        state_to_expand = vertex_list[-1]\n",
    "        for next_state in expand_state(state_to_expand):\n",
    "            if next_state not in visited:\n",
    "                if next_state==goal_state:\n",
    "                    return vertex_list + [next_state]\n",
    "                visited.add(next_state)\n",
    "                if alg == 'dfs':\n",
    "                    queue.appendleft(vertex_list + [next_state])\n",
    "                elif alg == 'bfs':\n",
    "                    queue.append(vertex_list + [next_state])"
   ]
  },
  {
   "cell_type": "code",
   "execution_count": 39,
   "id": "8affe8bf-eef5-47a4-894b-87a0bdbebcf5",
   "metadata": {},
   "outputs": [
    {
     "data": {
      "text/plain": [
       "[(0, 0, 0),\n",
       " (0, 8, 0),\n",
       " (5, 3, 0),\n",
       " (0, 3, 0),\n",
       " (3, 0, 0),\n",
       " (3, 8, 0),\n",
       " (3, 0, 8),\n",
       " (1, 0, 10),\n",
       " (1, 0, 0)]"
      ]
     },
     "execution_count": 39,
     "metadata": {},
     "output_type": "execute_result"
    }
   ],
   "source": [
    "initial_state = (0, 0, 0)\n",
    "goal_state = (1, 0, 0)\n",
    "path = search(initial_state, goal_state,'bfs')\n",
    "path"
   ]
  },
  {
   "cell_type": "markdown",
   "id": "4af6564f-8a75-4e9f-b755-9a4d98628c2c",
   "metadata": {},
   "source": [
    "Дополнително, секој нов наточен литар се казнува со 1 поен (еквивалентно на 1 потег), а секој истурен литар се казнува со 3 поени (еквивалетно на 3 потези)."
   ]
  },
  {
   "cell_type": "code",
   "execution_count": 45,
   "id": "cd56c844-5ee5-4d11-8953-0680543992e4",
   "metadata": {},
   "outputs": [],
   "source": [
    "def expand_state(state):\n",
    "    new_state=[]\n",
    "    for index, element in enumerate(state):\n",
    "        lista=list(state)\n",
    "        if element>0:\n",
    "            lista[index]=0\n",
    "            new_state.append((3*state[index],tuple(lista)))\n",
    "    for index, element in enumerate(state):\n",
    "        lista=list(state)\n",
    "        if element<cap[index]:\n",
    "            lista[index]=cap[index]\n",
    "            new_state.append((cap[index]-state[index],tuple(lista)))\n",
    "    for i1, element1 in enumerate(state):\n",
    "        for i2, element2 in enumerate(state):\n",
    "            if i1!=i2:\n",
    "                if transfer(state,i1,i2) not in new_state:\n",
    "                    new_state.append((0,transfer(state,i1,i2)))\n",
    "    return tuple(new_state)"
   ]
  },
  {
   "cell_type": "code",
   "execution_count": 46,
   "id": "0248d916-a737-4980-b4d8-ff8ee8281fef",
   "metadata": {},
   "outputs": [
    {
     "data": {
      "text/plain": [
       "((6, (0, 0, 0)),\n",
       " (3, (5, 0, 0)),\n",
       " (8, (2, 8, 0)),\n",
       " (10, (2, 0, 10)),\n",
       " (0, (2, 0, 0)),\n",
       " (0, (2, 0, 0)),\n",
       " (0, (0, 2, 0)),\n",
       " (0, (2, 0, 0)),\n",
       " (0, (0, 0, 2)),\n",
       " (0, (2, 0, 0)))"
      ]
     },
     "execution_count": 46,
     "metadata": {},
     "output_type": "execute_result"
    }
   ],
   "source": [
    "expand_state((2, 0, 0))"
   ]
  },
  {
   "cell_type": "code",
   "execution_count": 54,
   "id": "6d4f5e5d-fa5a-479e-81f5-d6f6ef6f03cf",
   "metadata": {},
   "outputs": [],
   "source": [
    "import heapq\n",
    "def uniform_cost_search(starting_vertex, goal_vertex):\n",
    "    if starting_vertex == goal_vertex:\n",
    "        return []\n",
    "    expanded = set()\n",
    "    queue = [(0, [starting_vertex])]\n",
    "    heapq.heapify(queue)\n",
    "    while queue:\n",
    "        weight, vertex_list = heapq.heappop(queue) \n",
    "        vertex_to_expand = vertex_list[-1]\n",
    "        if vertex_to_expand == goal_vertex:\n",
    "            return weight, vertex_list\n",
    "        if vertex_to_expand not in expanded:\n",
    "            for new_weight, neighbour in expand_state(vertex_to_expand):\n",
    "                if neighbour not in expanded: \n",
    "                    heapq.heappush(queue, (weight + new_weight, vertex_list + [neighbour]))\n",
    "        expanded.add(vertex_to_expand)"
   ]
  },
  {
   "cell_type": "code",
   "execution_count": 55,
   "id": "68fa7a89-9608-4f83-b596-36d720dea7d8",
   "metadata": {},
   "outputs": [
    {
     "data": {
      "text/plain": [
       "(41,\n",
       " [(0, 0, 0),\n",
       "  (0, 0, 10),\n",
       "  (0, 8, 2),\n",
       "  (2, 8, 0),\n",
       "  (2, 0, 8),\n",
       "  (0, 2, 8),\n",
       "  (5, 2, 3),\n",
       "  (0, 7, 3),\n",
       "  (0, 8, 3),\n",
       "  (0, 1, 10),\n",
       "  (0, 1, 0),\n",
       "  (0, 0, 1),\n",
       "  (1, 0, 0)])"
      ]
     },
     "execution_count": 55,
     "metadata": {},
     "output_type": "execute_result"
    }
   ],
   "source": [
    "uniform_cost_search((0, 0, 0), (1, 0, 0))"
   ]
  },
  {
   "cell_type": "markdown",
   "id": "b0b864b1-1ec1-4895-8102-30d8dc6e24b3",
   "metadata": {
    "jp-MarkdownHeadingCollapsed": true,
    "tags": []
   },
   "source": [
    "# Поставување кралици на шаховска табла\n",
    "\n",
    "Распоредете N кралици на NxN шаховска табла така што кралиците нема да се напаѓаат."
   ]
  },
  {
   "cell_type": "code",
   "execution_count": 1,
   "id": "1085bd00-b568-4976-83f8-af59a73064c5",
   "metadata": {},
   "outputs": [],
   "source": [
    "from collections import deque\n",
    "import os"
   ]
  },
  {
   "cell_type": "code",
   "execution_count": 13,
   "id": "54399e51-422c-47a1-aa62-c6f314d6e85f",
   "metadata": {},
   "outputs": [],
   "source": [
    "N=4 #bilo koj broj sakame da e tablata\n",
    "g=(None,None,None,None,\n",
    "   'x', None, None, None,\n",
    "   None, 'x', None, 'x',\n",
    "   None, 'x', 'x', None)"
   ]
  },
  {
   "cell_type": "code",
   "execution_count": 16,
   "id": "c72d414b-da16-4ba5-af1f-da4ed0ddb198",
   "metadata": {},
   "outputs": [],
   "source": [
    "def valid(state,old_queen,new_queen):\n",
    "    index1,index2=old_queen\n",
    "    i,j=new_queen\n",
    "    states=list(state)\n",
    "    if states[index1][index2]!=None:\n",
    "        if states[i+1][j]!=None:\n",
    "            return False\n",
    "        if states[i][j+1]!=None:\n",
    "            return False\n",
    "        if states[i-1][j]!=None:\n",
    "            return False\n",
    "        if states[i][j-1]!=None:\n",
    "            return False\n",
    "        if states[i+1][j-1]!=None:\n",
    "            return False\n",
    "        if states[i+1][j+1]!=None:\n",
    "            return False\n",
    "        if states[i-1][j+1]!=None:\n",
    "            return False\n",
    "        if states[i-1][j-1]!=None:\n",
    "            return False\n",
    "        return True"
   ]
  },
  {
   "cell_type": "code",
   "execution_count": 19,
   "id": "f21fa4ba-8f0d-4442-a0ca-d8bb5f703b76",
   "metadata": {},
   "outputs": [
    {
     "ename": "TypeError",
     "evalue": "'NoneType' object is not subscriptable",
     "output_type": "error",
     "traceback": [
      "\u001b[0;31m---------------------------------------------------------------------------\u001b[0m",
      "\u001b[0;31mTypeError\u001b[0m                                 Traceback (most recent call last)",
      "Cell \u001b[0;32mIn[19], line 1\u001b[0m\n\u001b[0;32m----> 1\u001b[0m \u001b[43mvalid\u001b[49m\u001b[43m(\u001b[49m\u001b[43mg\u001b[49m\u001b[43m,\u001b[49m\u001b[43m(\u001b[49m\u001b[38;5;241;43m1\u001b[39;49m\u001b[43m,\u001b[49m\u001b[38;5;241;43m0\u001b[39;49m\u001b[43m)\u001b[49m\u001b[43m,\u001b[49m\u001b[43m(\u001b[49m\u001b[38;5;241;43m1\u001b[39;49m\u001b[43m,\u001b[49m\u001b[38;5;241;43m3\u001b[39;49m\u001b[43m)\u001b[49m\u001b[43m)\u001b[49m\n",
      "Cell \u001b[0;32mIn[16], line 5\u001b[0m, in \u001b[0;36mvalid\u001b[0;34m(state, old_queen, new_queen)\u001b[0m\n\u001b[1;32m      3\u001b[0m i,j\u001b[38;5;241m=\u001b[39mnew_queen\n\u001b[1;32m      4\u001b[0m states\u001b[38;5;241m=\u001b[39m\u001b[38;5;28mlist\u001b[39m(state)\n\u001b[0;32m----> 5\u001b[0m \u001b[38;5;28;01mif\u001b[39;00m \u001b[43mstates\u001b[49m\u001b[43m[\u001b[49m\u001b[43mindex1\u001b[49m\u001b[43m]\u001b[49m\u001b[43m[\u001b[49m\u001b[43mindex2\u001b[49m\u001b[43m]\u001b[49m\u001b[38;5;241m!=\u001b[39m\u001b[38;5;28;01mNone\u001b[39;00m:\n\u001b[1;32m      6\u001b[0m     \u001b[38;5;28;01mif\u001b[39;00m states[i\u001b[38;5;241m+\u001b[39m\u001b[38;5;241m1\u001b[39m][j]\u001b[38;5;241m!=\u001b[39m\u001b[38;5;28;01mNone\u001b[39;00m:\n\u001b[1;32m      7\u001b[0m         \u001b[38;5;28;01mreturn\u001b[39;00m \u001b[38;5;28;01mFalse\u001b[39;00m\n",
      "\u001b[0;31mTypeError\u001b[0m: 'NoneType' object is not subscriptable"
     ]
    }
   ],
   "source": [
    "valid(g,(1,0),(1,3))"
   ]
  },
  {
   "cell_type": "code",
   "execution_count": null,
   "id": "c6c98cfd-f841-462d-85e2-520bc9aa8a88",
   "metadata": {},
   "outputs": [],
   "source": [
    "def expand_state(state):\n",
    "    states=[]\n",
    "    available=state.count(None)\n",
    "    if available==0:\n",
    "        return []\n",
    "    for i in range(N):\n",
    "        for j in range(N):\n",
    "            if valid(state,i,j):\n",
    "                states[i][j]=\n",
    "            #kancer mi e zadachava"
   ]
  },
  {
   "cell_type": "markdown",
   "id": "65eb0d36-ced5-43aa-a912-f1994a8c6f1d",
   "metadata": {
    "jp-MarkdownHeadingCollapsed": true,
    "tags": []
   },
   "source": [
    "# Sudoku"
   ]
  },
  {
   "cell_type": "code",
   "execution_count": 26,
   "id": "f83f2231-931b-4024-b98b-13c5a0274562",
   "metadata": {},
   "outputs": [],
   "source": [
    "from collections import deque\n",
    "import os\n",
    "from pprint import pprint\n",
    "import math\n",
    "import copy"
   ]
  },
  {
   "cell_type": "code",
   "execution_count": 27,
   "id": "9a0a203b-6c52-4cc4-b03c-b257b825731a",
   "metadata": {},
   "outputs": [],
   "source": [
    "def valid(state, number, row, col):\n",
    "    if number in state[row]:\n",
    "        return False\n",
    "\n",
    "    for row in state:\n",
    "        if row[col]==number:\n",
    "            return False\n",
    "        \n",
    "    square_list = [\n",
    "        [[], [], []],\n",
    "        [[], [], []],\n",
    "        [[], [], []]\n",
    "    ]    \n",
    "    square_row = math.floor(row / 3)\n",
    "    square_col = math.floor(col / 3)    \n",
    "    for i in range(9):\n",
    "        for j in range(9):\n",
    "            square_i = math.floor(i / 3)\n",
    "            square_j = math.floor(j / 3)\n",
    "            square_list[square_i][square_j].append(state[i][j]) \n",
    "    if number in square_list[square_row][square_col]:\n",
    "        return False\n",
    "    \n",
    "    return True"
   ]
  },
  {
   "cell_type": "code",
   "execution_count": 13,
   "id": "48e71ef8-a69e-4d7f-b861-6d9aba9b3614",
   "metadata": {},
   "outputs": [],
   "source": [
    "state = (\n",
    "    (None, None, None, None, 5, 6, 7, 8, None),\n",
    "    (1, None, None, None, None, None, 3, None, None),\n",
    "    (2, 7, None, 3, None, None, None, None, None),\n",
    "    (3, None, None, None, None, None, 9, None, None),\n",
    "    (4, None, None, None, None, None, None, None, 2),\n",
    "    (None, None, 9, None, None, None, None, None, 3),\n",
    "    (None, None, None, None, None, 7, None, 5, 4),\n",
    "    (None, None, 2, None, None, None, None, None, 8),\n",
    "    (None, 4, 5, 6, 3, None, None, None, None)\n",
    ")"
   ]
  },
  {
   "cell_type": "code",
   "execution_count": 10,
   "id": "126090a7-aa2a-4f6d-82f8-70fa984d2ce6",
   "metadata": {},
   "outputs": [],
   "source": [
    "def expand_state(state):\n",
    "    states=list(state)\n",
    "    for i in range(9):\n",
    "        for j in range(9):\n",
    "            if state[i][j]!= None:\n",
    "                for number in range(10):\n",
    "                    if valid(state, number, i, j):\n",
    "                        states[i][j]=number\n",
    "    new_state.append(tuple(states))\n",
    "    return new_state"
   ]
  },
  {
   "cell_type": "code",
   "execution_count": 11,
   "id": "3f71f729-a0c0-495f-ba47-be931004997a",
   "metadata": {},
   "outputs": [],
   "source": [
    "def depth_first_search_find_path(starting_state):\n",
    "    visited = {starting_state}\n",
    "    queue = deque([[starting_state]])\n",
    "    while queue:\n",
    "        state_list = queue.popleft()\n",
    "        state_to_expand = state_list[-1]\n",
    "        for next_state in expand_state(state_to_expand):\n",
    "            if next_state not in visited:\n",
    "                zeros=0\n",
    "                for row in next_state:\n",
    "                    zeros += row.count(None)\n",
    "                if zeros == 0:\n",
    "                    return next_state\n",
    "                visited.add(next_state)\n",
    "                queue.appendleft(state_list + [next_state])\n",
    "    return []"
   ]
  },
  {
   "cell_type": "code",
   "execution_count": 3,
   "id": "7bb83e14-7934-4f73-b6a9-26b560b125b9",
   "metadata": {},
   "outputs": [],
   "source": [
    "from time import sleep\n",
    "from collections import deque\n",
    "from copy import deepcopy\n",
    "from plotly import graph_objects as go\n",
    "import ipywidgets as widgets\n",
    "from IPython.display import display"
   ]
  },
  {
   "cell_type": "code",
   "execution_count": 4,
   "id": "5147a65e-23c0-442a-aabf-bfdd12a64cb9",
   "metadata": {},
   "outputs": [],
   "source": [
    "class Game:\n",
    "    def __init__(self, player_1, player_2):\n",
    "        self.player_1 = {**player_1, 'symbol': 'x', 'role': 'MAX'}\n",
    "        self.player_2 = {**player_2, 'symbol': 'o', 'role': 'MIN'}\n",
    "        self.next_to_play = self.player_1\n",
    "        self.state = [['·', '·', '·'], ['·', '·', '·'], ['·', '·', '·']]\n",
    "        self.symbols_fig = {'x': 'x', 'o': 'circle', '·': 'circle-open'}\n",
    "        self.scores = {'x': 1, 'o': -1, 'draw': 0}\n",
    "        self.create_ui()\n",
    "        hbox = widgets.HBox([self.bt_reset, self.dashboard])\n",
    "        display(widgets.VBox([hbox, self.fig]))\n",
    "        self.reset()\n",
    "\n",
    "    def reset(self, *args):\n",
    "        self.next_to_play = self.player_1\n",
    "        self.update_score('На ред е', self.next_to_play)\n",
    "        self.state = [['·', '·', '·'], ['·', '·', '·'], ['·', '·', '·']]\n",
    "        self.fig.data[0].marker.symbol = self.convert_state_to_symbols()\n",
    "        self.evaluated = {}\n",
    "        self.winner = 'keep_playing'\n",
    "        self.initiate_turn()\n",
    "\n",
    "    def create_ui(self):\n",
    "        self.dashboard = widgets.HTML(description='Статус:', value='')\n",
    "        self.bt_reset = widgets.Button(description='Ресетирај')\n",
    "        self.bt_reset.on_click(self.reset)\n",
    "        self.fig = self.create_fig()\n",
    "\n",
    "    def create_fig(self):\n",
    "        N = 3\n",
    "        fig = go.FigureWidget()\n",
    "        x = [x for y in range(N) for x in range(N)]\n",
    "        y = [y for y in range(N) for x in range(N)]\n",
    "        symbols = [self.symbols_fig[v] for row in self.state for v in row]\n",
    "        fig.add_scatter(x=x, y=y, mode='markers', marker_size=48, \n",
    "                        marker_symbol=symbols, marker_color='LightSkyBlue',\n",
    "                        marker_line_width=6, marker_line_color='MediumPurple')\n",
    "        fig.data[0].on_click(self.human_move)\n",
    "        fig.update_xaxes(range=[-0.5, N - 0.5], dtick=1, title='x', side='top')\n",
    "        fig.update_yaxes(\n",
    "            range=[-0.5, N - 0.5], dtick=1, title='y', autorange='reversed')\n",
    "        fig.update_layout(width=600, height=600, showlegend=False)\n",
    "        return fig\n",
    "\n",
    "    def convert_state_to_symbols(self):\n",
    "        return [self.symbols_fig[v] for row in self.state for v in row]\n",
    "\n",
    "    def initiate_turn(self):\n",
    "        if 'human' not in [self.player_1['type'], self.player_2['type']]:\n",
    "            while self.winner == 'keep_playing':\n",
    "                self.ai_move()\n",
    "        elif self.next_to_play['type'] == 'AI':\n",
    "            self.ai_move()\n",
    "\n",
    "    def ai_move(self):\n",
    "        self.dashboard.value += ' -- пресметува'\n",
    "        state = tuple([tuple(row) for row in self.state])\n",
    "        result, move = self.minimax(state, self.next_to_play['role'])\n",
    "        sleep(1)\n",
    "        self.player_took_turn(*move)\n",
    "\n",
    "    def human_move(self, trace, points, selector):\n",
    "        x, y = points.xs[0], points.ys[0]\n",
    "        keep_playing = self.winner == 'keep_playing'\n",
    "        human_on_turn = self.next_to_play['type'] == 'human'\n",
    "        empty_place = self.state[y][x] == '·'\n",
    "        if keep_playing and human_on_turn and empty_place:\n",
    "            self.player_took_turn(x, y)\n",
    "            if self.next_to_play['type'] == 'AI':\n",
    "                self.ai_move()\n",
    "\n",
    "    def player_took_turn(self, x, y):\n",
    "        self.state[y][x] = self.next_to_play['symbol']\n",
    "        self.fig.data[0].marker.symbol = self.convert_state_to_symbols()\n",
    "        self.winner = self.check_victory(self.state)\n",
    "        if self.winner != 'keep_playing':\n",
    "            if self.winner == 'draw':\n",
    "                self.dashboard.value = 'Нерешено.'\n",
    "            else:\n",
    "                self.update_score('Победник е', self.next_to_play)\n",
    "            return\n",
    "        if self.next_to_play == self.player_2:\n",
    "            self.next_to_play = self.player_1\n",
    "        else:\n",
    "            self.next_to_play = self.player_2\n",
    "        self.update_score('На ред е', self.next_to_play)\n",
    "\n",
    "    def update_score(self, message, player):\n",
    "        player_data = ' - '.join(list(player.values())[:-1])\n",
    "        self.dashboard.value = f'{message} <b> {player_data} </b>.'\n",
    "\n",
    "    def minimax(self, node, player, alpha=-2, beta=2, depth=0):\n",
    "        if node not in self.evaluated:\n",
    "            self.evaluated[node] = self.check_victory(node)\n",
    "        if self.evaluated[node] != 'keep_playing':\n",
    "            return self.scores[self.evaluated[node]], None\n",
    "        best_value = 2 if player == 'MIN' else -2\n",
    "        best_move = None\n",
    "        for child, move in self.expand_state(node, player):\n",
    "            other_player = 'MIN' if player == 'MAX' else 'MAX'\n",
    "            result, _ = self.minimax(child, other_player, alpha, beta, depth+1)\n",
    "            if player == 'MIN':\n",
    "                if result <= alpha:\n",
    "                    return result, best_move\n",
    "                if result < beta:\n",
    "                    beta = result\n",
    "                if result < best_value:\n",
    "                    best_value = result\n",
    "                    best_move = move\n",
    "            elif player == 'MAX':\n",
    "                if result >= beta:\n",
    "                    return result, best_move\n",
    "                if result > alpha:\n",
    "                    alpha = result\n",
    "                if result > best_value:\n",
    "                    best_value = result\n",
    "                    best_move = move\n",
    "        return best_value, best_move"
   ]
  },
  {
   "cell_type": "markdown",
   "id": "46947056-3daa-4bb4-b093-e9e515f3e9cb",
   "metadata": {
    "jp-MarkdownHeadingCollapsed": true,
    "tags": []
   },
   "source": [
    "# Plochki"
   ]
  },
  {
   "cell_type": "code",
   "execution_count": 1,
   "id": "193b026b-3abe-425c-b79f-67ba0425db22",
   "metadata": {},
   "outputs": [],
   "source": [
    "from collections import deque\n",
    "from pprint import pprint"
   ]
  },
  {
   "cell_type": "code",
   "execution_count": 2,
   "id": "6a60ff1f-63df-4b3e-8927-fd3a9a4d332b",
   "metadata": {},
   "outputs": [],
   "source": [
    "state = ((0, 5, 3),\n",
    "         (7, 8, 4),\n",
    "         (2, 6, 1))\n",
    "\n",
    "goal_state = ((0, 1, 2),\n",
    "              (3, 4, 5),\n",
    "              (6, 7, 8))\n"
   ]
  },
  {
   "cell_type": "code",
   "execution_count": 6,
   "id": "3f4d0a40-6711-4020-ac94-abc42b97c189",
   "metadata": {},
   "outputs": [],
   "source": [
    "def move(state,currentp,zerop):\n",
    "    crow,ccol=currentp\n",
    "    zrow,zcol=zerop\n",
    "    states=[]\n",
    "    statet=[]\n",
    "    for row in state:\n",
    "        states.append(list(row))\n",
    "    states[zrow][zcol]=states[crow][ccol]\n",
    "    states[crow][ccol]=0\n",
    "    for row in states:\n",
    "        statet.append(tuple(row))\n",
    "    return tuple(statet)"
   ]
  },
  {
   "cell_type": "code",
   "execution_count": 7,
   "id": "50a89254-40ab-452c-86a8-517e3ca978a6",
   "metadata": {},
   "outputs": [
    {
     "data": {
      "text/plain": [
       "((6, 5, 3), (7, 8, 4), (2, 0, 1))"
      ]
     },
     "execution_count": 7,
     "metadata": {},
     "output_type": "execute_result"
    }
   ],
   "source": [
    "move(state,(2,1),(0,0))"
   ]
  },
  {
   "cell_type": "code",
   "execution_count": null,
   "id": "1dcdfdf4-c376-4022-9c2b-45a33d5b4c4a",
   "metadata": {},
   "outputs": [],
   "source": [
    "def expand_state(state):\n",
    "    states=[]\n",
    "    for indeks,row in enumerate(state):\n",
    "        if 0 in row\n",
    "        zerop=(indeks,row.index(0))\n",
    "        break\n",
    "    zrow,zcol=zerop\n",
    "    tile_indexes_to_move = [(zero_row+1, zero_col),\n",
    "                            (zero_row-1, zero_col),\n",
    "                            (zero_row, zero_col+1),\n",
    "                            (zero_row, zero_col-1)]    \n",
    "    for indexr, indexc in tile_indexes_to_move:\n",
    "        if (indexr<0 or indexr >=N or indexc<0 or indexc >=N):\n",
    "            continue\n",
    "        elif states.append((1,move(state,(indexr,indexc),zerop)\n",
    "    return states\n",
    "    "
   ]
  },
  {
   "cell_type": "code",
   "execution_count": null,
   "id": "3364e10e-1060-44e9-a275-d4ee5831916a",
   "metadata": {},
   "outputs": [],
   "source": [
    "def search(initial_state, alg):\n",
    "    visited = {initial_state}\n",
    "    queue = deque([[initial_state]])\n",
    "    c = 0\n",
    "    while queue:\n",
    "        c += 1\n",
    "        vertex_list = queue.popleft()\n",
    "        state_to_expand = vertex_list[-1]\n",
    "        for next_state in expand_state(state_to_expand):\n",
    "            if next_state not in visited:\n",
    "                if check_end(next_state):\n",
    "                    return vertex_list + [next_state], c\n",
    "                visited.add(next_state)\n",
    "                if alg == 'dfs':\n",
    "                    queue.appendleft(vertex_list + [next_state])\n",
    "                elif alg == 'bfs':\n",
    "                    queue.append(vertex_list + [next_state])"
   ]
  },
  {
   "cell_type": "markdown",
   "id": "20d95921-5acf-47c8-88b6-2c75bb351e4c",
   "metadata": {},
   "source": [
    "употреби сега А* алгоритам и како подобро работи и колку помалку јазли ќе разграни"
   ]
  },
  {
   "cell_type": "code",
   "execution_count": null,
   "id": "188b8a04-3b2c-4f44-a2fe-c3f0d7f1571b",
   "metadata": {},
   "outputs": [],
   "source": [
    "gp= {\n",
    "    0: (0, 0), 1: (0, 1), 2: (0, 2),\n",
    "    3: (1, 0), 4: (1, 1), 5: (1, 2),\n",
    "    6: (2, 0), 7: (2, 1), 8: (2, 2)\n",
    "}\n",
    "\n",
    "bgp= {\n",
    "    0: (0, 0), 1: (0, 1), 2: (0, 2), 3: (0, 3),\n",
    "    4: (1, 0), 5: (1, 1), 6: (1, 2), 7: (1, 3),\n",
    "    8: (2, 0), 9: (2, 1), 10: (2, 2), 11: (2, 3),\n",
    "    12: (3, 0), 13: (3, 1), 14: (3, 2), 15: (3, 3)\n",
    "}"
   ]
  },
  {
   "cell_type": "code",
   "execution_count": 13,
   "id": "12af7773-b139-4a14-a0a1-a01b974377b5",
   "metadata": {},
   "outputs": [],
   "source": [
    "import heapq"
   ]
  },
  {
   "cell_type": "code",
   "execution_count": 15,
   "id": "6163ee8f-2bf5-4168-a674-309c0e32c298",
   "metadata": {},
   "outputs": [],
   "source": [
    "def heuristics(state):\n",
    "    value = 0\n",
    "    for index_row, row in enumerate(state):\n",
    "        for index_col, col in enumerate(row):\n",
    "            value += manhattan_distance((index_row, index_col), col)\n",
    "    return value"
   ]
  },
  {
   "cell_type": "code",
   "execution_count": 16,
   "id": "d8b5b8a5-28bd-48a7-a036-0159e10177c0",
   "metadata": {},
   "outputs": [],
   "source": [
    "def manhattan_distance(state_1, n):\n",
    "    return abs(state_1[0] - bgp[n][0]) + abs(state_1[1] - bgp[n][1])"
   ]
  },
  {
   "cell_type": "code",
   "execution_count": null,
   "id": "2fa0df61-af61-4ae3-ae6c-ee75faa47a4d",
   "metadata": {},
   "outputs": [],
   "source": [
    "def a_star_search(graph, starting_vertex, goal_vertex, heuristic_function, alpha=1):\n",
    "    if starting_vertex == goal_vertex:\n",
    "        return []\n",
    "    expanded = set()\n",
    "    queue = [((0, 0), [starting_vertex])]\n",
    "    heapq.heapify(queue)\n",
    "    while queue:\n",
    "        weight_tuple, vertex_list = heapq.heappop(queue)\n",
    "        current_a_star_weight, current_path_weight = weight_tuple\n",
    "        vertex_to_expand = vertex_list[-1]\n",
    "        if vertex_to_expand == goal_vertex:\n",
    "            return current_path_weight, vertex_list\n",
    "        if vertex_to_expand not in expanded:\n",
    "            for neighbour, new_weight in graph.neighbours(vertex_to_expand):\n",
    "                if neighbour not in expanded:\n",
    "                    heuristic = heuristic_function(neighbour, goal_vertex)\n",
    "                    path_weight = current_path_weight + new_weight\n",
    "                    a_star_weight = path_weight + alpha * heuristic\n",
    "                    heapq.heappush(queue, ((a_star_weight, path_weight), vertex_list + [neighbour]))\n",
    "        expanded.add(vertex_to_expand)"
   ]
  },
  {
   "cell_type": "markdown",
   "id": "2f785990-4341-4af9-b484-577ee1c19e56",
   "metadata": {
    "tags": []
   },
   "source": [
    "# Preminuvanje reka\n",
    "Сточар, момче, девојче, куче, две верверички и две зајчиња треба да ја преминат реката.\n",
    "    * Ако сточарот не е присутен кучето ќе ги искаса сите присутни.\n",
    "    * Ако момчето не е присутно девојчето ќе ги закача зајчињата.\n",
    "    * Ако девојчето не е присутно момчето ќе ги закача верверичките.\n",
    "    * Само луѓето можат да веслаат\n",
    "    * Чамецот може да издржи највеќе двајца."
   ]
  },
  {
   "cell_type": "code",
   "execution_count": 1,
   "id": "4b5ba2e5-3773-454f-888f-464092eb01ec",
   "metadata": {},
   "outputs": [],
   "source": [
    "# state kje bide so indeksi:0=stochar 1=momche 2=devojche 3=kuche 4=prva ververica 5=vtora ververica 6=prv zajak 7=vtor zajak,8=chamecot e na drta strana od rekata\n",
    "#toa znaci lista so 9 promenlivi\n",
    "stocar,momce,devojce,kuce,prvaver,vtoraver,prvz,vtorz,camec=range(9)"
   ]
  },
  {
   "cell_type": "code",
   "execution_count": 2,
   "id": "6a951894-5ed3-4eef-9a05-f6570b176220",
   "metadata": {},
   "outputs": [],
   "source": [
    "def one_person_goes(state,indeks):\n",
    "    states=list(state)\n",
    "    states[8]=states[indeks]=1\n",
    "    return tuple(states)"
   ]
  },
  {
   "cell_type": "code",
   "execution_count": 3,
   "id": "cd60e4f8-98f5-4172-b1a4-e03242a617d4",
   "metadata": {},
   "outputs": [],
   "source": [
    "def two_person_goes(state,indeks1,indeks2):\n",
    "    states=list(state)\n",
    "    states[8]=states[indeks1]=states[indeks2]=1\n",
    "    return tuple(states)"
   ]
  },
  {
   "cell_type": "code",
   "execution_count": 4,
   "id": "ebe21f0c-c490-4c44-bbaa-68df7620b67d",
   "metadata": {},
   "outputs": [],
   "source": [
    "def one_person_comes(state,indeks):\n",
    "    states=list(state)\n",
    "    states[8]=states[indeks]=0\n",
    "    return tuple(states)"
   ]
  },
  {
   "cell_type": "code",
   "execution_count": 5,
   "id": "bb40a722-bf95-4d82-96dd-1c7b622afbb6",
   "metadata": {},
   "outputs": [],
   "source": [
    "def two_person_comes(state,indeks1,indeks2):\n",
    "    states=list(state)\n",
    "    states[8]=states[indeks1]=states[indeks2]=0\n",
    "    return tuple(states)"
   ]
  },
  {
   "cell_type": "code",
   "execution_count": 6,
   "id": "78aa72b2-1e29-4f3a-af01-ba5bb7b3b421",
   "metadata": {},
   "outputs": [],
   "source": [
    "def expand_state(state):\n",
    "    states=[]\n",
    "    if state[8] == 0:\n",
    "        if state[0] == 0 and state[3] == 0:  \n",
    "            states.append(two_person_goes(state,0,3))\n",
    "        for indeks in range(9):\n",
    "            if state[1] == 0 and state[3] != 0 and state[4] != 0 and state[5] != 0:\n",
    "                states.append(two_person_goes(state,1,indeks))\n",
    "            if state[2] == 0 and state[3] != 0 and state[7]!=0 and state[8]!=0:\n",
    "                states.append(two_person_goes(state,2,indeks))\n",
    "            if state[0]==0:\n",
    "                states.append(two_person_goes(state,0,indeks))\n",
    "        for indeks in [stocar,momce,devojce]:\n",
    "            if state[indeks]==0:\n",
    "                states.append(one_person_goes(state,indeks))\n",
    "    if state[8] == 1:\n",
    "        if state[0]==1 and state[3]==1:\n",
    "            states.append(two_person_comes(state,0,3))\n",
    "        for indeks in range(9):\n",
    "            if state[1]==1 and state[3]!=1 and state[4]!=1 and state[5]!=1:\n",
    "                states.append(two_person_comes(state,1,indeks))\n",
    "            if state[2]==1 and state[3]!=1 and state[7]!=1 and state[8]!=1:\n",
    "                states.append(two_person_comes(state,2,indeks))\n",
    "            if state[0]==1:\n",
    "                states.append(two_person_comes(state,0,indeks))\n",
    "        for indeks in [stocar,momce,devojce]:\n",
    "                if state[indeks]==1:\n",
    "                    states.append(one_person_comes(state,indeks))\n",
    "    return states"
   ]
  },
  {
   "cell_type": "code",
   "execution_count": 7,
   "id": "36155ad1-c95d-443b-88f4-73a9e5b123ad",
   "metadata": {},
   "outputs": [],
   "source": [
    "from collections import deque\n",
    "def breadth_first_search_find_path(starting_vertex, goal_vertex):\n",
    "    if starting_vertex == goal_vertex:\n",
    "        return []\n",
    "    visited = {starting_vertex} \n",
    "    queue = deque([[starting_vertex]]) \n",
    "    while queue:\n",
    "        vertex_list = queue.popleft() \n",
    "        vertex_to_expand = vertex_list[-1]\n",
    "        for neighbour in expand_state(vertex_to_expand):\n",
    "            if neighbour not in visited:\n",
    "                if neighbour == goal_vertex:\n",
    "                    return vertex_list + [neighbour]\n",
    "                visited.add(neighbour)\n",
    "                queue.append(vertex_list + [neighbour])"
   ]
  },
  {
   "cell_type": "code",
   "execution_count": 8,
   "id": "486691e7-d12d-42d7-b307-6b9c67c067da",
   "metadata": {},
   "outputs": [
    {
     "data": {
      "text/plain": [
       "[(0, 0, 0, 0, 0, 0, 0, 0, 0),\n",
       " (1, 0, 0, 1, 0, 0, 0, 0, 1),\n",
       " (0, 0, 0, 1, 0, 0, 0, 0, 0),\n",
       " (1, 1, 0, 1, 0, 0, 0, 0, 1),\n",
       " (0, 1, 0, 1, 0, 0, 0, 0, 0),\n",
       " (1, 1, 1, 1, 0, 0, 0, 0, 1),\n",
       " (0, 1, 1, 1, 0, 0, 0, 0, 0),\n",
       " (1, 1, 1, 1, 1, 0, 0, 0, 1),\n",
       " (0, 1, 1, 1, 1, 0, 0, 0, 0),\n",
       " (1, 1, 1, 1, 1, 1, 0, 0, 1),\n",
       " (0, 1, 1, 1, 1, 1, 0, 0, 0),\n",
       " (1, 1, 1, 1, 1, 1, 1, 0, 1),\n",
       " (0, 1, 1, 1, 1, 1, 1, 0, 0),\n",
       " (1, 1, 1, 1, 1, 1, 1, 1, 1)]"
      ]
     },
     "execution_count": 8,
     "metadata": {},
     "output_type": "execute_result"
    }
   ],
   "source": [
    "breadth_first_search_find_path((0,0,0,0,0,0,0,0,0), (1,1,1,1,1,1,1,1,1))"
   ]
  },
  {
   "cell_type": "markdown",
   "id": "fbbed941-3996-4bcc-a78e-76b38c772e39",
   "metadata": {
    "jp-MarkdownHeadingCollapsed": true,
    "tags": []
   },
   "source": [
    "# Најкратка патека за коњот во шахот\n",
    "Користејќи ја шаховската фигура коњ, најдете ја најкратката патека од едно до друго поле на шаховската табла.\n",
    "\"\"\"\n",
    "    Коњот се движи во Г форма, односно: или оди 2 полиња вертикално\n",
    "    (нагоре (+) и надолу(-)), а 1 поле хоризонтално (налево (-) и надесно(+)),\n",
    "    или обратно: 1 поле вертикално, а 2 полиња хоризонтално.\n",
    "    Елементите од листата `possible_moves` се торки чиј прв елемент ќе се\n",
    "    додаде на моменталниот ред каде се наоѓа коњот, а вториот елемент од\n",
    "    торката ќе се додаде на моменталната колона каде се наоѓа коњот.\n",
    "    Вака ќе симулираме придвижување на коњот по шаховската табла.\n",
    "    \"\"\""
   ]
  },
  {
   "cell_type": "code",
   "execution_count": 45,
   "id": "6aac139c-2a5c-499f-8409-6ef18dcc431f",
   "metadata": {},
   "outputs": [],
   "source": [
    "N=8"
   ]
  },
  {
   "cell_type": "code",
   "execution_count": 46,
   "id": "0d600a43-799e-418d-98a7-53547a67adea",
   "metadata": {},
   "outputs": [],
   "source": [
    "from collections import deque\n",
    "def expand_state(state):\n",
    "    i,j=state\n",
    "    states=[]\n",
    "    possible_moves = [(i-1, j-2), (i-1, j+2), (i+1, j-2), (i+1, j+2),\n",
    "                      (i-2, j-1), (i-2, j+1), (i+2, j-1), (i+2, j+1)]\n",
    "    for x,y in possible_moves:\n",
    "        if x>=0 and x<N and y>=0 and y<N:\n",
    "            states.append((x,y))\n",
    "    return states"
   ]
  },
  {
   "cell_type": "code",
   "execution_count": 47,
   "id": "c569b10e-01b3-4c78-9478-22b6a1a0d883",
   "metadata": {},
   "outputs": [],
   "source": [
    "def breadth_first_search_find_path(starting_vertex, goal_vertex):\n",
    "    if starting_vertex == goal_vertex:\n",
    "        return []\n",
    "    visited = {starting_vertex} \n",
    "    queue = deque([[starting_vertex]]) \n",
    "    while queue:\n",
    "        vertex_list = queue.popleft() \n",
    "        vertex_to_expand = vertex_list[-1]\n",
    "        for neighbour in expand_state(vertex_to_expand):\n",
    "            if neighbour not in visited:\n",
    "                if neighbour == goal_vertex:\n",
    "                    return vertex_list + [neighbour]\n",
    "                visited.add(neighbour)\n",
    "                queue.append(vertex_list + [neighbour])"
   ]
  },
  {
   "cell_type": "code",
   "execution_count": 48,
   "id": "5addda11-32ff-42d4-b092-11774f000c44",
   "metadata": {},
   "outputs": [
    {
     "data": {
      "text/plain": [
       "[(0, 0), (1, 2), (0, 4), (1, 6), (3, 7)]"
      ]
     },
     "execution_count": 48,
     "metadata": {},
     "output_type": "execute_result"
    }
   ],
   "source": [
    "breadth_first_search_find_path((0, 0), (3, 7))"
   ]
  },
  {
   "cell_type": "markdown",
   "id": "42d0623f-351c-4ff8-b02c-69d6aae8ee77",
   "metadata": {
    "tags": []
   },
   "source": [
    "# Distances in Mk\n",
    "Вчитајте ги податоците од **distances.txt**, создадете граф и употребете алгоритам за да ја најде најоптималната патека од еден до друг град.\n"
   ]
  },
  {
   "cell_type": "code",
   "execution_count": 3,
   "id": "3fe04031-d0ef-4ec8-9922-c2f2f89e6361",
   "metadata": {},
   "outputs": [],
   "source": [
    "class WeightedGraph:\n",
    "    def __init__(self):\n",
    "        self.graph_dict = {}\n",
    "    \n",
    "    def add_vertex(self, vertex):\n",
    "        if vertex not in self.graph_dict:\n",
    "            self.graph_dict[vertex] = {}\n",
    "    \n",
    "    def vertices(self):\n",
    "        return list(self.graph_dict.keys())\n",
    "    \n",
    "    def add_edge(self, edge, add_reversed=True):\n",
    "        vertex1, vertex2, weight = edge\n",
    "        self.graph_dict[vertex1][vertex2] = weight\n",
    "        if add_reversed:\n",
    "            self.graph_dict[vertex2][vertex1] = weight\n",
    "    \n",
    "    def edges(self):\n",
    "        edges = []\n",
    "        for vertex in self.graph_dict:\n",
    "            for neighbour, weight in self.graph_dict[vertex].items():\n",
    "                edges.append((vertex, neighbour, weight))\n",
    "        return edges\n",
    "    \n",
    "    def neighbours(self, vertex):\n",
    "        return list(self.graph_dict[vertex].items())"
   ]
  },
  {
   "cell_type": "code",
   "execution_count": 4,
   "id": "ac07db50-4919-44fe-a628-6a58342fd373",
   "metadata": {},
   "outputs": [],
   "source": [
    "info = open('data/distances.txt').read().strip()\n",
    "g= WeightedGraph()"
   ]
  },
  {
   "cell_type": "code",
   "execution_count": 5,
   "id": "ba395859-ed26-4b1a-85b6-3bb40592cf74",
   "metadata": {},
   "outputs": [],
   "source": [
    "for row in info.split('\\n'):\n",
    "    vertex1,vertex2,weight=row.split(' ')\n",
    "    g.add_vertex(vertex1)\n",
    "    g.add_vertex(vertex2)\n",
    "    g.add_edge(row.split(' '))"
   ]
  },
  {
   "cell_type": "code",
   "execution_count": 6,
   "id": "0bdb33f4-dc26-4f4c-8fb7-ad28221bbcc9",
   "metadata": {},
   "outputs": [
    {
     "data": {
      "text/plain": [
       "[('KU', 'SK', '39'),\n",
       " ('KU', 'KP', '61'),\n",
       " ('KU', 'KR', '51'),\n",
       " ('SK', 'KU', '39'),\n",
       " ('SK', 'TE', '44'),\n",
       " ('SK', 'VE', '55'),\n",
       " ('TE', 'SK', '44'),\n",
       " ('TE', 'GV', '24'),\n",
       " ('GV', 'TE', '24'),\n",
       " ('GV', 'KI', '46'),\n",
       " ('GV', 'DB', '68'),\n",
       " ('KI', 'GV', '46'),\n",
       " ('KI', 'OH', '61'),\n",
       " ('KI', 'KV', '62'),\n",
       " ('DB', 'GV', '68'),\n",
       " ('DB', 'SU', '52'),\n",
       " ('SU', 'DB', '52'),\n",
       " ('SU', 'OH', '15'),\n",
       " ('OH', 'KI', '61'),\n",
       " ('OH', 'SU', '15'),\n",
       " ('OH', 'RS', '35'),\n",
       " ('KV', 'KI', '62'),\n",
       " ('KV', 'PP', '32'),\n",
       " ('RS', 'OH', '35'),\n",
       " ('RS', 'BT', '30'),\n",
       " ('BT', 'RS', '30'),\n",
       " ('BT', 'PP', '47'),\n",
       " ('PP', 'KV', '32'),\n",
       " ('PP', 'BT', '47'),\n",
       " ('PP', 'NG', '61'),\n",
       " ('NG', 'PP', '61'),\n",
       " ('NG', 'VE', '41'),\n",
       " ('NG', 'GE', '64'),\n",
       " ('VE', 'SK', '55'),\n",
       " ('VE', 'NG', '41'),\n",
       " ('VE', 'ST', '51'),\n",
       " ('ST', 'VE', '51'),\n",
       " ('ST', 'KR', '52'),\n",
       " ('ST', 'KO', '32'),\n",
       " ('ST', 'RA', '29'),\n",
       " ('ST', 'BR', '54'),\n",
       " ('ST', 'VV', '22'),\n",
       " ('GE', 'NG', '64'),\n",
       " ('GE', 'DR', '34'),\n",
       " ('KP', 'KU', '61'),\n",
       " ('KP', 'KR', '32'),\n",
       " ('KR', 'KU', '51'),\n",
       " ('KR', 'KP', '32'),\n",
       " ('KR', 'ST', '52'),\n",
       " ('KO', 'ST', '32'),\n",
       " ('KO', 'BR', '52'),\n",
       " ('RA', 'ST', '29'),\n",
       " ('BR', 'KO', '52'),\n",
       " ('BR', 'ST', '54'),\n",
       " ('VV', 'ST', '22'),\n",
       " ('VV', 'DR', '24'),\n",
       " ('DR', 'VV', '24'),\n",
       " ('DR', 'GE', '34')]"
      ]
     },
     "execution_count": 6,
     "metadata": {},
     "output_type": "execute_result"
    }
   ],
   "source": [
    "g.edges()"
   ]
  },
  {
   "cell_type": "code",
   "execution_count": 7,
   "id": "7509fa9d-7e64-40f7-95e9-96f3a388dd77",
   "metadata": {},
   "outputs": [
    {
     "data": {
      "text/plain": [
       "[('KU', '39'), ('TE', '44'), ('VE', '55')]"
      ]
     },
     "execution_count": 7,
     "metadata": {},
     "output_type": "execute_result"
    }
   ],
   "source": [
    "g.neighbours('SK')"
   ]
  },
  {
   "cell_type": "code",
   "execution_count": 8,
   "id": "c0094f04-6e34-49ff-8ca0-6b3d05a82f01",
   "metadata": {},
   "outputs": [],
   "source": [
    "import heapq\n",
    "def uniform_cost_search(graph,starting_vertex, goal_vertex):\n",
    "    if starting_vertex == goal_vertex:\n",
    "        return []\n",
    "    expanded = set()\n",
    "    queue = [(0, [starting_vertex])]\n",
    "    heapq.heapify(queue)\n",
    "    while queue:\n",
    "        weight, vertex_list = heapq.heappop(queue) \n",
    "        vertex_to_expand = vertex_list[-1]\n",
    "        if vertex_to_expand == goal_vertex:\n",
    "            return weight, vertex_list\n",
    "        if vertex_to_expand not in expanded:\n",
    "            for neighbour, new_weight in g.neighbours(vertex_to_expand):\n",
    "                if neighbour not in expanded: \n",
    "                    heapq.heappush(queue, (weight + int(new_weight), vertex_list + [neighbour]))\n",
    "        expanded.add(vertex_to_expand)"
   ]
  },
  {
   "cell_type": "code",
   "execution_count": 9,
   "id": "0460eaa8-d54c-4b0f-a5bb-66bd940c4741",
   "metadata": {},
   "outputs": [
    {
     "data": {
      "text/plain": [
       "(204, ['GE', 'NG', 'VE', 'SK', 'TE'])"
      ]
     },
     "execution_count": 9,
     "metadata": {},
     "output_type": "execute_result"
    }
   ],
   "source": [
    "uniform_cost_search(g, 'GE', 'TE')"
   ]
  },
  {
   "cell_type": "markdown",
   "id": "e59842c1-e88b-40b0-b357-087247de1f01",
   "metadata": {
    "jp-MarkdownHeadingCollapsed": true,
    "tags": []
   },
   "source": [
    "# Chrossing a bridge\n",
    "Adam, Bob, Clair and Dave are out walking: They come to rickety old wooden bridge. The bridge is weak and only able to carry the weight of two of them at a time. Because they are in a rush and the light is fading they must cross in the minimum time possible and must carry a torch (flashlight,) on each crossing.\n",
    "\n",
    "They only have one torch and it can't be thrown. Because of their different fitness levels and some minor injuries they can all cross at different speeds. Adam can cross in 1 minute, Bob in 2 minutes, Clair in 5 minutes and Dave in 10 minutes.\n",
    "\n",
    "Adam, the brains of the group thinks for a moment and declares that the crossing can be completed in 17 minutes. There is no trick. How is this done?"
   ]
  },
  {
   "cell_type": "code",
   "execution_count": 80,
   "id": "4ee2c066-0eca-48a8-ae78-a3e55832936d",
   "metadata": {},
   "outputs": [],
   "source": [
    "#adam,bob clar i dave kje se indeks 0-3 a torchot kje e 4\n",
    "#mozhe da projdat max 2ca, ama torchot mora da e vo raka pri sekoe pominuvanje\n",
    "minutes=(1,2,5,10)"
   ]
  },
  {
   "cell_type": "code",
   "execution_count": 94,
   "id": "10a9b4aa-b5aa-4011-81ce-56d490f124f2",
   "metadata": {},
   "outputs": [],
   "source": [
    "def cross(state,index,number):\n",
    "    new_state=list(state)\n",
    "    if state[4]==0:\n",
    "        if number==1:\n",
    "            new_state[index]=new_state[4]=1\n",
    "            return minutes[index],tuple(new_state)\n",
    "        if number==2:\n",
    "            new_state[index[0]]=new_state[index[1]]=new_state[4]=1\n",
    "            return max(minutes[index[0]],minutes[index[1]]),tuple(new_state)"
   ]
  },
  {
   "cell_type": "code",
   "execution_count": 95,
   "id": "f81883b0-2b4f-4a9a-be25-e4ffe5c28ff1",
   "metadata": {},
   "outputs": [],
   "source": [
    "def back(state,index,number):\n",
    "    new_state=list(state)\n",
    "    if state[4]==1:\n",
    "        if number==1:\n",
    "            new_state[index]=new_state[4]=0\n",
    "            return minutes[index],tuple(new_state)\n",
    "        if number==2:\n",
    "            new_state[index[0]]=new_state[index[1]]=new_state[4]=0\n",
    "            return max(minutes[index[0]],minutes[index[1]]),tuple(new_state)"
   ]
  },
  {
   "cell_type": "code",
   "execution_count": 106,
   "id": "5be9f12d-0f94-48e7-ac14-c6e22cf8e856",
   "metadata": {},
   "outputs": [],
   "source": [
    "def expand_state(state):\n",
    "    states=[]\n",
    "    if state[4] == 0:\n",
    "        for index1 in range(4):\n",
    "            if state[index1]==0:\n",
    "                states.append(cross(state,index1,1))\n",
    "        for index1 in range(4):\n",
    "            for index2 in range(4):\n",
    "                if index1!=index2 and state[index1]==state[index2]==0: \n",
    "                    states.append(cross(state,[index1,index2],2))          \n",
    "    if state[4] == 1:\n",
    "        for index1 in range(4):\n",
    "            if state[index1]==1:\n",
    "                states.append(back(state,index1,1))\n",
    "        for index1 in range(4):\n",
    "            for index2 in range(4):\n",
    "                if index1!=index2 and state[index1]==state[index2]==1: \n",
    "                    states.append(back(state,[index1,index2],2))                          \n",
    "    return tuple(states)   "
   ]
  },
  {
   "cell_type": "code",
   "execution_count": 107,
   "id": "84ac17b6-3a2a-4faf-90b3-b856c0bc3920",
   "metadata": {},
   "outputs": [
    {
     "data": {
      "text/plain": [
       "((1, (1, 0, 0, 0, 1)),\n",
       " (2, (0, 1, 0, 0, 1)),\n",
       " (5, (0, 0, 1, 0, 1)),\n",
       " (10, (0, 0, 0, 1, 1)),\n",
       " (2, (1, 1, 0, 0, 1)),\n",
       " (5, (1, 0, 1, 0, 1)),\n",
       " (10, (1, 0, 0, 1, 1)),\n",
       " (2, (1, 1, 0, 0, 1)),\n",
       " (5, (0, 1, 1, 0, 1)),\n",
       " (10, (0, 1, 0, 1, 1)),\n",
       " (5, (1, 0, 1, 0, 1)),\n",
       " (5, (0, 1, 1, 0, 1)),\n",
       " (10, (0, 0, 1, 1, 1)),\n",
       " (10, (1, 0, 0, 1, 1)),\n",
       " (10, (0, 1, 0, 1, 1)),\n",
       " (10, (0, 0, 1, 1, 1)))"
      ]
     },
     "execution_count": 107,
     "metadata": {},
     "output_type": "execute_result"
    }
   ],
   "source": [
    "expand_state((0, 0, 0, 0, 0))"
   ]
  },
  {
   "cell_type": "code",
   "execution_count": 108,
   "id": "bdbcdc15-f59e-4ed3-9387-3de7a44cbbbb",
   "metadata": {},
   "outputs": [],
   "source": [
    "import heapq"
   ]
  },
  {
   "cell_type": "code",
   "execution_count": 109,
   "id": "1a2574a1-37e4-4403-9434-baf3067c2b5d",
   "metadata": {},
   "outputs": [],
   "source": [
    "def uniform_cost_search(starting_vertex,goal_vertex):\n",
    "    if starting_vertex == goal_vertex:\n",
    "        return []\n",
    "    expanded = set()\n",
    "    queue = [(0, [starting_vertex])]\n",
    "    heapq.heapify(queue)\n",
    "    while queue:\n",
    "        weight, vertex_list = heapq.heappop(queue) \n",
    "        vertex_to_expand = vertex_list[-1]\n",
    "        if vertex_to_expand == goal_vertex:\n",
    "            return weight, vertex_list\n",
    "        if vertex_to_expand not in expanded:\n",
    "            for new_weight, neighbour in expand_state(vertex_to_expand):\n",
    "                if neighbour not in expanded: \n",
    "                    heapq.heappush(queue, (weight + new_weight, vertex_list + [neighbour]))\n",
    "        expanded.add(vertex_to_expand)"
   ]
  },
  {
   "cell_type": "code",
   "execution_count": 110,
   "id": "f34d7451-e450-48ed-b932-8f30dd87fe16",
   "metadata": {},
   "outputs": [
    {
     "data": {
      "text/plain": [
       "(17,\n",
       " [(0, 0, 0, 0, 0),\n",
       "  (1, 1, 0, 0, 1),\n",
       "  (0, 1, 0, 0, 0),\n",
       "  (0, 1, 1, 1, 1),\n",
       "  (0, 0, 1, 1, 0),\n",
       "  (1, 1, 1, 1, 1)])"
      ]
     },
     "execution_count": 110,
     "metadata": {},
     "output_type": "execute_result"
    }
   ],
   "source": [
    "uniform_cost_search((0, 0, 0, 0, 0), (1, 1, 1, 1, 1))"
   ]
  },
  {
   "cell_type": "markdown",
   "id": "d9e40e19-221e-4910-92b7-3b2258eafff2",
   "metadata": {
    "jp-MarkdownHeadingCollapsed": true,
    "tags": []
   },
   "source": [
    "# Pivara\n",
    "Разгледуваме фабрика за производство на пиво. За пакување на пивото во шишиња се користат рециклирани шишиња кои во фабриката пристигаат во гајби. Следат постапките:\n",
    "\n",
    "1. Сите шишиња се ставаат врз платформата.\n",
    "    - Платформата собира 15х15 шишиња.\n",
    "    - За поедноставни пресметки за време на испитот, ќе сметаме дека платформата собира 7х7 шишиња.\n",
    "2. Софтвер за препознавање ги скенира сите шишиња од платформата, и во себе забележува по еден код за секое шише:\n",
    "    - (0) - Празно место, нема шише.\n",
    "    - (1) - Скршено шише.\n",
    "    - (2) - Шише во добра состојба, од нашата пивара.\n",
    "    - (3) - Шише од друга пивара.\n",
    "3. Роботот ги избира соодветните шишиња (со код 2) и ги префрла на подвижната лента за понатаму.\n",
    "    - Роботот наеднаш може да земе 10 шишиња, бидејќи има 10 дланки (5 х 2).\n",
    "    - За поедноставни пресметки за време на испитот, ќе сметаме дека роботот има 6 дланки (3 х 2), па роботот може наеднаш да земе најмногу 6 шишиња од платформата.\n",
    "    - Роботот може да ротира за 90 степени.\n",
    "\n",
    "Ваша задача е да напишете код со алгоритмите од вештачка интелигенција за чекорот 3. Целта е роботот во минимален број придвижувања да ги издвои соодветните шишиња (со код 2).\n",
    "### Важно при решавањето\n",
    "- Дефинираме состојбата да биде матрица 7х7 (торка од торки), како што е дефинирана променливата `g` подолу.\n",
    "- За роботот сите придвижувања имаат еднаква тежина во пребарување.\n",
    "    - Едно придвижување се дефинира како:\n",
    "        - Чекор 1 - поместување\n",
    "        - Чекор 2 - кревање шишиња\n",
    "        - Чекор 3 - повторно поместување\n",
    "        - Чекор 4 - ставање на шишињата во гајбата\n",
    "\n",
    "\n",
    "**Нотација**\n",
    "- ППШ = Пребарување Прво по Широчина\n",
    "- ППД = Пребарување Прво по Длабочина\n"
   ]
  },
  {
   "cell_type": "code",
   "execution_count": 1,
   "id": "c2a56fab-7d1f-4683-a98f-ff76d93bb44b",
   "metadata": {},
   "outputs": [],
   "source": [
    "g  = (\n",
    "    (0, 3, 2, 0, 2, 2, 2),\n",
    "    (2, 1, 2, 2, 2, 3, 2),\n",
    "    (2, 2, 0, 2, 2, 2, 2),\n",
    "    (0, 2, 2, 2, 2, 2, 0),\n",
    "    (2, 2, 3, 2, 2, 2, 2),\n",
    "    (2, 2, 1, 2, 2, 2, 2),\n",
    "    (0, 3, 0, 2, 2, 2, 2)\n",
    ")"
   ]
  },
  {
   "cell_type": "markdown",
   "id": "a3767d65-1c71-43ce-b663-e5779c56a731",
   "metadata": {},
   "source": [
    "се избират шишињата со код 2\n",
    "0 = празно место\n",
    "3х2 област на земање шишиња или 2х3\n",
    "роботот да ги издвои шишињата со код 2 во најмалку чекори\n",
    "1 чекор е да се претвори матрицата од 2 во 0"
   ]
  },
  {
   "cell_type": "code",
   "execution_count": 2,
   "id": "03dd589a-bd9d-4eee-b4a5-4e3c63137cff",
   "metadata": {},
   "outputs": [],
   "source": [
    "def goal_state(state):\n",
    "    \n",
    "    state_list = []\n",
    "    for row in state:\n",
    "        state_list.append(list(row))\n",
    "        \n",
    "    for row_index, row in enumerate(state_list):\n",
    "        for col_index, element in enumerate(row):\n",
    "            if element == 2:\n",
    "                state_list[row_index][col_index] = 0\n",
    "                \n",
    "    state_tuple = []\n",
    "    for row in state_list:\n",
    "        state_tuple.append(tuple(row))\n",
    "        \n",
    "    return tuple(state_tuple)"
   ]
  },
  {
   "cell_type": "code",
   "execution_count": 3,
   "id": "400cab75-8927-4bf6-822e-0ab16bd81fb9",
   "metadata": {},
   "outputs": [],
   "source": [
    "def valid(state):\n",
    "    if state[0]>=0 and state[0]<N and state[1]>=0 and state[1]<N:\n",
    "        return True\n",
    "    else: return False"
   ]
  },
  {
   "cell_type": "code",
   "execution_count": 4,
   "id": "6e966742-a167-400d-b41e-c122a80882f8",
   "metadata": {},
   "outputs": [],
   "source": [
    "def bottle(state,grid,position):\n",
    "    gridrow,gridcol=grid\n",
    "    posrow,poscol=position\n",
    "    states=[]\n",
    "    for row in state:\n",
    "        states.append(list(row))\n",
    "    for i in range(gridrow):\n",
    "        for j in range(gridcol):\n",
    "            if valid(states[posrow+i][poscol+j]):\n",
    "                if states[posrow+1][poscol+1]==2:\n",
    "                    states[posrow+1][poscol+1]==0\n",
    "    state=[]\n",
    "    for row in states:\n",
    "        state.append(tuple(row))        \n",
    "    return state"
   ]
  },
  {
   "cell_type": "code",
   "execution_count": 5,
   "id": "723b80fd-3226-4258-b413-c92a3d3b3bdb",
   "metadata": {},
   "outputs": [],
   "source": [
    "def expand_state(state,grid):\n",
    "    states=[]\n",
    "    grid=(2,3)\n",
    "    for row in range(-1,7):\n",
    "        for col in range(-2,7):\n",
    "            if valid(state[row][col]):\n",
    "                if bottle(state,grid,(row,col)) not in states:\n",
    "                    states.append(bottle(state,grid,(i,j)))\n",
    "    grid=(2,3)\n",
    "    for row in range(-2,7):\n",
    "        for col in range(-1,7):\n",
    "            if valid(state[row][col]):\n",
    "                if bottle(state,grid,(row,col)) not in states:\n",
    "                    states.append(bottle(state,grid,(i,j)))\n",
    "    return states"
   ]
  },
  {
   "cell_type": "code",
   "execution_count": 6,
   "id": "0c69391f-abfd-4c9f-9d00-43f334338fdf",
   "metadata": {},
   "outputs": [],
   "source": [
    "from queue import deque\n",
    "def depth_first_search_find_path(starting_vertex,grid,goal_vertex):\n",
    "    if starting_vertex == goal_vertex:\n",
    "        return []\n",
    "    visited = {starting_vertex}\n",
    "    queue = deque([[starting_vertex]])\n",
    "    while queue:\n",
    "        vertex_list = queue.popleft()\n",
    "        vertex_to_expand = vertex_list[-1]\n",
    "        for neighbour in expand_state(vertex_to_expand,grid): \n",
    "            if neighbour not in visited:\n",
    "                if neighbour == goal_vertex:\n",
    "                    return vertex_list + [neighbour]\n",
    "                visited.add(neighbour)\n",
    "                queue.appendleft(vertex_list + [neighbour])"
   ]
  },
  {
   "cell_type": "code",
   "execution_count": 7,
   "id": "9e86ec0d-f186-4041-b65c-0268a40e152f",
   "metadata": {},
   "outputs": [
    {
     "ename": "TypeError",
     "evalue": "'int' object is not subscriptable",
     "output_type": "error",
     "traceback": [
      "\u001b[0;31m---------------------------------------------------------------------------\u001b[0m",
      "\u001b[0;31mTypeError\u001b[0m                                 Traceback (most recent call last)",
      "Cell \u001b[0;32mIn[7], line 2\u001b[0m\n\u001b[1;32m      1\u001b[0m goal_vertex\u001b[38;5;241m=\u001b[39mgoal_state(g)\n\u001b[0;32m----> 2\u001b[0m \u001b[43mdepth_first_search_find_path\u001b[49m\u001b[43m(\u001b[49m\u001b[43mg\u001b[49m\u001b[43m,\u001b[49m\u001b[43m(\u001b[49m\u001b[38;5;241;43m3\u001b[39;49m\u001b[43m,\u001b[49m\u001b[38;5;241;43m2\u001b[39;49m\u001b[43m)\u001b[49m\u001b[43m,\u001b[49m\u001b[43mgoal_vertex\u001b[49m\u001b[43m)\u001b[49m\n",
      "Cell \u001b[0;32mIn[6], line 10\u001b[0m, in \u001b[0;36mdepth_first_search_find_path\u001b[0;34m(starting_vertex, grid, goal_vertex)\u001b[0m\n\u001b[1;32m      8\u001b[0m vertex_list \u001b[38;5;241m=\u001b[39m queue\u001b[38;5;241m.\u001b[39mpopleft()\n\u001b[1;32m      9\u001b[0m vertex_to_expand \u001b[38;5;241m=\u001b[39m vertex_list[\u001b[38;5;241m-\u001b[39m\u001b[38;5;241m1\u001b[39m]\n\u001b[0;32m---> 10\u001b[0m \u001b[38;5;28;01mfor\u001b[39;00m neighbour \u001b[38;5;129;01min\u001b[39;00m \u001b[43mexpand_state\u001b[49m\u001b[43m(\u001b[49m\u001b[43mvertex_to_expand\u001b[49m\u001b[43m,\u001b[49m\u001b[43mgrid\u001b[49m\u001b[43m)\u001b[49m: \n\u001b[1;32m     11\u001b[0m     \u001b[38;5;28;01mif\u001b[39;00m neighbour \u001b[38;5;129;01mnot\u001b[39;00m \u001b[38;5;129;01min\u001b[39;00m visited:\n\u001b[1;32m     12\u001b[0m         \u001b[38;5;28;01mif\u001b[39;00m neighbour \u001b[38;5;241m==\u001b[39m goal_vertex:\n",
      "Cell \u001b[0;32mIn[5], line 6\u001b[0m, in \u001b[0;36mexpand_state\u001b[0;34m(state, grid)\u001b[0m\n\u001b[1;32m      4\u001b[0m \u001b[38;5;28;01mfor\u001b[39;00m row \u001b[38;5;129;01min\u001b[39;00m \u001b[38;5;28mrange\u001b[39m(\u001b[38;5;241m-\u001b[39m\u001b[38;5;241m1\u001b[39m,\u001b[38;5;241m7\u001b[39m):\n\u001b[1;32m      5\u001b[0m     \u001b[38;5;28;01mfor\u001b[39;00m col \u001b[38;5;129;01min\u001b[39;00m \u001b[38;5;28mrange\u001b[39m(\u001b[38;5;241m-\u001b[39m\u001b[38;5;241m2\u001b[39m,\u001b[38;5;241m7\u001b[39m):\n\u001b[0;32m----> 6\u001b[0m         \u001b[38;5;28;01mif\u001b[39;00m \u001b[43mvalid\u001b[49m\u001b[43m(\u001b[49m\u001b[43mstate\u001b[49m\u001b[43m[\u001b[49m\u001b[43mrow\u001b[49m\u001b[43m]\u001b[49m\u001b[43m[\u001b[49m\u001b[43mcol\u001b[49m\u001b[43m]\u001b[49m\u001b[43m)\u001b[49m:\n\u001b[1;32m      7\u001b[0m             \u001b[38;5;28;01mif\u001b[39;00m bottle(state,grid,(row,col)) \u001b[38;5;129;01mnot\u001b[39;00m \u001b[38;5;129;01min\u001b[39;00m states:\n\u001b[1;32m      8\u001b[0m                 states\u001b[38;5;241m.\u001b[39mappend(bottle(state,grid,(i,j)))\n",
      "Cell \u001b[0;32mIn[3], line 2\u001b[0m, in \u001b[0;36mvalid\u001b[0;34m(state)\u001b[0m\n\u001b[1;32m      1\u001b[0m \u001b[38;5;28;01mdef\u001b[39;00m \u001b[38;5;21mvalid\u001b[39m(state):\n\u001b[0;32m----> 2\u001b[0m     \u001b[38;5;28;01mif\u001b[39;00m \u001b[43mstate\u001b[49m\u001b[43m[\u001b[49m\u001b[38;5;241;43m0\u001b[39;49m\u001b[43m]\u001b[49m\u001b[38;5;241m>\u001b[39m\u001b[38;5;241m=\u001b[39m\u001b[38;5;241m0\u001b[39m \u001b[38;5;129;01mand\u001b[39;00m state[\u001b[38;5;241m0\u001b[39m]\u001b[38;5;241m<\u001b[39mN \u001b[38;5;129;01mand\u001b[39;00m state[\u001b[38;5;241m1\u001b[39m]\u001b[38;5;241m>\u001b[39m\u001b[38;5;241m=\u001b[39m\u001b[38;5;241m0\u001b[39m \u001b[38;5;129;01mand\u001b[39;00m state[\u001b[38;5;241m1\u001b[39m]\u001b[38;5;241m<\u001b[39mN:\n\u001b[1;32m      3\u001b[0m         \u001b[38;5;28;01mreturn\u001b[39;00m \u001b[38;5;28;01mTrue\u001b[39;00m\n\u001b[1;32m      4\u001b[0m     \u001b[38;5;28;01melse\u001b[39;00m: \u001b[38;5;28;01mreturn\u001b[39;00m \u001b[38;5;28;01mFalse\u001b[39;00m\n",
      "\u001b[0;31mTypeError\u001b[0m: 'int' object is not subscriptable"
     ]
    }
   ],
   "source": [
    "goal_vertex=goal_state(g)\n",
    "depth_first_search_find_path(g,(3,2),goal_vertex)"
   ]
  },
  {
   "cell_type": "markdown",
   "id": "ee77b0fb-9d47-44ec-9db2-72281a5f624a",
   "metadata": {},
   "source": [
    "b)sekoj poteg e tezhina 1"
   ]
  },
  {
   "cell_type": "code",
   "execution_count": 12,
   "id": "ecfd7e9a-348d-4ae2-b792-da496bafb184",
   "metadata": {},
   "outputs": [],
   "source": [
    "def expand_state(state,grid):\n",
    "    states=[]\n",
    "    grid=(2,3)\n",
    "    for row in range(-1,7):\n",
    "        for col in range(-2,7):\n",
    "            if valid(state[row][col]):\n",
    "                if bottle(state,grid,(row,col)) not in states:\n",
    "                    states.append((1,bottle(state,grid,(i,j))))\n",
    "    grid=(2,3)\n",
    "    for row in range(-2,7):\n",
    "        for col in range(-1,7):\n",
    "            if valid(state[row][col]):\n",
    "                if bottle(state,grid,(row,col)) not in states:\n",
    "                    states.append((1,bottle(state,grid,(i,j))))\n",
    "    return states"
   ]
  },
  {
   "cell_type": "code",
   "execution_count": 13,
   "id": "0612c992-48a4-4bad-a2d0-7e6222913637",
   "metadata": {},
   "outputs": [],
   "source": [
    "import heapq\n",
    "def uniform_cost_search(starting_vertex, grid, goal_vertex):\n",
    "    if starting_vertex == goal_vertex:\n",
    "        return []\n",
    "    expanded = set()\n",
    "    queue = [(0, [starting_vertex])]\n",
    "    heapq.heapify(queue)\n",
    "    while queue:\n",
    "        weight, vertex_list = heapq.heappop(queue) \n",
    "        vertex_to_expand = vertex_list[-1]\n",
    "        if vertex_to_expand == goal_vertex:\n",
    "            return weight, vertex_list\n",
    "        if vertex_to_expand not in expanded:\n",
    "            for new_weight, neighbour in expand_state(vertex_to_expand):\n",
    "                if neighbour not in expanded: \n",
    "                    heapq.heappush(queue, (weight + new_weight, vertex_list + [neighbour]))\n",
    "        expanded.add(vertex_to_expand)"
   ]
  },
  {
   "cell_type": "markdown",
   "id": "ca7c5017-8201-4b3f-b6e9-0636cd3e6ee1",
   "metadata": {},
   "source": [
    "v) A* i napravi evristika shto ima smisla"
   ]
  },
  {
   "cell_type": "code",
   "execution_count": 14,
   "id": "1217208d-cd7d-4387-9258-1a31bb6e1a0b",
   "metadata": {},
   "outputs": [],
   "source": [
    "import math\n",
    "def heuristic(state):\n",
    "    twos=0\n",
    "    for row in state:\n",
    "        twos+=row.count(2)\n",
    "    return math.ceil(twos/6)"
   ]
  },
  {
   "cell_type": "code",
   "execution_count": 15,
   "id": "505e7ecc-83ea-4ad3-9bfa-b41bc301a982",
   "metadata": {},
   "outputs": [],
   "source": [
    "def a_star_search(starting_vertex, goal_vertex,alpha=1):\n",
    "    if starting_vertex == goal_vertex:\n",
    "        return []\n",
    "    expanded = set()\n",
    "    queue = [((0, 0), [starting_vertex])]\n",
    "    heapq.heapify(queue)\n",
    "    while queue:\n",
    "        weight_tuple, vertex_list = heapq.heappop(queue)\n",
    "        current_a_star_weight, current_path_weight = weight_tuple\n",
    "        vertex_to_expand = vertex_list[-1]\n",
    "        if vertex_to_expand == goal_vertex:\n",
    "            return current_path_weight, vertex_list\n",
    "        if vertex_to_expand not in expanded:\n",
    "            for neighbour, new_weight in expand_state(vertex_to_expand):\n",
    "                if neighbour not in expanded:\n",
    "                    heuristich = heuristic(neighbour)\n",
    "                    path_weight = current_path_weight + new_weight\n",
    "                    a_star_weight = path_weight + alpha * heuristich\n",
    "                    heapq.heappush(queue, ((a_star_weight, path_weight), vertex_list + [neighbour]))\n",
    "        expanded.add(vertex_to_expand)"
   ]
  },
  {
   "cell_type": "markdown",
   "id": "397b618d-9700-48d4-98be-63a09abee55e",
   "metadata": {
    "tags": []
   },
   "source": [
    "# Tezhinski grafik i A*"
   ]
  },
  {
   "cell_type": "markdown",
   "id": "739ab4e0-0491-4fd7-b8bb-f1bf5e7650bf",
   "metadata": {},
   "source": [
    "![](images/A_star.png)"
   ]
  },
  {
   "cell_type": "code",
   "execution_count": 116,
   "id": "713d3b16-6c54-462f-8e8f-5af4ca540e4a",
   "metadata": {},
   "outputs": [],
   "source": [
    "class WeightedGraph:\n",
    "    def __init__(self):\n",
    "        self.graph_dict = {}\n",
    "    \n",
    "    def add_vertex(self, vertex):\n",
    "        if vertex not in self.graph_dict:\n",
    "            self.graph_dict[vertex] = {}\n",
    "    \n",
    "    def vertices(self):\n",
    "        return list(self.graph_dict.keys())\n",
    "    \n",
    "    def add_edge(self, edge, add_reversed=True):\n",
    "        vertex1, vertex2, weight = edge\n",
    "        self.graph_dict[vertex1][vertex2] = weight\n",
    "        if add_reversed:\n",
    "            self.graph_dict[vertex2][vertex1] = weight\n",
    "    \n",
    "    def edges(self):\n",
    "        edges = []\n",
    "        for vertex in self.graph_dict:\n",
    "            for neighbour, weight in self.graph_dict[vertex].items():\n",
    "                edges.append((vertex, neighbour, weight))\n",
    "        return edges\n",
    "    \n",
    "    def neighbours(self, vertex):\n",
    "        return list(self.graph_dict[vertex].items())"
   ]
  },
  {
   "cell_type": "code",
   "execution_count": 117,
   "id": "f6b9bb9f-cbe3-4310-beac-9ee609d789a7",
   "metadata": {},
   "outputs": [],
   "source": [
    "g=WeightedGraph()\n",
    "g.add_vertex('A')\n",
    "g.add_vertex('B')\n",
    "g.add_vertex('C')\n",
    "g.add_vertex('D')\n",
    "g.add_vertex('E')\n",
    "g.add_vertex('F')\n",
    "g.add_vertex('G')\n",
    "g.add_vertex('H')\n",
    "g.add_vertex('S')\n",
    "\n",
    "g.add_edge(('A','C',2))\n",
    "g.add_edge(('A', 'S', 10))\n",
    "g.add_edge(('B', 'D', 8))\n",
    "g.add_edge(('B', 'G', 16))\n",
    "g.add_edge(('B', 'S', 8))\n",
    "g.add_edge(('C', 'E', 3))\n",
    "g.add_edge(('C', 'G', 9))\n",
    "g.add_edge(('D', 'H', 1))\n",
    "g.add_edge(('D', 'G', 3))\n",
    "g.add_edge(('E', 'G', 2))\n",
    "g.add_edge(('F', 'H', 1))"
   ]
  },
  {
   "cell_type": "code",
   "execution_count": 118,
   "id": "c7409036-77c7-4d74-a12f-0ef120222e6c",
   "metadata": {},
   "outputs": [],
   "source": [
    "import heapq\n",
    "def a_star_search(graph, starting_vertex, goal_vertex, heuristic_function, alpha=1):\n",
    "    if starting_vertex == goal_vertex:\n",
    "        return []\n",
    "    expanded = set()\n",
    "    queue = [((0, 0), [starting_vertex])]\n",
    "    heapq.heapify(queue)\n",
    "    while queue:\n",
    "        weight_tuple, vertex_list = heapq.heappop(queue)\n",
    "        current_a_star_weight, current_path_weight = weight_tuple\n",
    "        vertex_to_expand = vertex_list[-1]\n",
    "        if vertex_to_expand == goal_vertex:\n",
    "            return current_path_weight, vertex_list\n",
    "        if vertex_to_expand not in expanded:\n",
    "            for neighbour, new_weight in graph.neighbours(vertex_to_expand):\n",
    "                if neighbour not in expanded:\n",
    "                    heuristic = heuristic_function(neighbour, goal_vertex)\n",
    "                    path_weight = current_path_weight + new_weight\n",
    "                    a_star_weight = path_weight + alpha * heuristic\n",
    "                    heapq.heappush(queue, ((a_star_weight, path_weight), vertex_list + [neighbour]))\n",
    "        expanded.add(vertex_to_expand)"
   ]
  },
  {
   "cell_type": "code",
   "execution_count": 119,
   "id": "da60919f-d2cd-4d96-aa02-932756ea9443",
   "metadata": {},
   "outputs": [],
   "source": [
    "d_heuristic = {'S': 12, 'A': 5, 'B': 5, 'C': 5, 'D': 2, 'E': 2, 'F': 1, 'G': 1, 'H': 0} \n",
    "def heuristic(vertex, goal_vertex):\n",
    "    return d_heuristic[vertex]"
   ]
  },
  {
   "cell_type": "code",
   "execution_count": 121,
   "id": "6cfa84ab-6f1f-4552-82f7-83f261fb8381",
   "metadata": {},
   "outputs": [
    {
     "data": {
      "text/plain": [
       "(7, ['A', 'C', 'E', 'G'])"
      ]
     },
     "execution_count": 121,
     "metadata": {},
     "output_type": "execute_result"
    }
   ],
   "source": [
    "a_star_search(g, starting_vertex='A', goal_vertex='G', heuristic_function=heuristic)"
   ]
  },
  {
   "cell_type": "markdown",
   "id": "d366ea8d-e919-401e-b992-93b2cb10ad8b",
   "metadata": {
    "tags": []
   },
   "source": [
    "# Locations\n",
    "Вчитајте ги податоците од **locations.txt**, складирајте ги соодветно и напишете функција која го пресметува воздушното растојание помеѓу два града. Потоа напишете А* алгоритам кој како еристика го користи воздушното растојание до посакуваниот град. Задачата е иста како од претходната лабораториска вежба: да се најде најоптималната патека од еден до друг град. "
   ]
  },
  {
   "cell_type": "code",
   "execution_count": 1,
   "id": "2bd9505e-6947-423d-bbf8-91e5b512b539",
   "metadata": {},
   "outputs": [],
   "source": [
    "class WeightedGraph:\n",
    "    def __init__(self):\n",
    "        self.graph_dict = {}\n",
    "    \n",
    "    def add_vertex(self, vertex):\n",
    "        if vertex not in self.graph_dict:\n",
    "            self.graph_dict[vertex] = {}\n",
    "    \n",
    "    def vertices(self):\n",
    "        return list(self.graph_dict.keys())\n",
    "    \n",
    "    def add_edge(self, edge, add_reversed=True):\n",
    "        vertex1, vertex2, weight = edge\n",
    "        self.graph_dict[vertex1][vertex2] = weight\n",
    "        if add_reversed:\n",
    "            self.graph_dict[vertex2][vertex1] = weight\n",
    "    \n",
    "    def edges(self):\n",
    "        edges = []\n",
    "        for vertex in self.graph_dict:\n",
    "            for neighbour, weight in self.graph_dict[vertex].items():\n",
    "                edges.append((vertex, neighbour, weight))\n",
    "        return edges\n",
    "    \n",
    "    def neighbours(self, vertex):\n",
    "        return list(self.graph_dict[vertex].items())"
   ]
  },
  {
   "cell_type": "code",
   "execution_count": 2,
   "id": "ce59f253-7111-4753-b89b-fac695af34f7",
   "metadata": {},
   "outputs": [],
   "source": [
    "info = open('data/distances.txt').read().strip()\n",
    "g= WeightedGraph()"
   ]
  },
  {
   "cell_type": "code",
   "execution_count": 3,
   "id": "e63fbbf9-5d65-4f4a-ada4-bc3532b31705",
   "metadata": {},
   "outputs": [],
   "source": [
    "for row in info.split('\\n'):\n",
    "    vertex1,vertex2,weight=row.split(' ')\n",
    "    g.add_vertex(vertex1)\n",
    "    g.add_vertex(vertex2)\n",
    "    g.add_edge(row.split(' '))"
   ]
  },
  {
   "cell_type": "code",
   "execution_count": 37,
   "id": "60d50230-db3d-4b8f-8f8f-acc5e8f4fa9f",
   "metadata": {},
   "outputs": [],
   "source": [
    "#mamba install haversine\n",
    "info = open('data/locations.txt').read().strip()\n",
    "import math\n",
    "from haversine import haversine, Unit\n",
    "def air_distance(starting_vertex,goal_vertex):\n",
    "    for row in info.split('\\n'):\n",
    "        vertex,lat,lon=row.split(' ')\n",
    "        if vertex==starting_vertex:\n",
    "            start_city=(float(lat),float(lon))\n",
    "        if vertex==goal_vertex:\n",
    "            end_city=(float(lat),float(lon))\n",
    "    return haversine(start_city, end_city)"
   ]
  },
  {
   "cell_type": "code",
   "execution_count": 38,
   "id": "c9499fa1-17f3-48c0-9922-036bcdcf6f19",
   "metadata": {},
   "outputs": [
    {
     "data": {
      "text/plain": [
       "82.45779267711245"
      ]
     },
     "execution_count": 38,
     "metadata": {},
     "output_type": "execute_result"
    }
   ],
   "source": [
    "air_distance('SK','KO')"
   ]
  },
  {
   "cell_type": "code",
   "execution_count": 43,
   "id": "4c8b40ee-9cfc-490a-808e-f09cc596eb2c",
   "metadata": {},
   "outputs": [],
   "source": [
    "import heapq\n",
    "def a_star_search(graph, starting_vertex, goal_vertex, alpha=1):\n",
    "    if starting_vertex == goal_vertex:\n",
    "        return []\n",
    "    expanded = set()\n",
    "    queue = [((0, 0), [starting_vertex])]\n",
    "    heapq.heapify(queue)\n",
    "    while queue:\n",
    "        weight_tuple, vertex_list = heapq.heappop(queue)\n",
    "        current_a_star_weight, current_path_weight = weight_tuple\n",
    "        vertex_to_expand = vertex_list[-1]\n",
    "        if vertex_to_expand == goal_vertex:\n",
    "            return current_path_weight, vertex_list\n",
    "        if vertex_to_expand not in expanded:\n",
    "            for neighbour, new_weight in graph.neighbours(vertex_to_expand):\n",
    "                if neighbour not in expanded:\n",
    "                    heuristic = air_distance(neighbour, goal_vertex)\n",
    "                    path_weight = float(current_path_weight) + float(new_weight)\n",
    "                    a_star_weight = path_weight + alpha * heuristic\n",
    "                    heapq.heappush(queue, ((a_star_weight, path_weight), vertex_list + [neighbour]))\n",
    "        expanded.add(vertex_to_expand)"
   ]
  },
  {
   "cell_type": "code",
   "execution_count": 44,
   "id": "be31ea69-3126-4d8f-abcc-efcb1be7107a",
   "metadata": {},
   "outputs": [
    {
     "data": {
      "text/plain": [
       "(138.0, ['SK', 'VE', 'ST', 'KO'])"
      ]
     },
     "execution_count": 44,
     "metadata": {},
     "output_type": "execute_result"
    }
   ],
   "source": [
    "a=['SK','KO']\n",
    "a_star_search(g,'SK', 'KO', alpha=1)"
   ]
  },
  {
   "cell_type": "code",
   "execution_count": null,
   "id": "48af08bc-e7c8-404f-ba66-d0db9002383d",
   "metadata": {},
   "outputs": [],
   "source": []
  }
 ],
 "metadata": {
  "kernelspec": {
   "display_name": "Python 3 (ipykernel)",
   "language": "python",
   "name": "python3"
  },
  "language_info": {
   "codemirror_mode": {
    "name": "ipython",
    "version": 3
   },
   "file_extension": ".py",
   "mimetype": "text/x-python",
   "name": "python",
   "nbconvert_exporter": "python",
   "pygments_lexer": "ipython3",
   "version": "3.10.8"
  }
 },
 "nbformat": 4,
 "nbformat_minor": 5
}
