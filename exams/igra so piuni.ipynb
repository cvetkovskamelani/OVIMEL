{
 "cells": [
  {
   "cell_type": "markdown",
   "id": "980ffa77-6a38-4896-89e6-c003020e323e",
   "metadata": {},
   "source": [
    "## Теорија на игри\n",
    "\n",
    "Правила на играта:\n",
    "*  Се игра на шаховска табла со димензии 3х3.\n",
    "*  Секој играч почнува со 3 пиуни, на почетоток поставени како на сликата подолу.\n",
    "*  Прво на ред е белиот играч, па потоа наизменично се менуваат со црниот.\n",
    "*  Секој пиун има поведение како во шахот.\n",
    "    *  Освен тоа што еден пиун не може да се движи две полиња нанапред.\n",
    "    *  Ен пасант не важи.\n",
    "*  Победник е оној кој ќе успее да стигне до крајниот ред.\n",
    "*  Ако некој играч нема можност да игра потег, го губи натпреварот."
   ]
  },
  {
   "cell_type": "markdown",
   "id": "e4df5f45-9ecf-44fa-a02e-b105697c3188",
   "metadata": {},
   "source": [
    "__1.1__: Кој е победник во оваа игра? Како го испитувате тоа?"
   ]
  },
  {
   "cell_type": "code",
   "execution_count": 3,
   "id": "58afcd39-5266-4f2f-8a8c-b277d9304e81",
   "metadata": {},
   "outputs": [],
   "source": [
    "from copy import deepcopy"
   ]
  },
  {
   "cell_type": "code",
   "execution_count": 34,
   "id": "c2b21a53-f8ce-4359-9006-7161a5afc475",
   "metadata": {},
   "outputs": [],
   "source": [
    "start=(('x','x','x'),\n",
    "       ('.','.','.'),\n",
    "       ('o','o','o')\n",
    "      )"
   ]
  },
  {
   "cell_type": "code",
   "execution_count": 36,
   "id": "978d873d-f219-4498-8ad0-e5dd150ddb10",
   "metadata": {},
   "outputs": [],
   "source": [
    "def check_score(state):\n",
    "    for i, row in state:\n",
    "           for j,col in row:\n",
    "                if col=='o' :\n",
    "                    return 'o'\n",
    "                if col=='x' :\n",
    "                    return 'x'\n",
    "    return 'keep playing'     "
   ]
  },
  {
   "cell_type": "code",
   "execution_count": 20,
   "id": "ee6a3840-5b0b-4552-abb4-bf3fd5eb016c",
   "metadata": {},
   "outputs": [],
   "source": [
    "def turn(player):\n",
    "    if player=='MAX':\n",
    "        return 'MIN'\n",
    "    else:\n",
    "        return 'MAX'"
   ]
  },
  {
   "cell_type": "code",
   "execution_count": null,
   "id": "562c4a6f-f4c8-4d5e-82f8-0aff4bcc592a",
   "metadata": {},
   "outputs": [],
   "source": [
    "def valid(position):\n",
    "    x,y=position\n",
    "    if 0<=x<N and 0<=y<N:\n",
    "        return True\n",
    "    else: return False"
   ]
  },
  {
   "cell_type": "code",
   "execution_count": 37,
   "id": "beaf0d66-3bc4-43a5-8443-f4c0b9ce30a2",
   "metadata": {},
   "outputs": [],
   "source": [
    "def expand_state(state, player):\n",
    "    symbol = 'x' if player == 'MAX' else 'o'\n",
    "    for x, row in enumerate(state):\n",
    "        for y, value in enumerate(row):\n",
    "            if value == '.':\n",
    "                new_state = list([list(row) for row in state])\n",
    "                new_state[x][y] = symbol\n",
    "                return tuple([tuple(row) for row in new_state]), (x, y)\n",
    "            if value != '.' and value!=symbol:\n",
    "                new_state = list([list(row) for row in state])\n",
    "                new_state[x][y] = symbol\n",
    "                return tuple([tuple(row) for row in new_state]), (x, y)\n",
    "            if valid((x+1,y+1):\n",
    "                     if state[x+1][y+1]!=symbol and state[x+1][y+1]!='.':\n",
    "                        new_state = list([list(row) for row in state])\n",
    "                        new_state[x][y] = symbol\n",
    "                        return tuple([tuple(row) for row in new_state]), (x, y)"
   ]
  },
  {
   "cell_type": "code",
   "execution_count": 38,
   "id": "e16d0f17-7016-4989-854b-ae32b0e381bd",
   "metadata": {},
   "outputs": [],
   "source": [
    "def minimax(state, player):\n",
    "    if check_score(state)!='keep playing':\n",
    "        return scores[check_score(state)],None\n",
    "    best_move=None\n",
    "    best = plus_inf if player == 'MIN' else minus_inf\n",
    "    symbol='x' if player=='MAX' else 'o'\n",
    "    for next_state,next_move in expand_state(state,player):\n",
    "        result,_ = minimax(next_state,turn(player))\n",
    "        if player == 'MIN' and result < best:\n",
    "            best = result\n",
    "            best_move=next_move\n",
    "        elif player == 'MAX' and result > best:\n",
    "            best = result\n",
    "            best_move=next_move\n",
    "    return best,best_move"
   ]
  },
  {
   "cell_type": "code",
   "execution_count": 39,
   "id": "12de0467-29ec-4aee-b88f-773e979fd8d1",
   "metadata": {},
   "outputs": [
    {
     "ename": "ValueError",
     "evalue": "too many values to unpack (expected 2)",
     "output_type": "error",
     "traceback": [
      "\u001b[0;31m---------------------------------------------------------------------------\u001b[0m",
      "\u001b[0;31mValueError\u001b[0m                                Traceback (most recent call last)",
      "Cell \u001b[0;32mIn[39], line 1\u001b[0m\n\u001b[0;32m----> 1\u001b[0m \u001b[43mminimax\u001b[49m\u001b[43m(\u001b[49m\u001b[43mstart\u001b[49m\u001b[43m,\u001b[49m\u001b[38;5;124;43m'\u001b[39;49m\u001b[38;5;124;43mMAX\u001b[39;49m\u001b[38;5;124;43m'\u001b[39;49m\u001b[43m)\u001b[49m\n",
      "Cell \u001b[0;32mIn[38], line 2\u001b[0m, in \u001b[0;36mminimax\u001b[0;34m(state, player)\u001b[0m\n\u001b[1;32m      1\u001b[0m \u001b[38;5;28;01mdef\u001b[39;00m \u001b[38;5;21mminimax\u001b[39m(state, player):\n\u001b[0;32m----> 2\u001b[0m     \u001b[38;5;28;01mif\u001b[39;00m \u001b[43mcheck_score\u001b[49m\u001b[43m(\u001b[49m\u001b[43mstate\u001b[49m\u001b[43m)\u001b[49m\u001b[38;5;241m!=\u001b[39m\u001b[38;5;124m'\u001b[39m\u001b[38;5;124mkeep playing\u001b[39m\u001b[38;5;124m'\u001b[39m:\n\u001b[1;32m      3\u001b[0m         \u001b[38;5;28;01mreturn\u001b[39;00m scores[check_score(state)],\u001b[38;5;28;01mNone\u001b[39;00m\n\u001b[1;32m      4\u001b[0m     best_move\u001b[38;5;241m=\u001b[39m\u001b[38;5;28;01mNone\u001b[39;00m\n",
      "Cell \u001b[0;32mIn[36], line 2\u001b[0m, in \u001b[0;36mcheck_score\u001b[0;34m(state)\u001b[0m\n\u001b[1;32m      1\u001b[0m \u001b[38;5;28;01mdef\u001b[39;00m \u001b[38;5;21mcheck_score\u001b[39m(state):\n\u001b[0;32m----> 2\u001b[0m     \u001b[38;5;28;01mfor\u001b[39;00m i, row \u001b[38;5;129;01min\u001b[39;00m state:\n\u001b[1;32m      3\u001b[0m            \u001b[38;5;28;01mfor\u001b[39;00m j,col \u001b[38;5;129;01min\u001b[39;00m row:\n\u001b[1;32m      4\u001b[0m                 \u001b[38;5;28;01mif\u001b[39;00m col\u001b[38;5;241m==\u001b[39m\u001b[38;5;124m'\u001b[39m\u001b[38;5;124mo\u001b[39m\u001b[38;5;124m'\u001b[39m :\n",
      "\u001b[0;31mValueError\u001b[0m: too many values to unpack (expected 2)"
     ]
    }
   ],
   "source": [
    "minimax(start,'MAX')"
   ]
  },
  {
   "cell_type": "markdown",
   "id": "ed343414-5fd2-4440-81f0-ef32a04f0f9f",
   "metadata": {},
   "source": [
    "__1.2__: Нацртајте го дрвото на играта до степен 3."
   ]
  },
  {
   "cell_type": "code",
   "execution_count": null,
   "id": "286f75c7-eb95-4764-a712-93c289a1b3f8",
   "metadata": {},
   "outputs": [],
   "source": []
  },
  {
   "cell_type": "markdown",
   "id": "c4915bea-cd74-4d03-868d-777c2fb63373",
   "metadata": {},
   "source": [
    "__1.3__: Замислете дека дизајнирате вештачка интелигенција за агент во игра слична на оваа, но сега имаме случај каде не е можно да го разграниме целото дрво на играта. Имајте ги предвид пресметковните брзини на современите компјутери. Кој е победник во оваа игра? Како го испитувате тоа?\n",
    "\n",
    "На располагање ги имате датотеките `Pawns.py`, `pawns_human_player.py` и  `pawns_ai_player.py`."
   ]
  },
  {
   "cell_type": "markdown",
   "id": "9fc23e17-e8cd-48b2-b3ea-a09584b96855",
   "metadata": {},
   "source": [
    "* pobednik kje bide onoj shto ima povekje figuri na tablata, funkcijata kje se povika vo minimaks koga kje dostigne nekoja dlabochina, jas staviv 3"
   ]
  },
  {
   "cell_type": "code",
   "execution_count": 40,
   "id": "8d262313-286b-47d5-b3a6-8c26c72f2a1f",
   "metadata": {},
   "outputs": [],
   "source": [
    "def evaluate_state(state,player):\n",
    "    symbol='x' if player=='MAX' else 'o'\n",
    "    other='o' if player=='MIN' else 'x'\n",
    "    counter_x=0\n",
    "    counter_o=0\n",
    "    for i, row in state:\n",
    "        for j,col in row:\n",
    "            if col=='x':\n",
    "                counter_x+=1\n",
    "            if col=='o':\n",
    "                counter_o+=1\n",
    "    if counter_x>counter_o:\n",
    "        return 'x'\n",
    "    else:\n",
    "        return 'o'"
   ]
  },
  {
   "cell_type": "code",
   "execution_count": null,
   "id": "d7714a52-03e4-4001-868c-c1bbde8027ab",
   "metadata": {},
   "outputs": [],
   "source": [
    "#minimax so dlabochina\n",
    "def minimax(state, player,alpha=-2, beta=2, depth=0):\n",
    "    if check_score(state,player)!= 'keep playing':\n",
    "        return check_score(state,player),None \n",
    "    # пример како да се прекине со пребарување после длабочина 3\n",
    "    if depth == 3:\n",
    "        return evaluate_state(state,player),None\n",
    "    best = plus_inf if player == 'MIN' else minus_inf\n",
    "    best_move = None\n",
    "    symbol='x' if player=='MAX' else 'o'\n",
    "    for next_state, next_move in expand_state(state, player):\n",
    "        result, _ = minimax(next_state, turn(player),alpha,beta,depth+1)\n",
    "        if player == 'MIN':\n",
    "            if result <= alpha:\n",
    "                return result, best_move\n",
    "            if result < beta:\n",
    "                beta = result\n",
    "            if result < best:\n",
    "                best = result\n",
    "                best_move = next_move\n",
    "        elif player == 'MAX':\n",
    "            if result >= beta:\n",
    "                return result, best_move\n",
    "            if result > alpha:\n",
    "                alpha = result\n",
    "            if result > best:\n",
    "                best = result\n",
    "                best_move = next_move\n",
    "    return best, best_move"
   ]
  }
 ],
 "metadata": {
  "kernelspec": {
   "display_name": "Python 3 (ipykernel)",
   "language": "python",
   "name": "python3"
  },
  "language_info": {
   "codemirror_mode": {
    "name": "ipython",
    "version": 3
   },
   "file_extension": ".py",
   "mimetype": "text/x-python",
   "name": "python",
   "nbconvert_exporter": "python",
   "pygments_lexer": "ipython3",
   "version": "3.10.8"
  }
 },
 "nbformat": 4,
 "nbformat_minor": 5
}
