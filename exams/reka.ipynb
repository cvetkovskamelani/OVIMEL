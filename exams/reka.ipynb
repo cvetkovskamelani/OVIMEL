{
 "cells": [
  {
   "cell_type": "markdown",
   "metadata": {},
   "source": [
    "# Прв парцијален испит по Основи на Вештачката Интелигенција"
   ]
  },
  {
   "cell_type": "markdown",
   "metadata": {},
   "source": [
    "## Задача 1 - Преминување преку река"
   ]
  },
  {
   "cell_type": "markdown",
   "metadata": {},
   "source": [
    "Две тројки, црна и бела, сочинети од крал, кралица и пиун треба да ја преминат реката.\n",
    "* Кралевите не смеат да останат без своите поданици на една страна од реката.\n",
    "* Кралиците сакаат да бидат сами кога ја преминуваат реката.\n",
    "* Пиуните и кралиците знаат да веслаат, кралевите не веслаат.\n",
    "* Чамецот може да издржи највеќе двајца.\n",
    "\n",
    "Напишете алгоритам кој ќе го пронајде најмалиот број преминувања на реката, така што сите патници ќе преминат од левата на десната страна од реката."
   ]
  },
  {
   "cell_type": "code",
   "execution_count": 1,
   "metadata": {},
   "outputs": [],
   "source": [
    "from collections import deque"
   ]
  },
  {
   "cell_type": "code",
   "execution_count": 2,
   "metadata": {},
   "outputs": [],
   "source": [
    "def unpack_state(state):\n",
    "    \"\"\"\n",
    "    Function that carefully unpacks the state into boat, left side and right side\n",
    "    :param state: state to be unpack\n",
    "    :return: boat, left side objects, right side objects\n",
    "    \"\"\"\n",
    "    boat = state[0]\n",
    "    left_bank = set([passengers[index] for index, side in enumerate(state[1:]) if side == 'left'])\n",
    "    right_bank = set([passengers[index] for index, side in enumerate(state[1:]) if side == 'right'])\n",
    "    return boat, left_bank, right_bank\n",
    "\n",
    "def search_path(initial_state, goal_state):\n",
    "    \"\"\"\n",
    "    Search function\n",
    "    :param initial_state: initial state for search\n",
    "    :param goal_state: desired state\n",
    "    :return: search result as list of states\n",
    "    \"\"\"\n",
    "    visited = {initial_state}\n",
    "    states_queue = deque([[initial_state]])\n",
    "    while states_queue:\n",
    "        states_list = states_queue.popleft()\n",
    "        state_to_expand = states_list[-1]\n",
    "        for next_state in expand_state(state_to_expand):\n",
    "            if next_state not in visited:\n",
    "                if next_state == goal_state:\n",
    "                    return states_list + [next_state]\n",
    "                visited.add(next_state)\n",
    "                states_queue.appendleft(states_list + [next_state])\n",
    "    return []\n",
    "\n",
    "def visualise(path):\n",
    "    \"\"\"\n",
    "    Function to visualise path returned from the search function\n",
    "    :param path: path to be visualised\n",
    "    :return: None\n",
    "    \"\"\"\n",
    "    if not path:\n",
    "        print('Search path did not find a solution')\n",
    "        return\n",
    "    for pair_of_states in zip(path, path[1:]):\n",
    "        boat_old, left_old, right_old = unpack_state(pair_of_states[0])\n",
    "        boat_new, left_new, right_new = unpack_state(pair_of_states[1])\n",
    "        delimiter_space = ' ' * 50\n",
    "        separated_print(left_old)\n",
    "        print(delimiter_space, end='')\n",
    "        separated_print(right_old)\n",
    "        print()\n",
    "        if boat_old == 'left':\n",
    "            delimiter = ' ' * 5 + '>' * 15 + ' ' * 5\n",
    "            separated_print(left_new)\n",
    "            print(delimiter, end='')\n",
    "            separated_print(left_old - left_new)\n",
    "            print(delimiter, end='')\n",
    "            separated_print(right_old)\n",
    "            print()\n",
    "        else:\n",
    "            delimiter = ' ' * 5 + '<' * 15 + ' ' * 5\n",
    "            separated_print(left_old)\n",
    "            print(delimiter, end='')\n",
    "            separated_print(right_old - right_new)\n",
    "            print(delimiter, end='')\n",
    "            separated_print(right_new)\n",
    "            print()\n",
    "        separated_print(left_new)\n",
    "        print(delimiter_space, end='')\n",
    "        separated_print(right_new)\n",
    "        print()\n",
    "        print()\n",
    "        print()\n",
    "\n",
    "def separated_print(iterable):\n",
    "    \"\"\"\n",
    "    Desired print function.\n",
    "    :param iterable: list to be printed\n",
    "    :return: None\n",
    "    \"\"\"\n",
    "    for element in iterable:\n",
    "        print(element, end=' ')\n",
    "    if not iterable:\n",
    "        print('Empty', end='')"
   ]
  },
  {
   "cell_type": "code",
   "execution_count": 3,
   "metadata": {},
   "outputs": [
    {
     "name": "stdout",
     "output_type": "stream",
     "text": [
      "Search path did not find a solution\n"
     ]
    }
   ],
   "source": [
    "def expand_state(state):\n",
    "    \"\"\"\n",
    "    Function for generation next states.\n",
    "\n",
    "    Your should return a list of states as tuples. List new_states should look like this:\n",
    "    [(state_parameter_1, state_parameter_2, ... state_parameter_n),\n",
    "    (state_parameter_1, state_parameter_2, ... state_parameter_n)),\n",
    "    .\n",
    "    .\n",
    "    .\n",
    "    (state_parameter_1, state_parameter_2, ... state_parameter_n))]\n",
    "\n",
    "    :param state: state to be expanded\n",
    "    :return: list of new states as tuples\n",
    "    \"\"\"\n",
    "    # За полесни пресметки јас вака ги претставив објектите. Слободно променете ако имате подобра идеја.\n",
    "    boat, left_bank, right_bank = unpack_state(state)\n",
    "\n",
    "    new_states = []\n",
    "\n",
    "    # Вашиот код тука\n",
    "\n",
    "    return new_states\n",
    "\n",
    "passengers = ['Farmer', 'Goat', 'Cabbage', 'Wolf']\n",
    "sailors = ['Farmer']\n",
    "initial_state = ('left', 'left', 'left', 'left', 'left')\n",
    "goal_state = ('right', 'right', 'right', 'right', 'right')\n",
    "path = search_path(initial_state, goal_state)\n",
    "visualise(path)"
   ]
  },
  {
   "cell_type": "code",
   "execution_count": 4,
   "metadata": {},
   "outputs": [],
   "source": [
    "def one_person_goes(state,indeks):\n",
    "    \"\"\"\n",
    "    функција со која се менува состојбата, односно кога некој поминува на другата страна од реката\n",
    "    \"\"\"\n",
    "    states=list(state)\n",
    "    states[6]=states[indeks]=1\n",
    "    return tuple(states)"
   ]
  },
  {
   "cell_type": "code",
   "execution_count": 5,
   "metadata": {},
   "outputs": [],
   "source": [
    "def two_person_goes(state,indeks1,indeks2):\n",
    "    \"\"\"\n",
    "    функција со која се менува состојбата, односно кога двајца поминуваат на другата страна од реката\n",
    "    \"\"\"\n",
    "    states=list(state)\n",
    "    states[6]=states[indeks1]=states[indeks2]=1\n",
    "    return tuple(states)"
   ]
  },
  {
   "cell_type": "code",
   "execution_count": 6,
   "metadata": {},
   "outputs": [],
   "source": [
    "def one_person_comes(state,indeks):\n",
    "    \"\"\"\n",
    "    функција со која се менува состојбата, односно кога некој се враќа на првата страна од реката\n",
    "    \"\"\"\n",
    "    states=list(state)\n",
    "    states[6]=states[indeks]=0\n",
    "    return tuple(states)"
   ]
  },
  {
   "cell_type": "code",
   "execution_count": 7,
   "metadata": {},
   "outputs": [],
   "source": [
    "def two_person_comes(state,indeks1,indeks2):\n",
    "    \"\"\"\n",
    "    функција со која се менува состојбата, односно кога двајца се враќаат на првата страна од реката\n",
    "    \"\"\"\n",
    "    states=list(state)\n",
    "    states[6]=states[indeks1]=states[indeks2]=0\n",
    "    return tuple(states)"
   ]
  },
  {
   "cell_type": "markdown",
   "metadata": {
    "tags": []
   },
   "source": [
    "### state kje ima 7 indeksi i toa: 0-bel_kral 1-bela_kralica, 2-bel_piun, 3-crn_kral, 4-crna_kralica, 5-crn_piun, 6-camec\n",
    "* Кралевите не смеат да останат без своите поданици на една страна од реката.\n",
    "* Кралиците сакаат да бидат сами кога ја преминуваат реката.\n",
    "* Пиуните и кралиците знаат да веслаат, кралевите не веслаат.\n",
    "* Чамецот може да издржи највеќе двајца."
   ]
  },
  {
   "cell_type": "code",
   "execution_count": 8,
   "metadata": {},
   "outputs": [],
   "source": [
    "def expand_state(state):\n",
    "    \"\"\"\n",
    "    индексите во стејт имаат значење:\n",
    "    0-бел крал, 1-бела кралица, 2-бел пиун, 3-црн крал, 4-црна кралица,5-црн пиун и 6-чамецот\n",
    "    прво проверува чамецот на која страна е и минува низ дадените правила да провери дали се исполнети и прави движења\n",
    "    \"\"\"\n",
    "    states=[]\n",
    "    if state[6]==0:\n",
    "        if state[0]==state[2]==0: #bel kral i piun\n",
    "            states.append(two_person_goes(state,0,2))\n",
    "        if state[3]==state[5]==0: #crn kral i piun\n",
    "            states.append(two_person_goes(state,3,5))\n",
    "        if state[1]==0: #crna kralica\n",
    "            states.append(one_person_goes(state,1))\n",
    "        if state[4]==0: #bela kralica\n",
    "            states.append(one_person_goes(state,4))\n",
    "    if state[6]==1:\n",
    "        if state[0]==state[2]==1: #bel kral i piun\n",
    "            states.append(two_person_comes(state,0,2))\n",
    "        if state[3]==state[5]==1: #crn kral i piun\n",
    "            states.append(two_person_comes(state,3,5))\n",
    "        if state[1]==1:\n",
    "            states.append(one_person_comes(state,1))\n",
    "        if state[4]==1:\n",
    "            states.append(one_person_comes(state,4))\n",
    "    return states"
   ]
  },
  {
   "cell_type": "code",
   "execution_count": 9,
   "metadata": {},
   "outputs": [],
   "source": [
    "from collections import deque\n",
    "\n",
    "def breadth_first_search(initial_state, goal_state):\n",
    "    if initial_state == goal_state:\n",
    "        return\n",
    "    \n",
    "    queue = deque([[initial_state]])\n",
    "    visited = {initial_state}\n",
    "    \n",
    "    while queue:\n",
    "        list_to_expand = queue.popleft()\n",
    "        state_to_expand = list_to_expand[-1]\n",
    "        \n",
    "        for next_state in expand_state(state_to_expand):\n",
    "            if next_state not in visited:\n",
    "                if next_state == goal_state:\n",
    "                    return list_to_expand + [next_state]\n",
    "                queue.append(list_to_expand + [next_state])\n",
    "                visited.add(next_state)\n",
    "                \n",
    "\n",
    "breadth_first_search((0, 0, 0, 0, 0,0,0), (1,1,1, 1, 1, 1, 1))"
   ]
  },
  {
   "cell_type": "code",
   "execution_count": 10,
   "metadata": {},
   "outputs": [
    {
     "data": {
      "text/plain": [
       "[(1, 0, 1, 0, 0, 0, 1, 0, 0),\n",
       " (0, 0, 0, 1, 0, 1, 1, 0, 0),\n",
       " (0, 1, 0, 0, 0, 0, 1, 0, 0),\n",
       " (0, 0, 0, 0, 1, 0, 1, 0, 0)]"
      ]
     },
     "execution_count": 10,
     "metadata": {},
     "output_type": "execute_result"
    }
   ],
   "source": [
    "expand_state((0, 0, 0, 0, 0, 0, 0,0,0))"
   ]
  },
  {
   "cell_type": "code",
   "execution_count": 11,
   "metadata": {},
   "outputs": [],
   "source": [
    "breadth_first_search((0, 0, 0, 0, 0,0,0), (1,1,1, 1, 1, 1, 1))"
   ]
  },
  {
   "cell_type": "code",
   "execution_count": null,
   "metadata": {},
   "outputs": [],
   "source": []
  }
 ],
 "metadata": {
  "kernelspec": {
   "display_name": "Python 3 (ipykernel)",
   "language": "python",
   "name": "python3"
  },
  "language_info": {
   "codemirror_mode": {
    "name": "ipython",
    "version": 3
   },
   "file_extension": ".py",
   "mimetype": "text/x-python",
   "name": "python",
   "nbconvert_exporter": "python",
   "pygments_lexer": "ipython3",
   "version": "3.10.8"
  }
 },
 "nbformat": 4,
 "nbformat_minor": 4
}
