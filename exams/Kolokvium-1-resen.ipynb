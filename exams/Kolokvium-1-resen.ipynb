{
 "cells": [
  {
   "cell_type": "markdown",
   "id": "1119fa3a-f915-4c72-ab7e-f0dfe624dd40",
   "metadata": {},
   "source": [
    "# Прв парцијален испит по Основи на Вештачката Интелигенција (1/2)\n",
    "\n",
    "Датум: 21.11.2022"
   ]
  },
  {
   "cell_type": "markdown",
   "id": "545bca2d-e8ae-496f-80a1-c73d2c1de8b8",
   "metadata": {},
   "source": [
    "## Задача 1 - Роботска Платформа"
   ]
  },
  {
   "cell_type": "markdown",
   "id": "a237d7b7-3328-49da-aee3-f94ab0fa8c9f",
   "metadata": {
    "tags": []
   },
   "source": [
    "Разгледуваме роботска платформа од 16 плочки, распоредени како матрица 4х4. Вашата работна група треба под секоја плочка треба да намести сензор за детекција на објектите кои ќе бидат поставувани врз плочките. Ако се постави сензор под секоја плочка, се јавува проблем и сензорите не работат како што треба. По одредено истражување, вашата работна група сватила дека проблемот се јавува кога ќе има два сензори во ист ред, или пак два сензори во иста колона. Исто така вашата група открила дека два исти сензори, но од различен производител, не си пречат еден на друг кога ќе се во ист ред или колона. Пред да потрошете пари за нови сензори, треба да се реши проблемот: `Под која плочка каков сензор да се постави?`. Моментално располагате со неограничен број сензори од 4 различни производители, A, B, C, и D.\n",
    "\n",
    "Еве едно можно решение за роботска платформа со 3х3 плочки.\n",
    "$$ \\left[ {\\begin{array}{ccc} A & B & C \\\\ C & A & B \\\\ B & C & A \\\\ \\end{array} } \\right] $$\n",
    "\n",
    "### Прашања\n",
    "1. **(10 поени)** Поставете го овој проблем како проблем за пребарување. Која ќе е почетната состојба, а како ќе ја дефинирате крајната состојба?\n",
    "1. **(15 поени)** Објаснете како ќе се одвива разгранувањето на дадена состојба (`expand_state()`)?\n",
    "1. **(10 поени)** Кој алгоритам за пребарување одбирате да го користете за овој проблем? Зошто баш тој алгоритам пред другите алгоритми?\n",
    "1. **(30 поени)** Имплементирајте го избраниот алгоритам и испечатете барем едно можно решение.\n",
    "1. **(10 поени)** Од колку најмалку производители треба да набавете сензори за да ја пополнете целата платформа со сензори?\n",
    "\n",
    "### Бонус\n",
    "1. **(10 поени)** Решете ја задачата така што алгоритамот ќе ви работи за NxN роботска платформа и неограничен број сензори од N производители.\n",
    "\n"
   ]
  },
  {
   "cell_type": "markdown",
   "id": "03e00609-5662-46ee-924a-dd7eced783c4",
   "metadata": {},
   "source": [
    "1. Почетната состојба е состојба каде нема ниеден сензор (го бележам со нули). Крајна состојба е онаа кога сите полиња се исполнати со сензор т.е. нема нула на ниедно поле.\n",
    "2. Со expand_state ќе се додава по еден валиден сензор на секое празно поле (обележано со 0). Валиден сензор значи дека тој тип на сензор нема да се повторува во неговата редица или колона. Expand_state ќе враќа листа од сите состојби во кои што може да се разгране моменталната состојба т.е. сите начини на кои што може да се додаде сензор.\n",
    "3. Алгоритам за пребарување по длабочина, затоа што не не' интересира која е постапката на наоѓање на решението, ниту нe' интересира да најдеме решение во најмалку чекори. Битно ни е да најдеме едно решение кое ќе ги задоволи нашите поставени услови (а има повеќе решенија).\n",
    "4. Кодот е даден подолу\n",
    "5. За NxN матрица требаат најмалку N различни типа на сензори за да се пополне цела матрица, затоа што не смее да се повторуваат ист тип на сензор во иста редица или колона\n",
    "    - на пример ако имавме 5 колони а 4 вида на сензори, тогаш една редица може да се пополни: `1 2 3 4 -` и за последното поле (обележано со `-` нема да постои валиден сензор)"
   ]
  },
  {
   "cell_type": "code",
   "execution_count": 18,
   "id": "80d1620c-37ce-4d8a-8cb4-4b7a55586869",
   "metadata": {},
   "outputs": [
    {
     "data": {
      "text/plain": [
       "((0, 0, 0, 0), (0, 0, 0, 0), (0, 0, 0, 0), (0, 0, 0, 0))"
      ]
     },
     "execution_count": 18,
     "metadata": {},
     "output_type": "execute_result"
    }
   ],
   "source": [
    "N = 4\n",
    "initial_state = (((0,)*N),)*N\n",
    "initial_state"
   ]
  },
  {
   "cell_type": "code",
   "execution_count": 19,
   "id": "ee5203ef-2707-4a20-8b43-68ef525eb05f",
   "metadata": {},
   "outputs": [],
   "source": [
    "# namesto senzori A, B, C, D ke koristam senzori obelezani so 1, 2, 3, 4. Prazno pole e obelezano so 0"
   ]
  },
  {
   "cell_type": "code",
   "execution_count": 20,
   "id": "c6366580-3cf6-42e9-85cb-c3d4b006414b",
   "metadata": {},
   "outputs": [],
   "source": [
    "def is_valid(state, sensor_type, sensor_position):\n",
    "    row, col = sensor_position\n",
    "    \n",
    "    if sensor_type in state[row]: # ako veke se naoga senzor od toj tip vo kolonata kade sto sakame da go stavime noviot senzor\n",
    "        return False\n",
    "    valid = True\n",
    "    \n",
    "    for i in range(N): # proveruvame dali senzorot od tip sensor_type veke se naoga vo kolonata kade sto sakame da go vmetneme\n",
    "        if state[i][col] == sensor_type:\n",
    "            valid = False\n",
    "            break\n",
    "    return valid"
   ]
  },
  {
   "cell_type": "code",
   "execution_count": 25,
   "id": "50e1a584-93b5-4f43-80be-587d7f0807b0",
   "metadata": {},
   "outputs": [
    {
     "data": {
      "text/plain": [
       "True"
      ]
     },
     "execution_count": 25,
     "metadata": {},
     "output_type": "execute_result"
    }
   ],
   "source": [
    "state = (\n",
    "    (0, 1, 2, 3),\n",
    "    (0, 0, 0, 2),\n",
    "    (2, 3, 1, 0),\n",
    "    (0, 0, 0, 0)\n",
    ")\n",
    "is_valid(state, 4, (1, 0))"
   ]
  },
  {
   "cell_type": "code",
   "execution_count": 26,
   "id": "3dd6d146-9295-4a85-b2c7-775003297b30",
   "metadata": {},
   "outputs": [],
   "source": [
    "def add_sensor(state, sensor_type, sensor_position):\n",
    "    row, col = sensor_position\n",
    "    state_list = list(list(row) for row in state) # state se pravi kako lista od listi, namesto torka od torki, za da mozeme da gi menuvame elementite\n",
    "    state_list[row][col] = sensor_type\n",
    "    return tuple(tuple(row) for row in state_list) # ja vrakame state ama povtorno kako torka od torki\n",
    "    "
   ]
  },
  {
   "cell_type": "code",
   "execution_count": 27,
   "id": "6fd939f6-f703-4e4c-91c3-4bf037c86319",
   "metadata": {},
   "outputs": [],
   "source": [
    "def expand_state(state):\n",
    "    states = []\n",
    "    for row_index, row in enumerate(state):\n",
    "        for col_index, element in enumerate(row):\n",
    "            if element == 0: # toa znaci deka nema senzor na taa pozicija, pa pozicijata mozeme da ja popolneme so senzor\n",
    "                for sensor_type in range(1, 5):\n",
    "                    sensor_position = row_index, col_index\n",
    "                    if is_valid(state, sensor_type, sensor_position):\n",
    "                        states.append(add_sensor(state, sensor_type, sensor_position))\n",
    "    return states"
   ]
  },
  {
   "cell_type": "code",
   "execution_count": 28,
   "id": "549020a9-349b-4899-a811-135b3f5954b6",
   "metadata": {},
   "outputs": [
    {
     "data": {
      "text/plain": [
       "[((4, 1, 2, 3), (0, 0, 0, 2), (2, 3, 1, 0), (0, 0, 0, 0)),\n",
       " ((0, 1, 2, 3), (1, 0, 0, 2), (2, 3, 1, 0), (0, 0, 0, 0)),\n",
       " ((0, 1, 2, 3), (3, 0, 0, 2), (2, 3, 1, 0), (0, 0, 0, 0)),\n",
       " ((0, 1, 2, 3), (4, 0, 0, 2), (2, 3, 1, 0), (0, 0, 0, 0)),\n",
       " ((0, 1, 2, 3), (0, 4, 0, 2), (2, 3, 1, 0), (0, 0, 0, 0)),\n",
       " ((0, 1, 2, 3), (0, 0, 3, 2), (2, 3, 1, 0), (0, 0, 0, 0)),\n",
       " ((0, 1, 2, 3), (0, 0, 4, 2), (2, 3, 1, 0), (0, 0, 0, 0)),\n",
       " ((0, 1, 2, 3), (0, 0, 0, 2), (2, 3, 1, 4), (0, 0, 0, 0)),\n",
       " ((0, 1, 2, 3), (0, 0, 0, 2), (2, 3, 1, 0), (1, 0, 0, 0)),\n",
       " ((0, 1, 2, 3), (0, 0, 0, 2), (2, 3, 1, 0), (3, 0, 0, 0)),\n",
       " ((0, 1, 2, 3), (0, 0, 0, 2), (2, 3, 1, 0), (4, 0, 0, 0)),\n",
       " ((0, 1, 2, 3), (0, 0, 0, 2), (2, 3, 1, 0), (0, 2, 0, 0)),\n",
       " ((0, 1, 2, 3), (0, 0, 0, 2), (2, 3, 1, 0), (0, 4, 0, 0)),\n",
       " ((0, 1, 2, 3), (0, 0, 0, 2), (2, 3, 1, 0), (0, 0, 3, 0)),\n",
       " ((0, 1, 2, 3), (0, 0, 0, 2), (2, 3, 1, 0), (0, 0, 4, 0)),\n",
       " ((0, 1, 2, 3), (0, 0, 0, 2), (2, 3, 1, 0), (0, 0, 0, 1)),\n",
       " ((0, 1, 2, 3), (0, 0, 0, 2), (2, 3, 1, 0), (0, 0, 0, 4))]"
      ]
     },
     "execution_count": 28,
     "metadata": {},
     "output_type": "execute_result"
    }
   ],
   "source": [
    "expand_state(state)"
   ]
  },
  {
   "cell_type": "code",
   "execution_count": 30,
   "id": "5ff05172-9cb9-4ecb-8107-aaf0bf344b68",
   "metadata": {},
   "outputs": [],
   "source": [
    "from collections import deque"
   ]
  },
  {
   "cell_type": "code",
   "execution_count": 31,
   "id": "62a7be16-b5e5-4a91-a15e-756e78e91645",
   "metadata": {},
   "outputs": [],
   "source": [
    "def depth_first_search(initial_state):\n",
    "    \n",
    "    queue = deque([initial_state])\n",
    "    visited = {initial_state}\n",
    "    \n",
    "    while queue:\n",
    "        state_to_expand = queue.popleft()\n",
    "        #state_to_expand = list_to_expand[-1]\n",
    "        \n",
    "        for next_state in expand_state(state_to_expand):\n",
    "            if next_state not in visited:\n",
    "                how_many_zeroes = 0\n",
    "                for row in next_state:\n",
    "                    how_many_zeroes += row.count(0)\n",
    "                \n",
    "                if how_many_zeroes == 0: # ako ne preotanale nuli vo state t.e. site polinja se popolnati so senzor\n",
    "                    return next_state # togas zavrsilo prebaruvanjeto, kako rezultat vrati ja poslednata razgraneta sostojba\n",
    "                queue.appendleft(next_state)\n",
    "                visited.add(next_state)"
   ]
  },
  {
   "cell_type": "code",
   "execution_count": 33,
   "id": "482565c9-7b62-4c8c-aed1-301057d98002",
   "metadata": {},
   "outputs": [],
   "source": [
    "result_state = depth_first_search(initial_state)"
   ]
  },
  {
   "cell_type": "code",
   "execution_count": 34,
   "id": "7b8f2075-e8f3-466b-a8a9-b2f566a76893",
   "metadata": {},
   "outputs": [
    {
     "name": "stdout",
     "output_type": "stream",
     "text": [
      "(4, 3, 2, 1)\n",
      "(3, 4, 1, 2)\n",
      "(2, 1, 4, 3)\n",
      "(1, 2, 3, 4)\n"
     ]
    }
   ],
   "source": [
    "for row in result_state:\n",
    "    print(row)"
   ]
  },
  {
   "cell_type": "code",
   "execution_count": null,
   "id": "b249dd64-9832-40ca-859e-b4aa5562c610",
   "metadata": {},
   "outputs": [],
   "source": []
  }
 ],
 "metadata": {
  "kernelspec": {
   "display_name": "Python 3 (ipykernel)",
   "language": "python",
   "name": "python3"
  },
  "language_info": {
   "codemirror_mode": {
    "name": "ipython",
    "version": 3
   },
   "file_extension": ".py",
   "mimetype": "text/x-python",
   "name": "python",
   "nbconvert_exporter": "python",
   "pygments_lexer": "ipython3",
   "version": "3.10.8"
  }
 },
 "nbformat": 4,
 "nbformat_minor": 5
}
