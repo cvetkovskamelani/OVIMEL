{
 "cells": [
  {
   "cell_type": "markdown",
   "id": "337c4c57-67cb-4b89-b923-297d1c7a6720",
   "metadata": {
    "tags": []
   },
   "source": [
    "# СЛЕПО ПРЕБАРУВАЊЕ"
   ]
  },
  {
   "cell_type": "markdown",
   "id": "f329ade7-9991-4aa2-bbcd-9dfcc76c29ce",
   "metadata": {
    "jp-MarkdownHeadingCollapsed": true,
    "tags": []
   },
   "source": [
    "## Објаснување - пребарување по широчина vs по должина"
   ]
  },
  {
   "cell_type": "markdown",
   "id": "b2b60da9-d4cf-40ca-a4e1-54c85b4749bb",
   "metadata": {},
   "source": [
    "По широчина:\n",
    "* треба поќе меморија\n",
    "* бара ниво по ниво\n",
    "* го наоѓа најкраткио пат, поспоро\n",
    "* се користи коќе не' интересира најкраткото решение\n",
    "    * т.е. коќе на излез ја сакаме цела постапка, а **крајната состојба веќе знајме шо треба да биди**\n",
    "    * пр. движење коњ во најмалце чекори, движење плочки сложувалка во најмалце чекори, преминвање мост/река\n",
    "\n",
    "По должина:\n",
    "* бара помалце меморија\n",
    "* бара подстебло по подстебло\n",
    "    * разгранва едно стебло до крај, па после backtrack-нува\n",
    "        * ако некое од тие стебла е бесконечно, ќе се заглави во бесконечен loop\n",
    "* не секогаш го наоѓа најкраткио пат, ама е побрз\n",
    "* се користи коќе не' интересира едно решение, а не оптималното\n",
    "    * т.е. коќе **на излез неќиме постапка, туку крајна состојба**\n",
    "    * пр. еден начин за поставување кралици, судоку\n",
    " "
   ]
  },
  {
   "cell_type": "markdown",
   "id": "3d38f21b-d82c-4066-954a-89aa7c24596d",
   "metadata": {
    "tags": []
   },
   "source": [
    "## Граф"
   ]
  },
  {
   "cell_type": "code",
   "execution_count": 17,
   "id": "bc99ec23-828c-4025-b0b1-94ae616d180e",
   "metadata": {},
   "outputs": [],
   "source": [
    "class Graph():\n",
    "    \n",
    "    def __init__(self):\n",
    "        self.dict = {}\n",
    "    \n",
    "    def add_node(self, node):\n",
    "        self.dict[node] = []\n",
    "        \n",
    "    def add_edge(self, link):\n",
    "        node1, node2 = link\n",
    "        self.dict[node1].append(node2)\n",
    "        self.dict[node2].append(node1)\n",
    "        \n",
    "    def give_nodes(self):\n",
    "        return list(self.dict)\n",
    "    \n",
    "    def give_edges(self):\n",
    "        links = []\n",
    "        for node1 in self.dict:\n",
    "            for node2 in self.dict[node1]:\n",
    "                links.append((node1, node2))\n",
    "        return links\n",
    "    \n",
    "    def give_neighbors(self, node):\n",
    "        return self.dict[node]"
   ]
  },
  {
   "cell_type": "code",
   "execution_count": 18,
   "id": "76a4520f-3978-4ea7-a873-06fa5085d2de",
   "metadata": {},
   "outputs": [],
   "source": [
    "g = Graph()"
   ]
  },
  {
   "cell_type": "code",
   "execution_count": 19,
   "id": "f806b136-024e-4903-8121-84dbe83fcb16",
   "metadata": {},
   "outputs": [
    {
     "data": {
      "text/plain": [
       "['S', 'A', 'B', 'C', 'D', 'E', 'F', 'G', 'H']"
      ]
     },
     "execution_count": 19,
     "metadata": {},
     "output_type": "execute_result"
    }
   ],
   "source": [
    "g.add_node('S')\n",
    "g.add_node('A')\n",
    "g.add_node('B')\n",
    "g.add_node('C')\n",
    "g.add_node('D')\n",
    "g.add_node('E')\n",
    "g.add_node('F')\n",
    "g.add_node('G')\n",
    "g.add_node('H')\n",
    "g.give_nodes()"
   ]
  },
  {
   "cell_type": "code",
   "execution_count": 20,
   "id": "6828fe6e-35ca-4a4b-9e22-a3972e2d0304",
   "metadata": {},
   "outputs": [],
   "source": [
    "g.add_edge(('S', 'A'))\n",
    "g.add_edge(('S', 'C'))\n",
    "g.add_edge(('S', 'G'))\n",
    "g.add_edge(('A', 'B'))\n",
    "g.add_edge(('C', 'D'))\n",
    "g.add_edge(('C', 'E'))\n",
    "g.add_edge(('C', 'F'))\n",
    "g.add_edge(('G', 'F'))\n",
    "g.add_edge(('G', 'H'))\n",
    "g.add_edge(('E', 'H'))"
   ]
  },
  {
   "cell_type": "code",
   "execution_count": 21,
   "id": "9b4c6e5b-9566-4509-8509-d3d1f0e20dbc",
   "metadata": {},
   "outputs": [
    {
     "data": {
      "text/plain": [
       "[('S', 'A'),\n",
       " ('S', 'C'),\n",
       " ('S', 'G'),\n",
       " ('A', 'S'),\n",
       " ('A', 'B'),\n",
       " ('B', 'A'),\n",
       " ('C', 'S'),\n",
       " ('C', 'D'),\n",
       " ('C', 'E'),\n",
       " ('C', 'F'),\n",
       " ('D', 'C'),\n",
       " ('E', 'C'),\n",
       " ('E', 'H'),\n",
       " ('F', 'C'),\n",
       " ('F', 'G'),\n",
       " ('G', 'S'),\n",
       " ('G', 'F'),\n",
       " ('G', 'H'),\n",
       " ('H', 'G'),\n",
       " ('H', 'E')]"
      ]
     },
     "execution_count": 21,
     "metadata": {},
     "output_type": "execute_result"
    }
   ],
   "source": [
    "g.give_edges()"
   ]
  },
  {
   "cell_type": "code",
   "execution_count": 24,
   "id": "9a2d198d-8f9d-4d23-893a-778c59ae80bd",
   "metadata": {},
   "outputs": [],
   "source": [
    "from queue import deque"
   ]
  },
  {
   "cell_type": "code",
   "execution_count": 29,
   "id": "3dbcdd76-12a9-42ae-8545-891126fb9248",
   "metadata": {},
   "outputs": [],
   "source": [
    "def breadth_first_search(graph, initial_node, goal_node):\n",
    "    queue = deque([[initial_node]])\n",
    "    visited = {initial_node}\n",
    "    \n",
    "    if initial_node == goal_node:\n",
    "        return\n",
    "    \n",
    "    while queue:\n",
    "        list_to_expand = queue.popleft()\n",
    "        node_to_expand = list_to_expand[-1]\n",
    "        \n",
    "        for neighbor in graph.give_neighbors(node_to_expand):\n",
    "            if neighbor not in visited:\n",
    "                if neighbor == goal_node:\n",
    "                    return list_to_expand + [neighbor]\n",
    "                queue.append(list_to_expand + [neighbor])\n",
    "                visited.add(neighbor)"
   ]
  },
  {
   "cell_type": "code",
   "execution_count": 30,
   "id": "06d57989-aa85-408e-bdb7-bf8c6a1f9acc",
   "metadata": {},
   "outputs": [
    {
     "data": {
      "text/plain": [
       "['S', 'C', 'E']"
      ]
     },
     "execution_count": 30,
     "metadata": {},
     "output_type": "execute_result"
    }
   ],
   "source": [
    "breadth_first_search(g, 'S', 'E')"
   ]
  },
  {
   "cell_type": "markdown",
   "id": "327c1419-ce0d-4326-b7b0-e8d31a86e07b",
   "metadata": {
    "jp-MarkdownHeadingCollapsed": true,
    "tags": []
   },
   "source": [
    "## Претурање вода од 3 сада"
   ]
  },
  {
   "cell_type": "code",
   "execution_count": 58,
   "id": "96140be0-1da1-432a-89d8-5c344a8626eb",
   "metadata": {},
   "outputs": [],
   "source": [
    "CAPACITY = (5, 8, 10)"
   ]
  },
  {
   "cell_type": "code",
   "execution_count": 59,
   "id": "d6611715-f86f-4266-a483-e62aea6156f3",
   "metadata": {},
   "outputs": [],
   "source": [
    "def transfer_water(CAPACITY, current_state, source_index, sink_index):\n",
    "    list_state = list(current_state)\n",
    "    \n",
    "    if CAPACITY[sink_index] - current_state[sink_index] >= current_state[source_index]:\n",
    "        list_state[sink_index] = current_state[sink_index] + current_state[source_index]\n",
    "        list_state[source_index] = 0\n",
    "        return tuple(list_state)\n",
    "    \n",
    "    list_state[sink_index] = CAPACITY[sink_index]\n",
    "    list_state[source_index] = current_state[source_index] - (CAPACITY[sink_index] - current_state[sink_index])\n",
    "    return tuple(list_state)\n",
    "    \n",
    "# (3, 2, 10)\n",
    "# (5, 7, 10)"
   ]
  },
  {
   "cell_type": "code",
   "execution_count": 60,
   "id": "37e163f8-ff38-4ca6-9ad0-c09aa54f6320",
   "metadata": {},
   "outputs": [
    {
     "data": {
      "text/plain": [
       "(4, 8, 10)"
      ]
     },
     "execution_count": 60,
     "metadata": {},
     "output_type": "execute_result"
    }
   ],
   "source": [
    " transfer_water(CAPACITY, (5, 7, 10), 0, 1) # primer"
   ]
  },
  {
   "cell_type": "code",
   "execution_count": 61,
   "id": "3dcbded7-0123-4750-8815-92516b123f7e",
   "metadata": {},
   "outputs": [],
   "source": [
    "def expand_state(current_state):\n",
    "    states = []\n",
    "    \n",
    "    for index, element in enumerate(current_state):\n",
    "        list_state = list(current_state)\n",
    "        if element > 0:\n",
    "            list_state[index] = 0\n",
    "            states.append(tuple(list_state))\n",
    "            \n",
    "    for index, element in enumerate(current_state):\n",
    "        list_state = list(current_state)\n",
    "        if element < CAPACITY[index]:\n",
    "            list_state[index] = CAPACITY[index]\n",
    "            states.append(tuple(list_state))\n",
    "            \n",
    "    for index1, element1 in enumerate(current_state):\n",
    "        for index2, element2 in enumerate(current_state):\n",
    "            if index1 != index2:\n",
    "                source_index = index1\n",
    "                sink_index = index2\n",
    "                if transfer_water(CAPACITY, current_state, source_index, sink_index) not in states:\n",
    "                    states.append(transfer_water(CAPACITY, current_state, source_index, sink_index))\n",
    "                \n",
    "    return states"
   ]
  },
  {
   "cell_type": "code",
   "execution_count": 62,
   "id": "089252d6-3544-4f2e-b24a-b24dc8fd145b",
   "metadata": {},
   "outputs": [
    {
     "data": {
      "text/plain": [
       "[(0, 8, 10), (5, 0, 10), (5, 8, 0), (5, 8, 10)]"
      ]
     },
     "execution_count": 62,
     "metadata": {},
     "output_type": "execute_result"
    }
   ],
   "source": [
    "expand_state((5, 8, 10))"
   ]
  },
  {
   "cell_type": "code",
   "execution_count": 63,
   "id": "e50203a6-a98f-488d-aa12-fc253684f42a",
   "metadata": {},
   "outputs": [],
   "source": [
    "from queue import deque"
   ]
  },
  {
   "cell_type": "code",
   "execution_count": 66,
   "id": "e3bb8b9f-76f9-4220-94da-6ec4d3c0554b",
   "metadata": {},
   "outputs": [],
   "source": [
    "def breadth_first_search(initial_state, goal_state):\n",
    "    \n",
    "    if initial_state == goal_state:\n",
    "        return initial_state\n",
    "    \n",
    "    queue = deque([[initial_state]])\n",
    "    visited = {initial_state}\n",
    "    \n",
    "    while queue:\n",
    "        list_to_expand = queue.popleft()\n",
    "        state_to_expand = list_to_expand[-1]\n",
    "        for next_state in expand_state(state_to_expand):\n",
    "            if next_state not in visited:\n",
    "                if next_state == goal_state:\n",
    "                    return list_to_expand + [next_state]\n",
    "                queue.append(list_to_expand + [next_state])\n",
    "                visited.add(next_state)\n",
    "    "
   ]
  },
  {
   "cell_type": "code",
   "execution_count": 67,
   "id": "aaa8e323-be59-4587-8c5c-7597359f1fba",
   "metadata": {},
   "outputs": [
    {
     "data": {
      "text/plain": [
       "[(0, 0, 0),\n",
       " (0, 8, 0),\n",
       " (5, 3, 0),\n",
       " (0, 3, 0),\n",
       " (3, 0, 0),\n",
       " (3, 8, 0),\n",
       " (3, 0, 8),\n",
       " (1, 0, 10),\n",
       " (1, 0, 0)]"
      ]
     },
     "execution_count": 67,
     "metadata": {},
     "output_type": "execute_result"
    }
   ],
   "source": [
    "breadth_first_search((0, 0, 0), (1, 0, 0))"
   ]
  },
  {
   "cell_type": "markdown",
   "id": "81b99f78-8fc5-44fa-a38b-d15683ffdbe1",
   "metadata": {
    "jp-MarkdownHeadingCollapsed": true,
    "tags": []
   },
   "source": [
    "## 8 кралици на шаховска табла, ниедна не се напаѓа"
   ]
  },
  {
   "cell_type": "code",
   "execution_count": 144,
   "id": "32d64025-69cc-4094-8c50-dd991f12364f",
   "metadata": {},
   "outputs": [],
   "source": [
    "N = 8"
   ]
  },
  {
   "cell_type": "code",
   "execution_count": 145,
   "id": "163efad6-beb5-40cc-ab34-a053ed88bdf4",
   "metadata": {},
   "outputs": [],
   "source": [
    "def is_valid(current_state, new_queen_row, new_queen_col):\n",
    "    \n",
    "    new_queen_main_diagonal = new_queen_row - new_queen_col # 3\n",
    "    new_queen_counter_diagonal = new_queen_row + new_queen_col # 1\n",
    "    \n",
    "    current_state_without_none = current_state[0:(len(current_state) - current_state.count(None))]\n",
    "    \n",
    "    for queen_row, queen_col in enumerate(current_state_without_none): # queen_row e index na torkata, queen_col e element vo torkata # (0, 0), (1, 2)\n",
    "        if queen_row + queen_col == new_queen_counter_diagonal:\n",
    "            return False\n",
    "        if queen_row - queen_col == new_queen_main_diagonal:\n",
    "            return False\n",
    "        if queen_col == new_queen_col:\n",
    "            return False\n",
    "    return True\n",
    "    \n",
    "# 0 1 2 3\n",
    "\n",
    "# 1 0 0 0  0\n",
    "# 0 0 1 0  1\n",
    "# x N x x  2\n",
    "# x x x x  3"
   ]
  },
  {
   "cell_type": "code",
   "execution_count": 146,
   "id": "1d7a69ad-54ee-406b-b42f-fbd0feeda160",
   "metadata": {},
   "outputs": [
    {
     "data": {
      "text/plain": [
       "True"
      ]
     },
     "execution_count": 146,
     "metadata": {},
     "output_type": "execute_result"
    }
   ],
   "source": [
    "is_valid((0, None, None, None), 1, 2)"
   ]
  },
  {
   "cell_type": "code",
   "execution_count": 147,
   "id": "fda8d852-046b-4b36-bdc7-d0ebe668462d",
   "metadata": {},
   "outputs": [],
   "source": [
    "def expand_state(current_state):\n",
    "    new_queen_row = len(current_state) - current_state.count(None)\n",
    "    states = []\n",
    "    \n",
    "    for new_queen_col in range(N):\n",
    "        state_list = list(current_state)\n",
    "        if is_valid(current_state, new_queen_row, new_queen_col):\n",
    "            state_list[new_queen_row] = new_queen_col\n",
    "            states.append(tuple(state_list))\n",
    "            \n",
    "    return states   \n",
    "\n",
    "# 0 1 2 3\n",
    "\n",
    "# 1 0 0 0  0\n",
    "# 0 0 1 0  1\n",
    "# x x x x  2\n",
    "# x x x x  3\n",
    "\n",
    "# (0, 2, None, None)\n",
    "\n",
    "# new_queen_row == red na kralica\n",
    "# new_queen_col == kol na kralica"
   ]
  },
  {
   "cell_type": "code",
   "execution_count": 148,
   "id": "b5f98705-9a35-4d96-86f6-babaea6ed703",
   "metadata": {},
   "outputs": [
    {
     "data": {
      "text/plain": [
       "[(0, 1, 3, None),\n",
       " (0, 1, 4, None),\n",
       " (0, 1, 5, None),\n",
       " (0, 1, 6, None),\n",
       " (0, 1, 7, None)]"
      ]
     },
     "execution_count": 148,
     "metadata": {},
     "output_type": "execute_result"
    }
   ],
   "source": [
    "expand_state((0, 1, None, None))"
   ]
  },
  {
   "cell_type": "code",
   "execution_count": 149,
   "id": "8f632871-d197-435a-a087-ccd123cb4340",
   "metadata": {},
   "outputs": [],
   "source": [
    "from collections import deque"
   ]
  },
  {
   "cell_type": "code",
   "execution_count": 150,
   "id": "259e2f27-babb-4144-add1-42175cf14839",
   "metadata": {},
   "outputs": [],
   "source": [
    "def depth_first_search(initial_state):\n",
    "    \n",
    "    queue = deque([initial_state])\n",
    "    visited = {initial_state}\n",
    "    \n",
    "    while queue:\n",
    "        state_to_expand = queue.popleft()\n",
    "        #state_to_expand = list_to_expand[-1]\n",
    "        \n",
    "        for next_state in expand_state(state_to_expand):\n",
    "            if next_state not in visited:\n",
    "                if next_state.count(None) == 0:\n",
    "                    return next_state\n",
    "                queue.appendleft(next_state)\n",
    "                visited.add(next_state)\n",
    "                   \n",
    " # [ (None, None, None, None) ]"
   ]
  },
  {
   "cell_type": "code",
   "execution_count": 151,
   "id": "0b141386-d4fb-45b3-9458-ef7216a4911e",
   "metadata": {},
   "outputs": [
    {
     "data": {
      "text/plain": [
       "(7, 3, 0, 2, 5, 1, 6, 4)"
      ]
     },
     "execution_count": 151,
     "metadata": {},
     "output_type": "execute_result"
    }
   ],
   "source": [
    "depth_first_search((None, None, None, None, None, None, None, None))"
   ]
  },
  {
   "cell_type": "code",
   "execution_count": 152,
   "id": "063e1a6c-df2d-444a-929b-7d83e1c4cc67",
   "metadata": {},
   "outputs": [
    {
     "data": {
      "text/plain": [
       "'\\n   0 1 2 3 4 5 6 7\\n0  _ _ _ _ _ _ _ x\\n1  _ _ _ x _ _ _ _\\n2  x _ _ _ _ _ _ _\\n3  _ _ x _ _ _ _ _ \\n4  _ _ _ _ _ x _ _\\n5  _ x _ _ _ _ _ _\\n6  _ _ _ _ _ _ x _\\n7  _ _ _ _ x _ _ _\\n'"
      ]
     },
     "execution_count": 152,
     "metadata": {},
     "output_type": "execute_result"
    }
   ],
   "source": [
    "'''\n",
    "   0 1 2 3 4 5 6 7\n",
    "0  _ _ _ _ _ _ _ x\n",
    "1  _ _ _ x _ _ _ _\n",
    "2  x _ _ _ _ _ _ _\n",
    "3  _ _ x _ _ _ _ _ \n",
    "4  _ _ _ _ _ x _ _\n",
    "5  _ x _ _ _ _ _ _\n",
    "6  _ _ _ _ _ _ x _\n",
    "7  _ _ _ _ x _ _ _\n",
    "'''"
   ]
  },
  {
   "cell_type": "markdown",
   "id": "9235af9b-115a-497c-86c4-b1b71d49ad4b",
   "metadata": {
    "jp-MarkdownHeadingCollapsed": true,
    "tags": []
   },
   "source": [
    "## Судоку"
   ]
  },
  {
   "cell_type": "code",
   "execution_count": 153,
   "id": "003733fb-6d30-45ee-b123-0b6fd7a85166",
   "metadata": {},
   "outputs": [],
   "source": [
    "import math\n",
    "import copy"
   ]
  },
  {
   "cell_type": "code",
   "execution_count": 154,
   "id": "b659ab59-639d-416b-9d9b-2eb01bcc24b5",
   "metadata": {},
   "outputs": [],
   "source": [
    "def is_valid(current_state, number, number_row, number_col):\n",
    "   \n",
    "    if number in current_state[number_row]:\n",
    "        return False\n",
    "    \n",
    "    for row in current_state:\n",
    "        if row[number_col] == number:\n",
    "            return False\n",
    "        \n",
    "    if number_row - number_col == 0: # ako brojot go pisime vo glavnata dijagonala\n",
    "        main_diagonal_elements = []\n",
    "        for i, row in enumerate(current_state):\n",
    "            for j in range(9):\n",
    "                if i - j == 0:\n",
    "                    main_diagonal_elements.append(row[j])         \n",
    "        if number in main_diagonal_elements:\n",
    "            return False\n",
    "        \n",
    "    if number_row + number_col == 8:\n",
    "        counter_diagonal_elements = []\n",
    "        for i, row in enumerate(current_state):\n",
    "            for j in range(9):\n",
    "                if i + j == 8:\n",
    "                    counter_diagonal_elements.append(row[j])\n",
    "        if number in counter_diagonal_elements:\n",
    "            return False\n",
    "        \n",
    "    square_list = [\n",
    "        [[], [], []],\n",
    "        [[], [], []],\n",
    "        [[], [], []]\n",
    "    ]    \n",
    "    square_row = math.floor(number_row / 3)\n",
    "    square_col = math.floor(number_col / 3)\n",
    "    \n",
    "    for i in range(9):\n",
    "        for j in range(9):\n",
    "            square_i = math.floor(i / 3)\n",
    "            square_j = math.floor(j / 3)\n",
    "            square_list[square_i][square_j].append(current_state[i][j])\n",
    "      \n",
    "    if number in square_list[square_row][square_col]:\n",
    "        return False\n",
    "    \n",
    "    return True  \n",
    "    \n",
    "\n",
    "# 9 redici so 9 koloni => lista od 9 torki, so po 9 elementi po torka\n",
    "# [ (1, 3, None, None, 5, 6, None, None, None), (2, 5, ...) ]\n"
   ]
  },
  {
   "cell_type": "code",
   "execution_count": 177,
   "id": "a26420b0-2303-4407-b2d9-dd15d604bfa6",
   "metadata": {},
   "outputs": [],
   "source": [
    "state = (\n",
    "    (None, None, None, None, 5, 6, 7, 8, None),\n",
    "    (1, None, None, None, None, None, 3, None, None),\n",
    "    (2, 7, None, 3, None, None, None, None, None),\n",
    "    (3, None, None, None, None, None, 9, None, None),\n",
    "    (4, None, None, None, None, None, None, None, 2),\n",
    "    (None, None, 9, None, None, None, None, None, 3),\n",
    "    (None, None, None, None, None, 7, None, 5, 4),\n",
    "    (None, None, 2, None, None, None, None, None, 8),\n",
    "    (None, 4, 5, 6, 3, None, None, None, None)\n",
    ")"
   ]
  },
  {
   "cell_type": "code",
   "execution_count": 178,
   "id": "84a3454e-548f-40be-8689-791c8ec6b6a6",
   "metadata": {},
   "outputs": [
    {
     "data": {
      "text/plain": [
       "True"
      ]
     },
     "execution_count": 178,
     "metadata": {},
     "output_type": "execute_result"
    }
   ],
   "source": [
    "is_valid(state, 1, 0, 3) # primer"
   ]
  },
  {
   "cell_type": "code",
   "execution_count": 179,
   "id": "f8e87d73-e550-452e-b22e-495dbae0372a",
   "metadata": {},
   "outputs": [
    {
     "data": {
      "text/plain": [
       "5"
      ]
     },
     "execution_count": 179,
     "metadata": {},
     "output_type": "execute_result"
    }
   ],
   "source": [
    "current_state[0][4]"
   ]
  },
  {
   "cell_type": "code",
   "execution_count": 180,
   "id": "c277469d-6e83-4a25-9702-56661621bddf",
   "metadata": {},
   "outputs": [],
   "source": [
    "def expand_state(current_state):\n",
    "    states = []\n",
    "    \n",
    "    for i in range(9):\n",
    "        do_break = False\n",
    "        for j in range(9):\n",
    "            if current_state[i][j] == None:\n",
    "                number_row = i\n",
    "                number_col = j\n",
    "                do_break = True\n",
    "                break\n",
    "        if do_break:\n",
    "            break\n",
    "            \n",
    "    for number in range(1, 10):\n",
    "        if is_valid(current_state, number, number_row, number_col):\n",
    "            new_state = []\n",
    "            for row in current_state:\n",
    "                new_state.append(list(row))\n",
    "            \n",
    "            new_state[number_row][number_col] = number\n",
    "            new_state_tuple = []\n",
    "            for row in new_state:\n",
    "                new_state_tuple.append(tuple(row))\n",
    "            states.append(tuple(new_state_tuple))\n",
    "           \n",
    "    return states"
   ]
  },
  {
   "cell_type": "code",
   "execution_count": 181,
   "id": "1519ce97-4ce7-4ec1-9335-3b4e9aaa879b",
   "metadata": {},
   "outputs": [
    {
     "data": {
      "text/plain": [
       "[((9, None, None, None, 5, 6, 7, 8, None),\n",
       "  (1, None, None, None, None, None, 3, None, None),\n",
       "  (2, 7, None, 3, None, None, None, None, None),\n",
       "  (3, None, None, None, None, None, 9, None, None),\n",
       "  (4, None, None, None, None, None, None, None, 2),\n",
       "  (None, None, 9, None, None, None, None, None, 3),\n",
       "  (None, None, None, None, None, 7, None, 5, 4),\n",
       "  (None, None, 2, None, None, None, None, None, 8),\n",
       "  (None, 4, 5, 6, 3, None, None, None, None))]"
      ]
     },
     "execution_count": 181,
     "metadata": {},
     "output_type": "execute_result"
    }
   ],
   "source": [
    "expand_state(state)"
   ]
  },
  {
   "cell_type": "code",
   "execution_count": 182,
   "id": "e8a1fa3c-76ea-46ee-a22a-a7328a784ecd",
   "metadata": {},
   "outputs": [],
   "source": [
    "from collections import deque"
   ]
  },
  {
   "cell_type": "code",
   "execution_count": 2,
   "id": "9f8e66f6-34b3-435e-ac7e-4de52c732d98",
   "metadata": {},
   "outputs": [],
   "source": [
    "def depth_first_search(initial_state):\n",
    "    \n",
    "    queue = deque([initial_state])\n",
    "    visited = {initial_state}\n",
    "    \n",
    "    while queue:\n",
    "        state_to_expand = queue.popleft()\n",
    "        \n",
    "        for next_state in expand_state(state_to_expand):\n",
    "            if next_state not in visited:\n",
    "                how_many_nones = 0\n",
    "                for row in next_state:\n",
    "                    how_many_nones += row.count(None)\n",
    "                if how_many_nones == 0:\n",
    "                    return next_state\n",
    "                queue.appendleft(next_state)\n",
    "                visited.add(next_state)\n",
    "                        \n",
    "    "
   ]
  },
  {
   "cell_type": "code",
   "execution_count": 3,
   "id": "80337369-87f8-4626-8aa9-83e77036b4b6",
   "metadata": {},
   "outputs": [
    {
     "ename": "NameError",
     "evalue": "name 'state' is not defined",
     "output_type": "error",
     "traceback": [
      "\u001b[1;31m---------------------------------------------------------------------------\u001b[0m",
      "\u001b[1;31mNameError\u001b[0m                                 Traceback (most recent call last)",
      "Cell \u001b[1;32mIn [3], line 1\u001b[0m\n\u001b[1;32m----> 1\u001b[0m depth_first_search(\u001b[43mstate\u001b[49m)\n",
      "\u001b[1;31mNameError\u001b[0m: name 'state' is not defined"
     ]
    }
   ],
   "source": [
    "depth_first_search(state)"
   ]
  },
  {
   "cell_type": "markdown",
   "id": "3c20f082-35fe-4725-bc20-f009f7734b23",
   "metadata": {
    "jp-MarkdownHeadingCollapsed": true,
    "tags": []
   },
   "source": [
    "## Игра со плочки"
   ]
  },
  {
   "cell_type": "code",
   "execution_count": 3,
   "id": "6f89c895-377a-47d0-9448-b2e60ecd442f",
   "metadata": {},
   "outputs": [],
   "source": [
    "# [ (0, 5, 3),\n",
    "#   (7, 8, 4),\n",
    "#   (2, 6, 1) ]\n",
    "\n",
    "# (0, 1, 2, 3, 4, 5, 6, 7, 8)\n",
    "\n",
    "state = ((0, 5, 3),\n",
    "         (7, 8, 4),\n",
    "         (2, 6, 1))\n",
    "\n",
    "goal_state = ((0, 1, 2),\n",
    "              (3, 4, 5),\n",
    "              (6, 7, 8))"
   ]
  },
  {
   "cell_type": "code",
   "execution_count": 23,
   "id": "34fa1e9a-e9af-475a-82ec-378d940a1020",
   "metadata": {},
   "outputs": [],
   "source": [
    "def move_tile(state, tile_position, zero_position):\n",
    "    tile_row, tile_col = tile_position\n",
    "    zero_row, zero_col = zero_position\n",
    "    state_list = []\n",
    "    for row in state:\n",
    "        state_list.append(list(row))\n",
    "        \n",
    "    state_list[zero_row][zero_col] = state[tile_row][tile_col]\n",
    "    state_list[tile_row][tile_col] = state[zero_row][zero_col]\n",
    "    \n",
    "    state_tuple = []\n",
    "    for row in state_list:\n",
    "        state_tuple.append(tuple(row))\n",
    "        \n",
    "    return tuple(state_tuple)\n",
    "    "
   ]
  },
  {
   "cell_type": "code",
   "execution_count": 24,
   "id": "6402bf73-82a2-4c12-a96a-ec19ed8e7f3e",
   "metadata": {},
   "outputs": [
    {
     "data": {
      "text/plain": [
       "((5, 0, 3), (7, 8, 4), (2, 6, 1))"
      ]
     },
     "execution_count": 24,
     "metadata": {},
     "output_type": "execute_result"
    }
   ],
   "source": [
    "move_tile(state, (0, 1), (0, 0)) # primer"
   ]
  },
  {
   "cell_type": "code",
   "execution_count": 29,
   "id": "98d36a93-596b-4b64-9ec5-0669ad61cb41",
   "metadata": {},
   "outputs": [],
   "source": [
    "def expand_state(state):\n",
    "    states_list = []\n",
    "    \n",
    "    for index_row, row in enumerate(state):\n",
    "        if 0 in row:\n",
    "            zero_position = (index_row, row.index(0))\n",
    "            break\n",
    "            \n",
    "    zero_row, zero_col = zero_position\n",
    "            \n",
    "    tile_indexes_to_move = [(zero_row+1, zero_col),\n",
    "                            (zero_row-1, zero_col),\n",
    "                            (zero_row, zero_col+1),\n",
    "                            (zero_row, zero_col-1)] \n",
    "    \n",
    "            # [(1, 0), (0, 1)]\n",
    "            \n",
    "    for index_row, index_col in tile_indexes_to_move:\n",
    "        if (index_row < 0 or index_row >= 3) or (index_col < 0 or index_col >= 3):\n",
    "            continue\n",
    "        states_list.append(move_tile(state, (index_row, index_col), zero_position))\n",
    "        \n",
    "    return states_list\n",
    "            \n",
    "    "
   ]
  },
  {
   "cell_type": "code",
   "execution_count": 30,
   "id": "6ccefdf9-91f2-450a-a1d5-0049a98f75b7",
   "metadata": {},
   "outputs": [
    {
     "data": {
      "text/plain": [
       "[((7, 5, 3), (0, 8, 4), (2, 6, 1)), ((5, 0, 3), (7, 8, 4), (2, 6, 1))]"
      ]
     },
     "execution_count": 30,
     "metadata": {},
     "output_type": "execute_result"
    }
   ],
   "source": [
    "expand_state(state)"
   ]
  },
  {
   "cell_type": "code",
   "execution_count": 31,
   "id": "7935b821-0a71-43e2-8e8e-dd7806f54632",
   "metadata": {},
   "outputs": [],
   "source": [
    "from collections import deque\n",
    "\n",
    "def breadth_first_search(initial_state, goal_state):\n",
    "    if initial_state == goal_state:\n",
    "        return\n",
    "    \n",
    "    queue = deque([[initial_state]])\n",
    "    visited = {initial_state}\n",
    "    \n",
    "    while queue:\n",
    "        list_to_expand = queue.popleft()\n",
    "        state_to_expand = list_to_expand[-1]\n",
    "        \n",
    "        for next_state in expand_state(state_to_expand):\n",
    "            if next_state not in visited:\n",
    "                if next_state == goal_state:\n",
    "                    return list_to_expand + [next_state]\n",
    "                queue.append(list_to_expand + [next_state])\n",
    "                visited.add(next_state)\n",
    "                "
   ]
  },
  {
   "cell_type": "code",
   "execution_count": 34,
   "id": "d2726bf1-29f2-4a37-bd8f-30b6ae92a0bc",
   "metadata": {},
   "outputs": [
    {
     "name": "stdout",
     "output_type": "stream",
     "text": [
      "CPU times: total: 3.97 s\n",
      "Wall time: 4.05 s\n"
     ]
    },
    {
     "data": {
      "text/plain": [
       "[((0, 5, 3), (7, 8, 4), (2, 6, 1)),\n",
       " ((5, 0, 3), (7, 8, 4), (2, 6, 1)),\n",
       " ((5, 3, 0), (7, 8, 4), (2, 6, 1)),\n",
       " ((5, 3, 4), (7, 8, 0), (2, 6, 1)),\n",
       " ((5, 3, 4), (7, 0, 8), (2, 6, 1)),\n",
       " ((5, 3, 4), (7, 6, 8), (2, 0, 1)),\n",
       " ((5, 3, 4), (7, 6, 8), (0, 2, 1)),\n",
       " ((5, 3, 4), (0, 6, 8), (7, 2, 1)),\n",
       " ((5, 3, 4), (6, 0, 8), (7, 2, 1)),\n",
       " ((5, 3, 4), (6, 2, 8), (7, 0, 1)),\n",
       " ((5, 3, 4), (6, 2, 8), (7, 1, 0)),\n",
       " ((5, 3, 4), (6, 2, 0), (7, 1, 8)),\n",
       " ((5, 3, 4), (6, 0, 2), (7, 1, 8)),\n",
       " ((5, 3, 4), (6, 1, 2), (7, 0, 8)),\n",
       " ((5, 3, 4), (6, 1, 2), (0, 7, 8)),\n",
       " ((5, 3, 4), (0, 1, 2), (6, 7, 8)),\n",
       " ((0, 3, 4), (5, 1, 2), (6, 7, 8)),\n",
       " ((3, 0, 4), (5, 1, 2), (6, 7, 8)),\n",
       " ((3, 1, 4), (5, 0, 2), (6, 7, 8)),\n",
       " ((3, 1, 4), (0, 5, 2), (6, 7, 8)),\n",
       " ((0, 1, 4), (3, 5, 2), (6, 7, 8)),\n",
       " ((1, 0, 4), (3, 5, 2), (6, 7, 8)),\n",
       " ((1, 4, 0), (3, 5, 2), (6, 7, 8)),\n",
       " ((1, 4, 2), (3, 5, 0), (6, 7, 8)),\n",
       " ((1, 4, 2), (3, 0, 5), (6, 7, 8)),\n",
       " ((1, 0, 2), (3, 4, 5), (6, 7, 8)),\n",
       " ((0, 1, 2), (3, 4, 5), (6, 7, 8))]"
      ]
     },
     "execution_count": 34,
     "metadata": {},
     "output_type": "execute_result"
    }
   ],
   "source": [
    "%%time\n",
    "\n",
    "breadth_first_search(state, goal_state)"
   ]
  },
  {
   "cell_type": "markdown",
   "id": "6d16260e-6187-4bd3-9b24-10631b6703ff",
   "metadata": {
    "jp-MarkdownHeadingCollapsed": true,
    "tags": []
   },
   "source": [
    "## Преминување река - мажи и деца"
   ]
  },
  {
   "cell_type": "markdown",
   "id": "991a27b3-b990-4c94-a536-25cee8cb51be",
   "metadata": {},
   "source": [
    "Два мажи и две деца треба да ја преминат реката. \n",
    "   * Чамецот може да издржи само еден маж или пак две деца наеднаш.\n",
    "   * Сите знаат да веслаат."
   ]
  },
  {
   "cell_type": "code",
   "execution_count": 46,
   "id": "839241a3-cfb0-43fa-91c6-7b4034e6cb7f",
   "metadata": {},
   "outputs": [],
   "source": [
    "def one_person_goes(state, person_index):\n",
    "    state_list = list(state)\n",
    "    state_list[person_index] = state_list[4] = 1\n",
    "    return tuple(state_list)"
   ]
  },
  {
   "cell_type": "code",
   "execution_count": 52,
   "id": "93851ca9-bb88-4533-9c17-fa0ee8cccc9d",
   "metadata": {},
   "outputs": [],
   "source": [
    "def two_kids_go(state):\n",
    "    state_list = list(state)\n",
    "    state_list[2] = state_list[3] = state_list[4] = 1\n",
    "    return tuple(state_list)"
   ]
  },
  {
   "cell_type": "code",
   "execution_count": 48,
   "id": "9a8e03a6-017d-406f-9f8e-514f494960aa",
   "metadata": {},
   "outputs": [],
   "source": [
    "def one_person_comes(state, person_index):\n",
    "    state_list = list(state)\n",
    "    state_list[person_index] = state_list[4] = 0\n",
    "    return tuple(state_list)"
   ]
  },
  {
   "cell_type": "code",
   "execution_count": 53,
   "id": "1090891c-c572-4ef6-939d-8e0feaa13346",
   "metadata": {},
   "outputs": [],
   "source": [
    "def two_kids_come(state):\n",
    "    state_list = list(state)\n",
    "    state_list[2] = state_list[3] = state_list[4] = 0\n",
    "    return tuple(state_list)"
   ]
  },
  {
   "cell_type": "code",
   "execution_count": 54,
   "id": "314e03c5-51a3-4ef0-8cde-48642acedf32",
   "metadata": {},
   "outputs": [],
   "source": [
    "# (0, 0, 0, 0, 0) = (maz, maz, dete, dete, camec)\n",
    "\n",
    "def expand_state(state):\n",
    "    states = []\n",
    "    \n",
    "    if state[4] == 0: # nekoj treba da odi\n",
    "        for index in range(4):\n",
    "            if state[index] == 0:\n",
    "                states.append(one_person_goes(state, index))\n",
    "        \n",
    "        if state[2] == 0 and state[3] == 0:\n",
    "            states.append(two_kids_go(state))\n",
    "            \n",
    "    if state[4] == 1:\n",
    "        for index in range(4):\n",
    "            if state[index] == 1:\n",
    "                states.append(one_person_comes(state, index))\n",
    "                \n",
    "        if state[2] == 1 and state[3] == 1:\n",
    "            states.append(two_kids_come(state))\n",
    "            \n",
    "    return states\n",
    "        "
   ]
  },
  {
   "cell_type": "code",
   "execution_count": 55,
   "id": "a64dd25f-657b-445f-95fe-ddb861b8c049",
   "metadata": {},
   "outputs": [
    {
     "data": {
      "text/plain": [
       "[(1, 0, 0, 0, 1),\n",
       " (0, 1, 0, 0, 1),\n",
       " (0, 0, 1, 0, 1),\n",
       " (0, 0, 0, 1, 1),\n",
       " (0, 0, 1, 1, 1)]"
      ]
     },
     "execution_count": 55,
     "metadata": {},
     "output_type": "execute_result"
    }
   ],
   "source": [
    "expand_state((0, 0, 0, 0, 0))"
   ]
  },
  {
   "cell_type": "code",
   "execution_count": 58,
   "id": "b349f1bd-0e63-40f4-ab8e-5de993fce03f",
   "metadata": {},
   "outputs": [],
   "source": [
    "from collections import deque\n",
    "\n",
    "def breadth_first_search(initial_state, goal_state):\n",
    "    if initial_state == goal_state:\n",
    "        return\n",
    "    \n",
    "    queue = deque([[initial_state]])\n",
    "    visited = {initial_state}\n",
    "    \n",
    "    while queue:\n",
    "        list_to_expand = queue.popleft()\n",
    "        state_to_expand = list_to_expand[-1]\n",
    "        \n",
    "        for next_state in expand_state(state_to_expand):\n",
    "            if next_state not in visited:\n",
    "                if next_state == goal_state:\n",
    "                    return list_to_expand + [next_state]\n",
    "                queue.append(list_to_expand + [next_state])\n",
    "                visited.add(next_state)\n",
    "                "
   ]
  },
  {
   "cell_type": "code",
   "execution_count": 59,
   "id": "6d0526c7-daf6-4d3a-81dc-a926b3b84f5f",
   "metadata": {},
   "outputs": [
    {
     "data": {
      "text/plain": [
       "[(0, 0, 0, 0, 0),\n",
       " (0, 0, 1, 1, 1),\n",
       " (0, 0, 0, 1, 0),\n",
       " (1, 0, 0, 1, 1),\n",
       " (1, 0, 0, 0, 0),\n",
       " (1, 0, 1, 1, 1),\n",
       " (1, 0, 0, 1, 0),\n",
       " (1, 1, 0, 1, 1),\n",
       " (1, 1, 0, 0, 0),\n",
       " (1, 1, 1, 1, 1)]"
      ]
     },
     "execution_count": 59,
     "metadata": {},
     "output_type": "execute_result"
    }
   ],
   "source": [
    "breadth_first_search((0, 0, 0, 0, 0), (1, 1, 1, 1, 1))"
   ]
  },
  {
   "cell_type": "markdown",
   "id": "8b40db40-6ebd-4aef-bc05-9ccf980d47ca",
   "metadata": {
    "jp-MarkdownHeadingCollapsed": true,
    "tags": []
   },
   "source": [
    "## Преминување река - фамилија"
   ]
  },
  {
   "cell_type": "markdown",
   "id": "7fa5bf7d-eb21-4072-9e4d-7011c05f5256",
   "metadata": {},
   "source": [
    "Шест луѓе треба да ја преминат реката. Дедо, баба, татко, мајка, момче и девојче.\n",
    "   * Само мажите знаат да веслаат.\n",
    "   * Чамецот може да издржи највеќе двајца.\n",
    "   * Дедото не сака да биде придружуван во чамецот.\n",
    "   * Девојчето може да ја премине реката единствено со татко и."
   ]
  },
  {
   "cell_type": "code",
   "execution_count": 96,
   "id": "683fad14-6d62-40a7-9dc0-dc57a395c38a",
   "metadata": {},
   "outputs": [],
   "source": [
    "# (grandma, grandpa, dad, mom, boy, girl, boat)\n",
    "\n",
    "grandma_index, grandpa_index, dad_index, mom_index, boy_index, girl_index, boat_index = range(7)"
   ]
  },
  {
   "cell_type": "code",
   "execution_count": 97,
   "id": "1352ccf2-a7a7-452d-82a9-6e3fecd541c7",
   "metadata": {},
   "outputs": [],
   "source": [
    "def one_person_goes(state, person_index):\n",
    "    state_list = list(state)\n",
    "    state_list[person_index] = state_list[boat_index] = 1\n",
    "    #print(state_list)\n",
    "    return tuple(state_list)"
   ]
  },
  {
   "cell_type": "code",
   "execution_count": 98,
   "id": "7a7f3925-427a-45d6-894c-321f2e91dff0",
   "metadata": {},
   "outputs": [
    {
     "data": {
      "text/plain": [
       "(1, 0, 0, 0, 0, 0, 1)"
      ]
     },
     "execution_count": 98,
     "metadata": {},
     "output_type": "execute_result"
    }
   ],
   "source": [
    "one_person_goes((0, 0, 0, 0, 0, 0, 0), 0)"
   ]
  },
  {
   "cell_type": "code",
   "execution_count": 99,
   "id": "29913d1b-10ff-4299-9ba6-564e1dadc3ab",
   "metadata": {},
   "outputs": [],
   "source": [
    "def two_people_go(state, person1_index, person2_index):\n",
    "    state_list = list(state)\n",
    "    state_list[person1_index] = state_list[person2_index] = state_list[boat_index] = 1\n",
    "    return tuple(state_list)"
   ]
  },
  {
   "cell_type": "code",
   "execution_count": 100,
   "id": "f138f954-0853-496c-926b-139232e7bebc",
   "metadata": {},
   "outputs": [
    {
     "data": {
      "text/plain": [
       "(1, 1, 0, 0, 0, 0, 1)"
      ]
     },
     "execution_count": 100,
     "metadata": {},
     "output_type": "execute_result"
    }
   ],
   "source": [
    "two_people_go((0, 0, 0, 0, 0, 0, 0), 0, 1)"
   ]
  },
  {
   "cell_type": "code",
   "execution_count": 101,
   "id": "793cbfb7-4197-493f-b286-820b58ead2aa",
   "metadata": {},
   "outputs": [],
   "source": [
    "def one_person_comes(state, person_index):\n",
    "    state_list = list(state)\n",
    "    state_list[person_index] = state_list[boat_index] = 0\n",
    "    return tuple(state_list)"
   ]
  },
  {
   "cell_type": "code",
   "execution_count": 102,
   "id": "b99803a0-5271-4ab4-bd60-7c76956e38fb",
   "metadata": {},
   "outputs": [],
   "source": [
    "def two_people_come(state, person1_index, person2_index):\n",
    "    state_list = list(state)\n",
    "    state_list[person1_index] = state_list[person2_index] = state_list[boat_index] = 0\n",
    "    return tuple(state_list)"
   ]
  },
  {
   "cell_type": "code",
   "execution_count": 103,
   "id": "379aa0dc-65e8-44d6-b055-683b707f0c1c",
   "metadata": {},
   "outputs": [],
   "source": [
    "def expand_state(state):\n",
    "    \n",
    "    states = []\n",
    "    \n",
    "    if state[boat_index] == 0:\n",
    "        \n",
    "        if state[grandpa_index] == 0:\n",
    "            states.append(one_person_goes(state, grandpa_index))\n",
    "        \n",
    "        if state[dad_index] == 0 and state[girl_index] == 0:\n",
    "            states.append(two_people_go(state, dad_index, girl_index))\n",
    "            \n",
    "        for man_index in [dad_index, boy_index]:\n",
    "            if state[man_index] == 0:\n",
    "                states.append(one_person_goes(state, man_index))\n",
    "\n",
    "                for other_index in [grandma_index, dad_index, boy_index, mom_index]:\n",
    "                    if man_index != other_index and state[other_index] == 0:\n",
    "                        states.append(two_people_go(state, man_index, other_index))\n",
    "                        \n",
    "    if state[boat_index] == 1:\n",
    "        \n",
    "        if state[grandpa_index] == 1:\n",
    "            states.append(one_person_comes(state, grandpa_index))\n",
    "            \n",
    "        if state[dad_index] == 1 and state[girl_index] == 1:\n",
    "            states.append(two_people_come(state, dad_index, girl_index))\n",
    "            \n",
    "        for man_index in [dad_index, boy_index]:\n",
    "            if state[man_index] == 1:\n",
    "                states.append(one_person_comes(state, man_index))\n",
    "                \n",
    "                for other_index in [grandma_index, dad_index, boy_index, mom_index]:\n",
    "                    if man_index != other_index and state[other_index] == 1:\n",
    "                        states.append(two_people_come(state, man_index, other_index))\n",
    "                        \n",
    "    return states"
   ]
  },
  {
   "cell_type": "code",
   "execution_count": 104,
   "id": "7954062c-8a99-4212-ac15-2d8b0199ce47",
   "metadata": {},
   "outputs": [
    {
     "data": {
      "text/plain": [
       "[(0, 1, 0, 0, 0, 0, 1),\n",
       " (0, 0, 1, 0, 0, 1, 1),\n",
       " (0, 0, 1, 0, 0, 0, 1),\n",
       " (1, 0, 1, 0, 0, 0, 1),\n",
       " (0, 0, 1, 0, 1, 0, 1),\n",
       " (0, 0, 1, 1, 0, 0, 1),\n",
       " (0, 0, 0, 0, 1, 0, 1),\n",
       " (1, 0, 0, 0, 1, 0, 1),\n",
       " (0, 0, 1, 0, 1, 0, 1),\n",
       " (0, 0, 0, 1, 1, 0, 1)]"
      ]
     },
     "execution_count": 104,
     "metadata": {},
     "output_type": "execute_result"
    }
   ],
   "source": [
    "expand_state((0, 0, 0, 0, 0, 0, 0))\n",
    "# (grandma, grandpa, dad, mom, boy, girl, boat)"
   ]
  },
  {
   "cell_type": "code",
   "execution_count": 109,
   "id": "d2081dc0-f3c6-4c3f-81d4-a129bbd641eb",
   "metadata": {},
   "outputs": [],
   "source": [
    "from collections import deque\n",
    "\n",
    "def breadth_first_search(initial_state, goal_state):\n",
    "    \n",
    "    if initial_state == goal_state:\n",
    "        return\n",
    "    \n",
    "    queue = deque([[initial_state]])\n",
    "    visited = {initial_state}\n",
    "    \n",
    "    while queue:\n",
    "        list_to_expand = queue.popleft()\n",
    "        state_to_expand = list_to_expand[-1]\n",
    "        \n",
    "        for next_state in expand_state(state_to_expand):\n",
    "            if next_state not in visited:\n",
    "                if next_state == goal_state:\n",
    "                    return list_to_expand + [next_state]\n",
    "                visited.add(next_state)\n",
    "                queue.append(list_to_expand + [next_state])\n",
    "                \n",
    "    \n",
    "    "
   ]
  },
  {
   "cell_type": "code",
   "execution_count": 111,
   "id": "cadc8e27-7dca-4985-9e9d-c4d7f9072b60",
   "metadata": {},
   "outputs": [
    {
     "data": {
      "text/plain": [
       "[(0, 0, 0, 0, 0, 0, 0),\n",
       " (0, 0, 1, 0, 0, 1, 1),\n",
       " (0, 0, 0, 0, 0, 1, 0),\n",
       " (1, 0, 1, 0, 0, 1, 1),\n",
       " (1, 0, 0, 0, 0, 1, 0),\n",
       " (1, 0, 1, 0, 1, 1, 1),\n",
       " (1, 0, 0, 0, 1, 1, 0),\n",
       " (1, 1, 0, 0, 1, 1, 1),\n",
       " (1, 1, 0, 0, 0, 1, 0),\n",
       " (1, 1, 1, 0, 1, 1, 1),\n",
       " (1, 1, 0, 0, 1, 1, 0),\n",
       " (1, 1, 1, 1, 1, 1, 1)]"
      ]
     },
     "execution_count": 111,
     "metadata": {},
     "output_type": "execute_result"
    }
   ],
   "source": [
    "breadth_first_search((0,)*7, (1,)*7)\n",
    "# (grandma, grandpa, dad, mom, boy, girl, boat)"
   ]
  },
  {
   "cell_type": "markdown",
   "id": "7a406643-1ffd-4b99-8c5d-17516fdc454c",
   "metadata": {
    "jp-MarkdownHeadingCollapsed": true,
    "tags": []
   },
   "source": [
    "## Движење на коњ по шаховска табла"
   ]
  },
  {
   "cell_type": "code",
   "execution_count": 2,
   "id": "be4cdca3-074e-45b4-9aca-917b07e3d327",
   "metadata": {},
   "outputs": [],
   "source": [
    "BOARD_SIZE = 8"
   ]
  },
  {
   "cell_type": "code",
   "execution_count": 3,
   "id": "52ded19e-80cf-4929-be3f-c2172a79d0d7",
   "metadata": {},
   "outputs": [],
   "source": [
    "def is_valid(movement):\n",
    "    if 0 <= movement[0] < BOARD_SIZE and 0 <= movement[1] < BOARD_SIZE:\n",
    "        return True\n",
    "    return False"
   ]
  },
  {
   "cell_type": "code",
   "execution_count": 8,
   "id": "00fbdf0c-2b01-482d-b4b6-276cb7a29f3b",
   "metadata": {},
   "outputs": [
    {
     "data": {
      "text/plain": [
       "False"
      ]
     },
     "execution_count": 8,
     "metadata": {},
     "output_type": "execute_result"
    }
   ],
   "source": [
    "is_valid((-1, 1))"
   ]
  },
  {
   "cell_type": "code",
   "execution_count": 10,
   "id": "0759c9ed-5333-4e8c-b265-c576f307df91",
   "metadata": {},
   "outputs": [],
   "source": [
    "def expand_state(state):\n",
    "    # state == pozicijata na konjot vo momentot, torka\n",
    "    x, y = state\n",
    "    next_movements = [(x+1, y+2), (x+1, y-2), (x-1, y+2), (x-1, y-2),\n",
    "                      (x+2, y-1), (x+2, y+1), (x-2, y-1), (x-2, y+1)]\n",
    "    states = []\n",
    "    for movement in next_movements:\n",
    "        if is_valid(movement):\n",
    "            states.append(movement)\n",
    "    return states"
   ]
  },
  {
   "cell_type": "code",
   "execution_count": 22,
   "id": "4a2c8102-739e-4aa5-8879-1ef681f77acf",
   "metadata": {},
   "outputs": [
    {
     "data": {
      "text/plain": [
       "[(1, 6), (1, 2), (2, 3), (2, 5)]"
      ]
     },
     "execution_count": 22,
     "metadata": {},
     "output_type": "execute_result"
    }
   ],
   "source": [
    "expand_state((0, 4))"
   ]
  },
  {
   "cell_type": "code",
   "execution_count": 27,
   "id": "12df3cc0-306a-4792-bc72-ce938ad99508",
   "metadata": {},
   "outputs": [],
   "source": [
    "from collections import deque\n",
    "\n",
    "def breadth_first_search(initial_state, goal_row):\n",
    "    \n",
    "    queue = deque([[initial_state]])\n",
    "    visited = {initial_state}\n",
    "    \n",
    "    while queue:\n",
    "        \n",
    "        list_to_expand = queue.popleft()\n",
    "        state_to_expand = list_to_expand[-1]\n",
    "        \n",
    "        for next_state in expand_state(state_to_expand):\n",
    "            if next_state[0] == goal_row:\n",
    "                return list_to_expand + [next_state]\n",
    "            if next_state not in visited:\n",
    "                queue.append(list_to_expand + [next_state])\n",
    "                visited.add(next_state)"
   ]
  },
  {
   "cell_type": "code",
   "execution_count": 26,
   "id": "7fcbd057-6721-4132-804a-7d5e9a1349d7",
   "metadata": {},
   "outputs": [
    {
     "data": {
      "text/plain": [
       "[(0, 3), (1, 5), (3, 4), (5, 3), (7, 2)]"
      ]
     },
     "execution_count": 26,
     "metadata": {},
     "output_type": "execute_result"
    }
   ],
   "source": [
    "breadth_first_search((0, 3), 7)"
   ]
  },
  {
   "cell_type": "markdown",
   "id": "bf8c406b-baa2-4d42-8b15-0d34524fb4e2",
   "metadata": {
    "jp-MarkdownHeadingCollapsed": true,
    "tags": []
   },
   "source": [
    "## Движење на коњ по шаховска табла - детално објаснато"
   ]
  },
  {
   "cell_type": "code",
   "execution_count": 2,
   "id": "6af2aca5-2dc3-4f41-aa50-774ed735fc28",
   "metadata": {
    "tags": []
   },
   "outputs": [],
   "source": [
    "from collections import deque"
   ]
  },
  {
   "cell_type": "code",
   "execution_count": 3,
   "id": "b62d2e0a-fa05-48e8-9c90-b7c812b77517",
   "metadata": {},
   "outputs": [],
   "source": [
    "def is_valid(position):\n",
    "    # is_valid е функција која проверува дали позицијата на коњот е валидна,\n",
    "    # (позицијата е невалидна кога коњот се наоѓа надвор од шаховската табла).\n",
    "    # Aргументот кој се испраќа во функцијата е торка. Taa соодветствува на\n",
    "    # редот и колоната каде се наоѓа коњот.\n",
    "    \n",
    "    position_row, position_column = position\n",
    "    if position_row < 0 or position_row >= 8:\n",
    "        return False \n",
    "    if position_column < 0 or position_column >= 8:\n",
    "        return False\n",
    "    return True"
   ]
  },
  {
   "cell_type": "code",
   "execution_count": 4,
   "id": "fd18775e-358c-4cae-a46f-5e7be539c607",
   "metadata": {},
   "outputs": [
    {
     "data": {
      "text/plain": [
       "False"
      ]
     },
     "execution_count": 4,
     "metadata": {},
     "output_type": "execute_result"
    }
   ],
   "source": [
    "is_valid((-3, 2)) # пример"
   ]
  },
  {
   "cell_type": "code",
   "execution_count": 5,
   "id": "931e03ea-88bf-4ec0-abe8-09be658750b7",
   "metadata": {},
   "outputs": [
    {
     "data": {
      "text/plain": [
       "True"
      ]
     },
     "execution_count": 5,
     "metadata": {},
     "output_type": "execute_result"
    }
   ],
   "source": [
    "is_valid((3, 4)) # пример"
   ]
  },
  {
   "cell_type": "code",
   "execution_count": 6,
   "id": "9efe3874-9147-440a-b0d3-187ac62bfe9d",
   "metadata": {},
   "outputs": [],
   "source": [
    "def expand_state(position_row, position_column):\n",
    "    movements = [] # листа од сите движења кои смее да ги направи коњот, кога тој ќе се наоѓа во дадена позиција\n",
    "        \n",
    "    additions = [(2,1), (2, -1), (-2,1), (-2,-1), (-1,2), (-1,-2), (1, 2), (1, -2)]\n",
    "        # Коњот се движи во Г форма, односно: или оди 2 полиња вертикално (нагоре (+) и надолу(-)),  а 1\n",
    "        # поле хоризонтално (налево (-) и надесно(+)), или обратно: 1 поле вертикално, а 2 полиња хоризонтално.\n",
    "        \n",
    "        # Елементите од листата additions се торки чиј прв елемент ќе се додаде на \n",
    "        # моменталниот ред каде се наоѓа коњот, а вториот елемент од торката ќе се додаде\n",
    "        # на моменталната колона каде се наоѓа коњот. Вака ќе симулираме придвижување на коњот\n",
    "        # по шаховската табла.\n",
    "        \n",
    "    for i, j in additions:\n",
    "        position = (position_row + i, position_column + j)\n",
    "        if is_valid(position):\n",
    "            movements.append(position)\n",
    "            \n",
    "    return movements"
   ]
  },
  {
   "cell_type": "code",
   "execution_count": 7,
   "id": "798f4ea7-ab69-4b95-a981-f9fbbc4c2760",
   "metadata": {},
   "outputs": [
    {
     "data": {
      "text/plain": [
       "[(2, 5), (2, 3), (1, 6), (1, 2)]"
      ]
     },
     "execution_count": 7,
     "metadata": {},
     "output_type": "execute_result"
    }
   ],
   "source": [
    "expand_state(0,4) # пример"
   ]
  },
  {
   "cell_type": "code",
   "execution_count": 8,
   "id": "13cdc3e8-6f93-435c-8f4b-4d7b4127cff9",
   "metadata": {},
   "outputs": [],
   "source": [
    "def search(initial_position):\n",
    "    if not is_valid(initial_position):\n",
    "        print(\"Првобитната позиција на коњот е невалидна.\")\n",
    "        return\n",
    "    if initial_position[0] == 7:\n",
    "        print(\"Веќе сте на крајот од таблата.\")\n",
    "        return\n",
    "    \n",
    "    visited = {initial_position}\n",
    "    positions_queue = deque([[initial_position]]) # positions_queue е листа од листи. Секоја\n",
    "        # внатрешна листа претставува патека на движење т.е. е листа од торки - секоја наредна\n",
    "        # торка во една листа ја прикажува наредната позиција на која што може да оди коњот. \n",
    "        \n",
    "        # Користиме слепо пребарување прво по широчина, бидејќи така ќе се најде најкратката патека \n",
    "        # до крајот на шаховската табла (крајот на таблата е редица 7 во овој случај).\n",
    "    \n",
    "    while positions_queue:\n",
    "        list_to_expand = positions_queue.popleft()\n",
    "        position_to_expand = list_to_expand[-1]\n",
    "        position_row, position_column = position_to_expand\n",
    "        \n",
    "        for position in expand_state(position_row, position_column):\n",
    "            if position not in visited:\n",
    "                position_row, position_column = position\n",
    "                if position_row == 7:\n",
    "                    return list_to_expand + [position]\n",
    "                visited.add(position)\n",
    "                positions_queue.append(list_to_expand + [position])"
   ]
  },
  {
   "cell_type": "code",
   "execution_count": 9,
   "id": "e28103d9-235c-42d6-9e04-4e92bd41f125",
   "metadata": {},
   "outputs": [
    {
     "name": "stdout",
     "output_type": "stream",
     "text": [
      "Првобитната позиција на коњот е невалидна.\n"
     ]
    }
   ],
   "source": [
    "search((0, 11)) # пример"
   ]
  },
  {
   "cell_type": "code",
   "execution_count": 10,
   "id": "5e74a67b-8931-4978-8c43-67a72831cb8f",
   "metadata": {},
   "outputs": [
    {
     "name": "stdout",
     "output_type": "stream",
     "text": [
      "Веќе сте на крајот од таблата.\n"
     ]
    }
   ],
   "source": [
    "search((7, 0)) # пример"
   ]
  },
  {
   "cell_type": "code",
   "execution_count": 11,
   "id": "6f25ba0c-949b-48d2-a4cd-b3c8e6ecdb94",
   "metadata": {},
   "outputs": [
    {
     "data": {
      "text/plain": [
       "[(0, 3), (2, 4), (4, 5), (6, 6), (7, 4)]"
      ]
     },
     "execution_count": 11,
     "metadata": {},
     "output_type": "execute_result"
    }
   ],
   "source": [
    "search((0, 3)) # пример"
   ]
  }
 ],
 "metadata": {
  "kernelspec": {
   "display_name": "Python 3 (ipykernel)",
   "language": "python",
   "name": "python3"
  },
  "language_info": {
   "codemirror_mode": {
    "name": "ipython",
    "version": 3
   },
   "file_extension": ".py",
   "mimetype": "text/x-python",
   "name": "python",
   "nbconvert_exporter": "python",
   "pygments_lexer": "ipython3",
   "version": "3.10.6"
  }
 },
 "nbformat": 4,
 "nbformat_minor": 5
}
