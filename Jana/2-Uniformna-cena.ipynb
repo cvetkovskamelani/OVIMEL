{
 "cells": [
  {
   "cell_type": "markdown",
   "id": "39fda780-4d42-4b96-9cfd-ace38b598182",
   "metadata": {},
   "source": [
    "# ПРЕБАРУВАЊЕ СО УНИФОРМНА ЦЕНА"
   ]
  },
  {
   "cell_type": "markdown",
   "id": "436a9cf3-cb77-42fd-9537-5cc0d4d0024e",
   "metadata": {
    "tags": []
   },
   "source": [
    "## Тежински граф"
   ]
  },
  {
   "cell_type": "code",
   "execution_count": 23,
   "id": "562c1ba8-5980-47c8-9450-554f46a361a3",
   "metadata": {},
   "outputs": [],
   "source": [
    "class Graph():\n",
    "    \n",
    "    def __init__(self):\n",
    "        self.dict = {}\n",
    "        \n",
    "    def add_vertex(self, vertex):\n",
    "        if vertex not in self.dict:\n",
    "            self.dict[vertex] = {}\n",
    "        \n",
    "    def add_edge(self, edge):\n",
    "        # 'A': {'B': 3, 'C': 4}\n",
    "        weight, vertex1, vertex2 = edge\n",
    "        self.dict[vertex1][vertex2] = weight\n",
    "        #ako e vo dvete nasokis\n",
    "        self.dict[vertex2][vertex1] = weight\n",
    "        \n",
    "    def give_vertices(self): #go  pokazhuva rechnikot so kluchovite vo lista\n",
    "        return list(self.dict.keys())\n",
    "    \n",
    "    def give_edges(self): #go pokazhuva rechnikot vo lista so torki so zavisnostite so cenata\n",
    "        edges = []\n",
    "        for vertex1 in self.dict:\n",
    "            for vertex2 in self.dict[vertex1]:\n",
    "                edges.append((self.dict[vertex1][vertex2], vertex1, vertex2))\n",
    "        return edges\n",
    "    \n",
    "    def give_neighbors(self, vertex):\n",
    "        neighbors = []\n",
    "        for neighbor in self.dict[vertex]:\n",
    "            neighbors.append((self.dict[vertex][neighbor], neighbor))\n",
    "        return neighbors"
   ]
  },
  {
   "cell_type": "code",
   "execution_count": 24,
   "id": "5e12d852-e645-4a1d-a803-47d101054c67",
   "metadata": {},
   "outputs": [
    {
     "data": {
      "text/plain": [
       "['A', 'B', 'C', 'D', 'E', 'F']"
      ]
     },
     "execution_count": 24,
     "metadata": {},
     "output_type": "execute_result"
    }
   ],
   "source": [
    "g = Graph()\n",
    "g.add_vertex('A')\n",
    "g.add_vertex('B')\n",
    "g.add_vertex('C')\n",
    "g.add_vertex('D')\n",
    "g.add_vertex('E')\n",
    "g.add_vertex('F')\n",
    "g.give_vertices()"
   ]
  },
  {
   "cell_type": "code",
   "execution_count": 25,
   "id": "0e24bc86-36bb-4d48-94d7-8e8ff3c23383",
   "metadata": {},
   "outputs": [
    {
     "data": {
      "text/plain": [
       "[(2, 'A', 'B'),\n",
       " (4, 'A', 'C'),\n",
       " (5, 'A', 'E'),\n",
       " (2, 'B', 'A'),\n",
       " (1, 'B', 'E'),\n",
       " (4, 'C', 'A'),\n",
       " (3, 'C', 'D'),\n",
       " (3, 'D', 'E'),\n",
       " (1, 'D', 'F'),\n",
       " (3, 'D', 'C'),\n",
       " (5, 'E', 'A'),\n",
       " (1, 'E', 'B'),\n",
       " (3, 'E', 'D'),\n",
       " (2, 'E', 'F'),\n",
       " (2, 'F', 'E'),\n",
       " (1, 'F', 'D')]"
      ]
     },
     "execution_count": 25,
     "metadata": {},
     "output_type": "execute_result"
    }
   ],
   "source": [
    "g.add_edge((2, 'A', 'B'))\n",
    "g.add_edge((4, 'A', 'C'))\n",
    "g.add_edge((5, 'A', 'E'))\n",
    "g.add_edge((1, 'B', 'E'))\n",
    "g.add_edge((3, 'E', 'D'))\n",
    "g.add_edge((2, 'E', 'F'))\n",
    "g.add_edge((1, 'F', 'D'))\n",
    "g.add_edge((3, 'C', 'D'))\n",
    "\n",
    "g.give_edges()"
   ]
  },
  {
   "cell_type": "code",
   "execution_count": 26,
   "id": "129f614a-317b-4b84-a1ea-c237c18b0cda",
   "metadata": {},
   "outputs": [
    {
     "data": {
      "text/plain": [
       "[(2, 'B'), (4, 'C'), (5, 'E')]"
      ]
     },
     "execution_count": 26,
     "metadata": {},
     "output_type": "execute_result"
    }
   ],
   "source": [
    "g.give_neighbors('A')"
   ]
  },
  {
   "cell_type": "code",
   "execution_count": 21,
   "id": "5fe06584-721a-4ded-b09f-d83dec6d8517",
   "metadata": {},
   "outputs": [],
   "source": [
    "import heapq"
   ]
  },
  {
   "cell_type": "code",
   "execution_count": 40,
   "id": "2c9a22ba-5928-47be-986b-2fcb972a0f55",
   "metadata": {},
   "outputs": [],
   "source": [
    "def uniform_cost_search(graph, initial_vertex, goal_vertex):\n",
    "    \n",
    "    if initial_vertex == goal_vertex:\n",
    "        return\n",
    "    \n",
    "    queue = [(0, [initial_vertex])]\n",
    "    heapq.heapify(queue)\n",
    "    expanded = set()\n",
    "    \n",
    "    while queue:\n",
    "        weight, list_to_expand = heapq.heappop(queue)\n",
    "        vertex_to_expand = list_to_expand[-1]\n",
    "        \n",
    "        if vertex_to_expand == goal_vertex:\n",
    "            return weight, list_to_expand\n",
    "        \n",
    "        for neighbor_weight, neighbor in graph.give_neighbors(vertex_to_expand):\n",
    "            if neighbor not in expanded:\n",
    "                heapq.heappush(queue, (weight + neighbor_weight, list_to_expand + [neighbor]))\n",
    "                \n",
    "        # ako neighbor e veke razgranet, togas sigurno sega razgranvanjeto ke e podolgo\n",
    "        # (na pr SAG sekogas ke e poevtino od BGSAG posto SAG se sodrzi vo BGSAG, B i G\n",
    "        # samo dodavat plus cena => to sigurno nema da e najevtino razgranvanje i nikogas\n",
    "        # nema da ni pritreba, poshto sekogas najevtinoto se zema)\n",
    "        \n",
    "        expanded.add(vertex_to_expand)\n",
    "                \n",
    "# [(3, [A, C, E]), (4, [B, C, E]), ...]"
   ]
  },
  {
   "cell_type": "code",
   "execution_count": 41,
   "id": "418dd146-fdd9-42fe-8510-7ab57e0eabdb",
   "metadata": {},
   "outputs": [
    {
     "data": {
      "text/plain": [
       "(5, ['A', 'B', 'E', 'F'])"
      ]
     },
     "execution_count": 41,
     "metadata": {},
     "output_type": "execute_result"
    }
   ],
   "source": [
    "uniform_cost_search(g, 'A', 'F')"
   ]
  },
  {
   "cell_type": "markdown",
   "id": "9c03f6d5-2b3b-416c-9ac7-47a7adc0b548",
   "metadata": {
    "tags": []
   },
   "source": [
    "## Претурање вода"
   ]
  },
  {
   "cell_type": "markdown",
   "id": "5e16b208-24f0-46c9-9473-667d1333793b",
   "metadata": {},
   "source": [
    "Имате на располагање 3 садови. Нивниот капацитет е 5, 8 и 10 соодветно.  На почетокот сите садови се празни. Задачата е да претурите 1 литар во садот од 5 литри. Можете да претурате вода меѓу садовите, но не знаете точно колку претурате бидејќи садовите не се обележани. Единствено може да го испразните садот од кој претурате или да го наполните до врв садот во кој претурате. Постои и чешма од која може да надополните некој сад до врвот. Секогаш може да ја истурите водата од некој сад. Скратено: имате на располагање 3 садови. Нивниот капацитет е (x, y, z) соодветно. Почетната состојба е (x_0, y_0, z_0). Задачата е да стигнете до посакуваната состојба.\n",
    "\n",
    "Дополнително, секој нов наточен литар се казнува со 1 поен (еквивалентно на 1 потег), а секој истурен литар се казнува со 3 поени (еквивалетно на 3 потези)."
   ]
  },
  {
   "cell_type": "code",
   "execution_count": 6,
   "id": "5c6cc87c-e923-4304-bf82-14bd605737a1",
   "metadata": {},
   "outputs": [],
   "source": [
    "CAPACITY = (5, 8, 10)"
   ]
  },
  {
   "cell_type": "code",
   "execution_count": 7,
   "id": "756f5a1c-8376-400c-b8e6-1af17bf30c39",
   "metadata": {},
   "outputs": [],
   "source": [
    "def transfer_water(state, source_index, sink_index):\n",
    "    state_list = list(state)\n",
    "    \n",
    "    if CAPACITY[sink_index] - state[sink_index] >= state[source_index]:\n",
    "        state_list[sink_index] = state[sink_index] + state[source_index]\n",
    "        state_list[source_index] = 0\n",
    "        return tuple(state_list)\n",
    "    \n",
    "    state_list[sink_index] = CAPACITY[sink_index]\n",
    "    state_list[source_index] = state[source_index] - (CAPACITY[sink_index] - state[sink_index])\n",
    "    return tuple(state_list)\n",
    "    \n",
    "    \n",
    "# (4, (4, 5, 10))\n",
    "# (4, (1, 5, 10))"
   ]
  },
  {
   "cell_type": "code",
   "execution_count": 8,
   "id": "80d30d9f-8838-4f7b-98e6-08abd6cd1298",
   "metadata": {},
   "outputs": [
    {
     "data": {
      "text/plain": [
       "(1, 8, 10)"
      ]
     },
     "execution_count": 8,
     "metadata": {},
     "output_type": "execute_result"
    }
   ],
   "source": [
    "transfer_water((4, 5, 10), 0, 1)"
   ]
  },
  {
   "cell_type": "code",
   "execution_count": 9,
   "id": "16403e83-bd6a-47bd-bd96-2fd7867d0c84",
   "metadata": {},
   "outputs": [],
   "source": [
    "def expand_state(state):\n",
    "    states_list = []\n",
    "    \n",
    "    for index, element in enumerate(state):\n",
    "        if element > 0:\n",
    "            new_state = list(state)\n",
    "            new_state[index] = 0\n",
    "            states_list.append((3 * state[index], tuple(new_state)))\n",
    "            \n",
    "    for index, element in enumerate(state):\n",
    "        if element < CAPACITY[index]:\n",
    "            new_state = list(state)\n",
    "            new_state[index] = CAPACITY[index]\n",
    "            states_list.append(((CAPACITY[index] - state[index]), tuple(new_state)))\n",
    "            \n",
    "    for index1, element1 in enumerate(state):\n",
    "        for index2, element2 in enumerate(state):\n",
    "            if index1 != index2:\n",
    "                new_state = transfer_water(state, index1, index2)\n",
    "                if new_state not in states_list and new_state != state:\n",
    "                    states_list.append((0, new_state))\n",
    "                    \n",
    "    return states_list"
   ]
  },
  {
   "cell_type": "code",
   "execution_count": 10,
   "id": "00d3a344-b040-433b-8389-b1eb5a7cf503",
   "metadata": {},
   "outputs": [
    {
     "data": {
      "text/plain": [
       "[(6, (0, 0, 0)),\n",
       " (3, (5, 0, 0)),\n",
       " (8, (2, 8, 0)),\n",
       " (10, (2, 0, 10)),\n",
       " (0, (0, 2, 0)),\n",
       " (0, (0, 0, 2))]"
      ]
     },
     "execution_count": 10,
     "metadata": {},
     "output_type": "execute_result"
    }
   ],
   "source": [
    "expand_state((2, 0, 0))"
   ]
  },
  {
   "cell_type": "code",
   "execution_count": 11,
   "id": "628711d0-d8d1-4604-a6ed-8a5d6db01ab3",
   "metadata": {},
   "outputs": [],
   "source": [
    "import heapq"
   ]
  },
  {
   "cell_type": "code",
   "execution_count": 12,
   "id": "c2c69e04-721f-4864-b032-159d73fa2c60",
   "metadata": {},
   "outputs": [],
   "source": [
    "def uniform_cost_search(initial_state, goal_state):\n",
    "    \n",
    "    queue = [(0, [initial_state])]\n",
    "    heapq.heapify(queue)\n",
    "    expanded = set()\n",
    "    \n",
    "    while queue:\n",
    "        weight, list_to_expand = heapq.heappop(queue)\n",
    "        #print('\\nMomentalnata tezina e {}'.format(weight))\n",
    "        state_to_expand = list_to_expand[-1]\n",
    "        \n",
    "        if state_to_expand == goal_state:\n",
    "            return (weight, list_to_expand)\n",
    "        \n",
    "        for next_weight, next_state in expand_state((state_to_expand)):\n",
    "            if next_state not in expanded:\n",
    "                heapq.heappush(queue, (weight + next_weight, list_to_expand + [next_state]))\n",
    "                \n",
    "        expanded.add(state_to_expand)\n",
    "    "
   ]
  },
  {
   "cell_type": "code",
   "execution_count": 13,
   "id": "6eeb9e9c-dd66-4b4d-8fd9-17c06fae68e9",
   "metadata": {},
   "outputs": [
    {
     "data": {
      "text/plain": [
       "(41,\n",
       " [(0, 0, 0),\n",
       "  (0, 0, 10),\n",
       "  (0, 8, 2),\n",
       "  (2, 8, 0),\n",
       "  (2, 0, 8),\n",
       "  (0, 2, 8),\n",
       "  (5, 2, 3),\n",
       "  (0, 7, 3),\n",
       "  (0, 8, 3),\n",
       "  (0, 1, 10),\n",
       "  (0, 1, 0),\n",
       "  (0, 0, 1),\n",
       "  (1, 0, 0)])"
      ]
     },
     "execution_count": 13,
     "metadata": {},
     "output_type": "execute_result"
    }
   ],
   "source": [
    "uniform_cost_search((0, 0, 0), (1, 0, 0))"
   ]
  },
  {
   "cell_type": "markdown",
   "id": "fb873414-ba7e-4267-9255-50c7048edc59",
   "metadata": {
    "jp-MarkdownHeadingCollapsed": true,
    "tags": []
   },
   "source": [
    "## Градови"
   ]
  },
  {
   "cell_type": "code",
   "execution_count": 6,
   "id": "138fa3b2-faff-4f2c-96e1-fa48c079e416",
   "metadata": {},
   "outputs": [],
   "source": [
    "class Graph():\n",
    "    \n",
    "    def __init__(self):\n",
    "        self.dict = {}\n",
    "        \n",
    "    def add_vertex(self, vertex):\n",
    "        if vertex not in self.dict:\n",
    "            self.dict[vertex] = {}\n",
    "        \n",
    "    def add_edge(self, edge):\n",
    "        # 'A': {'B': 3, 'C': 4}\n",
    "        weight, vertex1, vertex2 = edge\n",
    "        self.dict[vertex1][vertex2] = weight\n",
    "        self.dict[vertex2][vertex1] = weight\n",
    "        \n",
    "    def give_vertices(self):\n",
    "        return list(self.dict.keys())\n",
    "    \n",
    "    def give_edges(self):\n",
    "        edges = []\n",
    "        for vertex1 in self.dict:\n",
    "            for vertex2 in self.dict[vertex1]:\n",
    "                edges.append((self.dict[vertex1][vertex2], vertex1, vertex2))\n",
    "        return edges\n",
    "    \n",
    "    def give_neighbors(self, vertex):\n",
    "        return list(self.dict[vertex].items())"
   ]
  },
  {
   "cell_type": "code",
   "execution_count": 16,
   "id": "5aa080ca-3a96-4c1c-a387-c7ddcb7fb8da",
   "metadata": {},
   "outputs": [
    {
     "data": {
      "text/plain": [
       "[(39, 'KU', 'SK'),\n",
       " (61, 'KU', 'KP'),\n",
       " (51, 'KU', 'KR'),\n",
       " (39, 'SK', 'KU'),\n",
       " (44, 'SK', 'TE')]"
      ]
     },
     "execution_count": 16,
     "metadata": {},
     "output_type": "execute_result"
    }
   ],
   "source": [
    "info = open('data/distances.txt').read().strip()\n",
    "g = Graph()\n",
    "\n",
    "for row in info.split('\\n'):\n",
    "    vertex1, vertex2, weight = row.split(' ')\n",
    "    g.add_vertex(vertex1)\n",
    "    g.add_vertex(vertex2)\n",
    "    g.add_edge((int(weight), vertex1, vertex2))\n",
    "    \n",
    "g.give_edges()[:5]"
   ]
  },
  {
   "cell_type": "code",
   "execution_count": 17,
   "id": "1f6f1304-926b-4b29-a01c-669d1252e06a",
   "metadata": {},
   "outputs": [
    {
     "data": {
      "text/plain": [
       "[('KU', 39), ('TE', 44), ('VE', 55)]"
      ]
     },
     "execution_count": 17,
     "metadata": {},
     "output_type": "execute_result"
    }
   ],
   "source": [
    "g.give_neighbors('SK')"
   ]
  },
  {
   "cell_type": "code",
   "execution_count": 14,
   "id": "f4118119-5755-4725-b303-34ed30fcd1ce",
   "metadata": {},
   "outputs": [],
   "source": [
    "import heapq\n",
    "\n",
    "def uniform_cost_search(graph, initial_vertex, goal_vertex):\n",
    "    \n",
    "    queue = [(0, [initial_vertex])]\n",
    "    heapq.heapify(queue)\n",
    "    expanded = set()\n",
    "    \n",
    "    while queue:\n",
    "        weight, list_to_expand = heapq.heappop(queue)\n",
    "        vertex_to_expand = list_to_expand[-1]\n",
    "        \n",
    "        if vertex_to_expand == goal_vertex:\n",
    "            return weight, list_to_expand\n",
    "        \n",
    "        if vertex_to_expand not in expanded:\n",
    "            for next_vertex, next_weight in graph.give_neighbors(vertex_to_expand):\n",
    "                if next_vertex not in expanded:\n",
    "                    heapq.heappush(queue, (weight+next_weight, list_to_expand + [next_vertex]))\n",
    "            expanded.add(vertex_to_expand)"
   ]
  },
  {
   "cell_type": "code",
   "execution_count": 19,
   "id": "c8586e7c-7336-4e83-a4cf-95dd7af91dde",
   "metadata": {},
   "outputs": [
    {
     "name": "stdout",
     "output_type": "stream",
     "text": [
      "CPU times: total: 0 ns\n",
      "Wall time: 0 ns\n"
     ]
    },
    {
     "data": {
      "text/plain": [
       "(204, ['GE', 'NG', 'VE', 'SK', 'TE'])"
      ]
     },
     "execution_count": 19,
     "metadata": {},
     "output_type": "execute_result"
    }
   ],
   "source": [
    "%%time\n",
    "uniform_cost_search(g, 'GE', 'TE')"
   ]
  },
  {
   "cell_type": "markdown",
   "id": "a4ce1563-9e21-4bd1-be86-7ddfbaf5208d",
   "metadata": {
    "tags": []
   },
   "source": [
    "## Преминување преку мост"
   ]
  },
  {
   "cell_type": "markdown",
   "id": "2a329d03-d3fc-4282-aacb-837cb15492d8",
   "metadata": {},
   "source": [
    "Adam, Bob, Clair and Dave are out walking: They come to rickety old wooden bridge. The bridge is weak and only able to carry the weight of two of them at a time. Because they are in a rush and the light is fading they must cross in the minimum time possible and must carry a torch (flashlight,) on each crossing.\n",
    "\n",
    "They only have one torch and it can't be thrown. Because of their different fitness levels and some minor injuries they can all cross at different speeds. Adam can cross in 1 minute, Bob in 2 minutes, Clair in 5 minutes and Dave in 10 minutes.\n",
    "\n",
    "Adam, the brains of the group thinks for a moment and declares that the crossing can be completed in 17 minutes. There is no trick. How is this done?"
   ]
  },
  {
   "cell_type": "code",
   "execution_count": 30,
   "id": "9c492007-a146-4eae-bfb3-8457c0de9fcf",
   "metadata": {},
   "outputs": [],
   "source": [
    "torch_index = 4\n",
    "minutes = (1, 2, 5, 10)"
   ]
  },
  {
   "cell_type": "code",
   "execution_count": 51,
   "id": "ceb93fb2-4480-4ed7-aab0-a16745c5f016",
   "metadata": {},
   "outputs": [],
   "source": [
    "def move(state, how_many_people, people_index):\n",
    "    state_list = list(state)\n",
    "    \n",
    "    if how_many_people == 1:\n",
    "        if state_list[torch_index] == 1:\n",
    "            state_list[torch_index] = state_list[people_index] = 0\n",
    "        else:\n",
    "            state_list[torch_index] = state_list[people_index] = 1\n",
    "        weight = minutes[people_index]\n",
    "    \n",
    "    if how_many_people == 2:\n",
    "        if state_list[torch_index] == 1:\n",
    "            state_list[torch_index] = state_list[people_index[0]] = state_list[people_index[1]] = 0\n",
    "        else:\n",
    "            state_list[torch_index] = state_list[people_index[0]] = state_list[people_index[1]] = 1\n",
    "        weight = max(minutes[people_index[0]], minutes[people_index[1]])\n",
    "            \n",
    "    return weight, tuple(state_list)"
   ]
  },
  {
   "cell_type": "code",
   "execution_count": 57,
   "id": "c944a65a-2705-4985-8477-bd7aeb6e38ed",
   "metadata": {},
   "outputs": [
    {
     "data": {
      "text/plain": [
       "(10, (0, 1, 1, 0, 0))"
      ]
     },
     "execution_count": 57,
     "metadata": {},
     "output_type": "execute_result"
    }
   ],
   "source": [
    "state = (0, 1, 1, 0, 1)\n",
    "move(state, 2, (0, 3))"
   ]
  },
  {
   "cell_type": "code",
   "execution_count": 58,
   "id": "e1c974e7-42c0-4474-a653-703c302bd574",
   "metadata": {},
   "outputs": [],
   "source": [
    "def expand_state(state):\n",
    "    states = []\n",
    "    for index1 in range(4):\n",
    "        if state[index1] == state[torch_index]:\n",
    "            states.append(move(state, 1, index1))\n",
    "            \n",
    "        for index2 in range(4):\n",
    "            if index1 != index2 and state[index1] == state[index2] == state[torch_index]:\n",
    "                if move(state, 2, (index1, index2)) not in states:    \n",
    "                    states.append(move(state, 2, (index1, index2)))\n",
    "    return states"
   ]
  },
  {
   "cell_type": "code",
   "execution_count": 59,
   "id": "a987d89f-df55-4eeb-8310-abcb9e6d976e",
   "metadata": {},
   "outputs": [
    {
     "data": {
      "text/plain": [
       "[(2, (0, 0, 1, 0, 0)), (5, (0, 0, 0, 0, 0)), (5, (0, 1, 0, 0, 0))]"
      ]
     },
     "execution_count": 59,
     "metadata": {},
     "output_type": "execute_result"
    }
   ],
   "source": [
    "expand_state(state)"
   ]
  },
  {
   "cell_type": "code",
   "execution_count": 63,
   "id": "40de4eb5-4162-423d-afef-e66c33f36114",
   "metadata": {},
   "outputs": [],
   "source": [
    "import heapq\n",
    "\n",
    "def uniform_cost_search(initial_state, goal_state):\n",
    "    queue = [(0, [initial_state])]\n",
    "    heapq.heapify(queue)\n",
    "    expanded = set()\n",
    "    \n",
    "    while queue:\n",
    "        weight, list_to_expand = heapq.heappop(queue)\n",
    "        state_to_expand = list_to_expand[-1]\n",
    "        \n",
    "        if state_to_expand == goal_state:\n",
    "            return weight, list_to_expand\n",
    "        \n",
    "        if state_to_expand not in expanded:\n",
    "            for next_weight, next_state in expand_state(state_to_expand):\n",
    "                if next_state not in expanded:\n",
    "                    heapq.heappush(queue, (next_weight+weight, list_to_expand + [next_state]))\n",
    "            expanded.add(state_to_expand)"
   ]
  },
  {
   "cell_type": "code",
   "execution_count": 62,
   "id": "61423c53-2c1d-45e9-90a0-7d30e69fd389",
   "metadata": {},
   "outputs": [
    {
     "data": {
      "text/plain": [
       "(17,\n",
       " [(0, 0, 0, 0, 0),\n",
       "  (1, 1, 0, 0, 1),\n",
       "  (0, 1, 0, 0, 0),\n",
       "  (0, 1, 1, 1, 1),\n",
       "  (0, 0, 1, 1, 0),\n",
       "  (1, 1, 1, 1, 1)])"
      ]
     },
     "execution_count": 62,
     "metadata": {},
     "output_type": "execute_result"
    }
   ],
   "source": [
    "uniform_cost_search(\n",
    "    initial_state = (0, 0, 0, 0, 0),\n",
    "    goal_state = (1, 1, 1, 1, 1)\n",
    ")"
   ]
  },
  {
   "cell_type": "markdown",
   "id": "f35fb12b-35cc-4515-bb64-81e46b969535",
   "metadata": {
    "tags": []
   },
   "source": [
    "## Преминување преку мост - детално објаснато"
   ]
  },
  {
   "cell_type": "markdown",
   "id": "25b3a701-54e3-4794-867f-15d0407af187",
   "metadata": {},
   "source": [
    "Adam, Bob, Clair and Dave are out walking: They come to rickety old wooden bridge. The bridge is weak and only able to carry the weight of two of them at a time. Because they are in a rush and the light is fading they must cross in the minimum time possible and must carry a torch (flashlight,) on each crossing.\n",
    "\n",
    "They only have one torch and it can't be thrown. Because of their different fitness levels and some minor injuries they can all cross at different speeds. Adam can cross in 1 minute, Bob in 2 minutes, Clair in 5 minutes and Dave in 10 minutes.\n",
    "\n",
    "Adam, the brains of the group thinks for a moment and declares that the crossing can be completed in 17 minutes. There is no trick. How is this done?"
   ]
  },
  {
   "cell_type": "code",
   "execution_count": 11,
   "id": "3d12f6e5-987e-4f3c-8330-b65d00ffebdb",
   "metadata": {},
   "outputs": [],
   "source": [
    "cost = (1, 2, 5, 10) # цената е колку време му треба на секој човек да го помине мостот:\n",
    "# на првиот човек му треба 1 минута, на вториот 2, на третиот 5, на четвртиот 10"
   ]
  },
  {
   "cell_type": "code",
   "execution_count": 12,
   "id": "348ea3e7-d920-425f-addb-cea22d11c82d",
   "metadata": {},
   "outputs": [],
   "source": [
    "# состојбата ја обележувам како торка од 5 елементи. Првите 4 елементи ја покажуваат\n",
    "# позицијата на луѓето. Ако се наоѓаат пред мостот, се на позиција 0, ако го преминале мостот, се на позиција 1.\n",
    "# Последниот елемент ја покажува позицијата на фаќелот (повторно е 0 или 1). "
   ]
  },
  {
   "cell_type": "code",
   "execution_count": 13,
   "id": "0d8ee8a2-4b9c-42ee-ae49-dba0fa0b7679",
   "metadata": {},
   "outputs": [],
   "source": [
    "def two_people_go(state, person_1_index, person_2_index):\n",
    "    # фунцкија со која двајца се испраќаат до позиција 1\n",
    "    \n",
    "    state_list = list(state)\n",
    "    state_list[person_1_index] = 1\n",
    "    state_list[person_2_index] = 1\n",
    "    state_list[4] = 1\n",
    "    return (max(cost[person_1_index], cost[person_2_index]), tuple(state_list))\n",
    "        # времето потребно за двајца да преминат преку мостот е еднакво на\n",
    "        # времето потребно за да премине преку мостот поспориот од нив двајцата"
   ]
  },
  {
   "cell_type": "code",
   "execution_count": 14,
   "id": "45a83f4d-8228-44b4-92b9-5fcde3a7c6d6",
   "metadata": {},
   "outputs": [
    {
     "data": {
      "text/plain": [
       "(2, (1, 1, 0, 0, 1))"
      ]
     },
     "execution_count": 14,
     "metadata": {},
     "output_type": "execute_result"
    }
   ],
   "source": [
    "two_people_go((0, 0, 0, 0, 0), 0, 1) # пример"
   ]
  },
  {
   "cell_type": "code",
   "execution_count": 15,
   "id": "d48a5c9c-dfa8-4a86-b93d-fcd8a40c2bb6",
   "metadata": {},
   "outputs": [],
   "source": [
    "def two_people_come(state, person_1_index, person_2_index):\n",
    "    # функција со која двајца се испраќаат до позиција 0\n",
    "\n",
    "    state_list = list(state)\n",
    "    state_list[person_1_index] = 0\n",
    "    state_list[person_2_index] = 0\n",
    "    state_list[4] = 0\n",
    "    return (max(cost[person_1_index], cost[person_2_index]), tuple(state_list))"
   ]
  },
  {
   "cell_type": "code",
   "execution_count": 16,
   "id": "8fed5ac3-6ea2-491b-9bcf-f6764e989238",
   "metadata": {},
   "outputs": [
    {
     "data": {
      "text/plain": [
       "(2, (0, 0, 0, 0, 0))"
      ]
     },
     "execution_count": 16,
     "metadata": {},
     "output_type": "execute_result"
    }
   ],
   "source": [
    "two_people_come((1, 1, 0, 0, 1), 0, 1) # пример"
   ]
  },
  {
   "cell_type": "code",
   "execution_count": 17,
   "id": "d8844604-56de-4cac-98a6-6e16f1d9c732",
   "metadata": {},
   "outputs": [],
   "source": [
    "def one_person_goes(state, person_index):\n",
    "    # функција со која се испраќа еден човек до страна 1\n",
    "\n",
    "    state_list = list(state)\n",
    "    state_list[person_index] = 1\n",
    "    state_list[4] = 1\n",
    "    return (cost[person_index], tuple(state_list))"
   ]
  },
  {
   "cell_type": "code",
   "execution_count": 18,
   "id": "dcd0e1f1-fe95-4544-8ae0-75621cb0fc8c",
   "metadata": {},
   "outputs": [
    {
     "data": {
      "text/plain": [
       "(1, (1, 0, 0, 0, 1))"
      ]
     },
     "execution_count": 18,
     "metadata": {},
     "output_type": "execute_result"
    }
   ],
   "source": [
    "one_person_goes((0, 0, 0, 0, 0), 0) # пример"
   ]
  },
  {
   "cell_type": "code",
   "execution_count": 19,
   "id": "b155d926-2e20-437b-bf9f-b9a3aa1a7092",
   "metadata": {},
   "outputs": [],
   "source": [
    "def one_person_comes(state, person_index):\n",
    "    # функција со која се испраќа еден човек до страна 0\n",
    "\n",
    "    state_list = list(state)\n",
    "    state_list[person_index] = 0\n",
    "    state_list[4] = 0\n",
    "    return (cost[person_index], tuple(state_list))"
   ]
  },
  {
   "cell_type": "code",
   "execution_count": 20,
   "id": "426275fa-076e-4638-80e5-0e8f83097e47",
   "metadata": {},
   "outputs": [
    {
     "data": {
      "text/plain": [
       "(1, (0, 1, 0, 0, 0))"
      ]
     },
     "execution_count": 20,
     "metadata": {},
     "output_type": "execute_result"
    }
   ],
   "source": [
    "one_person_comes((1, 1, 0, 0, 1), 0) # пример"
   ]
  },
  {
   "cell_type": "code",
   "execution_count": 21,
   "id": "692632a1-b334-49e4-84e3-967529f6e582",
   "metadata": {},
   "outputs": [],
   "source": [
    "def expand_state(state):\n",
    "    states = []\n",
    "    pos0, pos1, pos2, pos3, torch_pos = state\n",
    "    if torch_pos == 0: # ако фаќелот е на позиција 0, тогаш треба да пренесуваме\n",
    "    # луѓе кои се наоѓаат исто така на позиција 0, затоа што кај нив се наоѓа фаќелот\n",
    "        for i in range(4): #broi od 0 do 3\n",
    "            if state[i] == 0: # човекот може да оди кон позиција 1, само\n",
    "            # ако моментално се наоѓа во позиција 0\n",
    "                states.append(one_person_goes(state, i))\n",
    "\n",
    "        for i in range(4):\n",
    "            for j in range(4):\n",
    "                if i != j and state[i] == 0 and state[j] == 0:\n",
    "                # и двајцата треба да се наоѓаат во позиција 0, притоа тие мора да се\n",
    "                # двајца различни луѓе, за оваа функција точно да работи\n",
    "                    if two_people_go(state, i, j) not in states:\n",
    "                        states.append(two_people_go(state, i, j))\n",
    "                            \n",
    "    if torch_pos == 1:\n",
    "        for i in range(4):\n",
    "            if state[i] == 1:\n",
    "                states.append(one_person_comes(state, i))\n",
    "        for i in range(4):\n",
    "            for j in range(4):\n",
    "                if i != j and state[i] == 1 and state[j] == 1:\n",
    "                    if two_people_come(state, i, j) not in states:\n",
    "                        states.append(two_people_come(state, i, j))\n",
    "                            \n",
    "    return states"
   ]
  },
  {
   "cell_type": "code",
   "execution_count": 22,
   "id": "d04fbd96-0f63-49a7-b1f5-0f75749ffe9e",
   "metadata": {},
   "outputs": [
    {
     "data": {
      "text/plain": [
       "[(1, (1, 0, 0, 0, 1)),\n",
       " (2, (0, 1, 0, 0, 1)),\n",
       " (5, (0, 0, 1, 0, 1)),\n",
       " (10, (0, 0, 0, 1, 1)),\n",
       " (2, (1, 1, 0, 0, 1)),\n",
       " (5, (1, 0, 1, 0, 1)),\n",
       " (10, (1, 0, 0, 1, 1)),\n",
       " (5, (0, 1, 1, 0, 1)),\n",
       " (10, (0, 1, 0, 1, 1)),\n",
       " (10, (0, 0, 1, 1, 1))]"
      ]
     },
     "execution_count": 22,
     "metadata": {},
     "output_type": "execute_result"
    }
   ],
   "source": [
    "expand_state((0, 0, 0, 0, 0)) # пример"
   ]
  },
  {
   "cell_type": "code",
   "execution_count": 23,
   "id": "1aabbe3f-5f8b-4089-be65-57eb0606a236",
   "metadata": {},
   "outputs": [],
   "source": [
    "import heapq"
   ]
  },
  {
   "cell_type": "code",
   "execution_count": 24,
   "id": "f4c5a74c-38cc-4412-a286-3727e94489cc",
   "metadata": {},
   "outputs": [],
   "source": [
    "def uniform_cost_search(initial_state, goal_state):\n",
    "    if initial_state == goal_state:\n",
    "        return\n",
    "    \n",
    "    expanded = set()\n",
    "    queue = [(0, [initial_state])]\n",
    "    heapq.heapify(queue)\n",
    "    \n",
    "    while queue:\n",
    "        weight, list_to_expand = heapq.heappop(queue)\n",
    "        state_to_expand = list_to_expand[-1]\n",
    "        \n",
    "        if state_to_expand == goal_state:\n",
    "            return (weight, list_to_expand)\n",
    "        \n",
    "        if state_to_expand in expanded:\n",
    "            continue\n",
    "        \n",
    "        \n",
    "            \n",
    "        for new_weight, new_state in expand_state(state_to_expand):\n",
    "            if new_state not in expanded:\n",
    "                heapq.heappush(queue, (weight + new_weight, list_to_expand + [new_state]))\n",
    "                \n",
    "        "
   ]
  },
  {
   "cell_type": "code",
   "execution_count": 25,
   "id": "54666189-f218-4158-b1be-899cefa6e1f2",
   "metadata": {},
   "outputs": [
    {
     "data": {
      "text/plain": [
       "(17,\n",
       " [(0, 0, 0, 0, 0),\n",
       "  (1, 1, 0, 0, 1),\n",
       "  (0, 1, 0, 0, 0),\n",
       "  (0, 1, 1, 1, 1),\n",
       "  (0, 0, 1, 1, 0),\n",
       "  (1, 1, 1, 1, 1)])"
      ]
     },
     "execution_count": 25,
     "metadata": {},
     "output_type": "execute_result"
    }
   ],
   "source": [
    "uniform_cost_search((0, 0, 0, 0, 0), (1, 1, 1, 1, 1))"
   ]
  },
  {
   "cell_type": "code",
   "execution_count": null,
   "id": "d99ab60e-664b-48c1-a7d0-b7abcfe1117f",
   "metadata": {},
   "outputs": [],
   "source": []
  }
 ],
 "metadata": {
  "kernelspec": {
   "display_name": "Python 3 (ipykernel)",
   "language": "python",
   "name": "python3"
  },
  "language_info": {
   "codemirror_mode": {
    "name": "ipython",
    "version": 3
   },
   "file_extension": ".py",
   "mimetype": "text/x-python",
   "name": "python",
   "nbconvert_exporter": "python",
   "pygments_lexer": "ipython3",
   "version": "3.10.8"
  }
 },
 "nbformat": 4,
 "nbformat_minor": 5
}
