{
 "cells": [
  {
   "cell_type": "markdown",
   "metadata": {},
   "source": [
    "# Прв парцијален испит по Основи на Вештачката Интелигенција"
   ]
  },
  {
   "cell_type": "markdown",
   "metadata": {},
   "source": [
    "## Задача 2"
   ]
  },
  {
   "cell_type": "markdown",
   "metadata": {},
   "source": [
    "Разгледуваме игра која се игра самостојно. Правилата на играта се:\n",
    "- Се игра на табла со димензии `N` по `N`.\n",
    "- Има празни и полни кругчиња, по едно кругче за секое поле од таблата.\n",
    "- Се игра исклучиво со притискање на кругчињата.\n",
    "- Ако се притисне некое кругче:\n",
    "    - Се менува од празно во полно, или пак обратно, од полно во празно.\n",
    "    - Неговите соседи се менуваат од празно во полно, или пак обратно, од полно во празно.\n",
    "    - Соседи на едно кругче се соседните кругчиња кои се наоѓаат над, под, лево и десно.\n",
    "- Целта на играта е сите кругчиња да се празни.\n",
    "\n",
    "Следи интерактивна апликација за оваа игра."
   ]
  },
  {
   "cell_type": "code",
   "execution_count": 5,
   "metadata": {},
   "outputs": [],
   "source": [
    "from plotly import graph_objects as go"
   ]
  },
  {
   "cell_type": "code",
   "execution_count": 1,
   "metadata": {},
   "outputs": [],
   "source": [
    "N=4"
   ]
  },
  {
   "cell_type": "code",
   "execution_count": 2,
   "metadata": {},
   "outputs": [],
   "source": [
    "def expand_square(square):\n",
    "    neighbour_squares = []\n",
    "    x, y = square\n",
    "    for x, y in [(x+1, y), (x-1, y), (x, y+1), (x, y-1)]:\n",
    "        if 0 <= x < N and 0 <= y < N:\n",
    "            neighbour_squares.append((x, y))\n",
    "    return neighbour_squares"
   ]
  },
  {
   "cell_type": "code",
   "execution_count": 3,
   "metadata": {},
   "outputs": [
    {
     "data": {
      "text/plain": [
       "[(3, 1), (1, 1), (2, 2), (2, 0)]"
      ]
     },
     "execution_count": 3,
     "metadata": {},
     "output_type": "execute_result"
    }
   ],
   "source": [
    "expand_square((2,1))"
   ]
  },
  {
   "cell_type": "code",
   "execution_count": 8,
   "metadata": {},
   "outputs": [
    {
     "data": {
      "application/vnd.jupyter.widget-view+json": {
       "model_id": "c024435f5dc04d3a884ac5683cc93436",
       "version_major": 2,
       "version_minor": 0
      },
      "text/plain": [
       "FigureWidget({\n",
       "    'data': [{'marker': {'color': 'LightSkyBlue',\n",
       "                         'line': {'color': 'M…"
      ]
     },
     "metadata": {},
     "output_type": "display_data"
    }
   ],
   "source": [
    "def update_fig(trace, points, selector):\n",
    "    clicked_square = points.xs[0], points.ys[0]\n",
    "    for x, y in expand_square(clicked_square):\n",
    "        TABLE[y][x] = 0 if TABLE[y][x] else 1\n",
    "    symbols = ['circle' if n else 'circle-open' for row in TABLE for n in row]\n",
    "    fig.data[0].marker['symbol'] = symbols\n",
    "\n",
    "def create_fig():\n",
    "    fig = go.FigureWidget()\n",
    "    x = [x for y in range(N) for x in range(N)]\n",
    "    y = [y for y in range(N) for x in range(N)]\n",
    "    symbols = ['circle' if n else 'circle-open' for row in TABLE for n in row]\n",
    "    fig.add_scatter(x=x, y=y, mode='markers', marker_size=48, \n",
    "                    marker_symbol=symbols, marker_color='LightSkyBlue',\n",
    "                    marker_line_width=6, marker_line_color='MediumPurple')\n",
    "    fig.data[0].on_click(update_fig)\n",
    "    fig.update_xaxes(range=[-0.5, N - 0.5], dtick=1, title='x', side='top')\n",
    "    fig.update_yaxes(range=[-0.5, N - 0.5], dtick=1, title='y', autorange='reversed')\n",
    "    fig.update_layout(width=120*N, height=120*N, showlegend=False)\n",
    "    return fig\n",
    "\n",
    "N = 4\n",
    "TABLE = [\n",
    "    [0, 0, 1, 0],\n",
    "    [0, 0, 1, 1],\n",
    "    [1, 1, 0, 0],\n",
    "    [0, 1, 0, 0],\n",
    "]\n",
    "\n",
    "fig = create_fig()\n",
    "fig"
   ]
  },
  {
   "cell_type": "markdown",
   "metadata": {},
   "source": [
    "Над овој текст треба да имате интерактивна апликација за играта како на сликата подолу. Прво извршете ги ќелиите, а потоа ако ја немате интерактивната апликација, тогаш нешто не е во ред со вашата инсталација, па побарајте помош од Стефан."
   ]
  },
  {
   "cell_type": "markdown",
   "metadata": {},
   "source": [
    "![Тука треба да видите .gif анимација, ама штом го читате ова нешто не е во ред.](images/example.gif)"
   ]
  },
  {
   "cell_type": "markdown",
   "metadata": {},
   "source": [
    "**Задача:** Напишете алгоритам кој ќе стигне до целта и на некој начин ќе ја прикаже постапката, чекор по чекор, како да се стигне до решението."
   ]
  },
  {
   "cell_type": "markdown",
   "metadata": {},
   "source": [
    "## Решение"
   ]
  },
  {
   "cell_type": "code",
   "execution_count": 4,
   "metadata": {},
   "outputs": [],
   "source": [
    "N=4"
   ]
  },
  {
   "cell_type": "code",
   "execution_count": 5,
   "metadata": {},
   "outputs": [],
   "source": [
    "def expand_square(square):\n",
    "    \"\"\"\n",
    "    функција која ги дава соседите на оној кој моментално го разгледуваме\n",
    "    влезен аргумент ќе е некоја позиција а излезен листа со неговите соседи\n",
    "    \"\"\"\n",
    "    neighbour_squares = []\n",
    "    x, y = square\n",
    "    for x, y in [(x+1, y), (x-1, y), (x, y+1), (x, y-1)]:\n",
    "        if 0 <= x < N and 0 <= y < N:\n",
    "            neighbour_squares.append((x, y))\n",
    "    return neighbour_squares"
   ]
  },
  {
   "cell_type": "code",
   "execution_count": 6,
   "metadata": {},
   "outputs": [],
   "source": [
    "def valid(position):\n",
    "    \"\"\"\n",
    "    функција која проверува дали позицијата која ја разгледуваме е во рамките на таблата\n",
    "    \"\"\"\n",
    "    x,y=position\n",
    "    if 0<=x<N and 0<=y<N:\n",
    "        return True\n",
    "    else: return False"
   ]
  },
  {
   "cell_type": "code",
   "execution_count": null,
   "metadata": {},
   "outputs": [],
   "source": [
    "def expand_state(self, state, player):\n",
    "        symbol = 'x' if player == 'MAX' else 'o'\n",
    "        for y, row in enumerate(state):\n",
    "            for x, value in enumerate(row):\n",
    "                if value == '·':\n",
    "                    new_state = list([list(row) for row in state])\n",
    "                    new_state[y][x] = symbol\n",
    "                    yield tuple([tuple(row) for row in new_state]), (x, y)"
   ]
  },
  {
   "cell_type": "code",
   "execution_count": 13,
   "metadata": {},
   "outputs": [],
   "source": [
    "def expand_state(state,position):\n",
    "    \"\"\"\n",
    "    влезни аргументи се моменталната состојба на таблата и позицијата која ја разгледуваме моментално\n",
    "    од expand_square(position) ќе ги добиеме соседите\n",
    "    прво ја менуваме состојбата на избраната положба од полно во празно или обранто \n",
    "    а потоа низ форот вртиме низ соседите и ги менуваме нивните положби соодветно\n",
    "    функцијата ќе врати листа од промените\n",
    "    \"\"\"\n",
    "    x,y=position\n",
    "    states=[]\n",
    "    for row in state:\n",
    "        states.append(list(row))\n",
    "    neighbours=expand_square(position)\n",
    "    if valid(position):\n",
    "        if states[x][y]==0:\n",
    "            states[x][y]=1\n",
    "        elif states[x][y]==1:\n",
    "            states[x][y]=0\n",
    "        for pos in neighbours:\n",
    "            i,j=pos\n",
    "            if states[i][j]==0:\n",
    "                states[i][j]=1\n",
    "            elif states[i][j]==1:\n",
    "                states[i][j]=0\n",
    "    state_tuple=[]\n",
    "    for row in states:\n",
    "        state_tuple.append(tuple(row))\n",
    "    return tuple(state_tuple)           \n",
    "#tuka kje mora da se menuva bfs"
   ]
  },
  {
   "cell_type": "code",
   "execution_count": 28,
   "metadata": {},
   "outputs": [],
   "source": [
    "def expand_state(state):\n",
    "    \"\"\"\n",
    "    влезни аргументи се моменталната состојба на таблата и позицијата која ја разгледуваме моментално\n",
    "    од expand_square(position) ќе ги добиеме соседите\n",
    "    прво ја менуваме состојбата на избраната положба од полно во празно или обранто \n",
    "    а потоа низ форот вртиме низ соседите и ги менуваме нивните положби соодветно\n",
    "    функцијата ќе врати листа од промените\n",
    "    \"\"\"\n",
    "    states=[]\n",
    "    for row in state:\n",
    "        states.append(list(row))\n",
    "    lights=[]#gi dava tie sho svetat ustvari, tie sho se 1\n",
    "    for x in range(N):\n",
    "        for y in range(N):\n",
    "            if state[x][y]==1:\n",
    "                lights.append((x,y))\n",
    "    states=[]\n",
    "    for row in state:\n",
    "        states.append(list(row))\n",
    "    for light in lights:\n",
    "        x,y=light #koordinati na toj sho se 1 momentalno light\n",
    "        neighbours=expand_square(light)\n",
    "        states[x][y]=0\n",
    "        for pos in neighbours:\n",
    "            i,j=pos\n",
    "            if states[i][j]==0:\n",
    "                states[i][j]=1\n",
    "            elif states[i][j]==1:\n",
    "                states[i][j]=0\n",
    "    state_tuple=[]\n",
    "    for row in states:\n",
    "        state_tuple.append(tuple(row))\n",
    "    return tuple(state_tuple)    "
   ]
  },
  {
   "cell_type": "code",
   "execution_count": 29,
   "metadata": {},
   "outputs": [
    {
     "data": {
      "text/plain": [
       "((0, 1, 1, 0), (1, 0, 1, 0), (1, 1, 0, 1), (0, 0, 1, 0))"
      ]
     },
     "execution_count": 29,
     "metadata": {},
     "output_type": "execute_result"
    }
   ],
   "source": [
    "state = (\n",
    "    (0, 0, 1, 0),\n",
    "    (0, 0, 1, 1),\n",
    "    (1, 1, 0, 0),\n",
    "    (0, 1, 0, 0),\n",
    ")\n",
    "position=(0,0)\n",
    "expand_state(state)"
   ]
  },
  {
   "cell_type": "code",
   "execution_count": 30,
   "metadata": {},
   "outputs": [],
   "source": [
    "from collections import deque\n",
    "\n",
    "def breadth_first_search(initial_state, goal_state):\n",
    "    \"\"\"\n",
    "    додадов една листа lights со сите позиции во таблата\n",
    "    position=lights[0] ќе ја зема онаа позиција што е на ред да се разгранува и \n",
    "    потоа преку lights.pop(0) ја вадиме таа позиција од листата\n",
    "    \"\"\"\n",
    "    visited = {initial_state}\n",
    "    states_queue = deque([[initial_state]])\n",
    "    # lights = [(x, y) for x in range(N) for y in range(N) if state[x][y]]\n",
    "    while states_queue:\n",
    "        states_list = states_queue.popleft()\n",
    "        state_to_expand = states_list[-1]\n",
    "        # position=lights[0]\n",
    "        # lights.pop(0)\n",
    "        for next_state in expand_state(state_to_expand): \n",
    "            if next_state not in visited:\n",
    "                if next_state == goal_state:\n",
    "                    return states_list + [next_state]\n",
    "                visited.add(next_state)\n",
    "                states_queue.append(states_list + [next_state])\n",
    "    return []"
   ]
  },
  {
   "cell_type": "code",
   "execution_count": 31,
   "metadata": {},
   "outputs": [
    {
     "ename": "TypeError",
     "evalue": "'int' object is not iterable",
     "output_type": "error",
     "traceback": [
      "\u001b[0;31m---------------------------------------------------------------------------\u001b[0m",
      "\u001b[0;31mTypeError\u001b[0m                                 Traceback (most recent call last)",
      "Cell \u001b[0;32mIn[31], line 15\u001b[0m\n\u001b[1;32m      1\u001b[0m initial_state \u001b[38;5;241m=\u001b[39m (\n\u001b[1;32m      2\u001b[0m     (\u001b[38;5;241m0\u001b[39m, \u001b[38;5;241m0\u001b[39m, \u001b[38;5;241m1\u001b[39m, \u001b[38;5;241m1\u001b[39m),\n\u001b[1;32m      3\u001b[0m     (\u001b[38;5;241m1\u001b[39m, \u001b[38;5;241m1\u001b[39m, \u001b[38;5;241m1\u001b[39m, \u001b[38;5;241m1\u001b[39m),\n\u001b[1;32m      4\u001b[0m     (\u001b[38;5;241m1\u001b[39m, \u001b[38;5;241m1\u001b[39m, \u001b[38;5;241m0\u001b[39m, \u001b[38;5;241m1\u001b[39m),\n\u001b[1;32m      5\u001b[0m     (\u001b[38;5;241m0\u001b[39m, \u001b[38;5;241m0\u001b[39m, \u001b[38;5;241m1\u001b[39m, \u001b[38;5;241m0\u001b[39m),\n\u001b[1;32m      6\u001b[0m )\n\u001b[1;32m      8\u001b[0m goal_state \u001b[38;5;241m=\u001b[39m (\n\u001b[1;32m      9\u001b[0m     (\u001b[38;5;241m0\u001b[39m, \u001b[38;5;241m0\u001b[39m, \u001b[38;5;241m0\u001b[39m, \u001b[38;5;241m0\u001b[39m),\n\u001b[1;32m     10\u001b[0m     (\u001b[38;5;241m0\u001b[39m, \u001b[38;5;241m0\u001b[39m, \u001b[38;5;241m0\u001b[39m, \u001b[38;5;241m0\u001b[39m),\n\u001b[1;32m     11\u001b[0m     (\u001b[38;5;241m0\u001b[39m, \u001b[38;5;241m0\u001b[39m, \u001b[38;5;241m0\u001b[39m, \u001b[38;5;241m0\u001b[39m),\n\u001b[1;32m     12\u001b[0m     (\u001b[38;5;241m0\u001b[39m, \u001b[38;5;241m0\u001b[39m, \u001b[38;5;241m0\u001b[39m, \u001b[38;5;241m0\u001b[39m),\n\u001b[1;32m     13\u001b[0m )\n\u001b[0;32m---> 15\u001b[0m solution \u001b[38;5;241m=\u001b[39m \u001b[43mbreadth_first_search\u001b[49m\u001b[43m(\u001b[49m\u001b[43minitial_state\u001b[49m\u001b[43m,\u001b[49m\u001b[43m \u001b[49m\u001b[43mgoal_state\u001b[49m\u001b[43m)\u001b[49m\n\u001b[1;32m     16\u001b[0m \u001b[38;5;28;01mfor\u001b[39;00m table \u001b[38;5;129;01min\u001b[39;00m solution:\n\u001b[1;32m     17\u001b[0m     \u001b[38;5;28;01mfor\u001b[39;00m row \u001b[38;5;129;01min\u001b[39;00m table:\n",
      "Cell \u001b[0;32mIn[30], line 17\u001b[0m, in \u001b[0;36mbreadth_first_search\u001b[0;34m(initial_state, goal_state)\u001b[0m\n\u001b[1;32m     14\u001b[0m state_to_expand \u001b[38;5;241m=\u001b[39m states_list[\u001b[38;5;241m-\u001b[39m\u001b[38;5;241m1\u001b[39m]\n\u001b[1;32m     15\u001b[0m \u001b[38;5;66;03m# position=lights[0]\u001b[39;00m\n\u001b[1;32m     16\u001b[0m \u001b[38;5;66;03m# lights.pop(0)\u001b[39;00m\n\u001b[0;32m---> 17\u001b[0m \u001b[38;5;28;01mfor\u001b[39;00m next_state \u001b[38;5;129;01min\u001b[39;00m \u001b[43mexpand_state\u001b[49m\u001b[43m(\u001b[49m\u001b[43mstate_to_expand\u001b[49m\u001b[43m)\u001b[49m: \n\u001b[1;32m     18\u001b[0m     \u001b[38;5;28;01mif\u001b[39;00m next_state \u001b[38;5;129;01mnot\u001b[39;00m \u001b[38;5;129;01min\u001b[39;00m visited:\n\u001b[1;32m     19\u001b[0m         \u001b[38;5;28;01mif\u001b[39;00m next_state \u001b[38;5;241m==\u001b[39m goal_state:\n",
      "Cell \u001b[0;32mIn[28], line 11\u001b[0m, in \u001b[0;36mexpand_state\u001b[0;34m(state)\u001b[0m\n\u001b[1;32m      9\u001b[0m states\u001b[38;5;241m=\u001b[39m[]\n\u001b[1;32m     10\u001b[0m \u001b[38;5;28;01mfor\u001b[39;00m row \u001b[38;5;129;01min\u001b[39;00m state:\n\u001b[0;32m---> 11\u001b[0m     states\u001b[38;5;241m.\u001b[39mappend(\u001b[38;5;28;43mlist\u001b[39;49m\u001b[43m(\u001b[49m\u001b[43mrow\u001b[49m\u001b[43m)\u001b[49m)\n\u001b[1;32m     12\u001b[0m lights\u001b[38;5;241m=\u001b[39m[]\u001b[38;5;66;03m#gi dava tie sho svetat ustvari, tie sho se 1\u001b[39;00m\n\u001b[1;32m     13\u001b[0m \u001b[38;5;28;01mfor\u001b[39;00m x \u001b[38;5;129;01min\u001b[39;00m \u001b[38;5;28mrange\u001b[39m(N):\n",
      "\u001b[0;31mTypeError\u001b[0m: 'int' object is not iterable"
     ]
    }
   ],
   "source": [
    "initial_state = (\n",
    "    (0, 0, 1, 1),\n",
    "    (1, 1, 1, 1),\n",
    "    (1, 1, 0, 1),\n",
    "    (0, 0, 1, 0),\n",
    ")\n",
    "\n",
    "goal_state = (\n",
    "    (0, 0, 0, 0),\n",
    "    (0, 0, 0, 0),\n",
    "    (0, 0, 0, 0),\n",
    "    (0, 0, 0, 0),\n",
    ")\n",
    "\n",
    "solution = breadth_first_search(initial_state, goal_state)\n",
    "for table in solution:\n",
    "    for row in table:\n",
    "        print(row)\n",
    "    print()"
   ]
  },
  {
   "cell_type": "code",
   "execution_count": null,
   "metadata": {},
   "outputs": [],
   "source": []
  },
  {
   "cell_type": "code",
   "execution_count": null,
   "metadata": {},
   "outputs": [],
   "source": []
  },
  {
   "cell_type": "code",
   "execution_count": null,
   "metadata": {},
   "outputs": [],
   "source": []
  },
  {
   "cell_type": "code",
   "execution_count": null,
   "metadata": {},
   "outputs": [],
   "source": [
    "def expand_square(square):\n",
    "    \"\"\"\n",
    "    функција која ги дава соседите на оној кој моментално го разгледуваме\n",
    "    влезен аргумент ќе е некоја позиција а излезен листа со неговите соседи\n",
    "    \"\"\"\n",
    "    neighbour_squares = []\n",
    "    x, y = square\n",
    "    for x, y in [(x,y),(x+1, y), (x-1, y), (x, y+1), (x, y-1)]:\n",
    "        if 0 <= x < N and 0 <= y < N:\n",
    "            neighbour_squares.append((x, y))\n",
    "    return neighbour_squares"
   ]
  },
  {
   "cell_type": "code",
   "execution_count": null,
   "metadata": {},
   "outputs": [],
   "source": [
    "def expand_state(state):\n",
    "    states=[]\n",
    "    lights = [(x, y) for x in range(N) for y in range(N) if state[x][y]]\n",
    "    for light in lights:\n",
    "        for row in state:\n",
    "        states.append(list(row))\n",
    "        for x,y in expand_square(light):\n",
    "            if states[x][y]==0:\n",
    "                states[x][y]=1\n",
    "            else:\n",
    "                states[x][y]=0\n",
    "    statet=[]\n",
    "    for row in states:\n",
    "        statet.append(tuple(row))\n",
    "    return tuple(statet)"
   ]
  },
  {
   "cell_type": "code",
   "execution_count": 63,
   "metadata": {},
   "outputs": [],
   "source": [
    "def expand_state(state):\n",
    "    next_states = []\n",
    "    lights = [(x, y) for y in range(N) for x in range(N) if state[y][x]]\n",
    "    for light in lights:\n",
    "        new_state = list([list(x) for x in state])\n",
    "        for x, y in expand_square(light):\n",
    "            new_state[y][x] = 0 if new_state[y][x] else 1\n",
    "        next_states.append(tuple([tuple(x) for x in new_state]))\n",
    "    return next_states"
   ]
  },
  {
   "cell_type": "code",
   "execution_count": 64,
   "metadata": {},
   "outputs": [],
   "source": [
    "from collections import deque\n",
    "\n",
    "def breadth_first_search(initial_state, goal_state):\n",
    "    visited = {initial_state}\n",
    "    states_queue = deque([[initial_state]])\n",
    "    while states_queue:\n",
    "        states_list = states_queue.popleft()\n",
    "        state_to_expand = states_list[-1]\n",
    "        for next_state in expand_state(state_to_expand):\n",
    "            if next_state not in visited:\n",
    "                if next_state == goal_state:\n",
    "                    return states_list + [next_state]\n",
    "                visited.add(next_state)\n",
    "                states_queue.append(states_list + [next_state])\n",
    "    return []"
   ]
  },
  {
   "cell_type": "code",
   "execution_count": 65,
   "metadata": {},
   "outputs": [],
   "source": [
    "initial_state = (\n",
    "    (0, 0, 1, 1),\n",
    "    (1, 1, 1, 1),\n",
    "    (1, 1, 0, 1),\n",
    "    (0, 0, 1, 0),\n",
    ")\n",
    "\n",
    "goal_state = (\n",
    "    (0, 0, 0, 0),\n",
    "    (0, 0, 0, 0),\n",
    "    (0, 0, 0, 0),\n",
    "    (0, 0, 0, 0),\n",
    ")\n",
    "\n",
    "solution = breadth_first_search(initial_state, goal_state)\n",
    "for table in solution:\n",
    "    for row in table:\n",
    "        print(row)\n",
    "    print()"
   ]
  },
  {
   "cell_type": "markdown",
   "metadata": {},
   "source": [
    "### На испитот на се бараше визуелизацијата"
   ]
  },
  {
   "cell_type": "code",
   "execution_count": 7,
   "metadata": {},
   "outputs": [
    {
     "data": {
      "application/vnd.jupyter.widget-view+json": {
       "model_id": "0fe42be77d524dbd88e02799b1d83ac3",
       "version_major": 2,
       "version_minor": 0
      },
      "text/plain": [
       "VBox(children=(Button(description='Чекор', style=ButtonStyle()), FigureWidget({\n",
       "    'data': [{'marker': {'colo…"
      ]
     },
     "metadata": {},
     "output_type": "display_data"
    }
   ],
   "source": [
    "import ipywidgets as widgets\n",
    "\n",
    "def update_fig_2(table, x, y):\n",
    "    symbols = ['circle' if n else 'circle-open' for row in table for n in row]\n",
    "    fig.data[0].marker['symbol'] = symbols\n",
    "    fig.data[1].x, fig.data[1].y = [x], [y]\n",
    "\n",
    "def table_generator_function():\n",
    "    from statistics import median\n",
    "    for table_old, table_new in zip(solution, solution[1:]):\n",
    "        x_lights = [x for x in range(N) for y in range(N) if table_old[y][x] - table_new[y][x]]\n",
    "        y_lights = [y for x in range(N) for y in range(N) if table_old[y][x] - table_new[y][x]]\n",
    "        yield table_old, int(median(x_lights)), int(median(y_lights))\n",
    "    yield solution[-1], None, None\n",
    "    yield 'end'\n",
    "\n",
    "def clicked_button(button):    \n",
    "    data = next(table_generator)\n",
    "    if data != 'end':\n",
    "        update_fig_2(*data)\n",
    "    else:\n",
    "        button.disabled = True\n",
    "    \n",
    "def create_button():\n",
    "    button = widgets.Button(description='Чекор')\n",
    "    button.on_click(clicked_button)\n",
    "    return button\n",
    "\n",
    "table_generator = table_generator_function()\n",
    "\n",
    "button = create_button()\n",
    "fig = create_fig()\n",
    "fig.add_scatter(mode='markers', marker_symbol='x', marker_size=24)\n",
    "button.click()\n",
    "widgets.VBox([button, fig])"
   ]
  },
  {
   "cell_type": "code",
   "execution_count": null,
   "metadata": {},
   "outputs": [],
   "source": []
  },
  {
   "cell_type": "code",
   "execution_count": null,
   "metadata": {},
   "outputs": [],
   "source": []
  },
  {
   "cell_type": "code",
   "execution_count": null,
   "metadata": {},
   "outputs": [],
   "source": []
  }
 ],
 "metadata": {
  "kernelspec": {
   "display_name": "Python 3 (ipykernel)",
   "language": "python",
   "name": "python3"
  },
  "language_info": {
   "codemirror_mode": {
    "name": "ipython",
    "version": 3
   },
   "file_extension": ".py",
   "mimetype": "text/x-python",
   "name": "python",
   "nbconvert_exporter": "python",
   "pygments_lexer": "ipython3",
   "version": "3.10.8"
  }
 },
 "nbformat": 4,
 "nbformat_minor": 4
}
