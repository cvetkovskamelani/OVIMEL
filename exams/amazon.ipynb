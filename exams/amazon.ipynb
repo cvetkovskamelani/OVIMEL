{
 "cells": [
  {
   "cell_type": "markdown",
   "id": "7c20e06b",
   "metadata": {
    "tags": []
   },
   "source": [
    "# Втор парцијален испит по Основи на Вештачката Интелигенција - 1/2\n",
    "\n",
    "**Датум**: 18.01.2023"
   ]
  },
  {
   "cell_type": "markdown",
   "id": "7da0c235",
   "metadata": {},
   "source": [
    "## 1. Амазон\n",
    "Ја разгледуваме задачата за играта Амазон, од аудиториските вежби."
   ]
  },
  {
   "cell_type": "markdown",
   "id": "f52f8b9d",
   "metadata": {},
   "source": [
    "### Прашања и задачи"
   ]
  },
  {
   "cell_type": "markdown",
   "id": "25933454",
   "metadata": {},
   "source": [
    "Бидејќи дрвото на играта е мало, во решението од аудиториските се разгранува целото дрво. Сакаме да дознаеме колку вкупно состојби се разгрануваат при пребарувањето низ дрвото."
   ]
  },
  {
   "cell_type": "markdown",
   "id": "b06f2764",
   "metadata": {},
   "source": [
    "1.1. **(5 поени)** Без користење на калкулатор, дискутирајте на кој начин ќе процените колку состојби треба да се разгранат за да се истражи целото дрво на играта.\n",
    "    "
   ]
  },
  {
   "cell_type": "markdown",
   "id": "0f266011-b284-43c2-a9b0-7d765436093a",
   "metadata": {},
   "source": [
    "* најдобро е да поставиме бројач на почетокот на кодот во минимакс алгоритмот кој ќе се инкрементира при секое разгранување\n",
    "* бројачот треба да е глобална променлива за да може да се повика вон функцијата кога ќе сакаме да видиме колку јазли разгранил минимакс"
   ]
  },
  {
   "cell_type": "markdown",
   "id": "c05df7b3",
   "metadata": {},
   "source": [
    "1.2. **(5 поени) (код)** Пресметајте колку точно состојби се разгрануваат за да се истражи целото дрво на играта?"
   ]
  },
  {
   "cell_type": "code",
   "execution_count": null,
   "id": "f9e61402",
   "metadata": {},
   "outputs": [],
   "source": [
    "def minimax(state, player):\n",
    "    global counter\n",
    "    counter+=1\n",
    "    if check_score(state,player)!= 'keep_playing':\n",
    "            return scores[check_score(state)],None \n",
    "    best = plus_inf if player == 'MIN' else minus_inf\n",
    "    for next_state, next_move in expand_state(state, player):\n",
    "        result = minimax(next_state, other_player(player))\n",
    "        if player == 'MIN' and result <= best:\n",
    "            best = result\n",
    "        elif player == 'MAX' and result > best:\n",
    "            best = result\n",
    "    return best"
   ]
  },
  {
   "cell_type": "markdown",
   "id": "8dd8c2ab",
   "metadata": {},
   "source": [
    "1.3. **(5 поени)** Што е алфа-бета поткастрување? Зошто користиме алфа-бета поткастрување во оваа игра?"
   ]
  },
  {
   "cell_type": "markdown",
   "id": "88a023ca-9bb8-4e6c-82f6-b218b659045d",
   "metadata": {},
   "source": [
    "* алфа бета поткаструвањето всушност помага играта да се одвива побрзо затоа што нема да бидат разграснувани сите јазли\n",
    "* тоа всушност однапред предвидува дали некој јазол ќе треба да се разграни, на пример ако на ред е да бира мин и има земено некоја вредност 4 а во другиот пар избор има прва гранка 2, што за МИН е секако помало од 4,но тоа за МАКС секако ќе биде неприфатливо и МАКС ќе избере 4 па воопшто нема ни да разгледува понатаму МИН"
   ]
  },
  {
   "cell_type": "markdown",
   "id": "44340625",
   "metadata": {},
   "source": [
    "1.4. **(10 поени) (код)** Покажете дека користењето на постапката за алфа-бета поткастрување се исплати во оваа игра. На кој начин подобро ќе се покаже: (1) преку времето потребно за извршување на алгоритмите или (2) преку броење на разгранетите јазли?"
   ]
  },
  {
   "cell_type": "code",
   "execution_count": null,
   "id": "ffee7d8e",
   "metadata": {},
   "outputs": [],
   "source": [
    "# prethodniot kod nema da go pishuvam tuku samo minimax funkcijata so alfa beta potkastruvanje so koja jas ja reshiv zadachata\n",
    "#minimax so dlabochina\n",
    "def minimax_alpha_beta(state, player,alpha=minus_inf, beta=plus_inf, depth=0):\n",
    "    global counter\n",
    "    counter+=1\n",
    "    if check_score(state,player)!= 'keep_playing':\n",
    "        return scores[check_score(state)],None \n",
    "    if depth == 3:\n",
    "        return evaluate_state(state),None\n",
    "    best = plus_inf if player == 'MIN' else minus_inf\n",
    "    best_move = None\n",
    "    symbol='x' if player=='MAX' else 'o'\n",
    "    for next_state, next_move in expand_state(state, player):\n",
    "        result, result_move = minimax(next_state, turn(player),alpha,beta,depth+1)\n",
    "        if player == 'MIN':\n",
    "            if result <= alpha:\n",
    "                return result, best_move\n",
    "            if result < beta:\n",
    "                beta = result\n",
    "            if result < best:\n",
    "                best = result\n",
    "                best_move = move\n",
    "        elif player == 'MAX':\n",
    "            if result >= beta:\n",
    "                return result, best_move\n",
    "            if result > alpha:\n",
    "                alpha = result\n",
    "            if result > best:\n",
    "                best = result\n",
    "                best_move = result_move\n",
    "    return best, best_move"
   ]
  },
  {
   "cell_type": "markdown",
   "id": "ca1ed168-29fa-4d97-8285-1aedf3a2b1d9",
   "metadata": {},
   "source": [
    "* поголема и поточна разлика ќе се види со бројот на разгранети јазли, а тоа се прави со повикување на глобален бројач кој инкрементира при секое повикување на минимакс"
   ]
  },
  {
   "cell_type": "markdown",
   "id": "4c72c5bb",
   "metadata": {},
   "source": [
    "Целото дрво брзо се истражува на компјутер од 2022 година. Во продолжение разгледуваме случај кога овој алгоритам се поставува на компјутер кој нема доволно пресметковна моќ и мемориски ресурси за да го пребара целото дрво во логично време за еден потег. Ова е случај кога таблата наместо 3х3 ќе биде 6х6. Стандардната постапка во овој случај е да се ограничи длабочината до која пребарува алгоритамот, па тогаш да се проценува исходот од играта преку функција за евристика."
   ]
  },
  {
   "cell_type": "markdown",
   "id": "b9858f38",
   "metadata": {},
   "source": [
    "1.5. **(20 поени) (код)** Предложете функција за проценка на победникот (евристика) за оваа игра. Имплементирајте ја во код. Функцијата може да се напише без да ја тестирате со готовата игра од аудиториските вежби. Важно е да се објасни секоја логичка целина од кодот на функцијата која ќе ја напишете."
   ]
  },
  {
   "cell_type": "markdown",
   "id": "b898e077-b0fb-4c5c-81b9-356a5483a2b7",
   "metadata": {},
   "source": [
    "* ако до полето побрзо стига бела кралица, нејзино е, ако не на црната"
   ]
  },
  {
   "cell_type": "code",
   "execution_count": 3,
   "id": "619e4355",
   "metadata": {},
   "outputs": [],
   "source": [
    "def who_owns_square(state, square_position, N):\n",
    "    \"\"\"\n",
    "    x,y ќе бидат координатите на позицијата\n",
    "    N е големината на таблата\n",
    "    алгоритмот работи така што ќе имаме една листа која ќе брои кој колку можност има да направи потег до една позиција\n",
    "    оној со поголем број на потези губи, затоа што другиот е поблиску\n",
    "    -1 враќа за црни, 1 за бели, 0 за нерешено\n",
    "    \"\"\"\n",
    "    x, y = square_position\n",
    "    number_of_moves = []\n",
    "    for queen_color in ['white', 'black']:\n",
    "        goal_state = move(state, queen_color,square_position)\n",
    "        number_of_moves.append(a_star_search(state, goal_state, queen_color, N)[0])\n",
    "        \n",
    "    if number_of_moves[0] > number_of_moves[1]: # ako white pravi povekje moves za da stigne do istoto mesto\n",
    "        return -1\n",
    "    elif number_of_moves[0] < number_of_moves[1]:\n",
    "        return 1\n",
    "    else:\n",
    "        return 0"
   ]
  },
  {
   "cell_type": "code",
   "execution_count": 4,
   "id": "2de15470-a554-4c9a-9eed-92a67e6fa51f",
   "metadata": {},
   "outputs": [],
   "source": [
    "def who_is_at_advantage(state, N):\n",
    "    \"\"\"\n",
    "    имаме бројач total_score кој ако победува црната кралица ќе е негативен, а ако е позитивен белата\n",
    "    ќе броиме победник така што гледаме за непополнетите места, кој е поблиску до него, има поголема \n",
    "    шанса да го освои тоа место преку горната функција\n",
    "    \"\"\"\n",
    "    total_score = 0\n",
    "    for row_index, row in enumerate(state):\n",
    "        for col_index, element in enumerate(row):\n",
    "            if element == '.':\n",
    "                score = who_owns_square(state, (row_index, col_index), N)\n",
    "                total_score += score # ke e <0 ako black ima povekje polinja, ke e >0 ako white ima povekje polinja\n",
    "    return total_score"
   ]
  },
  {
   "cell_type": "code",
   "execution_count": null,
   "id": "3b41f223-9a39-47fe-bdb3-b4ad510f1d98",
   "metadata": {},
   "outputs": [],
   "source": []
  }
 ],
 "metadata": {
  "kernelspec": {
   "display_name": "Python 3 (ipykernel)",
   "language": "python",
   "name": "python3"
  },
  "language_info": {
   "codemirror_mode": {
    "name": "ipython",
    "version": 3
   },
   "file_extension": ".py",
   "mimetype": "text/x-python",
   "name": "python",
   "nbconvert_exporter": "python",
   "pygments_lexer": "ipython3",
   "version": "3.10.8"
  }
 },
 "nbformat": 4,
 "nbformat_minor": 5
}
