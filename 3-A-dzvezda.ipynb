{
 "cells": [
  {
   "cell_type": "markdown",
   "id": "a8bf3cfc-4278-4117-8134-4b3fcf0e7ae9",
   "metadata": {},
   "source": [
    "# ПРЕБАРУВАЊЕ А*"
   ]
  },
  {
   "cell_type": "markdown",
   "id": "e2e589ac-8441-413e-ae02-798c016b9609",
   "metadata": {
    "jp-MarkdownHeadingCollapsed": true,
    "tags": []
   },
   "source": [
    "## Објаснување за А*"
   ]
  },
  {
   "cell_type": "markdown",
   "id": "49590ce0-1ac0-4232-810e-d0ca41ecb720",
   "metadata": {},
   "source": [
    "a_star_weight = алфа*евристика + пат шо го помина досега\n",
    "* двата елементи треба да се со иста мерна единица или погодени некако така шо ќе има смисла\n",
    "* евристика мора да е <= реална цена на патот, ако сакаме да го најдиме најкраткио пат\n",
    "    * ако евристиката е скроз точна -> најевтин + брз\n",
    "    * ако a_star_weight = пат шо го помина досега -> пребарување по униформна цена (поспоро ама најевтино)\n",
    "* ако евристика > реална цена на патот -> побрзо стигаме до целта ама не е најевтина\n",
    "    * ако a_star_weight = алфа*евристика (пат досега = 0) -> greedy search (побрзо ама поскапо)\n",
    "* евристика се прај на моменталната состојба"
   ]
  },
  {
   "cell_type": "markdown",
   "id": "65cb7709-10c4-4c6a-877b-c43bd9fa68ca",
   "metadata": {
    "tags": []
   },
   "source": [
    "## Мерки за далечина"
   ]
  },
  {
   "cell_type": "markdown",
   "id": "b0a05153-03c4-4a05-82e9-1c975cde72cf",
   "metadata": {},
   "source": [
    "### Менхетен\n",
    "* растојание ако одиме само хоризонтално или вертикално\n",
    "* d = | x1 - x2 | + | y1 - y2 |"
   ]
  },
  {
   "cell_type": "code",
   "execution_count": null,
   "id": "950e23a6-69a6-4a1a-bb13-e1cb709c7ab9",
   "metadata": {},
   "outputs": [],
   "source": [
    "def manhattan_distance(state_1, state_2):\n",
    "    return abs(state_1[0] - state_2[0]) + abs(state_1[1] - state_2[1])"
   ]
  },
  {
   "cell_type": "markdown",
   "id": "4dce2e29-5b7d-4089-9a81-1230b0a21519",
   "metadata": {},
   "source": [
    "### Чебишев\n",
    "* растојание според вертикални, хоризонтални и дијагонални правци\n",
    "* d = max( | x1 - x2 |, | y1 - y2 | )"
   ]
  },
  {
   "cell_type": "code",
   "execution_count": null,
   "id": "56da2418-9020-42be-831a-6eca63276162",
   "metadata": {},
   "outputs": [
    {
     "data": {
      "text/plain": [
       "2"
      ]
     },
     "execution_count": 19,
     "metadata": {},
     "output_type": "execute_result"
    }
   ],
   "source": [
    "def chebyshev_distance(state_1, state_2):\n",
    "    return max(abs(state_1[0] - state_2[0]), abs(state_1[1] - state_2[1]))\n",
    "\n",
    "chebyshev_distance((1, 2), (3, 4))"
   ]
  },
  {
   "cell_type": "markdown",
   "id": "6f94b658-8340-4ed2-ab7b-909bf6d941b1",
   "metadata": {},
   "source": [
    "### Евклид\n",
    "* реалното растојание\n",
    "* d = sqrt( ( x1 - x2 )^2 + ( y1 - y2 )^2 )"
   ]
  },
  {
   "cell_type": "code",
   "execution_count": null,
   "id": "232771b0-9eff-4c42-aaa0-46e3e42f422b",
   "metadata": {
    "tags": []
   },
   "outputs": [
    {
     "data": {
      "text/plain": [
       "1.4142135623730951"
      ]
     },
     "execution_count": 23,
     "metadata": {},
     "output_type": "execute_result"
    }
   ],
   "source": [
    "import math\n",
    "\n",
    "def eucledian_distance(state_1, state_2):\n",
    "    return math.sqrt((state_1[0] - state_2[0])**2 + (state_1[1] - state_2[1])**2)\n",
    "\n",
    "eucledian_distance((0, 0), (1, 1))"
   ]
  },
  {
   "cell_type": "markdown",
   "id": "de5f63bb-c0f3-47c4-a802-b7f0648d9577",
   "metadata": {
    "jp-MarkdownHeadingCollapsed": true,
    "tags": []
   },
   "source": [
    "## Граф"
   ]
  },
  {
   "cell_type": "code",
   "execution_count": 14,
   "id": "9b418a28-4621-4f22-a752-081644654512",
   "metadata": {},
   "outputs": [],
   "source": [
    "class Graph():\n",
    "    \n",
    "    def __init__(self):\n",
    "        self.dict = {}\n",
    "    \n",
    "    def add_vertex(self, vertex):\n",
    "        if vertex not in self.dict:\n",
    "            self.dict[vertex] = {}\n",
    "        \n",
    "    def add_edge(self, edge):\n",
    "        vertex1, vertex2, weight = edge\n",
    "        self.dict[vertex1][vertex2] = weight\n",
    "        self.dict[vertex2][vertex1] = weight\n",
    "        \n",
    "    def give_vertices(self):\n",
    "        return list(self.dict.keys())\n",
    "    \n",
    "    def give_edges(self):\n",
    "        edges = []\n",
    "        for vertex1 in self.dict:\n",
    "            for vertex2 in self.dict[vertex1]:\n",
    "                edges.append((self.dict[vertex1][vertex2], vertex1, vertex2))\n",
    "        return edges\n",
    "    \n",
    "    def give_neighbors(self, vertex):\n",
    "        neighbors = []\n",
    "        for neighbor in self.dict[vertex]:\n",
    "            neighbors.append((self.dict[vertex][neighbor], neighbor))\n",
    "        return neighbors\n",
    "    \n",
    "    '''def give_neighbors(self, vertex):\n",
    "        return list(self.dict[vertex].items())'''\n",
    "    "
   ]
  },
  {
   "cell_type": "code",
   "execution_count": 15,
   "id": "d893f7b6-fc22-43e2-95a4-fd94f4c400ae",
   "metadata": {},
   "outputs": [],
   "source": [
    "g = Graph()"
   ]
  },
  {
   "cell_type": "code",
   "execution_count": 16,
   "id": "c3580717-841b-4e24-8cc7-e289b8d5781c",
   "metadata": {},
   "outputs": [
    {
     "data": {
      "text/plain": [
       "['A', 'B', 'C', 'D', 'E', 'F', 'G', 'H', 'S']"
      ]
     },
     "execution_count": 16,
     "metadata": {},
     "output_type": "execute_result"
    }
   ],
   "source": [
    "g.add_vertex('A')\n",
    "g.add_vertex('B')\n",
    "g.add_vertex('C')\n",
    "g.add_vertex('D')\n",
    "g.add_vertex('E')\n",
    "g.add_vertex('F')\n",
    "g.add_vertex('G')\n",
    "g.add_vertex('H')\n",
    "g.add_vertex('S')\n",
    "\n",
    "g.give_vertices()"
   ]
  },
  {
   "cell_type": "code",
   "execution_count": 17,
   "id": "3628c8aa-23d4-451e-bb39-99827fa44f79",
   "metadata": {},
   "outputs": [
    {
     "data": {
      "text/plain": [
       "[(2, 'A', 'C'),\n",
       " (10, 'A', 'S'),\n",
       " (10, 'A', 'G'),\n",
       " (8, 'B', 'D'),\n",
       " (16, 'B', 'G'),\n",
       " (8, 'B', 'S'),\n",
       " (2, 'C', 'A'),\n",
       " (3, 'C', 'E'),\n",
       " (9, 'C', 'G'),\n",
       " (8, 'D', 'B'),\n",
       " (1, 'D', 'H'),\n",
       " (3, 'D', 'G'),\n",
       " (3, 'E', 'C'),\n",
       " (2, 'E', 'G'),\n",
       " (1, 'F', 'H'),\n",
       " (16, 'G', 'B'),\n",
       " (9, 'G', 'C'),\n",
       " (3, 'G', 'D'),\n",
       " (2, 'G', 'E'),\n",
       " (10, 'G', 'A'),\n",
       " (1, 'H', 'D'),\n",
       " (1, 'H', 'F'),\n",
       " (10, 'S', 'A'),\n",
       " (8, 'S', 'B')]"
      ]
     },
     "execution_count": 17,
     "metadata": {},
     "output_type": "execute_result"
    }
   ],
   "source": [
    "g.add_edge(('A', 'C', 2))\n",
    "g.add_edge(('A', 'S', 10))\n",
    "g.add_edge(('B', 'D', 8))\n",
    "g.add_edge(('B', 'G', 16))\n",
    "g.add_edge(('B', 'S', 8))\n",
    "g.add_edge(('C', 'E', 3))\n",
    "g.add_edge(('C', 'G', 9))\n",
    "g.add_edge(('D', 'H', 1))\n",
    "g.add_edge(('D', 'G', 3))\n",
    "g.add_edge(('E', 'G', 2))\n",
    "g.add_edge(('F', 'H', 1))\n",
    "g.add_edge(('A', 'G', 10))\n",
    "\n",
    "g.give_edges()"
   ]
  },
  {
   "cell_type": "code",
   "execution_count": 21,
   "id": "c781fc51-663b-4910-b9b6-01a7fcdd6ac7",
   "metadata": {},
   "outputs": [
    {
     "data": {
      "text/plain": [
       "[(10, 'A'), (8, 'B')]"
      ]
     },
     "execution_count": 21,
     "metadata": {},
     "output_type": "execute_result"
    }
   ],
   "source": [
    "g.give_neighbors('S')"
   ]
  },
  {
   "cell_type": "code",
   "execution_count": 7,
   "id": "ab0f0b24-8bd3-4d66-b8dc-27652f5f6ce8",
   "metadata": {},
   "outputs": [],
   "source": [
    "h = {'S': 12, 'A': 5, 'B': 5, 'C': 5, 'D': 2, \n",
    "     'E': 2, 'F': 1, 'H': 1, 'G': 0}\n",
    "\n",
    "def heuristic(vertex):\n",
    "    return h[vertex]"
   ]
  },
  {
   "cell_type": "code",
   "execution_count": 58,
   "id": "51f16a3d-ddb4-4d9b-85b7-f292bf3cc5ed",
   "metadata": {},
   "outputs": [],
   "source": [
    "import heapq\n",
    "\n",
    "def a_star_search(graph, initial_vertex, goal_vertex):\n",
    "    \n",
    "    queue = [((0, 0), [initial_vertex])]\n",
    "    heapq.heapify(queue)\n",
    "    expanded = set()\n",
    "    \n",
    "    while queue:\n",
    "        current_weight_tuple, list_to_expand = heapq.heappop(queue)\n",
    "        current_a_star_weight, current_weight = current_weight_tuple\n",
    "        vertex_to_expand = list_to_expand[-1]\n",
    "        \n",
    "        if vertex_to_expand == goal_vertex:\n",
    "            return current_weight, list_to_expand\n",
    "        \n",
    "        if vertex_to_expand not in expanded:\n",
    "            for weight, next_vertex in graph.give_neighbors(vertex_to_expand):\n",
    "                if next_vertex not in expanded:\n",
    "                    next_weight = weight + current_weight\n",
    "                    next_a_star_weight = heuristic(next_vertex) + next_weight\n",
    "                    heapq.heappush(queue, ((next_a_star_weight, next_weight), list_to_expand + [next_vertex]))\n",
    "\n",
    "            expanded.add(vertex_to_expand)\n",
    "    \n",
    "# [ ( (19, 12), [A, C] ),  ]"
   ]
  },
  {
   "cell_type": "code",
   "execution_count": 59,
   "id": "1c150258-d089-4725-9ce5-ce70454823f8",
   "metadata": {},
   "outputs": [
    {
     "data": {
      "text/plain": [
       "(17, ['S', 'A', 'C', 'E', 'G'])"
      ]
     },
     "execution_count": 59,
     "metadata": {},
     "output_type": "execute_result"
    }
   ],
   "source": [
    "a_star_search(g, 'S', 'G')"
   ]
  },
  {
   "cell_type": "markdown",
   "id": "6d7301e9-15f5-4b39-abe5-86d5773dbcf6",
   "metadata": {
    "tags": []
   },
   "source": [
    "## Плочки"
   ]
  },
  {
   "cell_type": "code",
   "execution_count": 3,
   "id": "bc6ca21d-a2e8-41c0-99c6-dd05a6a5ab64",
   "metadata": {},
   "outputs": [],
   "source": [
    "state = ((0, 5, 3),\n",
    "         (7, 8, 4),\n",
    "         (2, 6, 1))\n",
    "\n",
    "goal_state = ((0, 1, 2),\n",
    "              (3, 4, 5),\n",
    "              (6, 7, 8))\n"
   ]
  },
  {
   "cell_type": "code",
   "execution_count": 4,
   "id": "f3b14564-01a5-4a28-9044-b75addc4ba0c",
   "metadata": {},
   "outputs": [],
   "source": [
    "bigger_state = ((15, 2, 1, 12),\n",
    "                (8, 5, 6, 11),\n",
    "                (4, 9, 10, 7),\n",
    "                (3, 14, 13, 0))\n",
    "\n",
    "goal_bigger_state = ((0, 1, 2, 3),\n",
    "              (4, 5, 6, 7),\n",
    "              (8, 9, 10, 11),\n",
    "              (12, 13, 14, 15))"
   ]
  },
  {
   "cell_type": "code",
   "execution_count": 5,
   "id": "40dd641b-edc9-45a2-ba3d-9a775c371a3d",
   "metadata": {},
   "outputs": [],
   "source": [
    "def move_tile(state, tile_position, zero_position):\n",
    "    tile_row, tile_col = tile_position\n",
    "    zero_row, zero_col = zero_position\n",
    "    state_list = []\n",
    "    for row in state:\n",
    "        state_list.append(list(row))\n",
    "        \n",
    "    state_list[zero_row][zero_col] = state[tile_row][tile_col]\n",
    "    state_list[tile_row][tile_col] = state[zero_row][zero_col]\n",
    "    \n",
    "    state_tuple = []\n",
    "    for row in state_list:\n",
    "        state_tuple.append(tuple(row))\n",
    "        \n",
    "    return tuple(state_tuple)"
   ]
  },
  {
   "cell_type": "code",
   "execution_count": 6,
   "id": "c0b171cb-ae3f-4924-86e3-d4ee35034ec4",
   "metadata": {},
   "outputs": [
    {
     "data": {
      "text/plain": [
       "((15, 2, 1, 12), (8, 5, 6, 11), (4, 9, 10, 7), (3, 14, 0, 13))"
      ]
     },
     "execution_count": 6,
     "metadata": {},
     "output_type": "execute_result"
    }
   ],
   "source": [
    "move_tile(bigger_state, (3, 2), (3, 3))"
   ]
  },
  {
   "cell_type": "code",
   "execution_count": 7,
   "id": "e29f9534-43fd-476c-a4fe-3ac7038012db",
   "metadata": {},
   "outputs": [],
   "source": [
    "N = 4\n",
    "\n",
    "def expand_state(state):\n",
    "    states_list = []\n",
    "    \n",
    "    for index_row, row in enumerate(state):\n",
    "        if 0 in row:\n",
    "            zero_position = (index_row, row.index(0))\n",
    "            break\n",
    "            \n",
    "    zero_row, zero_col = zero_position\n",
    "            \n",
    "    tile_indexes_to_move = [(zero_row+1, zero_col),\n",
    "                            (zero_row-1, zero_col),\n",
    "                            (zero_row, zero_col+1),\n",
    "                            (zero_row, zero_col-1)]\n",
    "\n",
    "    for index_row, index_col in tile_indexes_to_move:\n",
    "        if (index_row < 0 or index_row >= N) or (index_col < 0 or index_col >= N):\n",
    "            continue\n",
    "        states_list.append((1, move_tile(state, (index_row, index_col), zero_position)))\n",
    "        \n",
    "    return states_list"
   ]
  },
  {
   "cell_type": "code",
   "execution_count": 8,
   "id": "5dd9af1a-9d68-4420-abbe-181c5606af38",
   "metadata": {},
   "outputs": [
    {
     "data": {
      "text/plain": [
       "[(1, ((15, 2, 1, 12), (8, 5, 6, 11), (4, 9, 10, 0), (3, 14, 13, 7))),\n",
       " (1, ((15, 2, 1, 12), (8, 5, 6, 11), (4, 9, 10, 7), (3, 14, 0, 13)))]"
      ]
     },
     "execution_count": 8,
     "metadata": {},
     "output_type": "execute_result"
    }
   ],
   "source": [
    "expand_state(bigger_state)"
   ]
  },
  {
   "cell_type": "code",
   "execution_count": 9,
   "id": "c90d23ea-2bc9-4f03-a09f-8741efcfaee1",
   "metadata": {},
   "outputs": [],
   "source": [
    "goal_positions = {\n",
    "    0: (0, 0), 1: (0, 1), 2: (0, 2),\n",
    "    3: (1, 0), 4: (1, 1), 5: (1, 2),\n",
    "    6: (2, 0), 7: (2, 1), 8: (2, 2)\n",
    "}\n",
    "\n",
    "bigger_goal_positions = {\n",
    "    0: (0, 0), 1: (0, 1), 2: (0, 2), 3: (0, 3),\n",
    "    4: (1, 0), 5: (1, 1), 6: (1, 2), 7: (1, 3),\n",
    "    8: (2, 0), 9: (2, 1), 10: (2, 2), 11: (2, 3),\n",
    "    12: (3, 0), 13: (3, 1), 14: (3, 2), 15: (3, 3)\n",
    "}\n",
    "\n",
    "def manhattan_distance(current_position, number):\n",
    "    return abs(current_position[0] - bigger_goal_positions[number][0]) + abs(current_position[1] - bigger_goal_positions[number][1])\n",
    "\n",
    "def heuristics(state):\n",
    "    value = 0\n",
    "    for index_row, row in enumerate(state):\n",
    "        for index_col, col in enumerate(row):\n",
    "            value += manhattan_distance((index_row, index_col), col)\n",
    "    return value"
   ]
  },
  {
   "cell_type": "code",
   "execution_count": 10,
   "id": "77671780-93c7-4ff8-a377-ae0d44827ef9",
   "metadata": {},
   "outputs": [
    {
     "data": {
      "text/plain": [
       "32"
      ]
     },
     "execution_count": 10,
     "metadata": {},
     "output_type": "execute_result"
    }
   ],
   "source": [
    "heuristics(bigger_state)"
   ]
  },
  {
   "cell_type": "code",
   "execution_count": 11,
   "id": "32895d9f-8cee-4f07-bfb8-b086cd59cb4a",
   "metadata": {},
   "outputs": [],
   "source": [
    "import heapq\n",
    "\n",
    "def a_star_search(initial_state, goal_state):\n",
    "    # sekoe dvizenje ima cena 1\n",
    "    \n",
    "    queue = [((0, 0), [initial_state])]\n",
    "    heapq.heapify(queue)\n",
    "    expanded = set()\n",
    "    \n",
    "    while queue:\n",
    "        current_weight_tuple, list_to_expand = heapq.heappop(queue)\n",
    "        current_a_star_weight, current_weight = current_weight_tuple\n",
    "        state_to_expand = list_to_expand[-1]\n",
    "        \n",
    "        if state_to_expand == goal_state:\n",
    "            return current_weight, list_to_expand\n",
    "        \n",
    "        if state_to_expand not in expanded:\n",
    "            for weight, next_state in expand_state(state_to_expand):\n",
    "                if next_state not in expanded:\n",
    "                    next_weight = current_weight + weight\n",
    "                    next_a_star_weight = next_weight + heuristics(next_state)\n",
    "                    heapq.heappush(queue, ((next_a_star_weight, next_weight), list_to_expand + [next_state]))\n",
    "            expanded.add(state_to_expand)\n",
    "    \n",
    "    \n",
    "    "
   ]
  },
  {
   "cell_type": "code",
   "execution_count": 12,
   "id": "47f09452-2693-4df0-9334-669c79b21868",
   "metadata": {},
   "outputs": [
    {
     "ename": "KeyboardInterrupt",
     "evalue": "",
     "output_type": "error",
     "traceback": [
      "\u001b[1;31m---------------------------------------------------------------------------\u001b[0m",
      "\u001b[1;31mKeyboardInterrupt\u001b[0m                         Traceback (most recent call last)",
      "Cell \u001b[1;32mIn [12], line 1\u001b[0m\n\u001b[1;32m----> 1\u001b[0m \u001b[43ma_star_search\u001b[49m\u001b[43m(\u001b[49m\u001b[43mbigger_state\u001b[49m\u001b[43m,\u001b[49m\u001b[43m \u001b[49m\u001b[43mgoal_bigger_state\u001b[49m\u001b[43m)\u001b[49m\n",
      "Cell \u001b[1;32mIn [11], line 19\u001b[0m, in \u001b[0;36ma_star_search\u001b[1;34m(initial_state, goal_state)\u001b[0m\n\u001b[0;32m     16\u001b[0m     \u001b[38;5;28;01mreturn\u001b[39;00m current_weight, list_to_expand\n\u001b[0;32m     18\u001b[0m \u001b[38;5;28;01mif\u001b[39;00m state_to_expand \u001b[38;5;129;01mnot\u001b[39;00m \u001b[38;5;129;01min\u001b[39;00m expanded:\n\u001b[1;32m---> 19\u001b[0m     \u001b[38;5;28;01mfor\u001b[39;00m weight, next_state \u001b[38;5;129;01min\u001b[39;00m \u001b[43mexpand_state\u001b[49m\u001b[43m(\u001b[49m\u001b[43mstate_to_expand\u001b[49m\u001b[43m)\u001b[49m:\n\u001b[0;32m     20\u001b[0m         \u001b[38;5;28;01mif\u001b[39;00m next_state \u001b[38;5;129;01mnot\u001b[39;00m \u001b[38;5;129;01min\u001b[39;00m expanded:\n\u001b[0;32m     21\u001b[0m             next_weight \u001b[38;5;241m=\u001b[39m current_weight \u001b[38;5;241m+\u001b[39m weight\n",
      "Cell \u001b[1;32mIn [7], line 21\u001b[0m, in \u001b[0;36mexpand_state\u001b[1;34m(state)\u001b[0m\n\u001b[0;32m     19\u001b[0m     \u001b[38;5;28;01mif\u001b[39;00m (index_row \u001b[38;5;241m<\u001b[39m \u001b[38;5;241m0\u001b[39m \u001b[38;5;129;01mor\u001b[39;00m index_row \u001b[38;5;241m>\u001b[39m\u001b[38;5;241m=\u001b[39m N) \u001b[38;5;129;01mor\u001b[39;00m (index_col \u001b[38;5;241m<\u001b[39m \u001b[38;5;241m0\u001b[39m \u001b[38;5;129;01mor\u001b[39;00m index_col \u001b[38;5;241m>\u001b[39m\u001b[38;5;241m=\u001b[39m N):\n\u001b[0;32m     20\u001b[0m         \u001b[38;5;28;01mcontinue\u001b[39;00m\n\u001b[1;32m---> 21\u001b[0m     states_list\u001b[38;5;241m.\u001b[39mappend((\u001b[38;5;241m1\u001b[39m, \u001b[43mmove_tile\u001b[49m\u001b[43m(\u001b[49m\u001b[43mstate\u001b[49m\u001b[43m,\u001b[49m\u001b[43m \u001b[49m\u001b[43m(\u001b[49m\u001b[43mindex_row\u001b[49m\u001b[43m,\u001b[49m\u001b[43m \u001b[49m\u001b[43mindex_col\u001b[49m\u001b[43m)\u001b[49m\u001b[43m,\u001b[49m\u001b[43m \u001b[49m\u001b[43mzero_position\u001b[49m\u001b[43m)\u001b[49m))\n\u001b[0;32m     23\u001b[0m \u001b[38;5;28;01mreturn\u001b[39;00m states_list\n",
      "Cell \u001b[1;32mIn [5], line 13\u001b[0m, in \u001b[0;36mmove_tile\u001b[1;34m(state, tile_position, zero_position)\u001b[0m\n\u001b[0;32m     11\u001b[0m state_tuple \u001b[38;5;241m=\u001b[39m []\n\u001b[0;32m     12\u001b[0m \u001b[38;5;28;01mfor\u001b[39;00m row \u001b[38;5;129;01min\u001b[39;00m state_list:\n\u001b[1;32m---> 13\u001b[0m     \u001b[43mstate_tuple\u001b[49m\u001b[38;5;241;43m.\u001b[39;49m\u001b[43mappend\u001b[49m\u001b[43m(\u001b[49m\u001b[38;5;28;43mtuple\u001b[39;49m\u001b[43m(\u001b[49m\u001b[43mrow\u001b[49m\u001b[43m)\u001b[49m\u001b[43m)\u001b[49m\n\u001b[0;32m     15\u001b[0m \u001b[38;5;28;01mreturn\u001b[39;00m \u001b[38;5;28mtuple\u001b[39m(state_tuple)\n",
      "\u001b[1;31mKeyboardInterrupt\u001b[0m: "
     ]
    }
   ],
   "source": [
    "a_star_search(bigger_state, goal_bigger_state)"
   ]
  },
  {
   "cell_type": "markdown",
   "id": "8027b032-e537-42e0-ac41-54e1bca94709",
   "metadata": {
    "jp-MarkdownHeadingCollapsed": true,
    "tags": []
   },
   "source": [
    "## Пивара"
   ]
  },
  {
   "cell_type": "markdown",
   "id": "126fa276-a9ff-4fe9-b867-37dcbe849cfb",
   "metadata": {},
   "source": [
    "* се избират шишињата со код 2\n",
    "* 0 = празно место\n",
    "* 3х2 област на земање шишиња или 2х3\n",
    "* роботот да ги издвои шишињата со код 2 во најмалку чекори\n",
    "* 1 чекор е да се претвори матрицата од 2 во 0"
   ]
  },
  {
   "cell_type": "code",
   "execution_count": 63,
   "id": "7843ff30-dda0-42a2-b670-553e319d5998",
   "metadata": {},
   "outputs": [],
   "source": [
    "g  = (\n",
    "    (0, 3, 2, 0, 2, 2, 2),\n",
    "    (2, 1, 2, 2, 2, 3, 2),\n",
    "    (2, 2, 0, 2, 2, 2, 2),\n",
    "    (0, 2, 2, 2, 2, 2, 0),\n",
    "    (2, 2, 3, 2, 2, 2, 2),\n",
    "    (2, 2, 1, 2, 2, 2, 2),\n",
    "    (0, 3, 0, 2, 2, 2, 2)\n",
    ")"
   ]
  },
  {
   "cell_type": "code",
   "execution_count": 64,
   "id": "33eee3af-bc76-4f7b-86c7-97f373296f01",
   "metadata": {},
   "outputs": [],
   "source": [
    "def goal_state(state):\n",
    "    \n",
    "    state_list = []\n",
    "    for row in state:\n",
    "        state_list.append(list(row))\n",
    "        \n",
    "    for row_index, row in enumerate(state_list):\n",
    "        for col_index, element in enumerate(row):\n",
    "            if element == 2:\n",
    "                state_list[row_index][col_index] = 0\n",
    "                \n",
    "    state_tuple = []\n",
    "    for row in state_list:\n",
    "        state_tuple.append(tuple(row))\n",
    "        \n",
    "    return tuple(state_tuple)\n",
    "            "
   ]
  },
  {
   "cell_type": "code",
   "execution_count": 65,
   "id": "670bb2a1-bb7a-4fe6-bdac-09ab95aabf5c",
   "metadata": {},
   "outputs": [
    {
     "data": {
      "text/plain": [
       "((0, 3, 0, 0, 0, 0, 0),\n",
       " (0, 1, 0, 0, 0, 3, 0),\n",
       " (0, 0, 0, 0, 0, 0, 0),\n",
       " (0, 0, 0, 0, 0, 0, 0),\n",
       " (0, 0, 3, 0, 0, 0, 0),\n",
       " (0, 0, 1, 0, 0, 0, 0),\n",
       " (0, 3, 0, 0, 0, 0, 0))"
      ]
     },
     "execution_count": 65,
     "metadata": {},
     "output_type": "execute_result"
    }
   ],
   "source": [
    "goal_state(g)"
   ]
  },
  {
   "cell_type": "code",
   "execution_count": 88,
   "id": "6dd30eac-0266-4a59-9662-326ac866cd23",
   "metadata": {},
   "outputs": [],
   "source": [
    "def is_valid(position):\n",
    "    if 0 <= position[0] <= 6 and 0 <= position[1] <= 6:\n",
    "        return True\n",
    "    return False"
   ]
  },
  {
   "cell_type": "code",
   "execution_count": 89,
   "id": "05f72b4d-5549-4e2d-a4ea-d899535324f4",
   "metadata": {},
   "outputs": [
    {
     "data": {
      "text/plain": [
       "True"
      ]
     },
     "execution_count": 89,
     "metadata": {},
     "output_type": "execute_result"
    }
   ],
   "source": [
    "is_valid((6, 6)) # primer"
   ]
  },
  {
   "cell_type": "code",
   "execution_count": 26,
   "id": "b925f3c8-9a18-4565-bfa5-5dad3269b735",
   "metadata": {},
   "outputs": [],
   "source": [
    "def take_bottles(grid_dimensions, state, position):\n",
    "    # position e gore leviot del\n",
    "    grid_rows_number, grid_columns_number = grid_dimensions # (2, 3) ili (3, 2)\n",
    "    position_row, position_col = position\n",
    "    \n",
    "    state_list = []\n",
    "    for row in state:\n",
    "        state_list.append(list(row))\n",
    "        \n",
    "    for i in range(grid_rows_number):\n",
    "        for j in range(grid_columns_number):\n",
    "            if is_valid((position_row+i, position_col+j)):\n",
    "                if state_list[position_row+i][position_col+j] == 2:\n",
    "                    state_list[position_row+i][position_col+j] = 0\n",
    "                \n",
    "    state_tuple = []\n",
    "    for row in state_list:\n",
    "        state_tuple.append(tuple(row))\n",
    "        \n",
    "    return tuple(state_tuple)\n",
    "    "
   ]
  },
  {
   "cell_type": "code",
   "execution_count": 91,
   "id": "df29d5c7-38fb-44ff-8ad4-e8831b37c30b",
   "metadata": {},
   "outputs": [
    {
     "data": {
      "text/plain": [
       "((0, 3, 2, 0, 2, 2, 2),\n",
       " (0, 1, 2, 2, 2, 3, 2),\n",
       " (0, 2, 0, 2, 2, 2, 2),\n",
       " (0, 2, 2, 2, 2, 2, 0),\n",
       " (2, 2, 3, 2, 2, 2, 2),\n",
       " (2, 2, 1, 2, 2, 2, 2),\n",
       " (0, 3, 0, 2, 2, 2, 2))"
      ]
     },
     "execution_count": 91,
     "metadata": {},
     "output_type": "execute_result"
    }
   ],
   "source": [
    "take_bottles((3, 2), g, (0, -1))"
   ]
  },
  {
   "cell_type": "code",
   "execution_count": 92,
   "id": "4c30864d-f64e-49a9-bccf-60922b317a78",
   "metadata": {},
   "outputs": [
    {
     "data": {
      "text/plain": [
       "'\\ng  = (\\n    (0, 0, 0, 0, 2, 2, 2),\\n    (0, 0, 0, 2, 2, 3, 2),\\n    (2, 2, 0, 2, 2, 2, 2),\\n    (0, 2, 2, 2, 2, 2, 0),\\n    (2, 2, 3, 2, 2, 2, 2),\\n    (2, 2, 1, 2, 2, 2, 2),\\n    (0, 3, 0, 2, 2, 2, 2)\\n)\\n'"
      ]
     },
     "execution_count": 92,
     "metadata": {},
     "output_type": "execute_result"
    }
   ],
   "source": [
    "def expand_state(state):\n",
    "    \n",
    "    states = []\n",
    "    grid_dimensions = (2, 3)\n",
    "    \n",
    "    for position_row in range(-1, 7):\n",
    "        for position_col in range(-2, 7):\n",
    "            position = (position_row, position_col)\n",
    "            if take_bottles(grid_dimensions, state, position) not in states:\n",
    "                if take_bottles(grid_dimensions, state, position) != state:\n",
    "                    states.append(take_bottles(grid_dimensions, state, position))\n",
    "            \n",
    "    grid_dimensions = (3, 2)\n",
    "    for position_row in range(-2, 7):\n",
    "        for position_col in range(-1, 7):\n",
    "            position = (position_row, position_col)\n",
    "            if take_bottles(grid_dimensions, state, position) not in states: \n",
    "                if take_bottles(grid_dimensions, state, position) != state:\n",
    "                    states.append(take_bottles(grid_dimensions, state, position))\n",
    "            \n",
    "    return states\n",
    "'''\n",
    "g  = (\n",
    "    (0, 0, 0, 0, 2, 2, 2),\n",
    "    (0, 0, 0, 2, 2, 3, 2),\n",
    "    (2, 2, 0, 2, 2, 2, 2),\n",
    "    (0, 2, 2, 2, 2, 2, 0),\n",
    "    (2, 2, 3, 2, 2, 2, 2),\n",
    "    (2, 2, 1, 2, 2, 2, 2),\n",
    "    (0, 3, 0, 2, 2, 2, 2)\n",
    ")\n",
    "'''"
   ]
  },
  {
   "cell_type": "code",
   "execution_count": 93,
   "id": "75130d6d-7570-4fd0-93cd-d1a8f56a9a86",
   "metadata": {},
   "outputs": [
    {
     "data": {
      "text/plain": [
       "[((0, 0, 0, 0, 0, 0, 0),\n",
       "  (0, 0, 0, 0, 0, 0, 0),\n",
       "  (0, 0, 0, 0, 0, 0, 0),\n",
       "  (0, 0, 0, 0, 0, 0, 0),\n",
       "  (0, 0, 0, 0, 0, 0, 0),\n",
       "  (0, 0, 0, 0, 0, 0, 0),\n",
       "  (0, 0, 0, 0, 0, 0, 0))]"
      ]
     },
     "execution_count": 93,
     "metadata": {},
     "output_type": "execute_result"
    }
   ],
   "source": [
    "g2 = (\n",
    "    (0,)*7,\n",
    "    (0,)*7,\n",
    "    (0,)*7,\n",
    "    (0,)*7,\n",
    "    (0,)*7,\n",
    "    (0,)*7,\n",
    "    (0, 0, 0, 0, 0, 0, 2)\n",
    "    )\n",
    "expand_state(g2)"
   ]
  },
  {
   "cell_type": "code",
   "execution_count": 94,
   "id": "8a02e1b1-c087-431b-a0d7-b36ce60e5777",
   "metadata": {},
   "outputs": [],
   "source": [
    "from collections import deque\n",
    "\n",
    "def breadth_first_search(initial_state, goal_state):\n",
    "    \n",
    "    queue = deque([[initial_state]])\n",
    "    visited = {initial_state}\n",
    "    \n",
    "    while queue:\n",
    "        list_to_expand = queue.popleft()\n",
    "        state_to_expand = list_to_expand[-1]\n",
    "        \n",
    "        for next_state in expand_state(state_to_expand):\n",
    "            if next_state not in visited:\n",
    "                if next_state == goal_state:\n",
    "                    return list_to_expand + [next_state]\n",
    "                queue.append(list_to_expand + [next_state])\n",
    "                visited.add(next_state)\n",
    "    "
   ]
  },
  {
   "cell_type": "code",
   "execution_count": 71,
   "id": "803c2a62-6ec8-47e4-8bdb-c4522b5556a7",
   "metadata": {},
   "outputs": [
    {
     "ename": "KeyboardInterrupt",
     "evalue": "",
     "output_type": "error",
     "traceback": [
      "\u001b[1;31m---------------------------------------------------------------------------\u001b[0m",
      "\u001b[1;31mKeyboardInterrupt\u001b[0m                         Traceback (most recent call last)",
      "Cell \u001b[1;32mIn [71], line 1\u001b[0m\n\u001b[1;32m----> 1\u001b[0m \u001b[43mbreadth_first_search\u001b[49m\u001b[43m(\u001b[49m\u001b[43mg\u001b[49m\u001b[43m,\u001b[49m\u001b[43m \u001b[49m\u001b[43mgoal_state\u001b[49m\u001b[43m(\u001b[49m\u001b[43mg\u001b[49m\u001b[43m)\u001b[49m\u001b[43m)\u001b[49m\n",
      "Cell \u001b[1;32mIn [70], line 12\u001b[0m, in \u001b[0;36mbreadth_first_search\u001b[1;34m(initial_state, goal_state)\u001b[0m\n\u001b[0;32m      9\u001b[0m list_to_expand \u001b[38;5;241m=\u001b[39m queue\u001b[38;5;241m.\u001b[39mpopleft()\n\u001b[0;32m     10\u001b[0m state_to_expand \u001b[38;5;241m=\u001b[39m list_to_expand[\u001b[38;5;241m-\u001b[39m\u001b[38;5;241m1\u001b[39m]\n\u001b[1;32m---> 12\u001b[0m \u001b[38;5;28;01mfor\u001b[39;00m next_state \u001b[38;5;129;01min\u001b[39;00m \u001b[43mexpand_state\u001b[49m\u001b[43m(\u001b[49m\u001b[43mstate_to_expand\u001b[49m\u001b[43m)\u001b[49m:\n\u001b[0;32m     13\u001b[0m     \u001b[38;5;28;01mif\u001b[39;00m next_state \u001b[38;5;129;01mnot\u001b[39;00m \u001b[38;5;129;01min\u001b[39;00m visited:\n\u001b[0;32m     14\u001b[0m         \u001b[38;5;28;01mif\u001b[39;00m next_state \u001b[38;5;241m==\u001b[39m goal_state:\n",
      "Cell \u001b[1;32mIn [58], line 17\u001b[0m, in \u001b[0;36mexpand_state\u001b[1;34m(state)\u001b[0m\n\u001b[0;32m     15\u001b[0m         position \u001b[38;5;241m=\u001b[39m (position_row, position_col)\n\u001b[0;32m     16\u001b[0m         \u001b[38;5;28;01mif\u001b[39;00m take_bottles(grid_dimensions, state, position) \u001b[38;5;129;01mnot\u001b[39;00m \u001b[38;5;129;01min\u001b[39;00m states:    \n\u001b[1;32m---> 17\u001b[0m             states\u001b[38;5;241m.\u001b[39mappend(\u001b[43mtake_bottles\u001b[49m\u001b[43m(\u001b[49m\u001b[43mgrid_dimensions\u001b[49m\u001b[43m,\u001b[49m\u001b[43m \u001b[49m\u001b[43mstate\u001b[49m\u001b[43m,\u001b[49m\u001b[43m \u001b[49m\u001b[43mposition\u001b[49m\u001b[43m)\u001b[49m)\n\u001b[0;32m     19\u001b[0m \u001b[38;5;28;01mreturn\u001b[39;00m states\n",
      "Cell \u001b[1;32mIn [68], line 17\u001b[0m, in \u001b[0;36mtake_bottles\u001b[1;34m(grid_dimensions, state, position)\u001b[0m\n\u001b[0;32m     15\u001b[0m state_tuple \u001b[38;5;241m=\u001b[39m []\n\u001b[0;32m     16\u001b[0m \u001b[38;5;28;01mfor\u001b[39;00m row \u001b[38;5;129;01min\u001b[39;00m state_list:\n\u001b[1;32m---> 17\u001b[0m     \u001b[43mstate_tuple\u001b[49m\u001b[38;5;241;43m.\u001b[39;49m\u001b[43mappend\u001b[49m\u001b[43m(\u001b[49m\u001b[38;5;28;43mtuple\u001b[39;49m\u001b[43m(\u001b[49m\u001b[43mrow\u001b[49m\u001b[43m)\u001b[49m\u001b[43m)\u001b[49m\n\u001b[0;32m     19\u001b[0m \u001b[38;5;28;01mreturn\u001b[39;00m \u001b[38;5;28mtuple\u001b[39m(state_tuple)\n",
      "\u001b[1;31mKeyboardInterrupt\u001b[0m: "
     ]
    }
   ],
   "source": [
    "breadth_first_search(g, goal_state(g))"
   ]
  },
  {
   "cell_type": "code",
   "execution_count": 95,
   "id": "b2acaabf-61fd-4698-9456-b1686eacf764",
   "metadata": {},
   "outputs": [],
   "source": [
    "from collections import deque\n",
    "\n",
    "def depth_first_search(initial_state, goal_state):\n",
    "    \n",
    "    queue = deque([[initial_state]])\n",
    "    visited = {initial_state}\n",
    "    \n",
    "    while queue:\n",
    "        list_to_expand = queue.popleft()\n",
    "        state_to_expand = list_to_expand[-1]\n",
    "        \n",
    "        for next_state in expand_state(state_to_expand):\n",
    "            if next_state not in visited:\n",
    "                if next_state == goal_state:\n",
    "                    return list_to_expand + [next_state]\n",
    "                queue.appendleft(list_to_expand + [next_state])\n",
    "                visited.add(next_state)\n",
    "    "
   ]
  },
  {
   "cell_type": "code",
   "execution_count": 96,
   "id": "77aad8ab-21d2-46b7-804d-045674e3c370",
   "metadata": {},
   "outputs": [
    {
     "ename": "KeyboardInterrupt",
     "evalue": "",
     "output_type": "error",
     "traceback": [
      "\u001b[1;31m---------------------------------------------------------------------------\u001b[0m",
      "\u001b[1;31mKeyboardInterrupt\u001b[0m                         Traceback (most recent call last)",
      "Cell \u001b[1;32mIn [96], line 1\u001b[0m\n\u001b[1;32m----> 1\u001b[0m \u001b[43mdepth_first_search\u001b[49m\u001b[43m(\u001b[49m\u001b[43mg\u001b[49m\u001b[43m,\u001b[49m\u001b[43m \u001b[49m\u001b[43mgoal_state\u001b[49m\u001b[43m(\u001b[49m\u001b[43mg\u001b[49m\u001b[43m)\u001b[49m\u001b[43m)\u001b[49m\n",
      "Cell \u001b[1;32mIn [95], line 12\u001b[0m, in \u001b[0;36mdepth_first_search\u001b[1;34m(initial_state, goal_state)\u001b[0m\n\u001b[0;32m      9\u001b[0m list_to_expand \u001b[38;5;241m=\u001b[39m queue\u001b[38;5;241m.\u001b[39mpopleft()\n\u001b[0;32m     10\u001b[0m state_to_expand \u001b[38;5;241m=\u001b[39m list_to_expand[\u001b[38;5;241m-\u001b[39m\u001b[38;5;241m1\u001b[39m]\n\u001b[1;32m---> 12\u001b[0m \u001b[38;5;28;01mfor\u001b[39;00m next_state \u001b[38;5;129;01min\u001b[39;00m \u001b[43mexpand_state\u001b[49m\u001b[43m(\u001b[49m\u001b[43mstate_to_expand\u001b[49m\u001b[43m)\u001b[49m:\n\u001b[0;32m     13\u001b[0m     \u001b[38;5;28;01mif\u001b[39;00m next_state \u001b[38;5;129;01mnot\u001b[39;00m \u001b[38;5;129;01min\u001b[39;00m visited:\n\u001b[0;32m     14\u001b[0m         \u001b[38;5;28;01mif\u001b[39;00m next_state \u001b[38;5;241m==\u001b[39m goal_state:\n",
      "Cell \u001b[1;32mIn [92], line 17\u001b[0m, in \u001b[0;36mexpand_state\u001b[1;34m(state)\u001b[0m\n\u001b[0;32m     15\u001b[0m \u001b[38;5;28;01mfor\u001b[39;00m position_col \u001b[38;5;129;01min\u001b[39;00m \u001b[38;5;28mrange\u001b[39m(\u001b[38;5;241m-\u001b[39m\u001b[38;5;241m1\u001b[39m, \u001b[38;5;241m7\u001b[39m):\n\u001b[0;32m     16\u001b[0m     position \u001b[38;5;241m=\u001b[39m (position_row, position_col)\n\u001b[1;32m---> 17\u001b[0m     \u001b[38;5;28;01mif\u001b[39;00m \u001b[43mtake_bottles\u001b[49m\u001b[43m(\u001b[49m\u001b[43mgrid_dimensions\u001b[49m\u001b[43m,\u001b[49m\u001b[43m \u001b[49m\u001b[43mstate\u001b[49m\u001b[43m,\u001b[49m\u001b[43m \u001b[49m\u001b[43mposition\u001b[49m\u001b[43m)\u001b[49m \u001b[38;5;129;01mnot\u001b[39;00m \u001b[38;5;129;01min\u001b[39;00m states: \n\u001b[0;32m     18\u001b[0m         \u001b[38;5;28;01mif\u001b[39;00m take_bottles(grid_dimensions, state, position) \u001b[38;5;241m!=\u001b[39m state:\n\u001b[0;32m     19\u001b[0m             states\u001b[38;5;241m.\u001b[39mappend(take_bottles(grid_dimensions, state, position))\n",
      "Cell \u001b[1;32mIn [90], line 8\u001b[0m, in \u001b[0;36mtake_bottles\u001b[1;34m(grid_dimensions, state, position)\u001b[0m\n\u001b[0;32m      6\u001b[0m state_list \u001b[38;5;241m=\u001b[39m []\n\u001b[0;32m      7\u001b[0m \u001b[38;5;28;01mfor\u001b[39;00m row \u001b[38;5;129;01min\u001b[39;00m state:\n\u001b[1;32m----> 8\u001b[0m     state_list\u001b[38;5;241m.\u001b[39mappend(\u001b[38;5;28;43mlist\u001b[39;49m\u001b[43m(\u001b[49m\u001b[43mrow\u001b[49m\u001b[43m)\u001b[49m)\n\u001b[0;32m     10\u001b[0m \u001b[38;5;28;01mfor\u001b[39;00m i \u001b[38;5;129;01min\u001b[39;00m \u001b[38;5;28mrange\u001b[39m(grid_rows_number):\n\u001b[0;32m     11\u001b[0m     \u001b[38;5;28;01mfor\u001b[39;00m j \u001b[38;5;129;01min\u001b[39;00m \u001b[38;5;28mrange\u001b[39m(grid_columns_number):\n",
      "\u001b[1;31mKeyboardInterrupt\u001b[0m: "
     ]
    }
   ],
   "source": [
    "depth_first_search(g, goal_state(g))"
   ]
  },
  {
   "cell_type": "markdown",
   "id": "8221c29b-e32c-4f7b-964a-3f46e691e82f",
   "metadata": {
    "jp-MarkdownHeadingCollapsed": true,
    "tags": []
   },
   "source": [
    "## Пивара со А*"
   ]
  },
  {
   "cell_type": "code",
   "execution_count": 27,
   "id": "54dd90d8-5e75-4a02-ab67-a7c131d62cc6",
   "metadata": {},
   "outputs": [],
   "source": [
    "g  = (\n",
    "    (0, 3, 2, 0, 2, 2, 2),\n",
    "    (2, 1, 2, 2, 2, 3, 2),\n",
    "    (2, 2, 0, 2, 2, 2, 2),\n",
    "    (0, 2, 2, 2, 2, 2, 0),\n",
    "    (2, 2, 3, 2, 2, 2, 2),\n",
    "    (2, 2, 1, 2, 2, 2, 2),\n",
    "    (0, 3, 0, 2, 2, 2, 2)\n",
    ")"
   ]
  },
  {
   "cell_type": "code",
   "execution_count": 28,
   "id": "309458f3-d2ce-4fe1-9682-cf92825366f1",
   "metadata": {},
   "outputs": [],
   "source": [
    "def goal_state(state):\n",
    "    \n",
    "    state_list = []\n",
    "    for row in state:\n",
    "        state_list.append(list(row))\n",
    "        \n",
    "    for row_index, row in enumerate(state_list):\n",
    "        for col_index, element in enumerate(row):\n",
    "            if element == 2:\n",
    "                state_list[row_index][col_index] = 0\n",
    "                \n",
    "    state_tuple = []\n",
    "    for row in state_list:\n",
    "        state_tuple.append(tuple(row))\n",
    "        \n",
    "    return tuple(state_tuple)"
   ]
  },
  {
   "cell_type": "code",
   "execution_count": 29,
   "id": "8dd56384-66e9-4cee-bee7-a214a513c9ee",
   "metadata": {},
   "outputs": [],
   "source": [
    "def take_bottles(grid_dimensions, state, position):\n",
    "    # position e gore leviot del\n",
    "    grid_rows_number, grid_columns_number = grid_dimensions # (2, 3) ili (3, 2)\n",
    "    position_row, position_col = position\n",
    "    \n",
    "    state_list = []\n",
    "    for row in state:\n",
    "        state_list.append(list(row))\n",
    "        \n",
    "    for i in range(grid_rows_number):\n",
    "        for j in range(grid_columns_number):\n",
    "            if is_valid((position_row+i, position_col+j)):\n",
    "                if state_list[position_row+i][position_col+j] == 2:\n",
    "                    state_list[position_row+i][position_col+j] = 0\n",
    "                \n",
    "    state_tuple = []\n",
    "    for row in state_list:\n",
    "        state_tuple.append(tuple(row))\n",
    "        \n",
    "    return tuple(state_tuple)"
   ]
  },
  {
   "cell_type": "code",
   "execution_count": 30,
   "id": "3d057df7-503a-4ced-9f21-afbfd3a9b7bc",
   "metadata": {},
   "outputs": [
    {
     "data": {
      "text/plain": [
       "((0, 3, 0, 0, 2, 2, 2),\n",
       " (0, 1, 0, 2, 2, 3, 2),\n",
       " (2, 2, 0, 2, 2, 2, 2),\n",
       " (0, 2, 2, 2, 2, 2, 0),\n",
       " (2, 2, 3, 2, 2, 2, 2),\n",
       " (2, 2, 1, 2, 2, 2, 2),\n",
       " (0, 3, 0, 2, 2, 2, 2))"
      ]
     },
     "execution_count": 30,
     "metadata": {},
     "output_type": "execute_result"
    }
   ],
   "source": [
    "take_bottles((2, 3), g, (0, 0))"
   ]
  },
  {
   "cell_type": "code",
   "execution_count": 31,
   "id": "ad07f623-8a4f-4e34-a88d-56177cb6dd4a",
   "metadata": {},
   "outputs": [],
   "source": [
    "def is_valid(position):\n",
    "    if 0 <= position[0] <= 6 and 0 <= position[1] <= 6:\n",
    "        return True\n",
    "    return False"
   ]
  },
  {
   "cell_type": "code",
   "execution_count": 32,
   "id": "0542808e-98ce-461a-9345-a4d03140df31",
   "metadata": {},
   "outputs": [
    {
     "data": {
      "text/plain": [
       "'\\ng  = (\\n    (0, 0, 0, 0, 2, 2, 2),\\n    (0, 0, 0, 2, 2, 3, 2),\\n    (2, 2, 0, 2, 2, 2, 2),\\n    (0, 2, 2, 2, 2, 2, 0),\\n    (2, 2, 3, 2, 2, 2, 2),\\n    (2, 2, 1, 2, 2, 2, 2),\\n    (0, 3, 0, 2, 2, 2, 2)\\n)\\n'"
      ]
     },
     "execution_count": 32,
     "metadata": {},
     "output_type": "execute_result"
    }
   ],
   "source": [
    "def expand_state(state):\n",
    "    \n",
    "    states = []\n",
    "    grid_dimensions = (2, 3)\n",
    "    \n",
    "    for position_row in range(-1, 7):\n",
    "        for position_col in range(-2, 7):\n",
    "            position = (position_row, position_col)\n",
    "            if take_bottles(grid_dimensions, state, position) not in states:\n",
    "                if take_bottles(grid_dimensions, state, position) != state:\n",
    "                    states.append((1, take_bottles(grid_dimensions, state, position)))\n",
    "            \n",
    "    grid_dimensions = (3, 2)\n",
    "    for position_row in range(-2, 7):\n",
    "        for position_col in range(-1, 7):\n",
    "            position = (position_row, position_col)\n",
    "            if take_bottles(grid_dimensions, state, position) not in states: \n",
    "                if take_bottles(grid_dimensions, state, position) != state:\n",
    "                    states.append((1, take_bottles(grid_dimensions, state, position)))\n",
    "            \n",
    "    return states\n",
    "'''\n",
    "g  = (\n",
    "    (0, 0, 0, 0, 2, 2, 2),\n",
    "    (0, 0, 0, 2, 2, 3, 2),\n",
    "    (2, 2, 0, 2, 2, 2, 2),\n",
    "    (0, 2, 2, 2, 2, 2, 0),\n",
    "    (2, 2, 3, 2, 2, 2, 2),\n",
    "    (2, 2, 1, 2, 2, 2, 2),\n",
    "    (0, 3, 0, 2, 2, 2, 2)\n",
    ")\n",
    "'''"
   ]
  },
  {
   "cell_type": "code",
   "execution_count": 33,
   "id": "6b24cdd9-060a-46c4-8433-29e6f6895fdf",
   "metadata": {},
   "outputs": [
    {
     "data": {
      "text/plain": [
       "(1,\n",
       " ((0, 3, 0, 0, 2, 2, 2),\n",
       "  (2, 1, 0, 0, 2, 3, 2),\n",
       "  (2, 2, 0, 2, 2, 2, 2),\n",
       "  (0, 2, 2, 2, 2, 2, 0),\n",
       "  (2, 2, 3, 2, 2, 2, 2),\n",
       "  (2, 2, 1, 2, 2, 2, 2),\n",
       "  (0, 3, 0, 2, 2, 2, 2)))"
      ]
     },
     "execution_count": 33,
     "metadata": {},
     "output_type": "execute_result"
    }
   ],
   "source": [
    "expand_state(g)[10]"
   ]
  },
  {
   "cell_type": "code",
   "execution_count": 34,
   "id": "6537a13f-93b0-447e-a725-f1758e10ccaa",
   "metadata": {},
   "outputs": [],
   "source": [
    "import math\n",
    "\n",
    "def heuristic(state):\n",
    "    how_many_twos = 0\n",
    "    for row in state:\n",
    "        how_many_twos += row.count(2)\n",
    "    return math.ceil(how_many_twos / 6) # vo najmalku 6 cekori ke se otstranat site dvojki, ama sigurno ke e >= od to bidejki valjda nema da uspeat da se nagodat"
   ]
  },
  {
   "cell_type": "code",
   "execution_count": 35,
   "id": "0f79137c-929b-4c35-b69d-c4193fbb7829",
   "metadata": {},
   "outputs": [
    {
     "data": {
      "text/plain": [
       "6"
      ]
     },
     "execution_count": 35,
     "metadata": {},
     "output_type": "execute_result"
    }
   ],
   "source": [
    "heuristic(g)"
   ]
  },
  {
   "cell_type": "code",
   "execution_count": 36,
   "id": "b8c0b009-cd98-405e-8153-8b09b5bfae83",
   "metadata": {},
   "outputs": [],
   "source": [
    "import heapq\n",
    "\n",
    "def a_star_search(initial_state, goal_state):\n",
    "    \n",
    "    queue = [((0, 0), [initial_state])]\n",
    "    heapq.heapify(queue)\n",
    "    expanded = set()\n",
    "    \n",
    "    while queue:\n",
    "        current_weight_tuple, list_to_expand = heapq.heappop(queue)\n",
    "        current_a_star_weight, current_path_weight = current_weight_tuple\n",
    "        state_to_expand = list_to_expand[-1]\n",
    "        \n",
    "        if state_to_expand == goal_state:\n",
    "            return current_path_weight, list_to_expand\n",
    "        \n",
    "        if state_to_expand not in expanded:\n",
    "            for next_path_weight, next_state in expand_state(state_to_expand):\n",
    "                if next_state not in expanded:\n",
    "                    total_path_weight = current_path_weight + next_path_weight\n",
    "                    a_star_weight = total_path_weight + heuristic(next_state)\n",
    "                    heapq.heappush(queue, ((a_star_weight, total_path_weight), list_to_expand + [next_state]))\n",
    "            expanded.add(state_to_expand)"
   ]
  },
  {
   "cell_type": "code",
   "execution_count": null,
   "id": "617738e7-ed21-492a-930c-fa08bf992f9e",
   "metadata": {},
   "outputs": [],
   "source": [
    "#a_star_search(g, goal_state(g))"
   ]
  },
  {
   "cell_type": "markdown",
   "id": "200b0030-7d21-4447-bbc6-fdcfe7a99402",
   "metadata": {
    "jp-MarkdownHeadingCollapsed": true,
    "tags": []
   },
   "source": [
    "## Помала пивара"
   ]
  },
  {
   "cell_type": "code",
   "execution_count": 1,
   "id": "5d18f817-ac52-4720-ad2e-639326a1a5b6",
   "metadata": {},
   "outputs": [],
   "source": [
    "state = (\n",
    "    (0, 3, 2, 0, 2),\n",
    "    (2, 1, 2, 2, 2),\n",
    "    (2, 2, 0, 2, 2),\n",
    "    (0, 2, 2, 1, 2),\n",
    "    (1, 2, 1, 3, 0)\n",
    ")"
   ]
  },
  {
   "cell_type": "code",
   "execution_count": 2,
   "id": "ff4007a2-c8f6-4e6a-ab38-6e6b9fa49de1",
   "metadata": {},
   "outputs": [
    {
     "data": {
      "text/plain": [
       "0"
      ]
     },
     "execution_count": 2,
     "metadata": {},
     "output_type": "execute_result"
    }
   ],
   "source": [
    "state[4][4]"
   ]
  },
  {
   "cell_type": "code",
   "execution_count": 3,
   "id": "c0021c73-35b1-4e7f-a43c-fbea2b062b47",
   "metadata": {},
   "outputs": [],
   "source": [
    "def goal_state(state):\n",
    "    \n",
    "    state_list = []\n",
    "    for row in state:\n",
    "        state_list.append(list(row))\n",
    "        \n",
    "    for row_index, row in enumerate(state_list):\n",
    "        for col_index, element in enumerate(row):\n",
    "            if element == 2:\n",
    "                state_list[row_index][col_index] = 0\n",
    "                \n",
    "    state_tuple = []\n",
    "    for row in state_list:\n",
    "        state_tuple.append(tuple(row))\n",
    "        \n",
    "    return tuple(state_tuple)"
   ]
  },
  {
   "cell_type": "code",
   "execution_count": 4,
   "id": "725bd847-900e-4333-aed2-7b0c306128ba",
   "metadata": {},
   "outputs": [
    {
     "data": {
      "text/plain": [
       "((0, 3, 0, 0, 0),\n",
       " (0, 1, 0, 0, 0),\n",
       " (0, 0, 0, 0, 0),\n",
       " (0, 0, 0, 1, 0),\n",
       " (1, 0, 1, 3, 0))"
      ]
     },
     "execution_count": 4,
     "metadata": {},
     "output_type": "execute_result"
    }
   ],
   "source": [
    "goal_state(state)"
   ]
  },
  {
   "cell_type": "code",
   "execution_count": 5,
   "id": "e35c80a8-87bf-474a-9e6b-9e5b37afb5fa",
   "metadata": {},
   "outputs": [],
   "source": [
    "def is_valid(position):\n",
    "    if 0 <= position[0] <= 4 and 0 <= position[1] <= 4:\n",
    "        return True\n",
    "    return False"
   ]
  },
  {
   "cell_type": "code",
   "execution_count": 6,
   "id": "4c3c90f6-bccd-4add-967c-35dddca81ee2",
   "metadata": {},
   "outputs": [
    {
     "data": {
      "text/plain": [
       "False"
      ]
     },
     "execution_count": 6,
     "metadata": {},
     "output_type": "execute_result"
    }
   ],
   "source": [
    "is_valid((5, 4))"
   ]
  },
  {
   "cell_type": "code",
   "execution_count": 18,
   "id": "be69da5e-7227-4dbd-a921-698b6a8b6d9b",
   "metadata": {},
   "outputs": [],
   "source": [
    "def take_bottles(grid_dimensions, state, position):\n",
    "    # position e gore leviot del\n",
    "    grid_rows_number, grid_columns_number = grid_dimensions # (2, 3) ili (3, 2)\n",
    "    position_row, position_col = position\n",
    "    \n",
    "    state_list = []\n",
    "    for row in state:\n",
    "        state_list.append(list(row))\n",
    "        \n",
    "    for i in range(grid_rows_number):\n",
    "        for j in range(grid_columns_number):\n",
    "            if is_valid((position_row+i, position_col+j)):\n",
    "                if state_list[position_row+i][position_col+j] == 2:\n",
    "                    state_list[position_row+i][position_col+j] = 0\n",
    "                \n",
    "    state_tuple = []\n",
    "    for row in state_list:\n",
    "        state_tuple.append(tuple(row))\n",
    "        \n",
    "    return tuple(state_tuple)"
   ]
  },
  {
   "cell_type": "code",
   "execution_count": 19,
   "id": "60eda312-57e7-464a-bbfc-35b88c47d666",
   "metadata": {},
   "outputs": [
    {
     "data": {
      "text/plain": [
       "((0, 3, 0, 0, 2),\n",
       " (0, 1, 0, 2, 2),\n",
       " (2, 2, 0, 2, 2),\n",
       " (0, 2, 2, 1, 2),\n",
       " (1, 2, 1, 3, 0))"
      ]
     },
     "execution_count": 19,
     "metadata": {},
     "output_type": "execute_result"
    }
   ],
   "source": [
    "take_bottles((2, 3), state, (0, 0))"
   ]
  },
  {
   "cell_type": "code",
   "execution_count": 20,
   "id": "861e12c3-4ecb-451c-afdb-b9a1d19661f9",
   "metadata": {},
   "outputs": [],
   "source": [
    "def expand_state(state):\n",
    "    \n",
    "    states = []\n",
    "    grid_dimensions = (2, 3)\n",
    "    \n",
    "    for position_row in range(4):\n",
    "        for position_col in range(3):\n",
    "            position = (position_row, position_col)\n",
    "            if (1, take_bottles(grid_dimensions, state, position)) not in states:\n",
    "                if (1, take_bottles(grid_dimensions, state, position)) != state:\n",
    "                    states.append((1, take_bottles(grid_dimensions, state, position)))\n",
    "            \n",
    "    grid_dimensions = (3, 2)\n",
    "    for position_row in range(3):\n",
    "        for position_col in range(4):\n",
    "            position = (position_row, position_col)\n",
    "            if (1, take_bottles(grid_dimensions, state, position)) not in states: \n",
    "                if (1, take_bottles(grid_dimensions, state, position)) != state:\n",
    "                    states.append((1, take_bottles(grid_dimensions, state, position)))\n",
    "            \n",
    "    return states"
   ]
  },
  {
   "cell_type": "code",
   "execution_count": 1,
   "id": "f00cdaa8-06c2-4ead-b04d-51d20d35efc1",
   "metadata": {},
   "outputs": [],
   "source": [
    "#expand_state(state)"
   ]
  },
  {
   "cell_type": "code",
   "execution_count": 22,
   "id": "bab9bfdb-9897-48e0-92be-d501ff752861",
   "metadata": {},
   "outputs": [],
   "source": [
    "import math\n",
    "\n",
    "def heuristic(state):\n",
    "    how_many_twos = 0\n",
    "    for row in state:\n",
    "        how_many_twos += row.count(2)\n",
    "    return math.ceil(how_many_twos / 6) # vo najmalku 6 cekori ke se otstranat site dvojki, ama sigurno ke e >= od to bidejki valjda nema da uspeat da se nagodat"
   ]
  },
  {
   "cell_type": "code",
   "execution_count": 23,
   "id": "ba2b744a-8292-4497-b52a-ee31a239de09",
   "metadata": {},
   "outputs": [
    {
     "data": {
      "text/plain": [
       "3"
      ]
     },
     "execution_count": 23,
     "metadata": {},
     "output_type": "execute_result"
    }
   ],
   "source": [
    "heuristic(state)"
   ]
  },
  {
   "cell_type": "code",
   "execution_count": 24,
   "id": "c8671ca1-1ad1-4327-9b33-f217491e116a",
   "metadata": {},
   "outputs": [],
   "source": [
    "import heapq\n",
    "\n",
    "def a_star_search(initial_state, goal_state):\n",
    "    \n",
    "    queue = [((0, 0), [initial_state])]\n",
    "    heapq.heapify(queue)\n",
    "    expanded = set()\n",
    "    \n",
    "    while queue:\n",
    "        current_weight_tuple, list_to_expand = heapq.heappop(queue)\n",
    "        current_a_star_weight, current_path_weight = current_weight_tuple\n",
    "        state_to_expand = list_to_expand[-1]\n",
    "        \n",
    "        if state_to_expand == goal_state:\n",
    "            return current_path_weight, list_to_expand\n",
    "        \n",
    "        if state_to_expand not in expanded:\n",
    "            for next_path_weight, next_state in expand_state(state_to_expand):\n",
    "                if next_state not in expanded:\n",
    "                    total_path_weight = current_path_weight + next_path_weight\n",
    "                    a_star_weight = total_path_weight + heuristic(next_state)\n",
    "                    heapq.heappush(queue, ((a_star_weight, total_path_weight), list_to_expand + [next_state]))\n",
    "            expanded.add(state_to_expand)\n",
    "            "
   ]
  },
  {
   "cell_type": "code",
   "execution_count": 25,
   "id": "d412d941-f950-4f2e-816b-f788a03d5bfa",
   "metadata": {},
   "outputs": [
    {
     "data": {
      "text/plain": [
       "(4,\n",
       " [((0, 3, 2, 0, 2),\n",
       "   (2, 1, 2, 2, 2),\n",
       "   (2, 2, 0, 2, 2),\n",
       "   (0, 2, 2, 1, 2),\n",
       "   (1, 2, 1, 3, 0)),\n",
       "  ((0, 3, 0, 0, 0),\n",
       "   (2, 1, 0, 0, 0),\n",
       "   (2, 2, 0, 2, 2),\n",
       "   (0, 2, 2, 1, 2),\n",
       "   (1, 2, 1, 3, 0)),\n",
       "  ((0, 3, 0, 0, 0),\n",
       "   (0, 1, 0, 0, 0),\n",
       "   (0, 0, 0, 2, 2),\n",
       "   (0, 0, 2, 1, 2),\n",
       "   (1, 2, 1, 3, 0)),\n",
       "  ((0, 3, 0, 0, 0),\n",
       "   (0, 1, 0, 0, 0),\n",
       "   (0, 0, 0, 0, 0),\n",
       "   (0, 0, 0, 1, 0),\n",
       "   (1, 2, 1, 3, 0)),\n",
       "  ((0, 3, 0, 0, 0),\n",
       "   (0, 1, 0, 0, 0),\n",
       "   (0, 0, 0, 0, 0),\n",
       "   (0, 0, 0, 1, 0),\n",
       "   (1, 0, 1, 3, 0))])"
      ]
     },
     "execution_count": 25,
     "metadata": {},
     "output_type": "execute_result"
    }
   ],
   "source": [
    "a_star_search(state, goal_state(state))"
   ]
  },
  {
   "cell_type": "markdown",
   "id": "997df74e-f4d6-43f2-988f-21d3e690b812",
   "metadata": {
    "jp-MarkdownHeadingCollapsed": true,
    "tags": []
   },
   "source": [
    "## Државни патишта"
   ]
  },
  {
   "cell_type": "code",
   "execution_count": 35,
   "id": "3f8c671a-737b-4180-870a-1206df67e9d4",
   "metadata": {},
   "outputs": [],
   "source": [
    "class Graph():\n",
    "    \n",
    "    def __init__(self):\n",
    "        self.dict = {}\n",
    "        \n",
    "    def add_vertex(self, vertex):\n",
    "        if vertex not in self.dict:\n",
    "            self.dict[vertex] = {}\n",
    "            \n",
    "    def add_edge(self, edge):\n",
    "        weight, vertex1, vertex2 = edge\n",
    "        self.dict[vertex1][vertex2] = weight\n",
    "        self.dict[vertex2][vertex1] = weight\n",
    "        \n",
    "    def give_vertices(self):\n",
    "        return list(self.dict.keys())\n",
    "    \n",
    "    def give_edges(self):\n",
    "        edges = []\n",
    "        for vertex1 in self.dict:\n",
    "            for vertex2 in self.dict[vertex1]:\n",
    "                edges.append((self.dict[vertex1][vertex2], vertex1, vertex2))\n",
    "        return edges\n",
    "    \n",
    "    def give_neighbors(self, vertex):\n",
    "        return list(self.dict[vertex].items())\n",
    "        '''\n",
    "        { \n",
    "        A: {B:2, C:3, ...},\n",
    "        B: {A:2, C:1, ...}\n",
    "        }\n",
    "        '''"
   ]
  },
  {
   "cell_type": "code",
   "execution_count": 36,
   "id": "beb3c254-03e8-4982-b4ee-f76962a33405",
   "metadata": {},
   "outputs": [],
   "source": [
    "g = Graph()\n",
    "import pandas as pd\n",
    "\n",
    "files = pd.read_csv('data/roads/roads_info.csv')['Кратенка']\n",
    "for file in files:\n",
    "    df = pd.read_csv('data/roads/{}.csv'.format(file))\n",
    "    df['OD'] = df['ЈАЗОЛ НА ПОЧЕТОКОТ']\n",
    "    df['DO'] = df['ЈАЗОЛ НА КРАЈОТ']\n",
    "    for row in df.itertuples():\n",
    "        g.add_vertex(row.OD)\n",
    "        g.add_vertex(row.DO)\n",
    "        g.add_edge((row.ДОЛЖИНА, row.OD, row.DO))"
   ]
  },
  {
   "cell_type": "code",
   "execution_count": 40,
   "id": "80c4a435-afbd-45d1-b422-cefcd6f65176",
   "metadata": {},
   "outputs": [
    {
     "data": {
      "text/plain": [
       "[('175 - Илинден (автопат)', 7340)]"
      ]
     },
     "execution_count": 40,
     "metadata": {},
     "output_type": "execute_result"
    }
   ],
   "source": [
    "g.give_neighbors('174 - Миладиновци 1 (автопат)')"
   ]
  },
  {
   "cell_type": "code",
   "execution_count": 42,
   "id": "280b8324-649e-4ced-b0b1-e7acb5ab1e9c",
   "metadata": {},
   "outputs": [
    {
     "data": {
      "text/plain": [
       "['174 - Миладиновци 1 (автопат)',\n",
       " '175 - Илинден (автопат)',\n",
       " '154 - Инджиково (автопат)',\n",
       " '177 - Ченто 2 (автопат)',\n",
       " '550 - Клучка Стенковец']"
      ]
     },
     "execution_count": 42,
     "metadata": {},
     "output_type": "execute_result"
    }
   ],
   "source": [
    "g.give_vertices()[:5]"
   ]
  },
  {
   "cell_type": "code",
   "execution_count": 51,
   "id": "cab4cfd5-1f74-4b32-ab14-010056fd3aaa",
   "metadata": {},
   "outputs": [],
   "source": [
    "df = pd.read_csv('data/roads/coordinates.csv')\n",
    "import math\n",
    "\n",
    "def eucledian_distance(vertex1, vertex2):\n",
    "    \n",
    "    vertex1 = int(vertex1.split('-')[0])\n",
    "    vertex2 = int(vertex2.split('-')[0])\n",
    "    \n",
    "    vertex1_row = df.query(f'Јазол == {vertex1}')\n",
    "    vertex2_row = df.query('Јазол == {}'.format(vertex2))\n",
    "    \n",
    "    vertex1 = (float(vertex1_row.X), float(vertex1_row.Y))\n",
    "    vertex2 = (float(vertex2_row.X), float(vertex2_row.Y))\n",
    "    \n",
    "    return math.sqrt((vertex1[0]-vertex2[0])**2 + (vertex1[1]-vertex2[1])**2)"
   ]
  },
  {
   "cell_type": "code",
   "execution_count": 52,
   "id": "a653a497-f454-4a41-af55-e5a6454a8b97",
   "metadata": {},
   "outputs": [
    {
     "data": {
      "text/plain": [
       "10608.140135579577"
      ]
     },
     "execution_count": 52,
     "metadata": {},
     "output_type": "execute_result"
    }
   ],
   "source": [
    "eucledian_distance('174 - Миладиновци 1 (автопат)', '177 - Ченто 2 (автопат)')"
   ]
  },
  {
   "cell_type": "code",
   "execution_count": 63,
   "id": "be67e1ec-4d64-483c-b9d6-14620095f8b0",
   "metadata": {},
   "outputs": [],
   "source": [
    "import heapq\n",
    "\n",
    "def a_star_search(graph, initial_vertex, goal_vertex):\n",
    "    \n",
    "    queue = [((0, 0), [initial_vertex])]\n",
    "    expanded = set()\n",
    "    heapq.heapify(queue)\n",
    "    \n",
    "    while queue:\n",
    "        weight_tuple, list_to_expand = heapq.heappop(queue)\n",
    "        a_star_weight, path_weight = weight_tuple\n",
    "        vertex_to_expand = list_to_expand[-1]\n",
    "        \n",
    "        if vertex_to_expand == goal_vertex:\n",
    "            return path_weight, list_to_expand\n",
    "        \n",
    "        if vertex_to_expand not in expanded:\n",
    "            for neighbor, next_path_weight in graph.give_neighbors(vertex_to_expand):\n",
    "                if neighbor not in expanded:\n",
    "                    new_path_weight = path_weight + next_path_weight\n",
    "                    new_a_star_weight = new_path_weight + eucledian_distance(neighbor, goal_vertex)\n",
    "                    heapq.heappush(queue, ((new_a_star_weight, new_path_weight), list_to_expand + [neighbor]))\n",
    "                    \n",
    "            expanded.add(vertex_to_expand)"
   ]
  },
  {
   "cell_type": "code",
   "execution_count": 64,
   "id": "cf092d46-6801-45fc-bd64-858275517e1c",
   "metadata": {},
   "outputs": [
    {
     "name": "stdout",
     "output_type": "stream",
     "text": [
      "254 - Битола 1 (црква Св. Недела)\n",
      "255 - Битола 1 (црква Св. Недела)\n",
      "54 - Битола 2 (Хераклеја Линкестис)\n",
      "469 - Битола 1 (црква Св. Недела)\n",
      "434 - Битола 1 (црква Св. Недела)\n",
      "55 - Битола 3 (Буково)\n"
     ]
    }
   ],
   "source": [
    "def give_city(graph, city_name):\n",
    "    for vertex in graph.give_vertices():\n",
    "        if city_name.lower() in vertex.lower():\n",
    "            print(vertex)\n",
    "            \n",
    "give_city(g, 'Битола')"
   ]
  },
  {
   "cell_type": "code",
   "execution_count": 65,
   "id": "a5045899-ff03-422f-8fd0-9c950aea1c0a",
   "metadata": {},
   "outputs": [
    {
     "data": {
      "text/plain": [
       "(59429,\n",
       " ['364 - Пробиштип',\n",
       "  '363 - Кратово',\n",
       "  '362 - Живалево',\n",
       "  '193 - Страцин (Крилатица)',\n",
       "  '194 - Војник',\n",
       "  '195 - Младо Нагоричане',\n",
       "  '378 - Старо Нагоричане 1'])"
      ]
     },
     "execution_count": 65,
     "metadata": {},
     "output_type": "execute_result"
    }
   ],
   "source": [
    "a_star_search(g, '364 - Пробиштип', '378 - Старо Нагоричане 1')"
   ]
  },
  {
   "cell_type": "markdown",
   "id": "0f5b87ab-1fda-4c83-b60e-72bacca4620a",
   "metadata": {
    "jp-MarkdownHeadingCollapsed": true,
    "tags": []
   },
   "source": [
    "## Градови"
   ]
  },
  {
   "cell_type": "code",
   "execution_count": 2,
   "id": "ebb720ee-c998-4509-9ed6-aa77ba669a13",
   "metadata": {},
   "outputs": [],
   "source": [
    "class Graph():\n",
    "    \n",
    "    def __init__(self):\n",
    "        self.dict = {}\n",
    "        \n",
    "    def add_vertex(self, vertex):\n",
    "        if vertex not in self.dict:\n",
    "            self.dict[vertex] = {}\n",
    "        \n",
    "    def add_edge(self, edge):\n",
    "        # 'A': {'B': 3, 'C': 4}\n",
    "        weight, vertex1, vertex2 = edge\n",
    "        self.dict[vertex1][vertex2] = weight\n",
    "        self.dict[vertex2][vertex1] = weight\n",
    "        \n",
    "    def give_vertices(self):\n",
    "        return list(self.dict.keys())\n",
    "    \n",
    "    def give_edges(self):\n",
    "        edges = []\n",
    "        for vertex1 in self.dict:\n",
    "            for vertex2 in self.dict[vertex1]:\n",
    "                edges.append((self.dict[vertex1][vertex2], vertex1, vertex2))\n",
    "        return edges\n",
    "    \n",
    "    def give_neighbors(self, vertex):\n",
    "        return list(self.dict[vertex].items())"
   ]
  },
  {
   "cell_type": "code",
   "execution_count": 3,
   "id": "be72cbe0-65d8-42de-9192-91fee744f427",
   "metadata": {},
   "outputs": [],
   "source": [
    "g = Graph()"
   ]
  },
  {
   "cell_type": "code",
   "execution_count": 4,
   "id": "db059973-e9fb-4d59-afa7-d2f587c68873",
   "metadata": {},
   "outputs": [],
   "source": [
    "file = open('data/distances.txt').read().strip()\n",
    "\n",
    "for row in file.split('\\n'):\n",
    "    vertex1, vertex2, weight = row.split(' ')\n",
    "    g.add_vertex(vertex1)\n",
    "    g.add_vertex(vertex2)\n",
    "    g.add_edge((int(weight), vertex1, vertex2))"
   ]
  },
  {
   "cell_type": "code",
   "execution_count": 5,
   "id": "483a3cac-1f84-46cc-824d-c892ce159500",
   "metadata": {},
   "outputs": [
    {
     "data": {
      "text/plain": [
       "[(39, 'KU', 'SK'),\n",
       " (61, 'KU', 'KP'),\n",
       " (51, 'KU', 'KR'),\n",
       " (39, 'SK', 'KU'),\n",
       " (44, 'SK', 'TE')]"
      ]
     },
     "execution_count": 5,
     "metadata": {},
     "output_type": "execute_result"
    }
   ],
   "source": [
    "g.give_edges()[:5]"
   ]
  },
  {
   "cell_type": "code",
   "execution_count": 6,
   "id": "cf674883-3fa6-448a-b9b9-585f396bcf29",
   "metadata": {},
   "outputs": [
    {
     "data": {
      "text/plain": [
       "[('KU', 39), ('TE', 44), ('VE', 55)]"
      ]
     },
     "execution_count": 6,
     "metadata": {},
     "output_type": "execute_result"
    }
   ],
   "source": [
    "g.give_neighbors('SK')"
   ]
  },
  {
   "cell_type": "code",
   "execution_count": 7,
   "id": "cf6b0d8a-9115-4b59-89d9-99b3b2cdf1a1",
   "metadata": {},
   "outputs": [],
   "source": [
    "file = open('data/locations.txt').read().strip()\n",
    "\n",
    "locations_dict = {}\n",
    "for row in file.split('\\n'):\n",
    "    vertex, vertex_x, vertex_y = row.split(' ')\n",
    "    locations_dict[vertex] = (float(vertex_x), float(vertex_y))"
   ]
  },
  {
   "cell_type": "code",
   "execution_count": 8,
   "id": "caba031a-db65-43b2-abe8-a7db5d5c51a5",
   "metadata": {},
   "outputs": [],
   "source": [
    "import math\n",
    "\n",
    "def eucledian_distance(vertex1, vertex2):\n",
    "    x1, y1 = locations_dict[vertex1]\n",
    "    x2, y2 = locations_dict[vertex2]\n",
    "    return math.sqrt((x1 - x2)**2 + (y1 - y2)**2)"
   ]
  },
  {
   "cell_type": "code",
   "execution_count": 9,
   "id": "5f269ee2-740f-4742-9051-ddec98190965",
   "metadata": {},
   "outputs": [
    {
     "data": {
      "text/plain": [
       "0.9780401870311122"
      ]
     },
     "execution_count": 9,
     "metadata": {},
     "output_type": "execute_result"
    }
   ],
   "source": [
    "eucledian_distance('SK', 'BT')"
   ]
  },
  {
   "cell_type": "code",
   "execution_count": 10,
   "id": "d2f47042-c3d4-46fc-b59f-6d52a1e8aba2",
   "metadata": {},
   "outputs": [],
   "source": [
    "import heapq\n",
    "\n",
    "def a_star_search(graph, initial_vertex, goal_vertex, alpha):\n",
    "    \n",
    "    queue = [((0, 0), [initial_vertex])]\n",
    "    heapq.heapify(queue)\n",
    "    expanded = set()\n",
    "    \n",
    "    while queue:\n",
    "        \n",
    "        weight_tuple, list_to_expand = heapq.heappop(queue)\n",
    "        a_star_weight, path_weight = weight_tuple\n",
    "        vertex_to_expand = list_to_expand[-1]\n",
    "        \n",
    "        if vertex_to_expand == goal_vertex:\n",
    "            return path_weight, list_to_expand\n",
    "        \n",
    "        if vertex_to_expand not in expanded:\n",
    "            for next_vertex, next_weight in graph.give_neighbors(vertex_to_expand):\n",
    "                if next_vertex not in expanded:\n",
    "                    new_path_weight = path_weight + next_weight\n",
    "                    new_a_star_weight = new_path_weight + alpha*eucledian_distance(next_vertex, goal_vertex)\n",
    "                    heapq.heappush(queue, ((new_a_star_weight, new_path_weight), list_to_expand + [next_vertex]))\n",
    "            expanded.add(vertex_to_expand)    "
   ]
  },
  {
   "cell_type": "code",
   "execution_count": 11,
   "id": "78d30c03-1ade-4699-932f-64b291f417bf",
   "metadata": {},
   "outputs": [
    {
     "name": "stdout",
     "output_type": "stream",
     "text": [
      "CPU times: total: 0 ns\n",
      "Wall time: 0 ns\n"
     ]
    },
    {
     "data": {
      "text/plain": [
       "(204, ['SK', 'VE', 'NG', 'PP', 'BT'])"
      ]
     },
     "execution_count": 11,
     "metadata": {},
     "output_type": "execute_result"
    }
   ],
   "source": [
    "%%time\n",
    "\n",
    "SOLUTION = a_star_search(graph = g, initial_vertex = 'SK',\n",
    "                         goal_vertex = 'BT', alpha = 80)\n",
    "SOLUTION"
   ]
  },
  {
   "cell_type": "markdown",
   "id": "101d8818-0a1b-4587-82fe-a233999d6928",
   "metadata": {
    "jp-MarkdownHeadingCollapsed": true,
    "tags": []
   },
   "source": [
    "## Движење во матрица - мое"
   ]
  },
  {
   "cell_type": "code",
   "execution_count": 15,
   "id": "06f5d01e-a870-40f0-bdd1-85bb3ed4dae4",
   "metadata": {
    "tags": []
   },
   "outputs": [],
   "source": [
    "ROWS, COLUMNS = 10, 10\n",
    "WALLS = [\n",
    "    {'x': (2, 3), 'y': (2, 5)},\n",
    "    {'x': (3, 5), 'y': (7, 9)},\n",
    "    {'x': (5, 6), 'y': (1, 3)},\n",
    "]"
   ]
  },
  {
   "cell_type": "code",
   "execution_count": 16,
   "id": "0f612cf5-cd92-4cdb-959f-ef22a5a9022b",
   "metadata": {
    "tags": []
   },
   "outputs": [
    {
     "data": {
      "text/plain": [
       "((0, 0, 0, 0, 0, 0, 0, 0, 0, 0),\n",
       " (0, 0, 0, 0, 0, 0, 0, 0, 0, 0),\n",
       " (0, 0, 0, 0, 0, 0, 0, 0, 0, 0),\n",
       " (0, 0, 0, 0, 0, 0, 0, 0, 0, 0),\n",
       " (0, 0, 0, 0, 0, 0, 0, 0, 0, 0),\n",
       " (0, 0, 0, 0, 0, 0, 0, 0, 0, 0),\n",
       " (0, 0, 0, 0, 0, 0, 0, 0, 0, 0),\n",
       " (0, 0, 0, 0, 0, 0, 0, 0, 0, 0),\n",
       " (0, 0, 0, 0, 0, 0, 0, 0, 0, 0),\n",
       " (0, 0, 0, 0, 0, 0, 0, 0, 0, 0))"
      ]
     },
     "execution_count": 16,
     "metadata": {},
     "output_type": "execute_result"
    }
   ],
   "source": [
    "matrix = (((0,)*COLUMNS),)*ROWS\n",
    "matrix"
   ]
  },
  {
   "cell_type": "code",
   "execution_count": 17,
   "id": "4f417e75-173b-4e0b-9d42-1cbd10372888",
   "metadata": {},
   "outputs": [],
   "source": [
    "def is_valid_position(position):\n",
    "    if not 0 <= position[0] < ROWS or not 0 <= position[1] < COLUMNS:\n",
    "        return False\n",
    "    for wall in WALLS:\n",
    "        if wall['x'][0] <= position[0] < wall['x'][1] and wall['y'][0] <= position[1] < wall['y'][1]:\n",
    "            return False\n",
    "    return True"
   ]
  },
  {
   "cell_type": "code",
   "execution_count": 18,
   "id": "441790e2-ec47-4706-9927-839cbce4526e",
   "metadata": {},
   "outputs": [
    {
     "data": {
      "text/plain": [
       "False"
      ]
     },
     "execution_count": 18,
     "metadata": {},
     "output_type": "execute_result"
    }
   ],
   "source": [
    "is_valid_position((2, 2))"
   ]
  },
  {
   "cell_type": "code",
   "execution_count": 19,
   "id": "0bbd5186-b0ee-44c6-8aae-85a1029fe15c",
   "metadata": {},
   "outputs": [],
   "source": [
    "def matrix_with_walls_and_one(matrix, one_position):\n",
    "    matrix_list = []\n",
    "    for row in matrix:\n",
    "        matrix_list.append(list(row))\n",
    "        \n",
    "    for wall in WALLS:\n",
    "        for row_index in range(wall['x'][0], wall['x'][1]):\n",
    "            for col_index in range(wall['y'][0], wall['y'][1]):\n",
    "                matrix_list[row_index][col_index] = 4\n",
    "                \n",
    "    matrix_list[one_position[0]][one_position[1]] = 1\n",
    "        \n",
    "    matrix_tuple = []\n",
    "    for row in matrix_list:\n",
    "        matrix_tuple.append(tuple(row))\n",
    "    return tuple(matrix_tuple)\n",
    "                \n",
    "# {'x': (2.5, 3.5), 'y': (2.5, 5.5)},"
   ]
  },
  {
   "cell_type": "code",
   "execution_count": 20,
   "id": "29a1f17f-a6d0-4c2b-851b-2904798cdc5f",
   "metadata": {},
   "outputs": [
    {
     "data": {
      "text/plain": [
       "((0, 0, 0, 0, 0, 0, 0, 0, 0, 0),\n",
       " (0, 1, 0, 0, 0, 0, 0, 0, 0, 0),\n",
       " (0, 0, 4, 4, 4, 0, 0, 0, 0, 0),\n",
       " (0, 0, 0, 0, 0, 0, 0, 4, 4, 0),\n",
       " (0, 0, 0, 0, 0, 0, 0, 4, 4, 0),\n",
       " (0, 4, 4, 0, 0, 0, 0, 0, 0, 0),\n",
       " (0, 0, 0, 0, 0, 0, 0, 0, 0, 0),\n",
       " (0, 0, 0, 0, 0, 0, 0, 0, 0, 0),\n",
       " (0, 0, 0, 0, 0, 0, 0, 0, 0, 0),\n",
       " (0, 0, 0, 0, 0, 0, 0, 0, 0, 0))"
      ]
     },
     "execution_count": 20,
     "metadata": {},
     "output_type": "execute_result"
    }
   ],
   "source": [
    "initial_matrix = matrix_with_walls_and_one(matrix, (1, 1))\n",
    "initial_matrix"
   ]
  },
  {
   "cell_type": "code",
   "execution_count": 21,
   "id": "8f51b694-9d4b-4e5c-97c3-34e16310faea",
   "metadata": {},
   "outputs": [
    {
     "data": {
      "text/plain": [
       "((0, 0, 0, 0, 0, 0, 0, 0, 0, 0),\n",
       " (0, 0, 0, 0, 0, 0, 0, 0, 0, 0),\n",
       " (0, 0, 4, 4, 4, 0, 0, 0, 0, 0),\n",
       " (0, 0, 0, 0, 0, 0, 0, 4, 4, 0),\n",
       " (0, 0, 0, 0, 0, 0, 0, 4, 4, 0),\n",
       " (0, 4, 4, 0, 0, 0, 0, 0, 0, 0),\n",
       " (0, 0, 0, 0, 0, 0, 0, 0, 0, 0),\n",
       " (0, 0, 0, 0, 0, 0, 0, 1, 0, 0),\n",
       " (0, 0, 0, 0, 0, 0, 0, 0, 0, 0),\n",
       " (0, 0, 0, 0, 0, 0, 0, 0, 0, 0))"
      ]
     },
     "execution_count": 21,
     "metadata": {},
     "output_type": "execute_result"
    }
   ],
   "source": [
    "goal_matrix = matrix_with_walls_and_one(matrix, (7, 7))\n",
    "goal_matrix"
   ]
  },
  {
   "cell_type": "code",
   "execution_count": 22,
   "id": "0db89b44-069e-4ee7-becb-5203de5f248f",
   "metadata": {},
   "outputs": [],
   "source": [
    "def chebyshev(current_state, goal_state):\n",
    "    for row_index, row in enumerate(current_state):\n",
    "        if 1 in row:\n",
    "            x1, y1 = row_index, row.index(1)\n",
    "    for row_index, row in enumerate(goal_state):\n",
    "        if 1 in row:\n",
    "            x2, y2 = row_index, row.index(1)\n",
    "    return max(abs(x1-x2), abs(y1-y2))"
   ]
  },
  {
   "cell_type": "code",
   "execution_count": 23,
   "id": "cd48b138-0368-456c-9684-0c01c4ca88a0",
   "metadata": {},
   "outputs": [
    {
     "data": {
      "text/plain": [
       "6"
      ]
     },
     "execution_count": 23,
     "metadata": {},
     "output_type": "execute_result"
    }
   ],
   "source": [
    "chebyshev(initial_matrix, goal_matrix)"
   ]
  },
  {
   "cell_type": "code",
   "execution_count": 31,
   "id": "9d350497-87f3-44b5-ba0f-a1a93512dd4c",
   "metadata": {},
   "outputs": [],
   "source": [
    "def move(state, initial_position, destination_position):\n",
    "    state_list = [list(row) for row in state]\n",
    "    # for row in state:\n",
    "    #    state_list.append(list(row))\n",
    "    ix, iy = initial_position\n",
    "    dx, dy = destination_position\n",
    "    state_list[ix][iy] = state[dx][dy]\n",
    "    state_list[dx][dy] = state[ix][iy]\n",
    "    state_tuple = []\n",
    "    for row in state_list:\n",
    "        state_tuple.append(tuple(row))\n",
    "    return tuple(state_tuple)"
   ]
  },
  {
   "cell_type": "code",
   "execution_count": 32,
   "id": "013e2028-13a2-41a2-b214-44303bc96a64",
   "metadata": {},
   "outputs": [],
   "source": [
    "def expand_state(state):\n",
    "    states = []\n",
    "    for index_row, row in enumerate(state):\n",
    "        if 1 in row:\n",
    "            one_row, one_col = index_row, row.index(1)\n",
    "            break\n",
    "            \n",
    "    movements = [(one_row+1, one_col), (one_row-1, one_col), (one_row+1, one_col+1), (one_row-1, one_col-1),\n",
    "                 (one_row, one_col+1), (one_row, one_col-1), (one_row+1, one_col-1), (one_row-1, one_col+1)]\n",
    "    \n",
    "    for movement in movements:\n",
    "        if is_valid_position(movement):\n",
    "            states.append((1, move(state, (one_row, one_col), movement)))\n",
    "    \n",
    "    return states"
   ]
  },
  {
   "cell_type": "code",
   "execution_count": 33,
   "id": "df86a9a5-c8f9-4db5-8655-8e9fff69bfbf",
   "metadata": {},
   "outputs": [
    {
     "data": {
      "text/plain": [
       "(1,\n",
       " ((0, 0, 0, 0, 0, 0, 0, 0, 0, 0),\n",
       "  (0, 0, 0, 0, 0, 0, 0, 0, 0, 0),\n",
       "  (0, 1, 4, 4, 4, 0, 0, 0, 0, 0),\n",
       "  (0, 0, 0, 0, 0, 0, 0, 4, 4, 0),\n",
       "  (0, 0, 0, 0, 0, 0, 0, 4, 4, 0),\n",
       "  (0, 4, 4, 0, 0, 0, 0, 0, 0, 0),\n",
       "  (0, 0, 0, 0, 0, 0, 0, 0, 0, 0),\n",
       "  (0, 0, 0, 0, 0, 0, 0, 0, 0, 0),\n",
       "  (0, 0, 0, 0, 0, 0, 0, 0, 0, 0),\n",
       "  (0, 0, 0, 0, 0, 0, 0, 0, 0, 0)))"
      ]
     },
     "execution_count": 33,
     "metadata": {},
     "output_type": "execute_result"
    }
   ],
   "source": [
    "expand_state(initial_matrix)[0]"
   ]
  },
  {
   "cell_type": "code",
   "execution_count": 34,
   "id": "a207d3e3-fc09-48f3-82a8-5e8efde47d95",
   "metadata": {},
   "outputs": [],
   "source": [
    "import heapq\n",
    "\n",
    "def a_star_search(initial_state, goal_state):\n",
    "    \n",
    "    queue = [((0, 0), [initial_state])]\n",
    "    heapq.heapify(queue)\n",
    "    expanded = set()\n",
    "    \n",
    "    while queue:\n",
    "        \n",
    "        weight_tuple, list_to_expand = heapq.heappop(queue)\n",
    "        a_star_weight, path_weight = weight_tuple\n",
    "        state_to_expand = list_to_expand[-1]\n",
    "        \n",
    "        if state_to_expand == goal_state:\n",
    "            return path_weight, list_to_expand\n",
    "        \n",
    "        if state_to_expand not in expanded:\n",
    "            for next_weight, next_state in expand_state(state_to_expand):\n",
    "                if next_state not in expanded:\n",
    "                    new_path_weight = next_weight + path_weight\n",
    "                    new_a_star_weight = new_path_weight + chebyshev(next_state, goal_state)\n",
    "                    heapq.heappush(queue, ((new_a_star_weight, new_path_weight), list_to_expand + [next_state]))\n",
    "            expanded.add(state_to_expand)"
   ]
  },
  {
   "cell_type": "code",
   "execution_count": 35,
   "id": "b37b0fb5-6c6b-4aa9-9b59-a84c86e46b06",
   "metadata": {},
   "outputs": [
    {
     "data": {
      "text/plain": [
       "(7,\n",
       " [((0, 0, 0, 0, 0, 0, 0, 0, 0, 0),\n",
       "   (0, 1, 0, 0, 0, 0, 0, 0, 0, 0),\n",
       "   (0, 0, 4, 4, 4, 0, 0, 0, 0, 0),\n",
       "   (0, 0, 0, 0, 0, 0, 0, 4, 4, 0),\n",
       "   (0, 0, 0, 0, 0, 0, 0, 4, 4, 0),\n",
       "   (0, 4, 4, 0, 0, 0, 0, 0, 0, 0),\n",
       "   (0, 0, 0, 0, 0, 0, 0, 0, 0, 0),\n",
       "   (0, 0, 0, 0, 0, 0, 0, 0, 0, 0),\n",
       "   (0, 0, 0, 0, 0, 0, 0, 0, 0, 0),\n",
       "   (0, 0, 0, 0, 0, 0, 0, 0, 0, 0)),\n",
       "  ((0, 0, 0, 0, 0, 0, 0, 0, 0, 0),\n",
       "   (0, 0, 0, 0, 0, 0, 0, 0, 0, 0),\n",
       "   (0, 1, 4, 4, 4, 0, 0, 0, 0, 0),\n",
       "   (0, 0, 0, 0, 0, 0, 0, 4, 4, 0),\n",
       "   (0, 0, 0, 0, 0, 0, 0, 4, 4, 0),\n",
       "   (0, 4, 4, 0, 0, 0, 0, 0, 0, 0),\n",
       "   (0, 0, 0, 0, 0, 0, 0, 0, 0, 0),\n",
       "   (0, 0, 0, 0, 0, 0, 0, 0, 0, 0),\n",
       "   (0, 0, 0, 0, 0, 0, 0, 0, 0, 0),\n",
       "   (0, 0, 0, 0, 0, 0, 0, 0, 0, 0)),\n",
       "  ((0, 0, 0, 0, 0, 0, 0, 0, 0, 0),\n",
       "   (0, 0, 0, 0, 0, 0, 0, 0, 0, 0),\n",
       "   (0, 0, 4, 4, 4, 0, 0, 0, 0, 0),\n",
       "   (0, 0, 1, 0, 0, 0, 0, 4, 4, 0),\n",
       "   (0, 0, 0, 0, 0, 0, 0, 4, 4, 0),\n",
       "   (0, 4, 4, 0, 0, 0, 0, 0, 0, 0),\n",
       "   (0, 0, 0, 0, 0, 0, 0, 0, 0, 0),\n",
       "   (0, 0, 0, 0, 0, 0, 0, 0, 0, 0),\n",
       "   (0, 0, 0, 0, 0, 0, 0, 0, 0, 0),\n",
       "   (0, 0, 0, 0, 0, 0, 0, 0, 0, 0)),\n",
       "  ((0, 0, 0, 0, 0, 0, 0, 0, 0, 0),\n",
       "   (0, 0, 0, 0, 0, 0, 0, 0, 0, 0),\n",
       "   (0, 0, 4, 4, 4, 0, 0, 0, 0, 0),\n",
       "   (0, 0, 0, 0, 0, 0, 0, 4, 4, 0),\n",
       "   (0, 0, 0, 1, 0, 0, 0, 4, 4, 0),\n",
       "   (0, 4, 4, 0, 0, 0, 0, 0, 0, 0),\n",
       "   (0, 0, 0, 0, 0, 0, 0, 0, 0, 0),\n",
       "   (0, 0, 0, 0, 0, 0, 0, 0, 0, 0),\n",
       "   (0, 0, 0, 0, 0, 0, 0, 0, 0, 0),\n",
       "   (0, 0, 0, 0, 0, 0, 0, 0, 0, 0)),\n",
       "  ((0, 0, 0, 0, 0, 0, 0, 0, 0, 0),\n",
       "   (0, 0, 0, 0, 0, 0, 0, 0, 0, 0),\n",
       "   (0, 0, 4, 4, 4, 0, 0, 0, 0, 0),\n",
       "   (0, 0, 0, 0, 0, 0, 0, 4, 4, 0),\n",
       "   (0, 0, 0, 0, 0, 0, 0, 4, 4, 0),\n",
       "   (0, 4, 4, 0, 1, 0, 0, 0, 0, 0),\n",
       "   (0, 0, 0, 0, 0, 0, 0, 0, 0, 0),\n",
       "   (0, 0, 0, 0, 0, 0, 0, 0, 0, 0),\n",
       "   (0, 0, 0, 0, 0, 0, 0, 0, 0, 0),\n",
       "   (0, 0, 0, 0, 0, 0, 0, 0, 0, 0)),\n",
       "  ((0, 0, 0, 0, 0, 0, 0, 0, 0, 0),\n",
       "   (0, 0, 0, 0, 0, 0, 0, 0, 0, 0),\n",
       "   (0, 0, 4, 4, 4, 0, 0, 0, 0, 0),\n",
       "   (0, 0, 0, 0, 0, 0, 0, 4, 4, 0),\n",
       "   (0, 0, 0, 0, 0, 0, 0, 4, 4, 0),\n",
       "   (0, 4, 4, 0, 0, 0, 0, 0, 0, 0),\n",
       "   (0, 0, 0, 0, 0, 1, 0, 0, 0, 0),\n",
       "   (0, 0, 0, 0, 0, 0, 0, 0, 0, 0),\n",
       "   (0, 0, 0, 0, 0, 0, 0, 0, 0, 0),\n",
       "   (0, 0, 0, 0, 0, 0, 0, 0, 0, 0)),\n",
       "  ((0, 0, 0, 0, 0, 0, 0, 0, 0, 0),\n",
       "   (0, 0, 0, 0, 0, 0, 0, 0, 0, 0),\n",
       "   (0, 0, 4, 4, 4, 0, 0, 0, 0, 0),\n",
       "   (0, 0, 0, 0, 0, 0, 0, 4, 4, 0),\n",
       "   (0, 0, 0, 0, 0, 0, 0, 4, 4, 0),\n",
       "   (0, 4, 4, 0, 0, 0, 0, 0, 0, 0),\n",
       "   (0, 0, 0, 0, 0, 0, 0, 0, 0, 0),\n",
       "   (0, 0, 0, 0, 0, 0, 1, 0, 0, 0),\n",
       "   (0, 0, 0, 0, 0, 0, 0, 0, 0, 0),\n",
       "   (0, 0, 0, 0, 0, 0, 0, 0, 0, 0)),\n",
       "  ((0, 0, 0, 0, 0, 0, 0, 0, 0, 0),\n",
       "   (0, 0, 0, 0, 0, 0, 0, 0, 0, 0),\n",
       "   (0, 0, 4, 4, 4, 0, 0, 0, 0, 0),\n",
       "   (0, 0, 0, 0, 0, 0, 0, 4, 4, 0),\n",
       "   (0, 0, 0, 0, 0, 0, 0, 4, 4, 0),\n",
       "   (0, 4, 4, 0, 0, 0, 0, 0, 0, 0),\n",
       "   (0, 0, 0, 0, 0, 0, 0, 0, 0, 0),\n",
       "   (0, 0, 0, 0, 0, 0, 0, 1, 0, 0),\n",
       "   (0, 0, 0, 0, 0, 0, 0, 0, 0, 0),\n",
       "   (0, 0, 0, 0, 0, 0, 0, 0, 0, 0))])"
      ]
     },
     "execution_count": 35,
     "metadata": {},
     "output_type": "execute_result"
    }
   ],
   "source": [
    "solution = a_star_search(initial_matrix, goal_matrix)\n",
    "solution"
   ]
  },
  {
   "cell_type": "markdown",
   "id": "ab37818f-c78a-4e3c-8b81-ca439403db6c",
   "metadata": {},
   "source": [
    "## Робот кој разнесува алат"
   ]
  },
  {
   "cell_type": "code",
   "execution_count": 1,
   "id": "1c54a679-a770-4fab-9913-c28a8ff04dd7",
   "metadata": {},
   "outputs": [
    {
     "data": {
      "text/plain": [
       "[[0, 0, 0, 0, 0, 3, 0, 0, 0, 0, 0, 0, 0, 0],\n",
       " [0, 0, 0, 0, 0, 3, 0, 0, 0, 0, 0, 0, 0, 0],\n",
       " [0, 0, 0, 0, 0, 3, 0, 0, 0, 0, 0, 0, 0, 0],\n",
       " [0, 0, 0, 0, 0, 3, 0, 0, 0, 0, 0, 0, 0, 0],\n",
       " [0, 0, 0, 0, 0, 3, 0, 0, 0, 0, 0, 0, 0, 0],\n",
       " [0, 0, 0, 0, 0, 3, 0, 0, 0, 0, 0, 0, 0, 0],\n",
       " [0, 0, 0, 0, 0, 3, 0, 0, 0, 0, 0, 0, 0, 0],\n",
       " [0, 0, 0, 0, 0, 3, 0, 0, 0, 0, 0, 0, 0, 0]]"
      ]
     },
     "execution_count": 1,
     "metadata": {},
     "output_type": "execute_result"
    }
   ],
   "source": [
    "ROWS, COLUMNS = 8, 14\n",
    "matrix = [[0]*COLUMNS]*ROWS\n",
    "\n",
    "matrix[7][5] = 3\n",
    "matrix\n"
   ]
  },
  {
   "cell_type": "code",
   "execution_count": 54,
   "id": "ff23caf0-f519-4bb2-aaeb-1e49d308fa05",
   "metadata": {},
   "outputs": [
    {
     "data": {
      "text/plain": [
       "[[0, 0, 0, 0, 0, 0, 0, 0, 0, 0, 0, 0, 0, 0],\n",
       " [0, 0, 0, 0, 0, 0, 0, 0, 0, 0, 0, 0, 0, 0],\n",
       " [0, 0, 0, 0, 0, 0, 0, 0, 0, 0, 0, 0, 0, 0],\n",
       " [0, 0, 0, 0, 0, 0, 0, 0, 0, 0, 0, 0, 0, 0],\n",
       " [0, 0, 0, 0, 0, 0, 0, 0, 0, 0, 0, 0, 0, 0],\n",
       " [0, 0, 0, 0, 0, 0, 0, 0, 0, 0, 0, 0, 0, 0],\n",
       " [0, 0, 0, 0, 0, 0, 0, 0, 0, 0, 0, 0, 0, 0],\n",
       " [0, 0, 0, 0, 0, 0, 0, 0, 0, 0, 0, 0, 0, 0]]"
      ]
     },
     "execution_count": 54,
     "metadata": {},
     "output_type": "execute_result"
    }
   ],
   "source": [
    "matrix"
   ]
  },
  {
   "cell_type": "markdown",
   "id": "d5ca4fd0-2b1d-4d44-9140-513a99e344d1",
   "metadata": {},
   "source": [
    "# Прв парцијален испит по Основи на Вештачката Интелигенција"
   ]
  },
  {
   "cell_type": "markdown",
   "id": "97bc91f5-3ed0-4b20-97c2-664b4e21bfdb",
   "metadata": {},
   "source": [
    "## Задача 2 - Подвижен робот кој разнесува алат"
   ]
  },
  {
   "cell_type": "markdown",
   "id": "5dbb216c-61ed-4640-bd21-8e692fd8028a",
   "metadata": {},
   "source": [
    "Пред вас е 2Д слика од подот на една фабрика. Со белото квадратче е означен подвижниот робот чија задача е да разнесува алат низ фабриката. Со броеви од 1 до 6 се означени работните станици. Роботот може да се движи само во 4 насоки: напред, назад, лево и десно.\n",
    "\n",
    "![Подот на фабриката](factory.png)"
   ]
  },
  {
   "cell_type": "code",
   "execution_count": 1,
   "id": "e7805ebc-3bc1-4d7e-b6b8-52f862c73615",
   "metadata": {},
   "outputs": [
    {
     "ename": "ModuleNotFoundError",
     "evalue": "No module named 'matplotlib'",
     "output_type": "error",
     "traceback": [
      "\u001b[1;31m---------------------------------------------------------------------------\u001b[0m",
      "\u001b[1;31mModuleNotFoundError\u001b[0m                       Traceback (most recent call last)",
      "Cell \u001b[1;32mIn [1], line 3\u001b[0m\n\u001b[0;32m      1\u001b[0m \u001b[38;5;28;01mimport\u001b[39;00m \u001b[38;5;21;01mnumpy\u001b[39;00m \u001b[38;5;28;01mas\u001b[39;00m \u001b[38;5;21;01mnp\u001b[39;00m\n\u001b[0;32m      2\u001b[0m \u001b[38;5;28;01mimport\u001b[39;00m \u001b[38;5;21;01mheapq\u001b[39;00m\n\u001b[1;32m----> 3\u001b[0m \u001b[38;5;28;01mfrom\u001b[39;00m \u001b[38;5;21;01mmatplotlib\u001b[39;00m \u001b[38;5;28;01mimport\u001b[39;00m pyplot \u001b[38;5;28;01mas\u001b[39;00m plt\n\u001b[0;32m      4\u001b[0m \u001b[38;5;28;01mimport\u001b[39;00m \u001b[38;5;21;01mskimage\u001b[39;00m\n\u001b[0;32m      5\u001b[0m \u001b[38;5;28;01mfrom\u001b[39;00m \u001b[38;5;21;01mskimage\u001b[39;00m \u001b[38;5;28;01mimport\u001b[39;00m io\n",
      "\u001b[1;31mModuleNotFoundError\u001b[0m: No module named 'matplotlib'"
     ]
    }
   ],
   "source": [
    "import numpy as np\n",
    "import heapq\n",
    "from matplotlib import pyplot as plt\n",
    "import skimage\n",
    "from skimage import io"
   ]
  },
  {
   "cell_type": "markdown",
   "id": "8ef7f680-3252-434b-8f72-e6456f8e99c7",
   "metadata": {},
   "source": [
    "### Преставување на околината\n",
    "\n",
    "Околината е матрица каде со 0 е означено празно место, со 7 е означен роботот, а секоја станица е означена со нејзниот број. Во променливата `dimension_world` се запишани димензиите на околината. Површината на работните станици е запишана во речникот `area_workstation`. \n",
    "\n",
    "* 0 - empty\n",
    "* 1 - workstation 1\n",
    "* 2 - workstation 2\n",
    "* 3 - workstation 3\n",
    "* 4 - workstation 4\n",
    "* 5 - workstation 5\n",
    "* 6 - workstation 6\n",
    "* 7 - agent\n",
    "\n",
    "\n",
    "Во продолжение дадени ви се две функции. Првата, `reset_world()`, ја враќа околината каква што била на почетокот, исто како на горната сликата. Втората, `visualise_world()`, е функција која ќе ви ја исцрта околината, а секој број од околината `world` ќе ви го означи со различна боја."
   ]
  },
  {
   "cell_type": "code",
   "execution_count": 2,
   "id": "465fd470-1e94-4a59-813a-959cd15145cf",
   "metadata": {},
   "outputs": [],
   "source": [
    "dimensions_world = (8, 14)\n",
    "\n",
    "area_workstation = {}\n",
    "area_workstation[1] = [(0, 1), (1, 1), (0, 2), (1, 2)]\n",
    "area_workstation[2] = [(0, 5), (1, 5), (2, 5), (3, 5), (4, 5)]\n",
    "area_workstation[3] = [(0, 11), (0, 12), (0, 13), (1, 11), (1, 12), (1, 13)]\n",
    "area_workstation[4] = [(3, 8), (3, 9), (3, 10), (3, 11), (3, 12), (3, 13)]\n",
    "area_workstation[5] = [(7, 0), (7, 1), (7, 2), (7, 3), (7, 4), (7, 5), (7, 6), (7, 7), (7, 8), (7, 9)]\n",
    "area_workstation[6] = [(6, 13), (7, 13)]"
   ]
  },
  {
   "cell_type": "code",
   "execution_count": 3,
   "id": "e3a0b248-2e23-489e-a451-5754225ef193",
   "metadata": {},
   "outputs": [
    {
     "ename": "NameError",
     "evalue": "name 'plt' is not defined",
     "output_type": "error",
     "traceback": [
      "\u001b[1;31m---------------------------------------------------------------------------\u001b[0m",
      "\u001b[1;31mNameError\u001b[0m                                 Traceback (most recent call last)",
      "Cell \u001b[1;32mIn [3], line 21\u001b[0m\n\u001b[0;32m     18\u001b[0m     \u001b[38;5;28;01mreturn\u001b[39;00m world\n\u001b[0;32m     20\u001b[0m world \u001b[38;5;241m=\u001b[39m reset_world(dimensions_world, initial_agent_state\u001b[38;5;241m=\u001b[39m(\u001b[38;5;241m5\u001b[39m, \u001b[38;5;241m2\u001b[39m))\n\u001b[1;32m---> 21\u001b[0m \u001b[43mvisualise_world\u001b[49m\u001b[43m(\u001b[49m\u001b[43mworld\u001b[49m\u001b[43m)\u001b[49m\n",
      "Cell \u001b[1;32mIn [3], line 4\u001b[0m, in \u001b[0;36mvisualise_world\u001b[1;34m(world, path)\u001b[0m\n\u001b[0;32m      2\u001b[0m \u001b[38;5;28;01mfor\u001b[39;00m point \u001b[38;5;129;01min\u001b[39;00m path:\n\u001b[0;32m      3\u001b[0m     world[point] \u001b[38;5;241m=\u001b[39m \u001b[38;5;241m7\u001b[39m\n\u001b[1;32m----> 4\u001b[0m \u001b[43mplt\u001b[49m\u001b[38;5;241m.\u001b[39mrcParams[\u001b[38;5;124m'\u001b[39m\u001b[38;5;124mfigure.figsize\u001b[39m\u001b[38;5;124m'\u001b[39m] \u001b[38;5;241m=\u001b[39m [dimensions_world[\u001b[38;5;241m1\u001b[39m], dimensions_world[\u001b[38;5;241m0\u001b[39m]]\n\u001b[0;32m      5\u001b[0m plt\u001b[38;5;241m.\u001b[39mimshow(world, cmap\u001b[38;5;241m=\u001b[39mplt\u001b[38;5;241m.\u001b[39mcm\u001b[38;5;241m.\u001b[39mget_cmap(\u001b[38;5;124m'\u001b[39m\u001b[38;5;124mcubehelix\u001b[39m\u001b[38;5;124m'\u001b[39m, np\u001b[38;5;241m.\u001b[39munique(world)\u001b[38;5;241m.\u001b[39msize))\n\u001b[0;32m      6\u001b[0m plt\u001b[38;5;241m.\u001b[39mcolorbar()\n",
      "\u001b[1;31mNameError\u001b[0m: name 'plt' is not defined"
     ]
    }
   ],
   "source": [
    "def visualise_world(world, path=[]):\n",
    "    for point in path:\n",
    "        world[point] = 7\n",
    "    plt.rcParams['figure.figsize'] = [dimensions_world[1], dimensions_world[0]]\n",
    "    plt.imshow(world, cmap=plt.cm.get_cmap('cubehelix', np.unique(world).size))\n",
    "    plt.colorbar()\n",
    "    plt.clim(-0.5, np.unique(world).size - 0.5)\n",
    "    plt.xticks(np.arange(dimensions_world[1] + 1) - 0.5)\n",
    "    plt.yticks(np.arange(dimensions_world[0] + 1) - 0.5)\n",
    "    plt.grid()\n",
    "\n",
    "def reset_world(dimensions_world, initial_agent_state):\n",
    "    world = np.zeros(dimensions_world, dtype=int)\n",
    "    for workstation_id, area in area_workstation.items():\n",
    "        for square in area:\n",
    "            world[square] = workstation_id\n",
    "    world[initial_agent_state] = 7\n",
    "    return world\n",
    "\n",
    "world = reset_world(dimensions_world, initial_agent_state=(5, 2))\n",
    "visualise_world(world)"
   ]
  },
  {
   "cell_type": "markdown",
   "id": "b6533430-472a-4c72-bf3b-b87578986736",
   "metadata": {},
   "source": [
    "Во продолжение ви е даден веќе готов А* алгоритам кој ќе ви ја најде најкратката патека од почетната позиција на роботот `initial_state` до посакуваната позиција `goal_state`. За евристика се користи евклидовото растојание. Роботот може да се движи само во 4 насоки, нагоре, надолу, лево и десно. Функцијата `a_star_search()` ќе ви го врати најкраткиот пат кој, за да го видите на слика, треба да го испратите на функцијата `visualise_path()` како аргумент `path`."
   ]
  },
  {
   "cell_type": "code",
   "execution_count": 4,
   "id": "d1497353-fabe-4275-8d94-e166f649d216",
   "metadata": {},
   "outputs": [],
   "source": [
    "def is_valid(position):\n",
    "    if not 0 <= position[0] < dimensions_world[0]:\n",
    "        return False\n",
    "    if not 0 <= position[1] < dimensions_world[1]:\n",
    "        return False\n",
    "    for index in range(1, 7):\n",
    "        if position in area_workstation[index]:\n",
    "            return False\n",
    "    return True"
   ]
  },
  {
   "cell_type": "code",
   "execution_count": 25,
   "id": "a9732fc2-b3ec-44b3-9f33-0ac3101d2149",
   "metadata": {},
   "outputs": [
    {
     "data": {
      "text/plain": [
       "True"
      ]
     },
     "execution_count": 25,
     "metadata": {},
     "output_type": "execute_result"
    }
   ],
   "source": [
    "is_valid((7, 12))"
   ]
  },
  {
   "cell_type": "code",
   "execution_count": 26,
   "id": "84974e3d-b3a4-46ce-abcc-fc5e5eb090ab",
   "metadata": {},
   "outputs": [],
   "source": [
    "def distance(agent_state, another_state):\n",
    "    #return np.sqrt((agent_state[0] - another_state[0])**2 + (agent_state[1] - another_state[1])**2)\n",
    "    return abs(agent_state[0] - another_state[0]) + abs(agent_state[1] - another_state[1])\n",
    "    \n",
    "def expand_state(state_to_expand):\n",
    "    i, j = state_to_expand\n",
    "    movements = [(i-1, j), (i+1, j), (i, j-1), (i, j+1)]\n",
    "    new_states = []\n",
    "    for movement in movements:\n",
    "        if is_valid(movement):\n",
    "            new_states.append(movement)    \n",
    "    return new_states\n",
    "\n",
    "def a_star_search(initial_state, goal_state):\n",
    "    \n",
    "    if not is_valid(goal_state):\n",
    "        is_goal_valid = False\n",
    "        goal_x, goal_y = goal_state\n",
    "        for i in range(1, 8):\n",
    "            if is_valid((goal_x + i, goal_y)):\n",
    "                goal_state = (goal_x + i, goal_y)\n",
    "                break\n",
    "            if is_valid((goal_x - i, goal_y)):\n",
    "                goal_state = (goal_x - i, goal_y)\n",
    "                break\n",
    "        \n",
    "    alpha = 0.5\n",
    "    expanded = set()\n",
    "    states_queue = [((0, 0), [initial_state])]\n",
    "    heapq.heapify(states_queue)\n",
    "    while states_queue:\n",
    "        current_weight, states_list = heapq.heappop(states_queue)\n",
    "        current_a_star_weight, current_path_weight = current_weight\n",
    "        state_to_expand = states_list[-1]\n",
    "        if state_to_expand == goal_state:\n",
    "            return states_list\n",
    "        if state_to_expand in expanded:\n",
    "            continue\n",
    "        for next_state in expand_state(state_to_expand):\n",
    "            transition_weight = 1\n",
    "            uniform_cost_weight = current_path_weight + transition_weight\n",
    "            heuristic_weight = distance(next_state, goal_state)\n",
    "            a_star_weight = (1 - alpha) * uniform_cost_weight + alpha * heuristic_weight\n",
    "            if next_state not in expanded:\n",
    "                heapq.heappush(states_queue, ((a_star_weight, uniform_cost_weight), states_list + [next_state]))\n",
    "        expanded.add(state_to_expand)\n",
    "    return []"
   ]
  },
  {
   "cell_type": "code",
   "execution_count": 27,
   "id": "1520b382-ac56-47cb-9292-7c5f246e3778",
   "metadata": {},
   "outputs": [
    {
     "data": {
      "text/plain": [
       "[(4, 2), (6, 2), (5, 1), (5, 3)]"
      ]
     },
     "execution_count": 27,
     "metadata": {},
     "output_type": "execute_result"
    }
   ],
   "source": [
    "expand_state((5, 2))"
   ]
  },
  {
   "cell_type": "code",
   "execution_count": null,
   "id": "9bb7091e-0b27-495c-ae55-1736315b9ff2",
   "metadata": {},
   "outputs": [],
   "source": []
  },
  {
   "cell_type": "code",
   "execution_count": 28,
   "id": "af6da3d9-f1bc-4a23-93d4-fb8dfd3038f6",
   "metadata": {},
   "outputs": [
    {
     "ename": "NameError",
     "evalue": "name 'initial_state' is not defined",
     "output_type": "error",
     "traceback": [
      "\u001b[1;31m---------------------------------------------------------------------------\u001b[0m",
      "\u001b[1;31mNameError\u001b[0m                                 Traceback (most recent call last)",
      "Cell \u001b[1;32mIn [28], line 3\u001b[0m\n\u001b[0;32m      1\u001b[0m initital_state, goal_state \u001b[38;5;241m=\u001b[39m (\u001b[38;5;241m5\u001b[39m, \u001b[38;5;241m2\u001b[39m), (\u001b[38;5;241m1\u001b[39m, \u001b[38;5;241m6\u001b[39m)\n\u001b[1;32m----> 3\u001b[0m a_star_search(\u001b[43minitial_state\u001b[49m, goal_state)\n",
      "\u001b[1;31mNameError\u001b[0m: name 'initial_state' is not defined"
     ]
    }
   ],
   "source": [
    "initital_state, goal_state = (5, 2), (1, 6)\n",
    "\n",
    "a_star_search(initial_state, goal_state)"
   ]
  },
  {
   "cell_type": "code",
   "execution_count": 29,
   "id": "9ff1f162-f830-4990-a1e3-8911dee614b2",
   "metadata": {},
   "outputs": [
    {
     "ename": "NameError",
     "evalue": "name 'initial_state' is not defined",
     "output_type": "error",
     "traceback": [
      "\u001b[1;31m---------------------------------------------------------------------------\u001b[0m",
      "\u001b[1;31mNameError\u001b[0m                                 Traceback (most recent call last)",
      "Cell \u001b[1;32mIn [29], line 1\u001b[0m\n\u001b[1;32m----> 1\u001b[0m distance(\u001b[43minitial_state\u001b[49m, goal_state)\n",
      "\u001b[1;31mNameError\u001b[0m: name 'initial_state' is not defined"
     ]
    }
   ],
   "source": [
    "distance(initial_state, goal_state)"
   ]
  },
  {
   "cell_type": "markdown",
   "id": "b1283160-97e6-46fe-a424-3337b5531927",
   "metadata": {
    "jp-MarkdownHeadingCollapsed": true,
    "tags": []
   },
   "source": [
    "### Задача 2.1\n",
    "Како што можете да видите на првичната слика, роботот стигнува до целта, но преминува преку работните станици. Направете измена така што ќе стигнете до целта без да поминувате преку станиците."
   ]
  },
  {
   "cell_type": "markdown",
   "id": "62f29480-21ec-4582-90a1-d1268baabad6",
   "metadata": {},
   "source": [
    "### Задача 2.2\n",
    "Од сега па натаму, нека цел ви биде некоја работна станица, на пример работната станица 3. Изменете го алгоритамот така што ќе стигнете до посакуваната работна станица. Внимавајте, роботот не смее да се движи врз површината на станиците. Затоа, за успешно пристигање до некоја станица ќе се смета застанување до самата станица.\n"
   ]
  },
  {
   "cell_type": "markdown",
   "id": "2de6ee28-b199-42e1-bb03-c7cfa8453a07",
   "metadata": {},
   "source": [
    "### Задача 2.3\n",
    "Дадениот А* алгоритам за евристика го користи евклидовото растојание. \n",
    "* Дали постои подобра евристика за дадениот проблем?\n",
    "* Ако да, зошто е подобра таа евристика? Ако не, зошто не постои таква?\n",
    "* Ако постои таква евристика, применете ја во алгоритамот.\n",
    "* Како може да се докаже дека едната евристика е подобра од другата?"
   ]
  },
  {
   "cell_type": "markdown",
   "id": "f6beaa7a-f42b-44cb-8d2f-723106d4b514",
   "metadata": {},
   "source": [
    "### Задача 2.4\n",
    "\n",
    "Што ќе се случи со дадениот алгоритам за пребарување ако цената за придвижување на роботот, `transition_weight`, ја поставиме да биде 0?"
   ]
  },
  {
   "cell_type": "markdown",
   "id": "44286a17-679f-43f2-b058-5b058d00e898",
   "metadata": {},
   "source": [
    "### Задача 2.5\n",
    "\n",
    "Што ќе се случи со дадениот алгоритам ако не користиме евристика?"
   ]
  },
  {
   "cell_type": "markdown",
   "id": "5cd626ef-794c-4982-8a29-cb3376593a1d",
   "metadata": {},
   "source": [
    "### Задача 2.6\n",
    "Во продолжение дадена е слика која ја претставува густината на луѓе во секој квадрат од фабриката. Резултатите се добиени по статистички пат. Од една страна сакаме роботот да не оди каде има гужва. Од друга страна нема логика роботот да заобиколува по предолг пат само за да избегне неколку луѓе. Овој проблем нема единствено точно решение, и всушност претставува компромис помеѓу пократок пат и избегнување луѓе. Ваша задача е да го дизјанирате движењето на роботот така што роботот ќе ја има предвид оваа информација и на некој начин ќе прави компромис помеѓу пократок пат и избегнување луѓе.\n",
    "\n",
    "Променливата `heatmap` е матрица иста како околината `world`."
   ]
  },
  {
   "cell_type": "code",
   "execution_count": 30,
   "id": "56900195-1591-412f-989d-b0aa914a287c",
   "metadata": {},
   "outputs": [
    {
     "ename": "NameError",
     "evalue": "name 'skimage' is not defined",
     "output_type": "error",
     "traceback": [
      "\u001b[1;31m---------------------------------------------------------------------------\u001b[0m",
      "\u001b[1;31mNameError\u001b[0m                                 Traceback (most recent call last)",
      "Cell \u001b[1;32mIn [30], line 1\u001b[0m\n\u001b[1;32m----> 1\u001b[0m heatmap \u001b[38;5;241m=\u001b[39m \u001b[43mskimage\u001b[49m\u001b[38;5;241m.\u001b[39mio\u001b[38;5;241m.\u001b[39mimread(\u001b[38;5;124m'\u001b[39m\u001b[38;5;124mheatmap.png\u001b[39m\u001b[38;5;124m'\u001b[39m)\n\u001b[0;32m      2\u001b[0m heatmap \u001b[38;5;241m=\u001b[39m skimage\u001b[38;5;241m.\u001b[39mimg_as_float(heatmap)\n\u001b[0;32m      3\u001b[0m plt\u001b[38;5;241m.\u001b[39mimshow(heatmap)\n",
      "\u001b[1;31mNameError\u001b[0m: name 'skimage' is not defined"
     ]
    }
   ],
   "source": [
    "heatmap = skimage.io.imread('heatmap.png')\n",
    "heatmap = skimage.img_as_float(heatmap)\n",
    "plt.imshow(heatmap)\n",
    "plt.colorbar()"
   ]
  },
  {
   "cell_type": "code",
   "execution_count": 31,
   "id": "28fa647a-1b82-40d9-9957-f7182c93b44e",
   "metadata": {},
   "outputs": [],
   "source": [
    "def get_weight(source_state, destination_state):\n",
    "    source_x, source_y = source_state\n",
    "    destination_x, destination_y = destination_state\n",
    "    weight = heatmap[destination_x][destination_y] - heatmap[source_x][source_y]\n",
    "    return max(0, weight) * 5"
   ]
  },
  {
   "cell_type": "markdown",
   "id": "79b0aaad-48ed-47c5-9f9c-ad064bc4cd61",
   "metadata": {},
   "source": [
    "### Задача 2.7\n",
    "\n",
    "Роботот располага со алат сместен во листата `tools`. Кога некоја работна станица ќе побара алат, роботот треба да го однесе алатот таму. Ако алататот го нема на располагање во себе, роботот бара која станица го има алатот. Потоа тој оди до таа станица, го зема алатот, и го носи до станицата која го побарала. Задачите кои тој треба да ги изврши се дадени во листата `requests`, а вие треба да напишете код според кој роботот за најбрзо време ќе го однесе алатот до соодветната станица.\n"
   ]
  },
  {
   "cell_type": "code",
   "execution_count": 32,
   "id": "31e19282-ff87-475b-98b8-f0f1e33ae4b3",
   "metadata": {},
   "outputs": [],
   "source": [
    "tools = ['screwdriver', 'wrench', 'wrench', 'drill', 'drill', 'pliers', 'hammer']\n",
    "\n",
    "requests = ['workstation 3 needs wrench',\n",
    "            'workstation 1 needs wrench',\n",
    "            'workstation 6 needs drill',\n",
    "            'workstation 5 needs wrench',\n",
    "            'workstation 4 needs pliers',\n",
    "            'workstation 2 needs wrench',\n",
    "            'workstation 4 needs hammer',\n",
    "            'workstation 1 needs pliers']"
   ]
  },
  {
   "cell_type": "code",
   "execution_count": 33,
   "id": "028c0968-b2e3-4e62-a2b1-bf0422bf3a99",
   "metadata": {},
   "outputs": [
    {
     "data": {
      "text/plain": [
       "{1: [], 2: [], 3: [], 4: [], 5: [], 6: []}"
      ]
     },
     "execution_count": 33,
     "metadata": {},
     "output_type": "execute_result"
    }
   ],
   "source": [
    "workstation_tools = {}\n",
    "for i in range(1, 7):\n",
    "    workstation_tools[i] = []\n",
    "workstation_tools"
   ]
  },
  {
   "cell_type": "code",
   "execution_count": 34,
   "id": "acb50e98-e0fb-45ca-9f89-c3204858260d",
   "metadata": {},
   "outputs": [],
   "source": [
    "workstation_entrance = {\n",
    "    1: (2, 1),\n",
    "    2: (5, 5),\n",
    "    3: (0, 10),\n",
    "    4: (3, 7),\n",
    "    5: (5, 5),\n",
    "    6: (6, 12),\n",
    "}"
   ]
  },
  {
   "cell_type": "code",
   "execution_count": 35,
   "id": "d57bf268-768e-4ea9-bee0-3354694832a8",
   "metadata": {},
   "outputs": [],
   "source": [
    "def do_requests():\n",
    "    initial_position = (5, 2)\n",
    "    for request in requests:\n",
    "        workstation_number = int(request.split(' ')[1])\n",
    "        needed_tool = request.split(' ')[3]\n",
    "        if needed_tool in tools:\n",
    "            tools.remove(needed_tool)\n",
    "            workstation_tools[workstation_number].append(needed_tool)\n",
    "            print(f'\\nРоботот носи {needed_tool} од положба {initial_position} до станица {workstation_number}')\n",
    "            print('Роботот оди по патека: ')\n",
    "            print(a_star_search(initial_position, workstation_entrance[workstation_number]))\n",
    "    \n",
    "        else:\n",
    "            for i in range(1, 7):\n",
    "                if needed_tool in workstation_tools[i]:\n",
    "                    first_workstation_number = i\n",
    "                    break\n",
    "            print(f'\\nРоботот во себе нема {needed_tool}. Прво ќе оди до станица {first_workstation_number} за да ја земи алатката од таму.')\n",
    "            print('Роботот оди по патека: ')\n",
    "            print(a_star_search(initial_position, workstation_entrance[first_workstation_number]))\n",
    "            print(f'Роботот ја носи алатката до станица {workstation_number}')\n",
    "            print('Роботот оди по патеката ', end = '')\n",
    "            print(a_star_search(workstation_entrance[first_workstation_number], workstation_entrance[workstation_number]))\n",
    "            workstation_tools[first_workstation_number].remove(needed_tool)\n",
    "            workstation_tools[workstation_number].append(needed_tool)\n",
    "        initial_position = workstation_entrance[workstation_number]\n",
    "        print()\n",
    "\n"
   ]
  },
  {
   "cell_type": "code",
   "execution_count": 36,
   "id": "a1cf1c02-64b3-4db3-b048-ee15ca27c657",
   "metadata": {},
   "outputs": [
    {
     "name": "stdout",
     "output_type": "stream",
     "text": [
      "\n",
      "Роботот носи wrench од положба (5, 2) до станица 3\n",
      "Роботот оди по патека: \n",
      "[(5, 2), (5, 3), (5, 4), (5, 5), (5, 6), (4, 6), (3, 6), (2, 6), (1, 6), (0, 6), (0, 7), (0, 8), (0, 9), (0, 10)]\n",
      "\n",
      "\n",
      "Роботот носи wrench од положба (0, 10) до станица 1\n",
      "Роботот оди по патека: \n",
      "[(0, 10), (0, 9), (0, 8), (0, 7), (0, 6), (1, 6), (2, 6), (3, 6), (4, 6), (5, 6), (5, 5), (5, 4), (4, 4), (3, 4), (2, 4), (2, 3), (2, 2), (2, 1)]\n",
      "\n",
      "\n",
      "Роботот носи drill од положба (2, 1) до станица 6\n",
      "Роботот оди по патека: \n",
      "[(2, 1), (2, 2), (2, 3), (2, 4), (3, 4), (4, 4), (5, 4), (5, 5), (5, 6), (5, 7), (5, 8), (5, 9), (5, 10), (5, 11), (5, 12), (6, 12)]\n",
      "\n",
      "\n",
      "Роботот во себе нема wrench. Прво ќе оди до станица 1 за да ја земи алатката од таму.\n",
      "Роботот оди по патека: \n",
      "[(6, 12), (5, 12), (5, 11), (5, 10), (5, 9), (5, 8), (5, 7), (5, 6), (5, 5), (5, 4), (4, 4), (3, 4), (2, 4), (2, 3), (2, 2), (2, 1)]\n",
      "Роботот ја носи алатката до станица 5\n",
      "Роботот оди по патеката [(2, 1), (2, 2), (2, 3), (2, 4), (3, 4), (4, 4), (5, 4), (5, 5)]\n",
      "\n",
      "\n",
      "Роботот носи pliers од положба (5, 5) до станица 4\n",
      "Роботот оди по патека: \n",
      "[(5, 5), (5, 6), (4, 6), (3, 6), (3, 7)]\n",
      "\n",
      "\n",
      "Роботот во себе нема wrench. Прво ќе оди до станица 3 за да ја земи алатката од таму.\n",
      "Роботот оди по патека: \n",
      "[(3, 7), (2, 7), (1, 7), (0, 7), (0, 8), (0, 9), (0, 10)]\n",
      "Роботот ја носи алатката до станица 2\n",
      "Роботот оди по патеката [(0, 10), (0, 9), (0, 8), (0, 7), (0, 6), (1, 6), (2, 6), (3, 6), (4, 6), (5, 6), (5, 5)]\n",
      "\n",
      "\n",
      "Роботот носи hammer од положба (5, 5) до станица 4\n",
      "Роботот оди по патека: \n",
      "[(5, 5), (5, 6), (4, 6), (3, 6), (3, 7)]\n",
      "\n",
      "\n",
      "Роботот во себе нема pliers. Прво ќе оди до станица 4 за да ја земи алатката од таму.\n",
      "Роботот оди по патека: \n",
      "[(3, 7)]\n",
      "Роботот ја носи алатката до станица 1\n",
      "Роботот оди по патеката [(3, 7), (3, 6), (4, 6), (5, 6), (5, 5), (5, 4), (4, 4), (3, 4), (2, 4), (2, 3), (2, 2), (2, 1)]\n",
      "\n"
     ]
    }
   ],
   "source": [
    "do_requests()"
   ]
  },
  {
   "cell_type": "code",
   "execution_count": null,
   "id": "5a0ca146-4fd8-484a-8872-4525c957b625",
   "metadata": {},
   "outputs": [],
   "source": []
  }
 ],
 "metadata": {
  "kernelspec": {
   "display_name": "Python 3 (ipykernel)",
   "language": "python",
   "name": "python3"
  },
  "language_info": {
   "codemirror_mode": {
    "name": "ipython",
    "version": 3
   },
   "file_extension": ".py",
   "mimetype": "text/x-python",
   "name": "python",
   "nbconvert_exporter": "python",
   "pygments_lexer": "ipython3",
   "version": "3.10.8"
  }
 },
 "nbformat": 4,
 "nbformat_minor": 5
}
