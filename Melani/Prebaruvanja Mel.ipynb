{
 "cells": [
  {
   "cell_type": "markdown",
   "id": "3e4f710b-dec4-401c-b3fb-c037e221c6e2",
   "metadata": {
    "tags": []
   },
   "source": [
    "# Алгоритми за пребарување"
   ]
  },
  {
   "cell_type": "markdown",
   "id": "3c066318-7528-4ae2-ba82-a73354e469f7",
   "metadata": {},
   "source": [
    "# Претставување граф преку речник"
   ]
  },
  {
   "cell_type": "code",
   "execution_count": 2,
   "id": "fa71bbd7-e5b5-4068-b798-d61067e33b03",
   "metadata": {},
   "outputs": [],
   "source": [
    "class Graph():\n",
    "    \n",
    "    def __init__(self):\n",
    "        self.dict = {} \n",
    "    \n",
    "    def add_node(self, node):\n",
    "        self.dict[node] = []\n",
    "        \n",
    "    def add_edge(self, edge, add_reversed=True):\n",
    "        node1, node2 = edge\n",
    "        self.dict[node1].append(node2)\n",
    "        if add_reversed:\n",
    "            self.dict[node2].append(node1)\n",
    "        \n",
    "    def give_nodes(self):\n",
    "        return list(self.dict)\n",
    "    \n",
    "    def give_edges(self):\n",
    "        edges = []\n",
    "        for vertex in self.graph_dict: #vertex=node\n",
    "            for neighbour in self.graph_dict[vertex]:\n",
    "                edges.append((vertex, neighbour))\n",
    "        return edges\n",
    "    \n",
    "    def give_neighbors(self, node):\n",
    "        return self.dict[node]\n",
    "\n",
    "    #najchesto ovie nadole ne se koristat\n",
    "    def remove_vertex(self, vertex_to_remove):\n",
    "        del self.dict[vertex_to_remove] \n",
    "        for vertex in self.vertices():\n",
    "            if vertex_to_remove in self.dict[vertex]:\n",
    "                self.dict[vertex].remove(vertex_to_remove)\n",
    "\n",
    "    def remove_edge(self, edge_to_remove, remove_reversed=True):\n",
    "        vertex1, vertex2 = edge_to_remove\n",
    "        if vertex2 in self.dict[vertex1]:\n",
    "            self.dict[vertex1].remove(vertex2)\n",
    "        if remove_reversed:\n",
    "            if vertex1 in self.dict[vertex2]:\n",
    "                self.dict[vertex2].remove(vertex1)\n",
    "\n",
    "    def isolated_vertices(self):\n",
    "        #jazol koj ne e povraan so nikoj ima prazna lista\n",
    "        isolated_vertices = []\n",
    "        for vertex in self.dict:\n",
    "            if not self.dict[vertex]:\n",
    "                isolated_vertices.append(vertex)\n",
    "        return isolated_vertices"
   ]
  },
  {
   "cell_type": "markdown",
   "id": "d668ad47-aa3e-4739-b8c2-6299e88a7fec",
   "metadata": {},
   "source": [
    "# Пребарување по широчина BFS\n",
    "кога на излез ја сакаме цела постапка, а крајната состојба веќе знаеме што треба да биде\n",
    "пр. движење коњ во најмалце чекори, движење плочки сложувалка во најмалце чекори, преминување мост/река"
   ]
  },
  {
   "cell_type": "code",
   "execution_count": 3,
   "id": "2bd5c47e-b13f-4046-b3ee-4b6c114fdc58",
   "metadata": {},
   "outputs": [],
   "source": [
    "from queue import deque"
   ]
  },
  {
   "cell_type": "code",
   "execution_count": 4,
   "id": "00fc25b7-3850-4b4f-b3d3-1fc63258f9df",
   "metadata": {},
   "outputs": [],
   "source": [
    "def breadth_first_search_find_path(graph, starting_vertex, goal_vertex):\n",
    "    if starting_vertex == goal_vertex:\n",
    "        return []\n",
    "    visited = {starting_vertex} \n",
    "    queue = deque([[starting_vertex]]) \n",
    "    while queue:\n",
    "        vertex_list = queue.popleft() \n",
    "        vertex_to_expand = vertex_list[-1]\n",
    "        for neighbour in graph.neighbours(vertex_to_expand): #mesto graph. treba da stoi expand_state\n",
    "            if neighbour not in visited:\n",
    "                if neighbour == goal_vertex:\n",
    "                    return vertex_list + [neighbour]\n",
    "                visited.add(neighbour)\n",
    "                queue.append(vertex_list + [neighbour])"
   ]
  },
  {
   "cell_type": "markdown",
   "id": "780e932d-175d-404c-8cbc-bb63305e0aa3",
   "metadata": {},
   "source": [
    "# Пребарување по длабочина DFS\n",
    "кога на излез не сакаме постапка, туку крајна состојба\n",
    "пр. еден начин за поставување кралици, судоку"
   ]
  },
  {
   "cell_type": "code",
   "execution_count": 6,
   "id": "12f0c535-0255-4f2e-9d69-79d4735d1aaa",
   "metadata": {},
   "outputs": [],
   "source": [
    "def depth_first_search_find_path(graph, starting_vertex, goal_vertex):\n",
    "    if starting_vertex == goal_vertex:\n",
    "        return []\n",
    "    visited = {starting_vertex}\n",
    "    queue = deque([[starting_vertex]])\n",
    "    while queue:\n",
    "        vertex_list = queue.popleft()\n",
    "        vertex_to_expand = vertex_list[-1]\n",
    "        for neighbour in graph.neighbours(vertex_to_expand): #mesto graph..... expand_state\n",
    "            if neighbour not in visited:\n",
    "                if neighbour == goal_vertex:\n",
    "                    return vertex_list + [neighbour]\n",
    "                visited.add(neighbour)\n",
    "                queue.appendleft(vertex_list + [neighbour])"
   ]
  },
  {
   "cell_type": "markdown",
   "id": "254583d4-680a-4c4c-adda-cc8bb22e24b9",
   "metadata": {},
   "source": [
    "# Претставување тежински граф"
   ]
  },
  {
   "cell_type": "code",
   "execution_count": null,
   "id": "3120bead-590a-4ee6-8ef5-9517bb34f955",
   "metadata": {},
   "outputs": [],
   "source": [
    "class WeightedGraph:\n",
    "    def __init__(self):\n",
    "        self.graph_dict = {}\n",
    "    \n",
    "    def add_vertex(self, vertex):\n",
    "        if vertex not in self.graph_dict:\n",
    "            self.graph_dict[vertex] = {}\n",
    "    \n",
    "    def vertices(self):\n",
    "        return list(self.graph_dict.keys())\n",
    "    \n",
    "    def add_edge(self, edge, add_reversed=True):\n",
    "        vertex1, vertex2, weight = edge\n",
    "        self.graph_dict[vertex1][vertex2] = weight\n",
    "        if add_reversed:\n",
    "            self.graph_dict[vertex2][vertex1] = weight\n",
    "    \n",
    "    def edges(self):\n",
    "        edges = []\n",
    "        for vertex in self.graph_dict:\n",
    "            for neighbour, weight in self.graph_dict[vertex].items():\n",
    "                edges.append((vertex, neighbour, weight))\n",
    "        return edges\n",
    "    \n",
    "    def neighbours(self, vertex):\n",
    "        return list(self.graph_dict[vertex].items())"
   ]
  },
  {
   "cell_type": "markdown",
   "id": "8fb5dd02-77c6-4dd2-9520-bcfd863cc422",
   "metadata": {},
   "source": [
    "# Пребарување со униформна цена"
   ]
  },
  {
   "cell_type": "code",
   "execution_count": null,
   "id": "801115dd-e5c1-441e-924c-4bf8dd8cdfb4",
   "metadata": {},
   "outputs": [],
   "source": [
    "import heapq"
   ]
  },
  {
   "cell_type": "code",
   "execution_count": 1,
   "id": "a63d728d-8e43-4a89-8b8a-a01173388cb5",
   "metadata": {},
   "outputs": [],
   "source": [
    "def uniform_cost_search(graph,starting_vertex, goal_vertex):\n",
    "    if starting_vertex == goal_vertex:\n",
    "        return []\n",
    "    expanded = set()\n",
    "    queue = [(0, [starting_vertex])]\n",
    "    heapq.heapify(queue)\n",
    "    while queue:\n",
    "        weight, vertex_list = heapq.heappop(queue) \n",
    "        vertex_to_expand = vertex_list[-1]\n",
    "        if vertex_to_expand == goal_vertex:\n",
    "            return weight, vertex_list\n",
    "        if vertex_to_expand not in expanded:\n",
    "            for new_weight, neighbour in expand_state(vertex_to_expand):\n",
    "                if neighbour not in expanded: \n",
    "                    heapq.heappush(queue, (weight + new_weight, vertex_list + [neighbour]))\n",
    "        expanded.add(vertex_to_expand)"
   ]
  },
  {
   "cell_type": "markdown",
   "id": "e0fdbdbe-e98e-46fa-be01-8c147f7b23e0",
   "metadata": {},
   "source": [
    "# Пребарувања два во едно"
   ]
  },
  {
   "cell_type": "code",
   "execution_count": 2,
   "id": "40b8307e-52bf-4062-bad3-77fc95d5702a",
   "metadata": {},
   "outputs": [],
   "source": [
    "from queue import deque"
   ]
  },
  {
   "cell_type": "code",
   "execution_count": null,
   "id": "b3ec10c2-175c-441f-b907-5d6282c7455c",
   "metadata": {},
   "outputs": [],
   "source": [
    "def search(initial_state, alg):\n",
    "    visited = {initial_state}\n",
    "    queue = deque([[initial_state]])\n",
    "    c = 0\n",
    "    while queue:\n",
    "        c += 1\n",
    "        vertex_list = queue.popleft()\n",
    "        state_to_expand = vertex_list[-1]\n",
    "        for next_state in expand_state(state_to_expand):\n",
    "            if next_state not in visited:\n",
    "                if check_end(next_state):\n",
    "                    return vertex_list + [next_state], c\n",
    "                visited.add(next_state)\n",
    "                if alg == 'dfs':\n",
    "                    queue.appendleft(vertex_list + [next_state])\n",
    "                elif alg == 'bfs':\n",
    "                    queue.append(vertex_list + [next_state])"
   ]
  },
  {
   "cell_type": "markdown",
   "id": "9652064f-eb5d-4f05-9c5c-775dfb48bdbd",
   "metadata": {},
   "source": [
    "# A* пребарување со евристика"
   ]
  },
  {
   "cell_type": "code",
   "execution_count": 7,
   "id": "bb3e388a-5fbb-49b7-be99-80ff5c43d23f",
   "metadata": {},
   "outputs": [],
   "source": [
    "import heapq"
   ]
  },
  {
   "cell_type": "code",
   "execution_count": 11,
   "id": "6b0e8779-2df2-4cb1-b85f-9a151ab444b6",
   "metadata": {},
   "outputs": [],
   "source": [
    "def a_star_search(graph, starting_vertex, goal_vertex, heuristic_function, alpha=1):\n",
    "    if starting_vertex == goal_vertex:\n",
    "        return []\n",
    "    expanded = set()\n",
    "    queue = [((0, 0), [starting_vertex])]\n",
    "    heapq.heapify(queue)\n",
    "    while queue:\n",
    "        weight_tuple, vertex_list = heapq.heappop(queue)\n",
    "        current_a_star_weight, current_path_weight = weight_tuple\n",
    "        vertex_to_expand = vertex_list[-1]\n",
    "        if vertex_to_expand == goal_vertex:\n",
    "            return current_path_weight, vertex_list\n",
    "        if vertex_to_expand not in expanded:\n",
    "            for neighbour, new_weight in graph.neighbours(vertex_to_expand):\n",
    "                if neighbour not in expanded:\n",
    "                    heuristic = heuristic_function(neighbour, goal_vertex)\n",
    "                    path_weight = current_path_weight + new_weight\n",
    "                    a_star_weight = path_weight + alpha * heuristic\n",
    "                    heapq.heappush(queue, ((a_star_weight, path_weight), vertex_list + [neighbour]))\n",
    "        expanded.add(vertex_to_expand)"
   ]
  },
  {
   "cell_type": "code",
   "execution_count": 1,
   "id": "dd1388e9-b5c3-424c-8445-248787d71dc3",
   "metadata": {},
   "outputs": [],
   "source": [
    "# evristika d_heuristic = {'S': 12, 'A': 5, 'B': 5, 'C': 5, 'D': 2, 'E': 2, 'F': 1, 'G': 1, 'H': 0} \n",
    "def heuristic(vertex, goal_vertex):\n",
    "    return d_heuristic[vertex]"
   ]
  },
  {
   "cell_type": "code",
   "execution_count": 2,
   "id": "22e4be47-01d0-4982-9c02-2d9c49342ec4",
   "metadata": {},
   "outputs": [],
   "source": [
    "#za plochki, kako matrica\n",
    "def heuristics(state):\n",
    "    value = 0\n",
    "    for index_row, row in enumerate(state):\n",
    "        for index_col, col in enumerate(row):\n",
    "            value += manhattan_distance((index_row, index_col), col)\n",
    "    return value"
   ]
  },
  {
   "cell_type": "code",
   "execution_count": null,
   "id": "ee1dbfb3-2f51-49b7-83c9-c33a2d03dc50",
   "metadata": {},
   "outputs": [],
   "source": [
    "N=broj\n",
    "def h(state):\n",
    "    m = []\n",
    "    for i, s in enumerate(state):\n",
    "        s = int(s)\n",
    "        m.append(manhattan_distance((i // N, i % N), (s // N, s % N)))\n",
    "    return sum(m)"
   ]
  },
  {
   "cell_type": "markdown",
   "id": "76688911-88ae-4373-a3fa-0b7668c29368",
   "metadata": {},
   "source": [
    "### Менхетен\n",
    "* растојание ако одиме само хоризонтално или вертикално\n",
    "* d = | x1 - x2 | + | y1 - y2 |"
   ]
  },
  {
   "cell_type": "code",
   "execution_count": 12,
   "id": "7d983b68-33a7-48bd-a067-ba1f2fe1bb2b",
   "metadata": {},
   "outputs": [],
   "source": [
    "def manhattan_distance(state_1, state_2):\n",
    "    return abs(state_1[0] - state_2[0]) + abs(state_1[1] - state_2[1])"
   ]
  },
  {
   "cell_type": "markdown",
   "id": "78f0cb9a-680d-47a9-9780-34724a4d590b",
   "metadata": {},
   "source": [
    "### Чебишев\n",
    "* растојание според вертикални, хоризонтални и дијагонални правци\n",
    "* d = max( | x1 - x2 |, | y1 - y2 | )"
   ]
  },
  {
   "cell_type": "code",
   "execution_count": 14,
   "id": "6eabd260-8b6d-4e5f-9ec2-bf5d58ae0186",
   "metadata": {},
   "outputs": [],
   "source": [
    "def chebyshev_distance(state_1, state_2):\n",
    "    return max(abs(state_1[0] - state_2[0]), abs(state_1[1] - state_2[1]))"
   ]
  },
  {
   "cell_type": "markdown",
   "id": "cc1ae3eb-4124-4611-b3b3-3a7feec8071c",
   "metadata": {},
   "source": [
    "### Евклид\n",
    "* реалното растојание\n",
    "* d = sqrt( ( x1 - x2 )^2 + ( y1 - y2 )^2 )"
   ]
  },
  {
   "cell_type": "code",
   "execution_count": 15,
   "id": "6b02d749-df32-4371-8974-4feaafec07cd",
   "metadata": {},
   "outputs": [],
   "source": [
    "import math\n",
    "\n",
    "def eucledian_distance(state_1, state_2):\n",
    "    return math.sqrt((state_1[0] - state_2[0])**2 + (state_1[1] - state_2[1])**2)"
   ]
  },
  {
   "cell_type": "markdown",
   "id": "0e02da8f-e6df-477a-b612-3ce5ddb007cc",
   "metadata": {},
   "source": [
    "# Минимакс"
   ]
  },
  {
   "cell_type": "code",
   "execution_count": 1,
   "id": "43c95f32-77e8-47f8-9d9d-f81c73322985",
   "metadata": {},
   "outputs": [],
   "source": [
    "def minimax(graph, node, player):\n",
    "    if node in leafs:\n",
    "        print(node, end=' ')\n",
    "        return leafs[node]\n",
    "    best = plus_inf if player == 'MIN' else minus_inf\n",
    "    for child in graph.neighbours(node): #ili expand_state\n",
    "        result = minimax(graph, child, other_player(player))\n",
    "        if player == 'MIN' and result < best:\n",
    "            best = result\n",
    "        elif player == 'MAX' and result > best:\n",
    "            best = result\n",
    "    return best"
   ]
  },
  {
   "cell_type": "markdown",
   "id": "d82a11c3-36ad-4729-8033-3ba848990b44",
   "metadata": {},
   "source": [
    "# Минимакс со алфа-бета поткастрување"
   ]
  },
  {
   "cell_type": "code",
   "execution_count": 2,
   "id": "1a167eb8-d8f3-4a8b-925f-b248509b2d83",
   "metadata": {},
   "outputs": [],
   "source": [
    "plus_inf = float('inf')\n",
    "minus_inf = float('-inf')"
   ]
  },
  {
   "cell_type": "code",
   "execution_count": 3,
   "id": "e58eea0b-d804-48d0-8084-06b5bd81439f",
   "metadata": {},
   "outputs": [],
   "source": [
    "def minimax_alpha_beta(graph, node, player, alpha=minus_inf, beta=plus_inf):\n",
    "    if node in leafs:\n",
    "        print(node, end=' ')\n",
    "        return leafs[node]\n",
    "    best = plus_inf if player == 'MIN' else minus_inf\n",
    "    for child in graph.neighbours(node):\n",
    "        result = minimax_alpha_beta(graph, child, other_player(player), alpha, beta)\n",
    "        if player == 'MIN':\n",
    "            if result <= alpha:\n",
    "                return result\n",
    "            if result < beta:\n",
    "                beta = result\n",
    "            if result < best:\n",
    "                best = result\n",
    "        elif player == 'MAX':\n",
    "            if result >= beta:\n",
    "                return result\n",
    "            if result > alpha:\n",
    "                alpha = result\n",
    "            if result > best:\n",
    "                best = result\n",
    "    return best"
   ]
  },
  {
   "cell_type": "code",
   "execution_count": null,
   "id": "54143c66-893b-40ff-8ba7-27e8d4d5f1b1",
   "metadata": {},
   "outputs": [],
   "source": [
    "#minimax so dlabochina\n",
    "def minimax_alpha_beta(state, player,alpha=minus_inf, beta=plus_inf, depth=0):\n",
    "    if check_score(state,player)!= 'keep_playing':\n",
    "        return scores[check_score(state)],None \n",
    "    # пример како да се прекине со пребарување после длабочина 3\n",
    "    if depth == 3:\n",
    "        return evaluate_state(state),None  #evaluate_state ustvari e procenkata koj e pobednik\n",
    "    best = plus_inf if player == 'MIN' else minus_inf\n",
    "    best_move = None\n",
    "    symbol='x' if player=='MAX' else 'o'\n",
    "    for next_state, next_move in expand_state(state, player):\n",
    "        result, result_move = minimax(next_state, turn(player),alpha,beta,depth+1)\n",
    "        if player == 'MIN':\n",
    "            if result <= alpha:\n",
    "                return result, best_move\n",
    "            if result < beta:\n",
    "                beta = result\n",
    "            if result < best:\n",
    "                best = result\n",
    "                best_move = move\n",
    "        elif player == 'MAX':\n",
    "            if result >= beta:\n",
    "                return result, best_move\n",
    "            if result > alpha:\n",
    "                alpha = result\n",
    "            if result > best:\n",
    "                best = result\n",
    "                best_move = result_move\n",
    "    return best, best_move"
   ]
  },
  {
   "cell_type": "markdown",
   "id": "dfc7d210-91e3-47f1-aee9-f392361bd77b",
   "metadata": {},
   "source": [
    "# Невронски мрежи"
   ]
  },
  {
   "cell_type": "code",
   "execution_count": 2,
   "id": "0aa7606e-5e2b-4860-93d3-8e1c47da614c",
   "metadata": {},
   "outputs": [],
   "source": [
    "import numpy as np\n",
    "from plotly import graph_objects as go"
   ]
  },
  {
   "cell_type": "code",
   "execution_count": 1,
   "id": "726fa377-808a-4a7a-b049-665da915c3fa",
   "metadata": {},
   "outputs": [],
   "source": [
    "class NeuralNetwork:\n",
    "    def __init__(self):\n",
    "        self.weights = 2 * np.random.random((3, 1)) - 1\n",
    "                                          # (3, 1) => 3 редици, 1 колона\n",
    "        \n",
    "    @staticmethod\n",
    "    def sigmoid(x):\n",
    "        return 1 / (1 + np.exp(-x))\n",
    "    \n",
    "    @staticmethod\n",
    "    def sigmoid_derivative(x):\n",
    "        return x * (1 - x)\n",
    "                       #x                    #y                  \n",
    "    def train(self, training_set_inputs, training_set_outputs, alpha=1, number_of_training_iterations=100): #aplha mozhe da e bilo koj broj, najubavo pogolem ama ne premn\n",
    "        for iteration in range(number_of_training_iterations):\n",
    "            output = self.predict(training_set_inputs) # [y1, y2, y3]\n",
    "            #y'=self.predict(x) go trenirame y taka shto go prakjame x\n",
    "            #error=y-y'\n",
    "            error = training_set_outputs - output # [y1realno -y1, y2realno - y2, y3realno - y3]\n",
    "                # error е матрица - разлика меѓу вистинскиот излези и predicted излези\n",
    "            adjustment = np.dot(training_set_inputs.T, error * self.sigmoid_derivative(output))\n",
    "                # ова го земаме с=здраво за готово\n",
    "                # np.dot <=> множење на матрици\n",
    "            self.weights += alpha * adjustment\n",
    "            \n",
    "    def predict(self, inputs):\n",
    "        return self.sigmoid(np.dot(inputs, self.weights)) # [y1, y2, y3]\n",
    "            # prediction e матрица 3х1 каде секој член е y = f1*w1 + f2*w2 + f3*w3"
   ]
  },
  {
   "cell_type": "code",
   "execution_count": 4,
   "id": "f1f65e1d-1377-49a1-9f23-958eb856e381",
   "metadata": {},
   "outputs": [
    {
     "data": {
      "text/plain": [
       "array([[ 0.83103026],\n",
       "       [-0.42454339],\n",
       "       [-0.46127862]])"
      ]
     },
     "execution_count": 4,
     "metadata": {},
     "output_type": "execute_result"
    }
   ],
   "source": [
    "# Intialise a single neuron neural network. inicijalizacija na nevronska mrezha i nejzinite tezhini\n",
    "neural_network = NeuralNetwork()\n",
    "neural_network.weights"
   ]
  },
  {
   "cell_type": "code",
   "execution_count": 5,
   "id": "0fbdc034-dedc-4bdc-8a04-1a1597223bb7",
   "metadata": {},
   "outputs": [],
   "source": [
    "# The training set. We have 4 examples, each consisting of 3 input values\n",
    "# and 1 output value.\n",
    "training_set_inputs = np.array([\n",
    "    [0, 0, 1],\n",
    "    [1, 1, 1],\n",
    "    [1, 0, 1],\n",
    "    [0, 1, 1],\n",
    "])\n",
    "training_set_outputs = np.array([[0, 1, 1, 0]]).T #transponirana znaci .T"
   ]
  },
  {
   "cell_type": "code",
   "execution_count": 8,
   "id": "91045594-ad9c-4bf9-a501-0befb4f0ba0a",
   "metadata": {},
   "outputs": [],
   "source": [
    "# Train the neural network using a training set.\n",
    "# Do it 10,000 times and make small adjustments each time.\n",
    "neural_network.train(training_set_inputs, training_set_outputs, alpha=0.01, number_of_training_iterations=10000)"
   ]
  },
  {
   "cell_type": "code",
   "execution_count": 7,
   "id": "b5d9bbf8-53e9-45c3-9fad-16bbaa2f08f3",
   "metadata": {},
   "outputs": [
    {
     "data": {
      "text/plain": [
       "array([[ 0.83103026],\n",
       "       [-0.42454339],\n",
       "       [-0.46127862]])"
      ]
     },
     "execution_count": 7,
     "metadata": {},
     "output_type": "execute_result"
    }
   ],
   "source": [
    "neural_network.weights #novite tezhini po treniranje na mrezhata"
   ]
  },
  {
   "cell_type": "code",
   "execution_count": 8,
   "id": "14e645e2-524d-42b0-8b7d-fd68b0a8f1a8",
   "metadata": {},
   "outputs": [
    {
     "data": {
      "text/plain": [
       "array([0.69657273])"
      ]
     },
     "execution_count": 8,
     "metadata": {},
     "output_type": "execute_result"
    }
   ],
   "source": [
    "# Test the neural network with a new situation.\n",
    "new_input = np.array([1, 0, 0])\n",
    "y=neural_network.predict(new_input)\n",
    "y"
   ]
  },
  {
   "cell_type": "code",
   "execution_count": 9,
   "id": "e53c77ea-c034-4d77-afea-05e242925f92",
   "metadata": {},
   "outputs": [
    {
     "data": {
      "text/plain": [
       "1"
      ]
     },
     "execution_count": 9,
     "metadata": {},
     "output_type": "execute_result"
    }
   ],
   "source": [
    "actual_new_neural_network = int(np.round(y))\n",
    "actual_new_neural_network #za da zaokruzhi na 0 ili 1 ako izlezot e 0 ili 1 shto se bara"
   ]
  },
  {
   "cell_type": "code",
   "execution_count": null,
   "id": "dc71a6b5-80a3-455c-9364-0da25c2376c7",
   "metadata": {},
   "outputs": [],
   "source": []
  }
 ],
 "metadata": {
  "kernelspec": {
   "display_name": "Python 3 (ipykernel)",
   "language": "python",
   "name": "python3"
  },
  "language_info": {
   "codemirror_mode": {
    "name": "ipython",
    "version": 3
   },
   "file_extension": ".py",
   "mimetype": "text/x-python",
   "name": "python",
   "nbconvert_exporter": "python",
   "pygments_lexer": "ipython3",
   "version": "3.10.8"
  }
 },
 "nbformat": 4,
 "nbformat_minor": 5
}
