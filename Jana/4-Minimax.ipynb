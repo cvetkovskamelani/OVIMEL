{
 "cells": [
  {
   "cell_type": "markdown",
   "id": "52f96c3a-f618-4e3d-b48d-1299f260d15c",
   "metadata": {
    "tags": []
   },
   "source": [
    "# МИНИМАКС"
   ]
  },
  {
   "cell_type": "markdown",
   "id": "e81b91dc-bfb3-47f6-b8dc-78a8cb1aefde",
   "metadata": {
    "jp-MarkdownHeadingCollapsed": true,
    "tags": []
   },
   "source": [
    "## Граф"
   ]
  },
  {
   "cell_type": "markdown",
   "id": "63d4af62-c858-44ba-9bce-f92e00a01a5a",
   "metadata": {},
   "source": [
    "Правила:\n",
    "1. Во МАХ јазел се апдејтира алфа, во MIN се апдејтира бета\n",
    "2. Вредноста се враќа на родителот, а алфа и бета се дават од родителот до детето\n",
    "3. Ако алфа >= бета, пресечи го моменталниот јазел\n",
    "4. Алфа - најдобрата опција за макс досега; бета - најдобрата опција за мин досега "
   ]
  },
  {
   "cell_type": "code",
   "execution_count": 2,
   "id": "5e3a1ac3-3e61-44b5-b49b-fb994355e540",
   "metadata": {},
   "outputs": [],
   "source": [
    "class Graph():\n",
    "    \n",
    "    def __init__(self):\n",
    "        self.dict = {}\n",
    "    \n",
    "    def add_vertex(self, vertex):\n",
    "        self.dict[vertex] = []\n",
    "        \n",
    "    def add_edge(self, edge, add_reversed=True):\n",
    "        node1, node2 = edge\n",
    "        self.dict[node1].append(node2)\n",
    "        if add_reversed:\n",
    "            self.dict[node2].append(node1)\n",
    "        \n",
    "    def give_nodes(self):\n",
    "        return list(self.dict)\n",
    "    \n",
    "    def give_edges(self):\n",
    "        links = []\n",
    "        for node1 in self.dict:\n",
    "            for node2 in self.dict[node1]:\n",
    "                links.append((node1, node2))\n",
    "        return links\n",
    "    \n",
    "    def give_neighbors(self, node):\n",
    "        return list(self.dict[node])"
   ]
  },
  {
   "cell_type": "code",
   "execution_count": 3,
   "id": "62ed525e-8e11-4028-ade9-8c4909b441b3",
   "metadata": {},
   "outputs": [],
   "source": [
    "g = Graph()\n",
    "for vertex in ['A', 'B', 'C', 'D', 'E', 'F', 'G', 'H', 'I', 'J', 'K', \n",
    "               'L', 'M', 'N', 'O', 'P', 'Q', 'R', 'S', 'T', 'U', 'V']:\n",
    "    g.add_vertex(vertex)\n",
    "for edge in [('A', 'B'), ('A', 'C'), ('A', 'D'), ('B', 'E'), ('B', 'F'), ('C', 'G'), \n",
    "             ('C', 'H'), ('D', 'I'), ('D', 'J'), ('E', 'K'), ('E', 'L'),\n",
    "             ('F', 'M'), ('F', 'N'), ('G', 'O'), ('G', 'P'), ('H', 'Q'), ('H', 'R'),\n",
    "             ('I', 'S'), ('I', 'T'), ('J', 'U'), ('J', 'V')]:\n",
    "    g.add_edge(edge, add_reversed=False)\n",
    "leafs = {'K': 4, 'L': 6, 'M': 7, 'N': 9, 'O': 1, 'P': 2, 'Q': 0, 'R': 1, 'S': 8, 'T': 1, 'U': 9, 'V': 2}"
   ]
  },
  {
   "cell_type": "code",
   "execution_count": 4,
   "id": "8d4a9f5a-512b-44d9-a0be-d31aee730b16",
   "metadata": {},
   "outputs": [
    {
     "data": {
      "text/plain": [
       "[('A', 'B'),\n",
       " ('A', 'C'),\n",
       " ('A', 'D'),\n",
       " ('B', 'E'),\n",
       " ('B', 'F'),\n",
       " ('C', 'G'),\n",
       " ('C', 'H'),\n",
       " ('D', 'I'),\n",
       " ('D', 'J'),\n",
       " ('E', 'K'),\n",
       " ('E', 'L'),\n",
       " ('F', 'M'),\n",
       " ('F', 'N'),\n",
       " ('G', 'O'),\n",
       " ('G', 'P'),\n",
       " ('H', 'Q'),\n",
       " ('H', 'R'),\n",
       " ('I', 'S'),\n",
       " ('I', 'T'),\n",
       " ('J', 'U'),\n",
       " ('J', 'V')]"
      ]
     },
     "execution_count": 4,
     "metadata": {},
     "output_type": "execute_result"
    }
   ],
   "source": [
    "g.give_edges()"
   ]
  },
  {
   "cell_type": "code",
   "execution_count": 5,
   "id": "af4125fd-4063-44c7-af92-e678a64229b3",
   "metadata": {},
   "outputs": [],
   "source": [
    "plus_inf = float('inf')\n",
    "minus_inf = float('-inf')"
   ]
  },
  {
   "cell_type": "code",
   "execution_count": 6,
   "id": "0d17431a-4bee-468d-9515-f843d331568e",
   "metadata": {},
   "outputs": [],
   "source": [
    "def other_player(player):\n",
    "    if player == 'MAX':\n",
    "        return 'MIN'\n",
    "    else:\n",
    "        return 'MAX'"
   ]
  },
  {
   "cell_type": "code",
   "execution_count": 7,
   "id": "8305f23d-1550-4894-a5f4-93374a46e0dd",
   "metadata": {},
   "outputs": [],
   "source": [
    "def minimax(graph, node, player):\n",
    "    # player - player on turn\n",
    "    if node in leafs:\n",
    "        print(node, end=' ')\n",
    "        return leafs[node] # go vrakja score-ot\n",
    "    if player == 'MIN':\n",
    "        best = plus_inf\n",
    "    else:\n",
    "        best = minus_inf\n",
    "        \n",
    "    for child in graph.give_neighbors(node):\n",
    "        result = minimax(graph, child, other_player(player))\n",
    "        # za sekoe dete se odredva minimax od podolnite deca.\n",
    "        # naogjanjeto zavrsva koke stignime do leaf (kraen jazol)\n",
    "        if player == 'MIN' and result < best:\n",
    "            best = result\n",
    "        elif player == 'MAX' and result > best:\n",
    "            best = result\n",
    "    return best # funkcijata go vrakja najdobiot score za odreden jazol"
   ]
  },
  {
   "cell_type": "code",
   "execution_count": 8,
   "id": "7ecdf201-bf95-4942-a002-9d8b45b3827a",
   "metadata": {},
   "outputs": [
    {
     "name": "stdout",
     "output_type": "stream",
     "text": [
      "K L M N O P Q R S T U V "
     ]
    },
    {
     "data": {
      "text/plain": [
       "8"
      ]
     },
     "execution_count": 8,
     "metadata": {},
     "output_type": "execute_result"
    }
   ],
   "source": [
    "minimax(g, 'A', 'MAX')"
   ]
  },
  {
   "cell_type": "code",
   "execution_count": 9,
   "id": "3cd1ee80-27b8-4322-91c0-2b3be46a0070",
   "metadata": {},
   "outputs": [],
   "source": [
    "def minimax_alpha_beta(graph, node, player, alpha=minus_inf, beta=plus_inf):\n",
    "    if node in leafs:\n",
    "        print(node, end=' ')\n",
    "        return leafs[node]\n",
    "    \n",
    "    best = plus_inf if player == 'MIN' else minus_inf\n",
    "    for child in graph.neighbors(node):\n",
    "        result = minimax_alpha_beta(graph, child, other_player(player), alpha, beta)\n",
    "        if player == 'MIN':\n",
    "            if result <= alpha:\n",
    "                return result\n",
    "            if result < beta:\n",
    "                beta = result\n",
    "            if result < best:\n",
    "                best=result"
   ]
  },
  {
   "cell_type": "code",
   "execution_count": 10,
   "id": "356470c1-ed46-49c2-b35c-e461b040c6b4",
   "metadata": {},
   "outputs": [
    {
     "ename": "SyntaxError",
     "evalue": "incomplete input (203128550.py, line 47)",
     "output_type": "error",
     "traceback": [
      "\u001b[0;36m  Cell \u001b[0;32mIn[10], line 47\u001b[0;36m\u001b[0m\n\u001b[0;31m    \u001b[0m\n\u001b[0m    ^\u001b[0m\n\u001b[0;31mSyntaxError\u001b[0m\u001b[0;31m:\u001b[0m incomplete input\n"
     ]
    }
   ],
   "source": [
    "class Game:\n",
    "    def __init__(self, player1, player2):\n",
    "        self.player1 = {\n",
    "            'name': player1[0],\n",
    "            'type': player1[1],\n",
    "            'symbol': player1[2]\n",
    "        }\n",
    "        self.player2 = {\n",
    "            'name': player2[0],\n",
    "            'type': player2[1],\n",
    "            'symbol': player2[2]\n",
    "        }\n",
    "        # self.next_player = self.player1\n",
    "        self.state = [['·', '·', '·'], ['·', '·', '·'], ['·', '·', '·']]\n",
    "        self.scores = {\n",
    "            'x': 1, 'o': -1, 'draw': 0\n",
    "        }\n",
    "        self.reset()\n",
    "        \n",
    "    def reset(self):\n",
    "        self.next_player = self.player1\n",
    "        self.update_score('Na red e', self.next_player)\n",
    "        self.state = [['·', '·', '·'], ['·', '·', '·'], ['·', '·', '·']]\n",
    "        self.evaluated = {}\n",
    "        self.take_turns()\n",
    "        \n",
    "    def player_took_turn(self, x, y):\n",
    "        self.state[y][x] = self.next_player['symbol']\n",
    "        winner = self.check_victory(self.state)\n",
    "        if winner != 'keep_playing':\n",
    "            if winner == 'draw':\n",
    "                self.score.value = 'Nereseno'\n",
    "            else:\n",
    "                self.update_score('Pobednik e', self.next_player)\n",
    "            ewruen\n",
    "        self.next_player = self.player1 if self.next_player == self_player2 else self.player2\n",
    "        self.update_score('Na red e', self.next_player)\n",
    "        self.take_turns()\n",
    "        \n",
    "    def take_turns(self):\n",
    "        if self.next_player['type'] == 'human':\n",
    "            return # cekaj go cekot\n",
    "        else:\n",
    "            self\n",
    "        \n",
    "    def update_score(self, message, player):\n",
    "        "
   ]
  },
  {
   "cell_type": "markdown",
   "id": "902f3179-be2a-4ae7-a3ef-57ef8299b279",
   "metadata": {
    "tags": []
   },
   "source": [
    "## Икс-точка"
   ]
  },
  {
   "cell_type": "code",
   "execution_count": 10,
   "id": "a8d0eb91-dc4d-4539-864c-44ec51d46760",
   "metadata": {},
   "outputs": [],
   "source": [
    "initial_state = (\n",
    "    ('·', '·', '·'),\n",
    "    ('·', '·', '·'),\n",
    "    ('·', '·', '·')\n",
    ")"
   ]
  },
  {
   "cell_type": "code",
   "execution_count": 11,
   "id": "bca456f3-c766-42ab-a02b-67bad104904f",
   "metadata": {},
   "outputs": [],
   "source": [
    "players_info = {\n",
    "    'player1': ['human', 'x'], # e MAX\n",
    "    'player2': ['bot', 'o'] # e MIN\n",
    "}"
   ]
  },
  {
   "cell_type": "code",
   "execution_count": 12,
   "id": "22fadba5-3079-4521-94cc-754328319806",
   "metadata": {},
   "outputs": [],
   "source": [
    "def update_state(state, symbol, position):\n",
    "    row, col = position\n",
    "    state_list = []\n",
    "    for rows in state:\n",
    "        state_list.append(list(rows))\n",
    "    state_list[row][col] = symbol\n",
    "    state_tuple = []\n",
    "    for rows in state_list:\n",
    "        state_tuple.append(tuple(rows))\n",
    "    return tuple(state_tuple)"
   ]
  },
  {
   "cell_type": "code",
   "execution_count": 13,
   "id": "599ec010-b52c-40c5-a6b8-4d5cf4546ea2",
   "metadata": {},
   "outputs": [
    {
     "data": {
      "text/plain": [
       "(('·', '·', '·'), ('x', '·', '·'), ('·', '·', '·'))"
      ]
     },
     "execution_count": 13,
     "metadata": {},
     "output_type": "execute_result"
    }
   ],
   "source": [
    "update_state(initial_state, 'x', (1, 0))"
   ]
  },
  {
   "cell_type": "code",
   "execution_count": 14,
   "id": "6e9b5fcd-9734-4fed-91b6-ecc6d6ef7ad2",
   "metadata": {},
   "outputs": [],
   "source": [
    "# expand state se slucva samo koke na red e robotot?\n",
    "\n",
    "def expand_state(state, symbol):\n",
    "    states = []\n",
    "    state_list = []\n",
    "    for row_index, row in enumerate(state):\n",
    "        state_list.append(list(row))\n",
    "        for col_index, col in enumerate(row):\n",
    "            if col == '·':\n",
    "                position = (row_index, col_index)\n",
    "                states.append(update_state(state, symbol, position))\n",
    "    return states\n",
    "        "
   ]
  },
  {
   "cell_type": "code",
   "execution_count": 15,
   "id": "028d69b1-b323-484b-aadd-b7ee267f1d84",
   "metadata": {},
   "outputs": [
    {
     "data": {
      "text/plain": [
       "[(('x', '·', '·'), ('·', '·', '·'), ('·', '·', '·')),\n",
       " (('·', 'x', '·'), ('·', '·', '·'), ('·', '·', '·')),\n",
       " (('·', '·', 'x'), ('·', '·', '·'), ('·', '·', '·')),\n",
       " (('·', '·', '·'), ('x', '·', '·'), ('·', '·', '·')),\n",
       " (('·', '·', '·'), ('·', 'x', '·'), ('·', '·', '·')),\n",
       " (('·', '·', '·'), ('·', '·', 'x'), ('·', '·', '·')),\n",
       " (('·', '·', '·'), ('·', '·', '·'), ('x', '·', '·')),\n",
       " (('·', '·', '·'), ('·', '·', '·'), ('·', 'x', '·')),\n",
       " (('·', '·', '·'), ('·', '·', '·'), ('·', '·', 'x'))]"
      ]
     },
     "execution_count": 15,
     "metadata": {},
     "output_type": "execute_result"
    }
   ],
   "source": [
    "expand_state(initial_state, 'x')"
   ]
  },
  {
   "cell_type": "code",
   "execution_count": 16,
   "id": "9171365c-51ae-406f-9aef-bc6eb3995643",
   "metadata": {},
   "outputs": [],
   "source": [
    "def check_score(state):\n",
    "    for row in state:\n",
    "        if row[0] == row[1] == row[2] != '·':\n",
    "            return 1 if row[0] == 'x' else -1\n",
    "            \n",
    "    for col_index in range(3):\n",
    "        if state[0][col_index] == state[1][col_index] == state[2][col_index] != '·':\n",
    "            return 1 if state[0][col_index] == 'x' else -1\n",
    "            \n",
    "    if state[0][0] == state[1][1] == state[2][2] != '·':\n",
    "        return 1 if state[0][0] == 'x' else -1\n",
    "    \n",
    "    if state[0][2] == state[1][1] == state[2][0] != '·':\n",
    "        return 1 if state[0][2] == 'x' else -1\n",
    "    \n",
    "    for row in state:\n",
    "        if '·' in row:\n",
    "            return 'keep playing' # kako da napisam deka prodolzva igrata\n",
    "    \n",
    "    return 0 # ako nisto od pogornite ne vazi, znaci e nereseno"
   ]
  },
  {
   "cell_type": "code",
   "execution_count": 17,
   "id": "57652d58-25a0-468c-8a19-d128be36abb9",
   "metadata": {},
   "outputs": [
    {
     "data": {
      "text/plain": [
       "'keep playing'"
      ]
     },
     "execution_count": 17,
     "metadata": {},
     "output_type": "execute_result"
    }
   ],
   "source": [
    "check_score(initial_state)"
   ]
  },
  {
   "cell_type": "code",
   "execution_count": 18,
   "id": "8f768756-52bd-4ba7-9efb-d94fa88e886c",
   "metadata": {},
   "outputs": [
    {
     "data": {
      "text/plain": [
       "-1"
      ]
     },
     "execution_count": 18,
     "metadata": {},
     "output_type": "execute_result"
    }
   ],
   "source": [
    "second_state = (\n",
    "    ('x', 'o', 'x'),\n",
    "    ('x', 'x', '·'),\n",
    "    ('o', 'o', 'o')\n",
    ")\n",
    "check_score(second_state)"
   ]
  },
  {
   "cell_type": "code",
   "execution_count": 19,
   "id": "3c4d9172-4f79-4879-9160-f672d67d669c",
   "metadata": {},
   "outputs": [],
   "source": [
    "def other_player(player):\n",
    "    return 'MIN' if player == 'MAX' else 'MAX'"
   ]
  },
  {
   "cell_type": "code",
   "execution_count": 20,
   "id": "dd5f1a65-e39b-42e5-83f6-d648eb012b8c",
   "metadata": {},
   "outputs": [],
   "source": [
    "plus_inf = float('inf')\n",
    "minus_inf = float('-inf')"
   ]
  },
  {
   "cell_type": "code",
   "execution_count": 21,
   "id": "8f1c4335-ba78-462f-9f73-716b61d5bce9",
   "metadata": {},
   "outputs": [],
   "source": [
    "def minimax_alpha_beta(state, player, alpha=minus_inf, beta=plus_inf):\n",
    "    if check_score(state) != 'keep playing':\n",
    "        return check_score(state), state\n",
    "    \n",
    "    best_move = None\n",
    "    best = plus_inf if player == 'MIN' else minus_inf\n",
    "    symbol = 'x' if player == 'MAX' else 'o'\n",
    "    \n",
    "    for next_state in expand_state(state, symbol):\n",
    "        result, result_move = minimax_alpha_beta(next_state, other_player(player), alpha, beta)\n",
    "        if player == 'MIN':\n",
    "            if result <= alpha:\n",
    "                return result, best_move # nebitno e, max sig nema ova da go odberi\n",
    "            if result < beta:\n",
    "                beta = result\n",
    "            if result < best:\n",
    "                best = result\n",
    "                best_move = result_move\n",
    "        elif player == 'MAX':\n",
    "            if result >= beta:\n",
    "                return result, best_move\n",
    "            if result > alpha:\n",
    "                alpha = result\n",
    "            if result > best:\n",
    "                best = result\n",
    "                best_move = result_move\n",
    "    return best, best_move"
   ]
  },
  {
   "cell_type": "code",
   "execution_count": 22,
   "id": "1fa45959-2e6e-46e7-b92d-b638371c51c8",
   "metadata": {},
   "outputs": [
    {
     "name": "stdout",
     "output_type": "stream",
     "text": [
      "Krajnata sostojba ke e\n",
      "('o', 'o', 'x')\n",
      "('x', 'o', 'o')\n",
      "('o', 'x', 'x')\n",
      "i score ke bidi {0}\n"
     ]
    }
   ],
   "source": [
    "second_state = (\n",
    "    ('o', '·', 'x'),\n",
    "    ('x', 'o', 'o'),\n",
    "    ('o', '·', '·')\n",
    ")\n",
    "best_outcome = minimax_alpha_beta(second_state, 'MAX')\n",
    "print('Krajnata sostojba ke e')\n",
    "for row in best_outcome[1]:\n",
    "    print(row)\n",
    "print('i score ke bidi', {best_outcome[0]})"
   ]
  },
  {
   "cell_type": "markdown",
   "id": "dedadbd7-9ee7-4e6c-8e8d-8624c2ab0287",
   "metadata": {
    "jp-MarkdownHeadingCollapsed": true,
    "tags": []
   },
   "source": [
    "## Игра Амазон"
   ]
  },
  {
   "cell_type": "code",
   "execution_count": 49,
   "id": "cf2cf4a4-fcdb-4083-8071-aab792b4652e",
   "metadata": {},
   "outputs": [],
   "source": [
    "N = 5\n",
    "state = (\n",
    "('·', '·', '·', '·', 'S'),\n",
    "('·', 'x', '·', '·', 'x'),\n",
    "('·', 'P', 'x', 'x', 'x'),\n",
    "('·', '·', 'x', '·', 'x'),\n",
    "('·', '·', '·', '·', '·'))"
   ]
  },
  {
   "cell_type": "code",
   "execution_count": 50,
   "id": "ded6e223-5e0c-4627-8ad4-e90116950b18",
   "metadata": {},
   "outputs": [],
   "source": [
    "def is_valid(state, position):\n",
    "    x, y = position\n",
    "    if 0 <= x < N and 0 <= y < N:\n",
    "        if state[x][y] == '·':\n",
    "            return True\n",
    "        else:\n",
    "            return False\n",
    "    else:\n",
    "        return False"
   ]
  },
  {
   "cell_type": "code",
   "execution_count": 51,
   "id": "1ebb564f-f420-4c02-a515-e25dc86700d0",
   "metadata": {},
   "outputs": [
    {
     "data": {
      "text/plain": [
       "True"
      ]
     },
     "execution_count": 51,
     "metadata": {},
     "output_type": "execute_result"
    }
   ],
   "source": [
    "is_valid(state, (1, 2))"
   ]
  },
  {
   "cell_type": "code",
   "execution_count": 52,
   "id": "22a7aa23-967e-4ef3-a1b1-1bdfc44d4bcb",
   "metadata": {},
   "outputs": [],
   "source": [
    "#possible_moves_P = possible_moves_S = 0\n",
    "#possible\n",
    "\n",
    "def who_wins(state):\n",
    "    possible_P = []\n",
    "    possible_S = []\n",
    "\n",
    "    for row_index, row in enumerate(state):\n",
    "        for col_index, element in enumerate(row):\n",
    "            if element == 'S':\n",
    "                position_S_tuple =(row_index, col_index) # = 2, 1\n",
    "            if element == 'P':\n",
    "                position_P_tuple = (row_index, col_index) # = 0, 4\n",
    "    # print(position_S_tuple, position_P_tuple)\n",
    "\n",
    "    directions = ((0, 1), (1, 0), (0, -1), (-1, 0), (1, 1), (1, -1), (-1, 1), (-1, -1))\n",
    "    for move_x, move_y in directions:\n",
    "        position_S = list(position_S_tuple) # 2, 1\n",
    "        position_P = list(position_P_tuple) # 0, 4\n",
    "        position_S[0] += move_x # 2 2\n",
    "        position_S[1] += move_y\n",
    "        \n",
    "        while is_valid(state, position_S):\n",
    "            possible_S.append(tuple(position_S)) # [(2, 2), (2, 3), (2, 4),...()]\n",
    "            position_S[0] += move_x\n",
    "            position_S[1] += move_y\n",
    "\n",
    "        position_P[0] += move_x # 1, 4\n",
    "        position_P[1] += move_y\n",
    "        while is_valid(state, position_P):\n",
    "            possible_P.append(tuple(position_P))\n",
    "            position_P[0] += move_x\n",
    "            position_P[1] += move_y\n",
    "    \n",
    "    print(f'P ima {len(possible_P)} mozni potezi')\n",
    "    print(possible_P)\n",
    "    print()\n",
    "    print(f'S ima {len(possible_S)} mozni potezi')\n",
    "    print(possible_S)\n",
    "            "
   ]
  },
  {
   "cell_type": "code",
   "execution_count": 55,
   "id": "176798d8-65ac-4ba9-b7f9-6c0bc23cb10d",
   "metadata": {},
   "outputs": [
    {
     "name": "stdout",
     "output_type": "stream",
     "text": [
      "P ima 7 mozni potezi\n",
      "[(3, 1), (4, 1), (2, 0), (3, 0), (1, 2), (0, 3), (1, 0)]\n",
      "\n",
      "S ima 5 mozni potezi\n",
      "[(0, 3), (0, 2), (0, 1), (0, 0), (1, 3)]\n"
     ]
    }
   ],
   "source": [
    "who_wins(state)"
   ]
  },
  {
   "cell_type": "code",
   "execution_count": null,
   "id": "da97773b-b4be-4290-9900-b71f6447ea02",
   "metadata": {},
   "outputs": [],
   "source": []
  },
  {
   "cell_type": "code",
   "execution_count": null,
   "id": "0ee3ea0f-f913-4d02-b546-ef8b5cd38929",
   "metadata": {},
   "outputs": [],
   "source": []
  },
  {
   "cell_type": "code",
   "execution_count": null,
   "id": "f6d8bde5-c775-4a33-9cc4-141ae6b9dd50",
   "metadata": {},
   "outputs": [],
   "source": []
  },
  {
   "cell_type": "code",
   "execution_count": null,
   "id": "291a6fe0-51f6-42e3-ace2-359f436fd225",
   "metadata": {},
   "outputs": [],
   "source": []
  },
  {
   "cell_type": "code",
   "execution_count": null,
   "id": "4436b60c-2dc7-410d-a709-44cd2480a791",
   "metadata": {},
   "outputs": [],
   "source": []
  },
  {
   "cell_type": "code",
   "execution_count": null,
   "id": "d47a2845-0394-4770-913a-4e9738c33da6",
   "metadata": {},
   "outputs": [],
   "source": []
  },
  {
   "cell_type": "markdown",
   "id": "25565458-6b9c-4ea6-a82a-2c8d87fc5e5b",
   "metadata": {},
   "source": [
    "evristika: ako poleto pobrzo se stiga so crna kralica, nejzino e, inaku e na belata kralica"
   ]
  },
  {
   "cell_type": "code",
   "execution_count": 58,
   "id": "c2b3682b-81ce-4094-96af-4654dae1b73d",
   "metadata": {},
   "outputs": [],
   "source": [
    "test_state = (\n",
    "('·', '·', '·', '·', 'S'),\n",
    "('·', '·', '·', '·', '·'),\n",
    "('·', 'P', '·', '·', '·'),\n",
    "('·', '·', '·', '·', '·'),\n",
    "('·', '·', '·', '·', '·'))\n",
    "\n",
    "state = (\n",
    "('·', '·', '·', '·', 'S'),\n",
    "('·', 'x', '·', '·', 'x'),\n",
    "('·', 'P', 'x', 'x', 'x'),\n",
    "('·', '·', 'x', '·', 'x'),\n",
    "('·', '·', '·', '·', '·'))\n",
    "\n",
    "goal_state = (\n",
    "('·', '·', 'P', '·', 'S'),\n",
    "('·', 'x', '·', '·', 'x'),\n",
    "('·', '·', 'x', 'x', 'x'),\n",
    "('·', '·', 'x', '·', 'x'),\n",
    "('·', '·', '·', '·', '·'))"
   ]
  },
  {
   "cell_type": "code",
   "execution_count": 59,
   "id": "4c0ee3fa-98a4-416a-a5f6-1365241e47e9",
   "metadata": {},
   "outputs": [],
   "source": [
    "def find_queen_position(state, queen_color):\n",
    "    symbol = 'S' if queen_color == 'white' else 'P'\n",
    "    for row_index, row in enumerate(state):\n",
    "        for col_index, element in enumerate(row):\n",
    "            if element == symbol:\n",
    "                return (row_index, col_index)"
   ]
  },
  {
   "cell_type": "code",
   "execution_count": 60,
   "id": "b9981f2b-bf55-46e3-9b59-e37edc7b2187",
   "metadata": {},
   "outputs": [
    {
     "data": {
      "text/plain": [
       "(2, 1)"
      ]
     },
     "execution_count": 60,
     "metadata": {},
     "output_type": "execute_result"
    }
   ],
   "source": [
    "find_queen_position(state, 'black')"
   ]
  },
  {
   "cell_type": "code",
   "execution_count": 61,
   "id": "39c5b40b-c69d-4fff-93f2-13013c667241",
   "metadata": {},
   "outputs": [],
   "source": [
    "def is_valid(state, position, N):\n",
    "    x, y = position\n",
    "    if 0 <= x < N and 0 <= y < N:\n",
    "        return True if state[x][y] == '·' else False\n",
    "    else:\n",
    "        return False"
   ]
  },
  {
   "cell_type": "code",
   "execution_count": 62,
   "id": "83714f05-1ecd-47ab-94fa-616839d0d91e",
   "metadata": {},
   "outputs": [
    {
     "data": {
      "text/plain": [
       "True"
      ]
     },
     "execution_count": 62,
     "metadata": {},
     "output_type": "execute_result"
    }
   ],
   "source": [
    "is_valid(state, (0, 1), N=5)"
   ]
  },
  {
   "cell_type": "code",
   "execution_count": 65,
   "id": "4c6d0b93-b66b-48bf-8df3-c19b6b4f1a02",
   "metadata": {},
   "outputs": [],
   "source": [
    "def move_queen(state, goal_position, queen_color):\n",
    "    initial_position = find_queen_position(state, queen_color)\n",
    "    symbol = 'S' if queen_color == 'white' else 'P'\n",
    "    x1, y1 = initial_position\n",
    "    x2, y2 = goal_position\n",
    "    state_list = list(list(row) for row in state)\n",
    "    state_list[x1][y1] = '·'\n",
    "    state_list[x2][y2] = symbol\n",
    "    return tuple(tuple(row) for row in state_list)"
   ]
  },
  {
   "cell_type": "code",
   "execution_count": 66,
   "id": "ac0beba7-708e-43dc-8319-78cdb9de7d1a",
   "metadata": {},
   "outputs": [],
   "source": [
    "def place_arrow(state, arrow_position):\n",
    "    x, y = arrow_position\n",
    "    state_list = list(list(row) for row in state)\n",
    "    state_list[x][y] = 'x'\n",
    "    return tuple(tuple(row) for row in state_list)"
   ]
  },
  {
   "cell_type": "code",
   "execution_count": 72,
   "id": "0c45855a-a509-4775-8e04-27dcdb4c2555",
   "metadata": {},
   "outputs": [
    {
     "data": {
      "text/plain": [
       "(('S', '·', '·', '·', '·'),\n",
       " ('·', 'x', '·', '·', 'x'),\n",
       " ('·', 'P', 'x', 'x', 'x'),\n",
       " ('·', '·', 'x', '·', 'x'),\n",
       " ('·', '·', '·', '·', '·'))"
      ]
     },
     "execution_count": 72,
     "metadata": {},
     "output_type": "execute_result"
    }
   ],
   "source": [
    "move_queen(state, (0, 0), 'white')"
   ]
  },
  {
   "cell_type": "code",
   "execution_count": 80,
   "id": "5891a6cd-4b82-4cdb-9dcf-93d569a385ca",
   "metadata": {},
   "outputs": [],
   "source": [
    "def expand_state(state, queen_color, N, with_arrows=False): # queen_color e kralicata koja treba da mrda\n",
    "    states_list = []\n",
    "    #qx, qy = find_queen_position(state, queen_color)\n",
    "    movements = [(0, 1), (0, -1), (1, 0), (-1, 0), (-1, -1), (1, 1), (1, -1), (-1, 1)]\n",
    "    for movement_x, movement_y in movements:\n",
    "        qx, qy = find_queen_position(state, queen_color)\n",
    "        while is_valid(state, (qx + movement_x, qy + movement_y), N):\n",
    "            states_list.append(\n",
    "                ((move_queen(state, (qx + movement_x, qy + movement_y), queen_color)), \n",
    "                (qx + movement_x, qy + movement_y)))\n",
    "            qx += movement_x \n",
    "            qy += movement_y\n",
    "            \n",
    "    if not with_arrows:\n",
    "        return states_list\n",
    "    \n",
    "    states_list_with_arrows = []\n",
    "    for state_index, (expanded_state, queen_position) in enumerate(states_list):\n",
    "        for movement_x, movement_y in movements:\n",
    "            qx, qy = find_queen_position(expanded_state, queen_color)\n",
    "            while is_valid(state, (qx + movement_x, qy + movement_y), N):\n",
    "                states_list_with_arrows.append((place_arrow(expanded_state, (qx + movement_x, qy + movement_y)), states_list[state_index][1]))\n",
    "                qx += movement_x \n",
    "                qy += movement_y\n",
    "\n",
    "    return states_list_with_arrows"
   ]
  },
  {
   "cell_type": "code",
   "execution_count": 81,
   "id": "8d5c5599-4237-4cc6-bf3a-88387a4fe441",
   "metadata": {},
   "outputs": [
    {
     "data": {
      "text/plain": [
       "[((('·', '·', '·', '·', 'S'),\n",
       "   ('·', '·', '·', '·', '·'),\n",
       "   ('·', '·', 'P', '·', '·'),\n",
       "   ('·', '·', '·', '·', '·'),\n",
       "   ('·', '·', '·', '·', '·')),\n",
       "  (2, 2)),\n",
       " ((('·', '·', '·', '·', 'S'),\n",
       "   ('·', '·', '·', '·', '·'),\n",
       "   ('·', '·', '·', 'P', '·'),\n",
       "   ('·', '·', '·', '·', '·'),\n",
       "   ('·', '·', '·', '·', '·')),\n",
       "  (2, 3)),\n",
       " ((('·', '·', '·', '·', 'S'),\n",
       "   ('·', '·', '·', '·', '·'),\n",
       "   ('·', '·', '·', '·', 'P'),\n",
       "   ('·', '·', '·', '·', '·'),\n",
       "   ('·', '·', '·', '·', '·')),\n",
       "  (2, 4))]"
      ]
     },
     "execution_count": 81,
     "metadata": {},
     "output_type": "execute_result"
    }
   ],
   "source": [
    "expand_state(test_state, 'black', 5)[:3]"
   ]
  },
  {
   "cell_type": "code",
   "execution_count": 82,
   "id": "bb5fc3bf-4665-4c3e-9c94-473748a87926",
   "metadata": {},
   "outputs": [
    {
     "data": {
      "text/plain": [
       "[((('·', '·', 'S'), ('·', 'P', 'x'), ('·', '·', 'x')), (0, 2)),\n",
       " ((('S', '·', '·'), ('·', 'P', 'x'), ('·', '·', 'x')), (0, 0)),\n",
       " ((('·', '·', '·'), ('S', 'P', 'x'), ('·', '·', 'x')), (1, 0))]"
      ]
     },
     "execution_count": 82,
     "metadata": {},
     "output_type": "execute_result"
    }
   ],
   "source": [
    "expand_state(small_state, 'white', 3, False)"
   ]
  },
  {
   "cell_type": "code",
   "execution_count": 83,
   "id": "fd52f19b-6087-4673-bbc4-16d6363b4ae9",
   "metadata": {},
   "outputs": [],
   "source": [
    "# POPRAJ!!!\n",
    "# if position1 i position2 se na ista redica/kolona/dijagonala => return 1 else return 2\n",
    "\n",
    "def chebyshev(position_1, position_2):\n",
    "    x1, y1 = position_1\n",
    "    x2, y2 = position_2\n",
    "    return max(abs(x1 - x2), abs(y1 - y2))"
   ]
  },
  {
   "cell_type": "code",
   "execution_count": 84,
   "id": "22bfb1d0-eb2f-494a-87bf-ceb9f2abefd6",
   "metadata": {},
   "outputs": [
    {
     "data": {
      "text/plain": [
       "3"
      ]
     },
     "execution_count": 84,
     "metadata": {},
     "output_type": "execute_result"
    }
   ],
   "source": [
    "chebyshev((0, 0), (3, 3))"
   ]
  },
  {
   "cell_type": "code",
   "execution_count": 85,
   "id": "5b8e51b9-7b44-458e-afe5-81a8b3d0868a",
   "metadata": {},
   "outputs": [],
   "source": [
    "import heapq\n",
    "\n",
    "def a_star_search(initial_state, goal_state, queen_color, N):\n",
    "    # sekoe dvizenje ima cena 1\n",
    "    goal_position = find_queen_position(goal_state, queen_color)\n",
    "    queue = [((0, 0), [initial_state])]\n",
    "    heapq.heapify(queue)\n",
    "    expanded = set()\n",
    "    \n",
    "    while queue:\n",
    "        current_weight_tuple, list_to_expand = heapq.heappop(queue)\n",
    "        current_a_star_weight, current_weight = current_weight_tuple\n",
    "        state_to_expand = list_to_expand[-1]\n",
    "        print(state_to_expand)\n",
    "        \n",
    "        if state_to_expand == goal_state:\n",
    "            return current_weight, list_to_expand\n",
    "        \n",
    "        if state_to_expand not in expanded:\n",
    "            for next_state, next_position in expand_state(state_to_expand, queen_color, N, False):\n",
    "            # expand_state go gledame bez streli oti inaku mn vreme ke fati\n",
    "                if next_state not in expanded:\n",
    "                    next_weight = current_weight + 1 # weight = 1 megu site cekori\n",
    "                    next_a_star_weight = next_weight + chebyshev(next_position, goal_position)\n",
    "                    heapq.heappush(queue, ((next_a_star_weight, next_weight), list_to_expand + [next_state]))\n",
    "            expanded.add(state_to_expand)"
   ]
  },
  {
   "cell_type": "code",
   "execution_count": 86,
   "id": "34d421ac-680d-47a7-8cd8-ea645139c1bd",
   "metadata": {},
   "outputs": [],
   "source": [
    "small_state = (\n",
    "('·', 'S', '·'),\n",
    "('·', 'P', 'x'),\n",
    "('·', '·', 'x')\n",
    ")\n",
    "small_goal_state = (\n",
    "('·', '·', '·'),\n",
    "('·', 'P', 'x'),\n",
    "('S', '·', 'x')\n",
    ")"
   ]
  },
  {
   "cell_type": "code",
   "execution_count": 87,
   "id": "be048f8e-7ed3-4651-9886-12db63a405d1",
   "metadata": {},
   "outputs": [
    {
     "name": "stdout",
     "output_type": "stream",
     "text": [
      "(('·', 'S', '·'), ('·', 'P', 'x'), ('·', '·', 'x'))\n",
      "(('·', '·', '·'), ('S', 'P', 'x'), ('·', '·', 'x'))\n",
      "(('·', '·', '·'), ('·', 'P', 'x'), ('S', '·', 'x'))\n"
     ]
    },
    {
     "data": {
      "text/plain": [
       "(2,\n",
       " [(('·', 'S', '·'), ('·', 'P', 'x'), ('·', '·', 'x')),\n",
       "  (('·', '·', '·'), ('S', 'P', 'x'), ('·', '·', 'x')),\n",
       "  (('·', '·', '·'), ('·', 'P', 'x'), ('S', '·', 'x'))])"
      ]
     },
     "execution_count": 87,
     "metadata": {},
     "output_type": "execute_result"
    }
   ],
   "source": [
    "a_star_search(small_state, small_goal_state, 'white', 3)"
   ]
  },
  {
   "cell_type": "code",
   "execution_count": 88,
   "id": "583a588b-9756-4f66-a618-22e72dab1a27",
   "metadata": {},
   "outputs": [],
   "source": [
    "def who_owns_square(state, square_position, N):\n",
    "    x, y = square_position\n",
    "    number_of_moves = []\n",
    "    for queen_color in ['white', 'black']:\n",
    "        goal_state = move_queen(state, square_position, queen_color)\n",
    "        number_of_moves.append(a_star_search(state, goal_state, queen_color, N)[0])\n",
    "        \n",
    "    if number_of_moves[0] > number_of_moves[1]: # ako white praj poke moves za da stigni do istoto mesto\n",
    "        return -1\n",
    "    elif number_of_moves[0] > number_of_moves[1]:\n",
    "        return 1\n",
    "    else:\n",
    "        return 0\n",
    "        "
   ]
  },
  {
   "cell_type": "code",
   "execution_count": 89,
   "id": "bcd589b3-6102-4559-9d25-4359f407b351",
   "metadata": {},
   "outputs": [
    {
     "name": "stdout",
     "output_type": "stream",
     "text": [
      "(('·', 'S', '·'), ('·', 'P', 'x'), ('·', '·', 'x'))\n",
      "(('S', '·', '·'), ('·', 'P', 'x'), ('·', '·', 'x'))\n",
      "(('·', 'S', '·'), ('·', 'P', 'x'), ('·', '·', 'x'))\n",
      "(('P', 'S', '·'), ('·', '·', 'x'), ('·', '·', 'x'))\n"
     ]
    },
    {
     "data": {
      "text/plain": [
       "0"
      ]
     },
     "execution_count": 89,
     "metadata": {},
     "output_type": "execute_result"
    }
   ],
   "source": [
    "who_owns_square(small_state, (0, 0), 3)"
   ]
  },
  {
   "cell_type": "code",
   "execution_count": 90,
   "id": "d17accf8-2cb3-48ec-87cd-575f10b4f335",
   "metadata": {},
   "outputs": [],
   "source": [
    "def who_is_at_advantage(state, N):\n",
    "    total_score = 0\n",
    "    for row_index, row in enumerate(state):\n",
    "        for col_index, element in enumerate(row):\n",
    "            if element == '·':\n",
    "                score = who_owns_square(state, (row_index, col_index), N)\n",
    "                total_score += score # ke e <0 ako black ima poke polinja, ke e >0 ako white ima poke polinja\n",
    "    return total_score\n",
    "                    "
   ]
  },
  {
   "cell_type": "code",
   "execution_count": 91,
   "id": "bec556cb-c294-473d-a6fb-aa9a26c00704",
   "metadata": {},
   "outputs": [
    {
     "name": "stdout",
     "output_type": "stream",
     "text": [
      "(('·', 'S', '·'), ('·', 'P', 'x'), ('·', '·', 'x'))\n",
      "(('S', '·', '·'), ('·', 'P', 'x'), ('·', '·', 'x'))\n",
      "(('·', 'S', '·'), ('·', 'P', 'x'), ('·', '·', 'x'))\n",
      "(('P', 'S', '·'), ('·', '·', 'x'), ('·', '·', 'x'))\n",
      "(('·', 'S', '·'), ('·', 'P', 'x'), ('·', '·', 'x'))\n",
      "(('·', '·', 'S'), ('·', 'P', 'x'), ('·', '·', 'x'))\n",
      "(('·', 'S', '·'), ('·', 'P', 'x'), ('·', '·', 'x'))\n",
      "(('·', 'S', 'P'), ('·', '·', 'x'), ('·', '·', 'x'))\n",
      "(('·', 'S', '·'), ('·', 'P', 'x'), ('·', '·', 'x'))\n",
      "(('·', '·', '·'), ('S', 'P', 'x'), ('·', '·', 'x'))\n",
      "(('·', 'S', '·'), ('·', 'P', 'x'), ('·', '·', 'x'))\n",
      "(('·', 'S', '·'), ('P', '·', 'x'), ('·', '·', 'x'))\n",
      "(('·', 'S', '·'), ('·', 'P', 'x'), ('·', '·', 'x'))\n",
      "(('·', '·', '·'), ('S', 'P', 'x'), ('·', '·', 'x'))\n",
      "(('·', '·', '·'), ('·', 'P', 'x'), ('S', '·', 'x'))\n",
      "(('·', 'S', '·'), ('·', 'P', 'x'), ('·', '·', 'x'))\n",
      "(('·', 'S', '·'), ('·', '·', 'x'), ('P', '·', 'x'))\n",
      "(('·', 'S', '·'), ('·', 'P', 'x'), ('·', '·', 'x'))\n",
      "(('·', '·', '·'), ('S', 'P', 'x'), ('·', '·', 'x'))\n",
      "(('·', '·', '·'), ('·', 'P', 'x'), ('·', 'S', 'x'))\n",
      "(('·', 'S', '·'), ('·', 'P', 'x'), ('·', '·', 'x'))\n",
      "(('·', 'S', '·'), ('·', '·', 'x'), ('·', 'P', 'x'))\n"
     ]
    },
    {
     "data": {
      "text/plain": [
       "-2"
      ]
     },
     "execution_count": 91,
     "metadata": {},
     "output_type": "execute_result"
    }
   ],
   "source": [
    "who_is_at_advantage(small_state, 3)"
   ]
  },
  {
   "cell_type": "markdown",
   "id": "2eecc015-b5e8-470e-9836-058b73701a90",
   "metadata": {
    "tags": []
   },
   "source": [
    "## Икс-точка 2"
   ]
  },
  {
   "cell_type": "code",
   "execution_count": 1,
   "id": "bef5e476-7518-44ed-8d16-159e5c4f0fe3",
   "metadata": {},
   "outputs": [],
   "source": [
    "initial_state = [\n",
    "    ['·', '·', '·'],\n",
    "    ['·', '·', '·'],\n",
    "    ['·', '·', '·']\n",
    "]"
   ]
  },
  {
   "cell_type": "code",
   "execution_count": 2,
   "id": "c1e6cb37-29d8-42a3-bafd-60bb7bcab069",
   "metadata": {},
   "outputs": [],
   "source": [
    "def check_score(state):\n",
    "    for row in range(3):\n",
    "        if state[row][0] == state[row][1] == state[row][2]:\n",
    "            return state[row][0] # return simbolo sho pobedi\n",
    "    for col in range(3):\n",
    "        if state[0][col] == state[1][col] == state[2][col]:\n",
    "            return state[0][col]\n",
    "    if state[0][0] == state[1][1] == state[2][2]:\n",
    "        return state[0][0]\n",
    "    if state[0][2] == state[1][1] == state[2][0]:\n",
    "        return state[0][2]\n",
    "    for row in state:\n",
    "        if '·' in row:\n",
    "            return 'keep playing'\n",
    "    return 'draw'"
   ]
  },
  {
   "cell_type": "code",
   "execution_count": 3,
   "id": "debabc85-66d9-4963-ba7f-a60ebf899fcf",
   "metadata": {},
   "outputs": [
    {
     "data": {
      "text/plain": [
       "'x'"
      ]
     },
     "execution_count": 3,
     "metadata": {},
     "output_type": "execute_result"
    }
   ],
   "source": [
    "state=[\n",
    "    ['x', '·', '·'],\n",
    "    ['·', 'x', '·'],\n",
    "    ['·', '·', 'x']\n",
    "]\n",
    "check_score(state)"
   ]
  },
  {
   "cell_type": "code",
   "execution_count": 4,
   "id": "448709e8-c80e-4e46-bf0d-519e3fe53aa5",
   "metadata": {},
   "outputs": [],
   "source": [
    "import copy\n",
    "\n",
    "def expand_state(state, player_in_turn):\n",
    "    symbol_in_turn = 'x' if player_in_turn == 'MAX' else 'o'\n",
    "    states = []\n",
    "    for row_i, row in enumerate(state):\n",
    "        for col_i, col in enumerate(row):\n",
    "            if state[row_i][col_i] == '·':\n",
    "                pom_state = copy.deepcopy(state)\n",
    "                pom_state[row_i][col_i] = symbol_in_turn\n",
    "                states.append((pom_state, (row_i, col_i)))\n",
    "    return states"
   ]
  },
  {
   "cell_type": "code",
   "execution_count": 5,
   "id": "dd43b11a-3d56-4295-876f-4dd483ed8258",
   "metadata": {},
   "outputs": [
    {
     "ename": "NameError",
     "evalue": "name 'end_state' is not defined",
     "output_type": "error",
     "traceback": [
      "\u001b[0;31m---------------------------------------------------------------------------\u001b[0m",
      "\u001b[0;31mNameError\u001b[0m                                 Traceback (most recent call last)",
      "Cell \u001b[0;32mIn[5], line 1\u001b[0m\n\u001b[0;32m----> 1\u001b[0m expand_state(\u001b[43mend_state\u001b[49m, \u001b[38;5;124m'\u001b[39m\u001b[38;5;124mMIN\u001b[39m\u001b[38;5;124m'\u001b[39m)\n",
      "\u001b[0;31mNameError\u001b[0m: name 'end_state' is not defined"
     ]
    }
   ],
   "source": [
    "expand_state(end_state, 'MIN')"
   ]
  },
  {
   "cell_type": "code",
   "execution_count": 6,
   "id": "3f0af506-17bc-4e55-b94c-ffd43c120d44",
   "metadata": {},
   "outputs": [],
   "source": [
    "scores = {'x': 1, 'o': -1, 'draw': 0}"
   ]
  },
  {
   "cell_type": "code",
   "execution_count": 7,
   "id": "8e721dc6-f82e-4b68-8f11-fdf71d346065",
   "metadata": {},
   "outputs": [],
   "source": [
    "def other_player(player):\n",
    "    return 'MAX' if player == 'MIN' else 'MIN'"
   ]
  },
  {
   "cell_type": "code",
   "execution_count": 8,
   "id": "ce7053a1-beed-4d67-a09b-fb8a2e60a9df",
   "metadata": {},
   "outputs": [],
   "source": [
    "def minimax_alpha_beta(state, player, alpha=-2, beta=2):\n",
    "    if check_score(state) != 'keep playing':\n",
    "        return scores[check_score(state)], None\n",
    "    \n",
    "    best_move = None\n",
    "    best = 2 if player == 'MIN' else -2\n",
    "    symbol = 'x' if player == 'MAX' else 'o'\n",
    "    \n",
    "    for next_state, next_move in expand_state(state, player):\n",
    "        result, _ = minimax_alpha_beta(next_state, other_player(player), alpha, beta)\n",
    "        if player == 'MIN':\n",
    "            if result <= alpha:\n",
    "                return result, best_move\n",
    "            if result < beta:\n",
    "                beta = result\n",
    "            if result < best:\n",
    "                best = result\n",
    "                best_move = next_move\n",
    "        elif player == 'MAX':\n",
    "            if result >= beta:\n",
    "                return result, best_move\n",
    "            if result > alpha:\n",
    "                alpha = result\n",
    "            if result > best:\n",
    "                best = result\n",
    "                best_move = next_move\n",
    "    return best, best_move"
   ]
  },
  {
   "cell_type": "code",
   "execution_count": 9,
   "id": "7e28864b-410b-4c3f-a52a-19832ca0f781",
   "metadata": {},
   "outputs": [
    {
     "data": {
      "text/plain": [
       "(1, (1, 1))"
      ]
     },
     "execution_count": 9,
     "metadata": {},
     "output_type": "execute_result"
    }
   ],
   "source": [
    "state = [\n",
    "    ['o', 'x', 'x'],\n",
    "    ['x', '·', 'o'],\n",
    "    ['o', 'x', 'o']\n",
    "]\n",
    "minimax_alpha_beta(state, 'MAX')"
   ]
  },
  {
   "cell_type": "markdown",
   "id": "275d2752-2da4-40b0-abf4-207cb799cad7",
   "metadata": {
    "tags": []
   },
   "source": [
    "## Connect4"
   ]
  },
  {
   "cell_type": "code",
   "execution_count": 32,
   "id": "0e0d2857-45ac-4752-8830-a18c315e0a38",
   "metadata": {},
   "outputs": [],
   "source": [
    "from time import sleep\n",
    "from collections import deque\n",
    "from copy import deepcopy\n",
    "from plotly import graph_objects as go\n",
    "import ipywidgets as widgets\n",
    "from IPython.display import display"
   ]
  },
  {
   "cell_type": "code",
   "execution_count": 74,
   "id": "f71dc360-1b95-4a69-8527-7c0bd240689c",
   "metadata": {},
   "outputs": [
    {
     "data": {
      "application/vnd.jupyter.widget-view+json": {
       "model_id": "a7cb7a4738d445e587bf16c28134f0a6",
       "version_major": 2,
       "version_minor": 0
      },
      "text/plain": [
       "VBox(children=(HBox(children=(Button(description='Ресетирај', style=ButtonStyle()), HTML(value='', description…"
      ]
     },
     "metadata": {},
     "output_type": "display_data"
    },
    {
     "ename": "TypeError",
     "evalue": "'tuple' object does not support item assignment",
     "output_type": "error",
     "traceback": [
      "\u001b[1;31m---------------------------------------------------------------------------\u001b[0m",
      "\u001b[1;31mTypeError\u001b[0m                                 Traceback (most recent call last)",
      "Cell \u001b[1;32mIn [74], line 168\u001b[0m\n\u001b[0;32m    161\u001b[0m                         \u001b[38;5;28;01mreturn\u001b[39;00m state[row_i\u001b[38;5;241m+\u001b[39m\u001b[38;5;241m3\u001b[39m][col_i]\n\u001b[0;32m    162\u001b[0m         \u001b[38;5;28;01mreturn\u001b[39;00m \u001b[38;5;124m'\u001b[39m\u001b[38;5;124mkeep playing\u001b[39m\u001b[38;5;124m'\u001b[39m\n\u001b[1;32m--> 168\u001b[0m game \u001b[38;5;241m=\u001b[39m \u001b[43mGame\u001b[49m\u001b[43m(\u001b[49m\u001b[43m{\u001b[49m\u001b[38;5;124;43m'\u001b[39;49m\u001b[38;5;124;43mname\u001b[39;49m\u001b[38;5;124;43m'\u001b[39;49m\u001b[43m:\u001b[49m\u001b[43m \u001b[49m\u001b[38;5;124;43m'\u001b[39;49m\u001b[38;5;124;43m1\u001b[39;49m\u001b[38;5;124;43m'\u001b[39;49m\u001b[43m,\u001b[49m\u001b[43m \u001b[49m\u001b[38;5;124;43m'\u001b[39;49m\u001b[38;5;124;43mtype\u001b[39;49m\u001b[38;5;124;43m'\u001b[39;49m\u001b[43m:\u001b[49m\u001b[43m \u001b[49m\u001b[38;5;124;43m'\u001b[39;49m\u001b[38;5;124;43mAI\u001b[39;49m\u001b[38;5;124;43m'\u001b[39;49m\u001b[43m}\u001b[49m\u001b[43m,\u001b[49m\u001b[43m \u001b[49m\u001b[43m{\u001b[49m\u001b[38;5;124;43m'\u001b[39;49m\u001b[38;5;124;43mname\u001b[39;49m\u001b[38;5;124;43m'\u001b[39;49m\u001b[43m:\u001b[49m\u001b[43m \u001b[49m\u001b[38;5;124;43m'\u001b[39;49m\u001b[38;5;124;43m2\u001b[39;49m\u001b[38;5;124;43m'\u001b[39;49m\u001b[43m,\u001b[49m\u001b[43m \u001b[49m\u001b[38;5;124;43m'\u001b[39;49m\u001b[38;5;124;43mtype\u001b[39;49m\u001b[38;5;124;43m'\u001b[39;49m\u001b[43m:\u001b[49m\u001b[43m \u001b[49m\u001b[38;5;124;43m'\u001b[39;49m\u001b[38;5;124;43mhuman\u001b[39;49m\u001b[38;5;124;43m'\u001b[39;49m\u001b[43m}\u001b[49m\u001b[43m)\u001b[49m\n",
      "Cell \u001b[1;32mIn [74], line 19\u001b[0m, in \u001b[0;36mGame.__init__\u001b[1;34m(self, player_1, player_2)\u001b[0m\n\u001b[0;32m     17\u001b[0m hbox \u001b[38;5;241m=\u001b[39m widgets\u001b[38;5;241m.\u001b[39mHBox([\u001b[38;5;28mself\u001b[39m\u001b[38;5;241m.\u001b[39mbt_reset, \u001b[38;5;28mself\u001b[39m\u001b[38;5;241m.\u001b[39mdashboard])\n\u001b[0;32m     18\u001b[0m display(widgets\u001b[38;5;241m.\u001b[39mVBox([hbox, \u001b[38;5;28mself\u001b[39m\u001b[38;5;241m.\u001b[39mfig]))\n\u001b[1;32m---> 19\u001b[0m \u001b[38;5;28;43mself\u001b[39;49m\u001b[38;5;241;43m.\u001b[39;49m\u001b[43mreset\u001b[49m\u001b[43m(\u001b[49m\u001b[43m)\u001b[49m\n",
      "Cell \u001b[1;32mIn [74], line 34\u001b[0m, in \u001b[0;36mGame.reset\u001b[1;34m(self, *args)\u001b[0m\n\u001b[0;32m     32\u001b[0m \u001b[38;5;28mself\u001b[39m\u001b[38;5;241m.\u001b[39mevaluated \u001b[38;5;241m=\u001b[39m {}\n\u001b[0;32m     33\u001b[0m \u001b[38;5;28mself\u001b[39m\u001b[38;5;241m.\u001b[39mwinner \u001b[38;5;241m=\u001b[39m \u001b[38;5;124m'\u001b[39m\u001b[38;5;124mkeep_playing\u001b[39m\u001b[38;5;124m'\u001b[39m\n\u001b[1;32m---> 34\u001b[0m \u001b[38;5;28;43mself\u001b[39;49m\u001b[38;5;241;43m.\u001b[39;49m\u001b[43minitiate_turn\u001b[49m\u001b[43m(\u001b[49m\u001b[43m)\u001b[49m\n",
      "Cell \u001b[1;32mIn [74], line 66\u001b[0m, in \u001b[0;36mGame.initiate_turn\u001b[1;34m(self)\u001b[0m\n\u001b[0;32m     64\u001b[0m         \u001b[38;5;28mself\u001b[39m\u001b[38;5;241m.\u001b[39mai_move()\n\u001b[0;32m     65\u001b[0m \u001b[38;5;28;01melif\u001b[39;00m \u001b[38;5;28mself\u001b[39m\u001b[38;5;241m.\u001b[39mnext_to_play[\u001b[38;5;124m'\u001b[39m\u001b[38;5;124mtype\u001b[39m\u001b[38;5;124m'\u001b[39m] \u001b[38;5;241m==\u001b[39m \u001b[38;5;124m'\u001b[39m\u001b[38;5;124mAI\u001b[39m\u001b[38;5;124m'\u001b[39m:\n\u001b[1;32m---> 66\u001b[0m     \u001b[38;5;28;43mself\u001b[39;49m\u001b[38;5;241;43m.\u001b[39;49m\u001b[43mai_move\u001b[49m\u001b[43m(\u001b[49m\u001b[43m)\u001b[49m\n",
      "Cell \u001b[1;32mIn [74], line 71\u001b[0m, in \u001b[0;36mGame.ai_move\u001b[1;34m(self)\u001b[0m\n\u001b[0;32m     69\u001b[0m \u001b[38;5;28mself\u001b[39m\u001b[38;5;241m.\u001b[39mdashboard\u001b[38;5;241m.\u001b[39mvalue \u001b[38;5;241m+\u001b[39m\u001b[38;5;241m=\u001b[39m \u001b[38;5;124m'\u001b[39m\u001b[38;5;124m -- пресметува\u001b[39m\u001b[38;5;124m'\u001b[39m\n\u001b[0;32m     70\u001b[0m state \u001b[38;5;241m=\u001b[39m \u001b[38;5;28mtuple\u001b[39m([\u001b[38;5;28mtuple\u001b[39m(row) \u001b[38;5;28;01mfor\u001b[39;00m row \u001b[38;5;129;01min\u001b[39;00m \u001b[38;5;28mself\u001b[39m\u001b[38;5;241m.\u001b[39mstate])\n\u001b[1;32m---> 71\u001b[0m result, move \u001b[38;5;241m=\u001b[39m \u001b[38;5;28;43mself\u001b[39;49m\u001b[38;5;241;43m.\u001b[39;49m\u001b[43mminimax\u001b[49m\u001b[43m(\u001b[49m\u001b[43mstate\u001b[49m\u001b[43m,\u001b[49m\u001b[43m \u001b[49m\u001b[38;5;28;43mself\u001b[39;49m\u001b[38;5;241;43m.\u001b[39;49m\u001b[43mnext_to_play\u001b[49m\u001b[43m[\u001b[49m\u001b[38;5;124;43m'\u001b[39;49m\u001b[38;5;124;43mrole\u001b[39;49m\u001b[38;5;124;43m'\u001b[39;49m\u001b[43m]\u001b[49m\u001b[43m)\u001b[49m\n\u001b[0;32m     72\u001b[0m sleep(\u001b[38;5;241m1\u001b[39m)\n\u001b[0;32m     73\u001b[0m \u001b[38;5;28mself\u001b[39m\u001b[38;5;241m.\u001b[39mplayer_took_turn(\u001b[38;5;241m*\u001b[39mmove)\n",
      "Cell \u001b[1;32mIn [74], line 114\u001b[0m, in \u001b[0;36mGame.minimax\u001b[1;34m(self, state, player, alpha, beta)\u001b[0m\n\u001b[0;32m    111\u001b[0m best \u001b[38;5;241m=\u001b[39m \u001b[38;5;241m2\u001b[39m \u001b[38;5;28;01mif\u001b[39;00m player \u001b[38;5;241m==\u001b[39m \u001b[38;5;124m'\u001b[39m\u001b[38;5;124mMIN\u001b[39m\u001b[38;5;124m'\u001b[39m \u001b[38;5;28;01melse\u001b[39;00m \u001b[38;5;241m-\u001b[39m\u001b[38;5;241m2\u001b[39m\n\u001b[0;32m    112\u001b[0m symbol \u001b[38;5;241m=\u001b[39m \u001b[38;5;124m'\u001b[39m\u001b[38;5;124mx\u001b[39m\u001b[38;5;124m'\u001b[39m \u001b[38;5;28;01mif\u001b[39;00m player \u001b[38;5;241m==\u001b[39m \u001b[38;5;124m'\u001b[39m\u001b[38;5;124mMAX\u001b[39m\u001b[38;5;124m'\u001b[39m \u001b[38;5;28;01melse\u001b[39;00m \u001b[38;5;124m'\u001b[39m\u001b[38;5;124mo\u001b[39m\u001b[38;5;124m'\u001b[39m\n\u001b[1;32m--> 114\u001b[0m \u001b[38;5;28;01mfor\u001b[39;00m next_state, next_move \u001b[38;5;129;01min\u001b[39;00m \u001b[43mexpand_state\u001b[49m\u001b[43m(\u001b[49m\u001b[43mstate\u001b[49m\u001b[43m,\u001b[49m\u001b[43m \u001b[49m\u001b[43mplayer\u001b[49m\u001b[43m)\u001b[49m:\n\u001b[0;32m    115\u001b[0m     result, _ \u001b[38;5;241m=\u001b[39m minimax(next_state, other_player(player), alpha, beta)\n\u001b[0;32m    116\u001b[0m     \u001b[38;5;28;01mif\u001b[39;00m player \u001b[38;5;241m==\u001b[39m \u001b[38;5;124m'\u001b[39m\u001b[38;5;124mMIN\u001b[39m\u001b[38;5;124m'\u001b[39m:\n",
      "Cell \u001b[1;32mIn [67], line 11\u001b[0m, in \u001b[0;36mexpand_state\u001b[1;34m(state, player)\u001b[0m\n\u001b[0;32m      9\u001b[0m     \u001b[38;5;28;01mif\u001b[39;00m state[\u001b[38;5;241m0\u001b[39m][col_i] \u001b[38;5;241m==\u001b[39m \u001b[38;5;124m'\u001b[39m\u001b[38;5;124m·\u001b[39m\u001b[38;5;124m'\u001b[39m:\n\u001b[0;32m     10\u001b[0m         state_pom \u001b[38;5;241m=\u001b[39m copy\u001b[38;5;241m.\u001b[39mdeepcopy(state)\n\u001b[1;32m---> 11\u001b[0m         state_pom[row_i][col_i] \u001b[38;5;241m=\u001b[39m symbol\n\u001b[0;32m     12\u001b[0m         states\u001b[38;5;241m.\u001b[39mappend((state_pom, (row_i, col_i)))\n\u001b[0;32m     13\u001b[0m \u001b[38;5;28;01mreturn\u001b[39;00m states\n",
      "\u001b[1;31mTypeError\u001b[0m: 'tuple' object does not support item assignment"
     ]
    }
   ],
   "source": [
    "class Game:\n",
    "    def __init__(self, player_1, player_2):\n",
    "        self.player_1 = {**player_1, 'symbol': 'x', 'role': 'MAX'}\n",
    "        self.player_2 = {**player_2, 'symbol': 'o', 'role': 'MIN'}\n",
    "        self.next_to_play = self.player_1\n",
    "        self.state = [\n",
    "            ['·', '·', '·', '·', '·', '·', '·'], \n",
    "            ['·', '·', '·', '·', '·', '·', '·'], \n",
    "            ['·', '·', '·', '·', '·', '·', '·'], \n",
    "            ['·', '·', '·', '·', '·', '·', '·'], \n",
    "            ['·', '·', '·', '·', '·', '·', '·'], \n",
    "            ['·', '·', '·', '·', '·', '·', '·']            \n",
    "        ]\n",
    "        self.symbols_fig = {'x': 'x', 'o': 'circle', '·': 'circle-open'}\n",
    "        self.scores = {'x': 1, 'o': -1, 'draw': 0}\n",
    "        self.create_ui()\n",
    "        hbox = widgets.HBox([self.bt_reset, self.dashboard])\n",
    "        display(widgets.VBox([hbox, self.fig]))\n",
    "        self.reset()\n",
    "\n",
    "    def reset(self, *args):\n",
    "        self.next_to_play = self.player_1\n",
    "        self.update_score('На ред е', self.next_to_play)\n",
    "        self.state = [\n",
    "            ['·', '·', '·', '·', '·', '·', '·'], \n",
    "            ['·', '·', '·', '·', '·', '·', '·'], \n",
    "            ['·', '·', '·', '·', '·', '·', '·'], \n",
    "            ['·', '·', '·', '·', '·', '·', '·'], \n",
    "            ['·', '·', '·', '·', '·', '·', '·'], \n",
    "            ['·', '·', '·', '·', '·', '·', '·']]\n",
    "        self.fig.data[0].marker.symbol = self.convert_state_to_symbols()\n",
    "        self.evaluated = {}\n",
    "        self.winner = 'keep_playing'\n",
    "        self.initiate_turn()\n",
    "\n",
    "    def create_ui(self):\n",
    "        self.dashboard = widgets.HTML(description='Статус:', value='')\n",
    "        self.bt_reset = widgets.Button(description='Ресетирај')\n",
    "        self.bt_reset.on_click(self.reset)\n",
    "        self.fig = self.create_fig()\n",
    "\n",
    "    def create_fig(self):\n",
    "        Nx, Ny = 7, 6\n",
    "        fig = go.FigureWidget()\n",
    "        x = [x for y in range(Ny) for x in range(Nx)]\n",
    "        y = [y for y in range(Ny) for x in range(Nx)]\n",
    "        symbols = [self.symbols_fig[v] for row in self.state for v in row]\n",
    "        fig.add_scatter(x=x, y=y, mode='markers', marker_size=48, \n",
    "                        marker_symbol=symbols, marker_color='LightSkyBlue',\n",
    "                        marker_line_width=6, marker_line_color='MediumPurple')\n",
    "        fig.data[0].on_click(self.human_move)\n",
    "        fig.update_xaxes(range=[-0.5, Nx - 0.5], dtick=1, title='x', side='top')\n",
    "        fig.update_yaxes(\n",
    "            range=[-0.5, Ny - 0.5], dtick=1, title='y', autorange='reversed')\n",
    "        fig.update_layout(width=700, height=600, showlegend=False)\n",
    "        return fig\n",
    "\n",
    "    def convert_state_to_symbols(self):\n",
    "        return [self.symbols_fig[v] for row in self.state for v in row]\n",
    "\n",
    "    def initiate_turn(self):\n",
    "        if 'human' not in [self.player_1['type'], self.player_2['type']]:\n",
    "            while self.winner == 'keep_playing':\n",
    "                self.ai_move()\n",
    "        elif self.next_to_play['type'] == 'AI':\n",
    "            self.ai_move()\n",
    "\n",
    "    def ai_move(self):\n",
    "        self.dashboard.value += ' -- пресметува'\n",
    "        state = tuple([tuple(row) for row in self.state])\n",
    "        result, move = self.minimax(state, self.next_to_play['role'])\n",
    "        sleep(1)\n",
    "        self.player_took_turn(*move)\n",
    "\n",
    "    def human_move(self, trace, points, selector):\n",
    "        x, y = points.xs[0], points.ys[0]\n",
    "        keep_playing = self.winner == 'keep_playing'\n",
    "        human_on_turn = self.next_to_play['type'] == 'human'\n",
    "        empty_place = self.state[y][x] == '·'\n",
    "        if keep_playing and human_on_turn and empty_place:\n",
    "            self.player_took_turn(x, y)\n",
    "            if self.next_to_play['type'] == 'AI':\n",
    "                self.ai_move()\n",
    "\n",
    "    def player_took_turn(self, x, y):\n",
    "        self.state[y][x] = self.next_to_play['symbol']\n",
    "        self.fig.data[0].marker.symbol = self.convert_state_to_symbols()\n",
    "        self.winner = self.check_victory(self.state)\n",
    "        if self.winner != 'keep_playing':\n",
    "            if self.winner == 'draw':\n",
    "                self.dashboard.value = 'Нерешено.'\n",
    "            else:\n",
    "                self.update_score('Победник е', self.next_to_play)\n",
    "            return\n",
    "        if self.next_to_play == self.player_2:\n",
    "            self.next_to_play = self.player_1\n",
    "        else:\n",
    "            self.next_to_play = self.player_2\n",
    "        self.update_score('На ред е', self.next_to_play)\n",
    "\n",
    "    def update_score(self, message, player):\n",
    "        player_data = ' - '.join(list(player.values())[:-1])\n",
    "        self.dashboard.value = f'{message} <b> {player_data} </b>.'\n",
    "\n",
    "    scores = {'x': 1, 'o': -1, 'draw': 0}\n",
    "    \n",
    "    def minimax(self, state, player, alpha=-2, beta=2, depth = 3):\n",
    "        if check_victory(state) != 'keep playing':\n",
    "            return scores[check_victory(state)], None\n",
    "        \n",
    "        if depth == 3:\n",
    "            return evaluate_state(state, player)\n",
    "        \n",
    "        '''\n",
    "        DEFINIRAJ EVALUATE STATE\n",
    "        '''\n",
    "        \n",
    "        best_move = None\n",
    "        best = 2 if player == 'MIN' else -2\n",
    "        symbol = 'x' if player == 'MAX' else 'o'\n",
    "\n",
    "        for next_state, next_move in expand_state(state, player):\n",
    "            result, _ = minimax(next_state, other_player(player), alpha, beta)\n",
    "            if player == 'MIN':\n",
    "                if result <= alpha:\n",
    "                    return result, best_move\n",
    "                if result < beta:\n",
    "                    beta = result\n",
    "                if result < best:\n",
    "                    best = result\n",
    "                    best_move = next_move\n",
    "            elif player == 'MAX':\n",
    "                if result >= beta:\n",
    "                    return result, best_move\n",
    "                if result > alpha:\n",
    "                    alpha = result\n",
    "                if result > best:\n",
    "                    best = result\n",
    "                    best_move = next_move\n",
    "        return best, best_move\n",
    "\n",
    "    def expand_state(self, state, player):\n",
    "        states = []\n",
    "        symbol = 'x' if player == 'MAX' else 'o'\n",
    "        for col_i in range(7):\n",
    "            row_i = 5\n",
    "            while state[row_i][col_i] != '·' and row_i >= 0:\n",
    "                row_i -= 1\n",
    "            if state[0][col_i] == '·':\n",
    "                state_pom = copy.deepcopy(state)\n",
    "                state_pom[row_i][col_i] = symbol\n",
    "                states.append((state_pom, (row_i, col_i)))\n",
    "        return states\n",
    "\n",
    "    def check_victory(self, state):\n",
    "        for row_i in range(6):\n",
    "            for col_i in range(4):\n",
    "                if state[row_i][col_i] == state[row_i][col_i+1] == state[row_i][col_i+2] == state[row_i][col_i+3] and state[row_i][col_i] != '·':\n",
    "                    return state[row_i][col_i]\n",
    "        for col_i in range(7):\n",
    "            for row_i in range(3):\n",
    "                if state[row_i][col_i] == state[row_i+1][col_i] == state[row_i+2][col_i] == state[row_i+3][col_i] and state[row_i][col_i] != '·':\n",
    "                    return state[row_i][col_i]\n",
    "        for col_i in range(4): #2\n",
    "             for row_i in range(3): #2\n",
    "                    if state[row_i][col_i] == state[row_i+1][col_i+1] == state[row_i+2][col_i+2] == state[row_i+3][col_i+3] and state[row_i][col_i] != '·':\n",
    "                        return state[row_i][col_i]\n",
    "                    if state[row_i+3][col_i] == state[row_i+2][col_i+1] == state[row_i+1][col_i+2] == state[row_i][col_i+3] and state[row_i+3][col_i] != '·':\n",
    "                        return state[row_i+3][col_i]\n",
    "        return 'keep playing'\n",
    "        \n",
    "\n",
    "    \n",
    "\n",
    "\n",
    "game = Game({'name': '1', 'type': 'AI'}, {'name': '2', 'type': 'human'})"
   ]
  },
  {
   "cell_type": "code",
   "execution_count": 67,
   "id": "34344797-0dd0-4291-99a7-3b1be7a8cbaf",
   "metadata": {},
   "outputs": [],
   "source": [
    "import copy\n",
    "def expand_state(state, player):\n",
    "    states = []\n",
    "    symbol = 'x' if player == 'MAX' else 'o'\n",
    "    for col_i in range(7):\n",
    "        row_i = 5\n",
    "        while state[row_i][col_i] != '·' and row_i >= 0:\n",
    "            row_i -= 1\n",
    "        if state[0][col_i] == '·':\n",
    "            state_pom = copy.deepcopy(state)\n",
    "            state_pom[row_i][col_i] = symbol\n",
    "            states.append((state_pom, (row_i, col_i)))\n",
    "    return states\n",
    "        "
   ]
  },
  {
   "cell_type": "code",
   "execution_count": 71,
   "id": "2cd0e56d-0772-4a46-9d09-58c2e802248c",
   "metadata": {},
   "outputs": [],
   "source": [
    "def check_victory(state):\n",
    "    for row_i in range(6):\n",
    "        for col_i in range(4):\n",
    "            if state[row_i][col_i] == state[row_i][col_i+1] == state[row_i][col_i+2] == state[row_i][col_i+3] and state[row_i][col_i] != '·':\n",
    "                return state[row_i][col_i]\n",
    "    for col_i in range(7):\n",
    "        for row_i in range(3):\n",
    "            if state[row_i][col_i] == state[row_i+1][col_i] == state[row_i+2][col_i] == state[row_i+3][col_i] and state[row_i][col_i] != '·':\n",
    "                return state[row_i][col_i]\n",
    "    for col_i in range(4): #2\n",
    "         for row_i in range(3): #2\n",
    "                if state[row_i][col_i] == state[row_i+1][col_i+1] == state[row_i+2][col_i+2] == state[row_i+3][col_i+3] and state[row_i][col_i] != '·':\n",
    "                    return state[row_i][col_i]\n",
    "                if state[row_i+3][col_i] == state[row_i+2][col_i+1] == state[row_i+1][col_i+2] == state[row_i][col_i+3] and state[row_i+3][col_i] != '·':\n",
    "                    return state[row_i+3][col_i]\n",
    "    for row in state:\n",
    "        if '·' in row:\n",
    "            return 'keep playing'\n",
    "    return 'draw'"
   ]
  },
  {
   "cell_type": "code",
   "execution_count": 73,
   "id": "f02d3e44-fc52-4218-9f71-2bebdfeb0bb2",
   "metadata": {},
   "outputs": [
    {
     "data": {
      "text/plain": [
       "'keep playing'"
      ]
     },
     "execution_count": 73,
     "metadata": {},
     "output_type": "execute_result"
    }
   ],
   "source": [
    "state = [\n",
    "            ['·', '·', '·', '·', '·', '·', '·'], \n",
    "            ['·', '·', '·', '·', '·', '·', '·'], \n",
    "            ['·', '·', 'o', '·', '·', 'x', '·'], \n",
    "            ['·', '·', 'x', '·', 'x', 'o', '·'], \n",
    "            ['·', '·', 'x', 'o', 'o', 'o', '·'], \n",
    "            ['x', 'o', 'x', 'x', 'o', 'o', '·']            \n",
    "        ]\n",
    "check_victory(state)"
   ]
  },
  {
   "cell_type": "markdown",
   "id": "070c0ef7-5001-414d-826a-c5799a0a8d3b",
   "metadata": {
    "jp-MarkdownHeadingCollapsed": true,
    "tags": []
   },
   "source": [
    "## Икс-точка 3"
   ]
  },
  {
   "cell_type": "code",
   "execution_count": 26,
   "id": "c99175db-2b31-4e1c-9d70-7b1095e665f0",
   "metadata": {},
   "outputs": [],
   "source": [
    "initial_state = [\n",
    "    ['·', '·', '·'],\n",
    "    ['·', '·', '·'],\n",
    "    ['·', '·', '·']\n",
    "]"
   ]
  },
  {
   "cell_type": "code",
   "execution_count": 29,
   "id": "a205bcce-115a-4f5f-b0e8-cce9e3bca008",
   "metadata": {},
   "outputs": [],
   "source": [
    "import copy\n",
    "def expand_state(state, player_symbol):\n",
    "    states = []\n",
    "    for row_i in range(3):\n",
    "        for col_i in range(3):\n",
    "            if state[row_i][col_i] == '·':\n",
    "                new_state = copy.deepcopy(state)\n",
    "                new_state[row_i][col_i] = player_symbol\n",
    "                states.append((new_state, (row_i, col_i)))\n",
    "    return states"
   ]
  },
  {
   "cell_type": "code",
   "execution_count": 30,
   "id": "17c5d1e6-c030-413f-aeb6-65f908e4d3f5",
   "metadata": {},
   "outputs": [
    {
     "data": {
      "text/plain": [
       "[([['x', 'x', '·'], ['o', '·', 'x'], ['·', 'o', 'x']], (0, 1)),\n",
       " ([['x', '·', 'x'], ['o', '·', 'x'], ['·', 'o', 'x']], (0, 2)),\n",
       " ([['x', '·', '·'], ['o', 'x', 'x'], ['·', 'o', 'x']], (1, 1)),\n",
       " ([['x', '·', '·'], ['o', '·', 'x'], ['x', 'o', 'x']], (2, 0))]"
      ]
     },
     "execution_count": 30,
     "metadata": {},
     "output_type": "execute_result"
    }
   ],
   "source": [
    "state = [\n",
    "    ['x', '·', '·'],\n",
    "    ['o', '·', 'x'],\n",
    "    ['·', 'o', 'x']\n",
    "]\n",
    "\n",
    "expand_state(state, 'x')"
   ]
  },
  {
   "cell_type": "markdown",
   "id": "0beb50c6-7d76-490c-a599-0e51330b337d",
   "metadata": {},
   "source": [
    "* `x` -> MAX\n",
    "* `o` -> MIN"
   ]
  },
  {
   "cell_type": "code",
   "execution_count": 31,
   "id": "212b85bb-df2f-4c0f-b578-a5cc7419f5e8",
   "metadata": {},
   "outputs": [],
   "source": [
    "def game_score(state):\n",
    "    for row in state:\n",
    "        if row[0] == row[1] == row[2] and row[0] != '·':\n",
    "            return 1 if row[0] == 'x' else -1\n",
    "    \n",
    "    for col_i in range(3):\n",
    "        if state[0][col_i] == state[1][col_i] == state[2][col_i] and state[0][col_i] != '·':\n",
    "            return 1 if state[0][col_i] == 'x' else -1\n",
    "        \n",
    "    if state[0][0] == state[1][1] == state[2][2] and state[0][0] != '·':\n",
    "        return 1 if state[0][0] == 'x' else -1\n",
    "    \n",
    "    if state[2][0] == state[1][1] == state[0][2] and state[2][0] != '·':\n",
    "        return 1 if state[2][0] == 'x' else -1\n",
    "        \n",
    "    for row in state:\n",
    "        for element in row:\n",
    "            if element == '·':\n",
    "                return 'keep playing'\n",
    "            \n",
    "    return 0"
   ]
  },
  {
   "cell_type": "code",
   "execution_count": 32,
   "id": "fdf274b8-ef63-46b1-beb2-df07dfa8e4ab",
   "metadata": {},
   "outputs": [
    {
     "data": {
      "text/plain": [
       "'keep playing'"
      ]
     },
     "execution_count": 32,
     "metadata": {},
     "output_type": "execute_result"
    }
   ],
   "source": [
    "game_score(state)"
   ]
  },
  {
   "cell_type": "code",
   "execution_count": 33,
   "id": "48efe003-01e6-4c41-aafb-66ca22f7628d",
   "metadata": {},
   "outputs": [],
   "source": [
    "def minimax(state, symbol):\n",
    "    global counter\n",
    "    counter += 1\n",
    "    if game_score(state) != 'keep playing':\n",
    "        return game_score(state), None\n",
    "    best_value = 2 if symbol == 'o' else -2\n",
    "    best_move = None\n",
    "    for next_state, move in expand_state(state, symbol):\n",
    "        other_symbol = 'x' if symbol == 'o' else 'o'\n",
    "        result, _ = minimax(next_state, other_symbol)\n",
    "        if symbol == 'x' and result > best_value:\n",
    "            best_value = result\n",
    "            best_move = move\n",
    "        if symbol == 'o' and result < best_value:\n",
    "            best_value = result\n",
    "            best_move = move\n",
    "    return best_value, best_move"
   ]
  },
  {
   "cell_type": "code",
   "execution_count": 34,
   "id": "c45e251b-f75f-4dd1-bb87-c51c19bd51e4",
   "metadata": {},
   "outputs": [],
   "source": [
    "import time"
   ]
  },
  {
   "cell_type": "code",
   "execution_count": 35,
   "id": "dbde3d63-6e02-4035-b439-7e00b1165879",
   "metadata": {},
   "outputs": [],
   "source": [
    "counter = 0"
   ]
  },
  {
   "cell_type": "code",
   "execution_count": 36,
   "id": "646fa02f-3361-4833-b22d-e53e6df35cef",
   "metadata": {},
   "outputs": [
    {
     "name": "stdout",
     "output_type": "stream",
     "text": [
      "CPU times: user 2.64 ms, sys: 0 ns, total: 2.64 ms\n",
      "Wall time: 2.57 ms\n"
     ]
    },
    {
     "data": {
      "text/plain": [
       "(1, (0, 1))"
      ]
     },
     "execution_count": 36,
     "metadata": {},
     "output_type": "execute_result"
    }
   ],
   "source": [
    "%%time\n",
    "minimax(state, 'o')"
   ]
  },
  {
   "cell_type": "code",
   "execution_count": 37,
   "id": "82203d8f-784d-45e8-95ad-60a2d79ce0e4",
   "metadata": {},
   "outputs": [
    {
     "data": {
      "text/plain": [
       "39"
      ]
     },
     "execution_count": 37,
     "metadata": {},
     "output_type": "execute_result"
    }
   ],
   "source": [
    "counter"
   ]
  },
  {
   "cell_type": "code",
   "execution_count": 38,
   "id": "be2d7226-349e-4dfa-b7f1-e9eb3e3114d3",
   "metadata": {},
   "outputs": [],
   "source": [
    "def minimax_alpha_beta(state, symbol, alpha = -2, beta = 2):\n",
    "    global counter\n",
    "    counter += 1\n",
    "    if game_score(state) != 'keep playing':\n",
    "        return game_score(state), None\n",
    "    best_value = 2 if symbol == 'o' else -2\n",
    "    best_move = None\n",
    "    for next_state, move in expand_state(state, symbol):\n",
    "        other_symbol = 'x' if symbol == 'o' else 'o'\n",
    "        result, _ = minimax(next_state, other_symbol)\n",
    "        if symbol == 'x':\n",
    "            if result >= beta:\n",
    "                return result, best_move\n",
    "            if result > alpha:\n",
    "                alpha = result\n",
    "            if result > best_value:\n",
    "                best_value = result\n",
    "                best_move = move\n",
    "        if symbol == 'o':\n",
    "            if result <= alpha:\n",
    "                return result, best_move\n",
    "            if result < beta:\n",
    "                beta = result\n",
    "            if result < best_value:\n",
    "                best_value = result\n",
    "                best_move = move\n",
    "    return best_value, best_move"
   ]
  },
  {
   "cell_type": "code",
   "execution_count": 39,
   "id": "d4028d3d-3dac-4538-975d-1d064fa92936",
   "metadata": {},
   "outputs": [],
   "source": [
    "counter = 0"
   ]
  },
  {
   "cell_type": "code",
   "execution_count": 40,
   "id": "aa91126f-49f3-4b84-91f1-8399b50f2098",
   "metadata": {},
   "outputs": [
    {
     "name": "stdout",
     "output_type": "stream",
     "text": [
      "CPU times: user 1.2 ms, sys: 0 ns, total: 1.2 ms\n",
      "Wall time: 1.23 ms\n"
     ]
    },
    {
     "data": {
      "text/plain": [
       "(1, (0, 1))"
      ]
     },
     "execution_count": 40,
     "metadata": {},
     "output_type": "execute_result"
    }
   ],
   "source": [
    "%%time\n",
    "minimax_alpha_beta(state, 'o')"
   ]
  },
  {
   "cell_type": "code",
   "execution_count": 41,
   "id": "ce8192da-cd0e-4d9d-803b-af5f27c27f7f",
   "metadata": {},
   "outputs": [
    {
     "data": {
      "text/plain": [
       "39"
      ]
     },
     "execution_count": 41,
     "metadata": {},
     "output_type": "execute_result"
    }
   ],
   "source": [
    "counter"
   ]
  },
  {
   "cell_type": "code",
   "execution_count": 42,
   "id": "0034eaba-21c3-4b7a-ba82-65923f5b7138",
   "metadata": {},
   "outputs": [],
   "source": [
    "def how_many_duplicates(lista, symbol):\n",
    "    how_many = 0\n",
    "    for element in lista:\n",
    "        if element == symbol:\n",
    "            how_many += 1\n",
    "    return how_many"
   ]
  },
  {
   "cell_type": "code",
   "execution_count": 43,
   "id": "514bf04e-6661-42d3-888b-56abd7dea634",
   "metadata": {},
   "outputs": [],
   "source": [
    "def evaluate_state(state):\n",
    "    pairs = 0\n",
    "    lists_of_lists = [[row for row in state], \n",
    "                     [[state[0][col_i], state[1][col_i], state[2][col_i]] for col_i in range(3)],\n",
    "                     [state[0][0], state[1][1], state[2][2]],\n",
    "                     [state[2][0], state[1][1], state[0][2]]]\n",
    "   \n",
    "    for list_of_lists in lists_of_lists:\n",
    "        for lista in list_of_lists:\n",
    "            if how_many_duplicates(lista, 'x') == 2 and '·' in lista:\n",
    "                pairs += 1\n",
    "            elif how_many_duplicates(lista, 'o') == 2 and '·' in lista:\n",
    "                pairs -= 1\n",
    "    \n",
    "    return pairs/9.0"
   ]
  },
  {
   "cell_type": "code",
   "execution_count": 44,
   "id": "c36038a9-49ad-409f-9a36-1c9b2e729a89",
   "metadata": {},
   "outputs": [],
   "source": [
    "def minimax_alpha_beta_depth(state, symbol, alpha=-2, beta=2, depth=0):\n",
    "    global counter\n",
    "    counter += 1\n",
    "    if game_score(state) != 'keep playing':\n",
    "        return game_score(state), None\n",
    "    if depth == 2:\n",
    "        return evaluate_state(state)\n",
    "    best_value = 2 if symbol == 'o' else -2\n",
    "    best_move = None\n",
    "    for next_state, move in expand_state(state, symbol):\n",
    "        other_symbol = 'x' if symbol == 'o' else 'o'\n",
    "        result, _ = minimax(next_state, other_symbol)\n",
    "        if symbol == 'x':\n",
    "            if result >= beta:\n",
    "                return result, best_move\n",
    "            if result > alpha:\n",
    "                alpha = result\n",
    "            if result > best_value:\n",
    "                best_value = result\n",
    "                best_move = move\n",
    "        if symbol == 'o':\n",
    "            if result <= alpha:\n",
    "                return result, best_move\n",
    "            if result < beta:\n",
    "                beta = result\n",
    "            if result < best_value:\n",
    "                best_value = result\n",
    "                best_move = move\n",
    "    return best_value, best_move"
   ]
  },
  {
   "cell_type": "code",
   "execution_count": 45,
   "id": "aaaf6d89-ba80-411f-8418-f7f3206bcf17",
   "metadata": {},
   "outputs": [
    {
     "data": {
      "text/plain": [
       "(0, (0, 0))"
      ]
     },
     "execution_count": 45,
     "metadata": {},
     "output_type": "execute_result"
    }
   ],
   "source": [
    "minimax_alpha_beta_depth(initial_state, 'o')"
   ]
  },
  {
   "cell_type": "markdown",
   "id": "498e34a8-4317-4ea2-99f5-964d9ff9ffe3",
   "metadata": {
    "tags": []
   },
   "source": [
    "# Испитна задача 1"
   ]
  },
  {
   "cell_type": "markdown",
   "id": "28909fb9-5b4b-4b53-823c-647131632b8f",
   "metadata": {},
   "source": [
    "## 1. Икс-точка\n",
    "Ја разгледуваме задачата за икс-точка, од аудиториските вежби."
   ]
  },
  {
   "cell_type": "markdown",
   "id": "7f870860-4b07-49de-acd7-f7fcf633f2b8",
   "metadata": {},
   "source": [
    "### Прашања и задачи"
   ]
  },
  {
   "cell_type": "markdown",
   "id": "bf0bb112-7684-457a-b250-abd10f22e0dd",
   "metadata": {},
   "source": [
    "Бидејќи дрвото на играта е мало, во решението од аудиториските се разгранува целото дрво. Сакаме да дознаеме колку вкупно состојби се разгрануваат при пребарувањето низ дрвото."
   ]
  },
  {
   "cell_type": "markdown",
   "id": "1ae3299e-b014-423d-b826-ee3171e3970e",
   "metadata": {},
   "source": [
    "1.1. **(5 поени)** Без користење на калкулатор, дискутирајте на кој начин ќе процените колку состојби треба да се разгранат за да се истражи целото дрво на играта.\n",
    "    "
   ]
  },
  {
   "cell_type": "markdown",
   "id": "1d059640-0652-4aa5-aa5c-bf11cf7fb191",
   "metadata": {},
   "source": [
    "* Ако сакаме да го разграниме целото дрво, без поткастрување, тогаш ќе ја користиме функцијата minimax во која не фигурираат алфа и бета.\n",
    "* Во функцијата ќе поставиме бројач кој ќе брои колку пати ќе се повикува таа функција. Бидејќи секоја состојба од дрвото се повикува еднаш, значи бројот на повикувања = бројот на состојби"
   ]
  },
  {
   "cell_type": "markdown",
   "id": "1a844909-a93a-4974-b182-ff379429e03e",
   "metadata": {},
   "source": [
    "1.2. **(5 поени) (код)** Пресметајте колку точно состојби се разгрануваат за да се истражи целото дрво на играта?"
   ]
  },
  {
   "cell_type": "code",
   "execution_count": 3,
   "id": "1b676b63-3bc6-44f5-b8b9-55eecb8991e0",
   "metadata": {},
   "outputs": [],
   "source": [
    "# треба и претходно да се напише кодот\n",
    "\n",
    "def minimax(state, symbol):\n",
    "    global counter\n",
    "    counter += 1\n",
    "    if game_score(state) != 'keep playing':\n",
    "        return game_score(state), None\n",
    "    best_value = 2 if symbol == 'o' else -2\n",
    "    best_move = None\n",
    "    for next_state, move in expand_state(state, symbol):\n",
    "        other_symbol = 'x' if symbol == 'o' else 'o'\n",
    "        result, _ = minimax(next_state, other_symbol)\n",
    "        if symbol == 'x' and result > best_value:\n",
    "            best_value = result\n",
    "            best_move = move\n",
    "        if symbol == 'o' and result < best_value:\n",
    "            best_value = result\n",
    "            best_move = move\n",
    "    return best_value, best_move"
   ]
  },
  {
   "cell_type": "code",
   "execution_count": 2,
   "id": "8c4a10a9-0b11-4c3f-a94b-719707c00669",
   "metadata": {},
   "outputs": [
    {
     "ename": "NameError",
     "evalue": "name 'game_score' is not defined",
     "output_type": "error",
     "traceback": [
      "\u001b[1;31m---------------------------------------------------------------------------\u001b[0m",
      "\u001b[1;31mNameError\u001b[0m                                 Traceback (most recent call last)",
      "Cell \u001b[1;32mIn [2], line 7\u001b[0m\n\u001b[0;32m      1\u001b[0m state \u001b[38;5;241m=\u001b[39m [\n\u001b[0;32m      2\u001b[0m     [\u001b[38;5;124m'\u001b[39m\u001b[38;5;124mx\u001b[39m\u001b[38;5;124m'\u001b[39m, \u001b[38;5;124m'\u001b[39m\u001b[38;5;124mx\u001b[39m\u001b[38;5;124m'\u001b[39m, \u001b[38;5;124m'\u001b[39m\u001b[38;5;124m·\u001b[39m\u001b[38;5;124m'\u001b[39m],\n\u001b[0;32m      3\u001b[0m     [\u001b[38;5;124m'\u001b[39m\u001b[38;5;124mo\u001b[39m\u001b[38;5;124m'\u001b[39m, \u001b[38;5;124m'\u001b[39m\u001b[38;5;124m·\u001b[39m\u001b[38;5;124m'\u001b[39m, \u001b[38;5;124m'\u001b[39m\u001b[38;5;124mx\u001b[39m\u001b[38;5;124m'\u001b[39m],\n\u001b[0;32m      4\u001b[0m     [\u001b[38;5;124m'\u001b[39m\u001b[38;5;124mo\u001b[39m\u001b[38;5;124m'\u001b[39m, \u001b[38;5;124m'\u001b[39m\u001b[38;5;124mo\u001b[39m\u001b[38;5;124m'\u001b[39m, \u001b[38;5;124m'\u001b[39m\u001b[38;5;124mx\u001b[39m\u001b[38;5;124m'\u001b[39m]\n\u001b[0;32m      5\u001b[0m ]\n\u001b[0;32m      6\u001b[0m counter \u001b[38;5;241m=\u001b[39m \u001b[38;5;241m0\u001b[39m\n\u001b[1;32m----> 7\u001b[0m result \u001b[38;5;241m=\u001b[39m \u001b[43mminimax\u001b[49m\u001b[43m(\u001b[49m\u001b[43mstate\u001b[49m\u001b[43m,\u001b[49m\u001b[43m \u001b[49m\u001b[43msymbol\u001b[49m\u001b[43m \u001b[49m\u001b[38;5;241;43m=\u001b[39;49m\u001b[43m \u001b[49m\u001b[38;5;124;43m'\u001b[39;49m\u001b[38;5;124;43mx\u001b[39;49m\u001b[38;5;124;43m'\u001b[39;49m\u001b[43m)\u001b[49m\n\u001b[0;32m      8\u001b[0m counter\n",
      "Cell \u001b[1;32mIn [1], line 4\u001b[0m, in \u001b[0;36mminimax\u001b[1;34m(state, symbol)\u001b[0m\n\u001b[0;32m      2\u001b[0m \u001b[38;5;28;01mglobal\u001b[39;00m counter\n\u001b[0;32m      3\u001b[0m counter \u001b[38;5;241m+\u001b[39m\u001b[38;5;241m=\u001b[39m \u001b[38;5;241m1\u001b[39m\n\u001b[1;32m----> 4\u001b[0m \u001b[38;5;28;01mif\u001b[39;00m \u001b[43mgame_score\u001b[49m(state) \u001b[38;5;241m!=\u001b[39m \u001b[38;5;124m'\u001b[39m\u001b[38;5;124mkeep playing\u001b[39m\u001b[38;5;124m'\u001b[39m:\n\u001b[0;32m      5\u001b[0m     \u001b[38;5;28;01mreturn\u001b[39;00m game_score(state), \u001b[38;5;28;01mNone\u001b[39;00m\n\u001b[0;32m      6\u001b[0m best_value \u001b[38;5;241m=\u001b[39m \u001b[38;5;241m2\u001b[39m \u001b[38;5;28;01mif\u001b[39;00m symbol \u001b[38;5;241m==\u001b[39m \u001b[38;5;124m'\u001b[39m\u001b[38;5;124mo\u001b[39m\u001b[38;5;124m'\u001b[39m \u001b[38;5;28;01melse\u001b[39;00m \u001b[38;5;241m-\u001b[39m\u001b[38;5;241m2\u001b[39m\n",
      "\u001b[1;31mNameError\u001b[0m: name 'game_score' is not defined"
     ]
    }
   ],
   "source": [
    "state = [\n",
    "    ['x', 'x', '·'],\n",
    "    ['o', '·', 'x'],\n",
    "    ['o', 'o', 'x']\n",
    "]\n",
    "counter = 0\n",
    "result = minimax(state, symbol = 'x')\n",
    "counter"
   ]
  },
  {
   "cell_type": "markdown",
   "id": "c50b6bfe-2659-481b-889a-8b8e8804f790",
   "metadata": {},
   "source": [
    "1.3. **(5 поени)** Што е алфа-бета поткастрување? Зошто користиме алфа-бета поткастрување во оваа игра?"
   ]
  },
  {
   "cell_type": "markdown",
   "id": "cd0c6b00-65ff-444c-a357-4d35d73ef5d6",
   "metadata": {},
   "source": [
    "* Алфа-бета поткаструвањето е метода која се користи со цел да се минимизира бројот на состојби кои се испитуваат. Ова овозможува minimax алгоритмот да се извршува во пократко време, но притоа повторно секогаш да го дава точниот резултат (поткаструвањето ги елиминира гранките кои сигурно нема да се крајното решение).\n",
    "* Алфа-бета поткаструвањето се користи во играта икс-точка со цел компјутерот побрзо да може да го пресмета наредниот чекор што играчот треба да го направи. Икс-точка нема големо дрво на разгранување, па може да се изврши минимакс и без поткастрување, но сепак оптимално е со поткастрување."
   ]
  },
  {
   "cell_type": "markdown",
   "id": "03eef5d2-2f71-4587-833a-763155e56e96",
   "metadata": {},
   "source": [
    "1.4. **(10 поени) (код)** Покажете дека користењето на постапката за алфа-бета поткастрување се исплати во оваа игра. На кој начин подобро ќе се покаже: (1) преку времето потребно за извршување на алгоритмите или (2) преку броење на разгранетите јазли?"
   ]
  },
  {
   "cell_type": "markdown",
   "id": "7303c4e4-edf5-405e-b6ed-d5678e18d2a9",
   "metadata": {},
   "source": [
    "* Со броењето на разгранетите јазли се забележува разликата повеќе, бидејќи во повеќето случаи, повикувањето на минимакс за одредена состојба од икс точка ќе се изврши за релативно кратко време (бидејќи дрвото на разгранување не е толку големо). Но и со испитување на времето за неколку состојби, добивав дека со алфа-бета поткастрување, функцијата се врши побрзо, но разликата беше во микросекунди, а бројачот покажуваше двојно помала вредност"
   ]
  },
  {
   "cell_type": "markdown",
   "id": "159832dd-ae9d-4119-9c9e-668634a21734",
   "metadata": {},
   "source": [
    "Целото дрво брзо се истражува на компјутер од 2022 година. Во продолжение разгледуваме случај кога овој алгоритам се поставува на компјутер кој нема доволно пресметковна моќ и мемориски ресурси за да го пребара целото дрво во логично време за еден потег. Стандардната постапка во овој случај е да се ограничи длабочината до која пребарува алгоритамот, па тогаш да се проценува исходот од играта преку функција за евристика."
   ]
  },
  {
   "cell_type": "markdown",
   "id": "eb3f59a4-619f-496d-ad01-0fd232304d4c",
   "metadata": {},
   "source": [
    "1.5. **(10 поени)** Предложете функција за евристика за оваа игра."
   ]
  },
  {
   "cell_type": "markdown",
   "id": "4172ff8a-7e26-447c-9f97-9a75514cfd88",
   "metadata": {},
   "source": [
    "* Пар ќе го нарекувам случајот кога има 2 исти симболи во една редица/колона/дијагонала, а притоа третото поле е празно. Тогаш тоа е предност за тој симбол. Колку повеќе вакви парови има еден симбол, толку повеќе е тој во предност. А често, имањето повеќе парови од по 2 симбола може да доведе до стапица за противникот. Каде и да блокира, останува едно поле каде играчот може да го стави својот симбол и да победи. Некогаш противникот со еден симбол може да блокира 2 парови, па овој случај не е секогаш исполнат, но евристиката не го испитува тоа, битен му е само бројот на парови."
   ]
  },
  {
   "cell_type": "markdown",
   "id": "659b2cf3-7712-4270-81c8-3ef459fa28fa",
   "metadata": {},
   "source": [
    "### Бонус"
   ]
  },
  {
   "cell_type": "markdown",
   "id": "b1c9fdb1-0b4a-4f63-a1a4-bbfd1193187c",
   "metadata": {},
   "source": [
    "1.6. **(10 поени) (код)** Имплементирајте ја предложената функција од прашањето 5."
   ]
  },
  {
   "cell_type": "code",
   "execution_count": 138,
   "id": "68e9653d-3f40-4204-acea-0366bd66ef60",
   "metadata": {},
   "outputs": [],
   "source": [
    "def how_many_duplicates(lista, symbol):\n",
    "    how_many = 0\n",
    "    for element in lista:\n",
    "        if element == symbol:\n",
    "            how_many += 1\n",
    "    return how_many"
   ]
  },
  {
   "cell_type": "code",
   "execution_count": 148,
   "id": "3e603c91-d559-4410-9dc4-24d3105e6b4d",
   "metadata": {},
   "outputs": [],
   "source": [
    "def evaluate_state(state):\n",
    "    pairs = 0\n",
    "    lists_of_lists = [[row for row in state], \n",
    "                     [[state[0][col_i], state[1][col_i], state[2][col_i]] for col_i in range(3)],\n",
    "                     [state[0][0], state[1][1], state[2][2]],\n",
    "                     [state[2][0], state[1][1], state[0][2]]]\n",
    "   \n",
    "    for list_of_lists in lists_of_lists:\n",
    "        for lista in list_of_lists:\n",
    "            if how_many_duplicates(lista, 'x') == 2 and '·' in lista:\n",
    "                pairs += 1\n",
    "            elif how_many_duplicates(lista, 'o') == 2 and '·' in lista:\n",
    "                pairs -= 1\n",
    "    \n",
    "    return pairs/9.0"
   ]
  },
  {
   "cell_type": "code",
   "execution_count": 157,
   "id": "e4b64895-4a6a-4cab-a2a6-900ed19953cf",
   "metadata": {},
   "outputs": [],
   "source": [
    "def minimax_alpha_beta_depth(state, symbol, alpha=-2, beta=2, depth=0):\n",
    "    global counter\n",
    "    counter += 1\n",
    "    if game_score(state) != 'keep playing':\n",
    "        return game_score(state), None\n",
    "    if depth == 2:\n",
    "        return evaluate_state(state)\n",
    "    best_value = 2 if symbol == 'o' else -2\n",
    "    best_move = None\n",
    "    for next_state, move in expand_state(state, symbol):\n",
    "        other_symbol = 'x' if symbol == 'o' else 'o'\n",
    "        result, _ = minimax(next_state, other_symbol)\n",
    "        if symbol == 'x':\n",
    "            if result >= beta:\n",
    "                return result, best_move\n",
    "            if result > alpha:\n",
    "                alpha = result\n",
    "            if result > best_value:\n",
    "                best_value = result\n",
    "                best_move = move\n",
    "        if symbol == 'o':\n",
    "            if result <= alpha:\n",
    "                return result, best_move\n",
    "            if result < beta:\n",
    "                beta = result\n",
    "            if result < best_value:\n",
    "                best_value = result\n",
    "                best_move = move\n",
    "    return best_value, best_move"
   ]
  },
  {
   "cell_type": "markdown",
   "id": "4fb399e9-6e10-4be3-8e12-1bfea23738f2",
   "metadata": {},
   "source": [
    "# Испитна задача 2"
   ]
  },
  {
   "cell_type": "markdown",
   "id": "d59ff8c5-3690-465f-a8a0-b3f813c7420b",
   "metadata": {},
   "source": [
    "**(25 поени)** \n",
    "Разгледуваме игра која се игра со двајца играчи, еден против друг. Правилата на играта се:\n",
    "- Се игра на табла со димензии `N` по `N`.\n",
    "    - Во примерот подолу, `N = 4`.\n",
    "- Секој играч има по една кралица.\n",
    "    - Во примерот подолу, едната кралица е Ѕвезда, а другата кралица е Хексагон.\n",
    "- Потезите се наизменични.\n",
    "    - Во примерот подолу, прва на ред е кралицата Ѕвезда.\n",
    "- Еден потег се состои од едно придвижување на кралицата, како што се движи кралицата во шахот.\n",
    "- Кралицата која нема да може да се придвижи кога ќе дојде на ред, ја губи играта.\n",
    "\n",
    "Следи интерактивна апликација за оваа игра."
   ]
  },
  {
   "cell_type": "code",
   "execution_count": 225,
   "id": "2d97ffa9-2262-4cb9-b964-05931b93b045",
   "metadata": {},
   "outputs": [],
   "source": [
    "from time import sleep\n",
    "from plotly import graph_objects as go\n",
    "import ipywidgets as widgets\n",
    "import copy"
   ]
  },
  {
   "cell_type": "code",
   "execution_count": 227,
   "id": "8ca56247-0a19-4237-ac70-239d8843008f",
   "metadata": {},
   "outputs": [
    {
     "data": {
      "application/vnd.jupyter.widget-view+json": {
       "model_id": "514815fc981f40aeaad1284ed26ff998",
       "version_major": 2,
       "version_minor": 0
      },
      "text/plain": [
       "VBox(children=(HBox(children=(Button(description='Ресетирај', style=ButtonStyle()), HTML(value='', description…"
      ]
     },
     "metadata": {},
     "output_type": "display_data"
    }
   ],
   "source": [
    "class Game:\n",
    "    def __init__(self, player_1, player_2, N):\n",
    "        \"\"\" Конструктор. \"\"\"\n",
    "        self.N = N\n",
    "        self.starting_position_1, self.starting_position_2 = player_1[2], player_2[2]\n",
    "        # ова се податоците за играчите\n",
    "        self.player_1 = {'name': player_1[0], 'type': player_1[1], 'symbol': 'S', 'role': 'MAX'}\n",
    "        self.player_2 = {'name': player_2[0], 'type': player_2[1], 'symbol': 'H', 'role': 'MIN'}\n",
    "        self.next_player = self.player_1\n",
    "        \n",
    "        self.symbols_fig = {'x': 'x-thin', '·': 'circle-open', 'S': 'star', 'H': 'hexagon'}\n",
    "        self.scores = {'S': 1, 'H': -1}\n",
    "        \n",
    "        self.score = widgets.HTML(description='Статус:', value='')\n",
    "        self.state = [['·' for y in range(self.N)] for x in range(self.N)]\n",
    "        self.fig = self.create_fig()\n",
    "        self.button = widgets.Button(description='Ресетирај')\n",
    "        self.button.on_click(lambda x: self.reset())\n",
    "        display(widgets.VBox([widgets.HBox([self.button, self.score]), self.fig]))\n",
    "        self.reset()\n",
    "    \n",
    "    def reset(self):\n",
    "        \"\"\" Ја ресетира играта кога ќе се притисне на копчето `Ресетирај`. \"\"\"\n",
    "        self.next_player = self.player_1\n",
    "        self.update_score('На ред е', self.next_player)\n",
    "        self.state = [['·' for y in range(self.N)] for x in range(self.N)]\n",
    "        x, y = self.starting_position_1\n",
    "        self.state[y][x] = self.player_1['symbol']\n",
    "        x, y = self.starting_position_2\n",
    "        self.state[y][x] = self.player_2['symbol']\n",
    "        self.fig.data[0].marker.symbol = [self.symbols_fig[value] for row in self.state for value in row]\n",
    "        self.evaluated = {}\n",
    "        self.take_turns()\n",
    "    \n",
    "    def player_took_turn(self, x, y):\n",
    "        \"\"\" Ја обновува таблата за последниот напревен потег на играчот `self.next_player`. \"\"\"\n",
    "        x_old, y_old = self.find_symbol(self.state, self.next_player['symbol'])\n",
    "        self.state[y_old][x_old] = 'x'\n",
    "        self.state[y][x] = self.next_player['symbol']\n",
    "        self.fig.data[0].marker.symbol = [self.symbols_fig[value] for row in self.state for value in row]\n",
    "        self.next_player = self.player_1 if self.next_player == self.player_2 else self.player_2\n",
    "        winner_symbol = self.check_victory(self.state, self.next_player)\n",
    "        if winner_symbol != 'keep_playing':\n",
    "            player_winner = self.player_1 if winner_symbol == self.player_1['symbol'] else self.player_2\n",
    "            self.update_score('Победник е', player_winner)\n",
    "            return\n",
    "        self.update_score('На ред е', self.next_player)\n",
    "        self.take_turns()\n",
    "    \n",
    "    def take_turns(self):\n",
    "        \"\"\" Наизменично ги повикува функциите на играчите, независно дали се човек или вештачка интелигенција. \"\"\"\n",
    "        if self.next_player['type'] == 'human':\n",
    "            return  # wait for player\n",
    "        else:\n",
    "            self.score.value += ' -- пресметува'\n",
    "            state = tuple([tuple(row) for row in self.state])\n",
    "            result, move = self.minimax(state, self.next_player['role'])\n",
    "            print(result)\n",
    "            sleep(1)\n",
    "            self.player_took_turn(*move)\n",
    "    \n",
    "    def validate_move(self, state, position, destination):\n",
    "        \"\"\" Проверува дали е чист патот од `position` до `destination` на таблата `state`. Ако да, тогаш потегот е валиден. \"\"\"\n",
    "        x1, y1 = position\n",
    "        x2, y2 = destination\n",
    "\n",
    "        y_min, y_max = sorted([y1, y2])\n",
    "        if x1 == x2:  # иста колона\n",
    "            for yi in range(y_min+1, y_max):\n",
    "                if state[yi][x1] != '·':\n",
    "                    return False # not a valid move\n",
    "            return True\n",
    "\n",
    "        x_min, x_max = sorted([x1, x2])\n",
    "        if y1 == y2:  # иста редица\n",
    "            for xi in range(x_min+1, x_max):\n",
    "                if state[y1][xi] != '·':\n",
    "                    return False # not a valid move\n",
    "            return True\n",
    "        \n",
    "        if abs(x1 - x2) != abs(y1 - y2):  # не се во иста дијагонала\n",
    "            return False # not a valid move\n",
    "\n",
    "        for xi, yi in zip(range(x_min+1, x_max), range(y_min+1, y_max)):\n",
    "            if state[yi][xi] != '·':\n",
    "                return False # not a valid move\n",
    "        return True\n",
    "    \n",
    "    def update_score(self, message, player):\n",
    "        \"\"\" Ги обновува вредностите на семафорот за кој играч е на ред или дали имаме победник. \"\"\"\n",
    "        player_data = ' - '.join(list(player.values())[:3])\n",
    "        self.score.value = f'{message} <b> {player_data} </b>.'\n",
    "    \n",
    "    def update_fig(self, trace, points, selector):\n",
    "        \"\"\" Оваа функција се извршува кога ќе притиснете со глувчето врз графикот. \"\"\"\n",
    "        x2, y2 = points.xs[0], points.ys[0]\n",
    "        x1, y1 = self.find_symbol(self.state, self.next_player['symbol'])\n",
    "        valid_move = self.validate_move(self.state, (x1, y1), (x2, y2))\n",
    "        if self.state[y2][x2] == '·' and self.next_player['type'] == 'human' and valid_move:\n",
    "            self.player_took_turn(x2, y2)\n",
    "\n",
    "    def create_fig(self):\n",
    "        \"\"\" Ја исцртува таблата. \"\"\"\n",
    "        fig = go.FigureWidget()\n",
    "        x = [x for y in range(self.N) for x in range(self.N)]\n",
    "        y = [y for y in range(self.N) for x in range(self.N)]\n",
    "        symbols = [self.symbols_fig[value] for row in self.state for value in row]\n",
    "        fig.add_scatter(x=x, y=y, mode='markers', marker_size=48, \n",
    "                        marker_symbol=symbols, marker_color='LightSkyBlue',\n",
    "                        marker_line_width=6, marker_line_color='MediumPurple')\n",
    "        fig.data[0].on_click(self.update_fig)\n",
    "        fig.update_xaxes(range=[-0.5, self.N - 0.5], dtick=1, title='x', side='top')\n",
    "        fig.update_yaxes(range=[-0.5, self.N - 0.5], dtick=1, title='y', autorange='reversed')\n",
    "        fig.update_layout(width=600, height=600, showlegend=False)\n",
    "        return fig\n",
    "    \n",
    "    # S-MAX, H-MIN\n",
    "    \n",
    "    def minimax(self, state, symbol, alpha=-2, beta=2, depth=0):\n",
    "        if self.check_victory(state) != 'keep_playing':\n",
    "            return self.check_victory(state), None\n",
    "        best_value = 2 if player == 'MIN' else -2\n",
    "        best_move = None\n",
    "        for next_state, move in self.expand_state(state, symbol):\n",
    "            other_symbol = 'H' if symbol == 'S' else 'S'\n",
    "            result, _ = self.minimax(next_state, other_symbol, alpha, beta, depth+1)\n",
    "            if player == 'H':\n",
    "                if result <= alpha:\n",
    "                    return result, best_move\n",
    "                if result < beta:\n",
    "                    beta = result\n",
    "                if result < best_value:\n",
    "                    best_value = result\n",
    "                    best_move = move\n",
    "            elif player == 'S':\n",
    "                if result >= beta:\n",
    "                    return result, best_move\n",
    "                if result > alpha:\n",
    "                    alpha = result\n",
    "                if result > best_value:\n",
    "                    best_value = result\n",
    "                    best_move = move\n",
    "        return best_value, best_move\n",
    "    \n",
    "    def find_symbol(self, state, symbol):\n",
    "        \"\"\" Ги пронаоѓа координатите (x, y) на симболот `symbol` во матрицата `state`. \"\"\"\n",
    "        return [(x, y) for y, row in enumerate(state) for x, value in enumerate(row) if value == symbol][0]\n",
    "\n",
    "    def expand_state(state, symbol):\n",
    "        y, x = self.find_symbol(self, state, symbol) # vrakja (kolona, red)\n",
    "        symbol = state[x][y]\n",
    "        # x i y - pozicii na kralicata\n",
    "        states = []\n",
    "        deltas = [\n",
    "            (0, 1), (0, -1), (1, 0), (-1, 0),\n",
    "            (1, 1), (1, -1), (-1, 1), (-1, -1)]\n",
    "        for dx, dy in deltas: # (0, 1)\n",
    "            nx, ny = x + dx, y + dy # 2, 0\n",
    "            while 0 <= nx < self.N and 0 <= ny < self.N:\n",
    "                if state[nx][ny] == '·':\n",
    "                    new_state = copy.deepcopy(state)\n",
    "                    new_state[x][y] = 'x'\n",
    "                    new_state[nx][ny] = symbol\n",
    "                    states.append((new_state, (nx, ny)))\n",
    "                else:\n",
    "                    break\n",
    "                nx += dx\n",
    "                ny += dy\n",
    "        return states\n",
    "    \n",
    "    def check_victory(self, state, player):\n",
    "        \"\"\" Го враќа симболот на победникот за матрицата `state`. Следен на потег е играчот `player`. \"\"\"\n",
    "        x, y = self.find_symbol(state, player['symbol'])\n",
    "        for x1, y1 in [(x+1, y), (x-1, y), (x, y+1), (x, y-1), \n",
    "                     (x+1, y+1), (x-1, y+1), (x+1, y-1), (x-1, y-1)]:\n",
    "            if 0 <= x1 < self.N and 0 <= y1 < self.N and state[y1][x1] == '·':\n",
    "                return 'keep_playing'\n",
    "        other_player = self.player_2 if player == self.player_1 else self.player_1\n",
    "        return other_player['symbol']\n",
    "\n",
    "game = Game(player_1=('Ѕвезда', 'human', (0, 3)), player_2=('Хексагон', 'AI', (3, 0)), N=4)"
   ]
  },
  {
   "cell_type": "markdown",
   "id": "8fa16a34-ea08-4d03-8d4e-197107f23103",
   "metadata": {},
   "source": [
    "Над овој текст треба да имате интерактивна апликација за играта како на сликата подолу. Прво извршете ги ќелиите, а потоа ако ја немате интерактивната апликација, тогаш нешто не е во ред со вашата инсталација, па побарајте помош од Стефан."
   ]
  },
  {
   "cell_type": "markdown",
   "id": "6c7c7fde-8f65-4a4f-9465-6f2562b416fd",
   "metadata": {},
   "source": [
    "![Тука треба да видите .gif анимација, ама штом го читате ова нешто не е во ред.](images/Кралици.gif)"
   ]
  },
  {
   "cell_type": "markdown",
   "id": "d77092f2-ffbe-42e2-9f24-812fa2f046e7",
   "metadata": {},
   "source": [
    "**Задача:** Напишете вештачка интелигенција која ќе ја игра оваа игра со помош на минимакс алгоритамот, вклучувајќи и алфа-бета поткастрување."
   ]
  },
  {
   "cell_type": "markdown",
   "id": "bf6ae161-5236-4ea1-898c-0ae344a01893",
   "metadata": {},
   "source": [
    "**Совети:** \n",
    "- Користете ја задачата Икс-точка од аудиториските вежби за да ја решите оваа задача. Истата е користена како урнек за дефинирање на оваа задача.\n",
    "- Додавајте код само во функциите `expand_state()` и `minimax()`. Слободно можете да си додавате функции и да ги искористете веќе дадените. Не ви препорачувам менување на останатиот код, но ако сметате дека има потреба - слободно менувајте."
   ]
  },
  {
   "cell_type": "code",
   "execution_count": null,
   "id": "8c2e3734-2615-4c85-86d8-fba3d1bb75f0",
   "metadata": {},
   "outputs": [],
   "source": [
    "import copy\n",
    "\n",
    "def expand_state(state, x, y):\n",
    "    symbol = state[x][y]\n",
    "    N = 4\n",
    "    # x i y - pozicii na kralicata\n",
    "    states = []\n",
    "    deltas = [\n",
    "        (0, 1), (0, -1), (1, 0), (-1, 0),\n",
    "        (1, 1), (1, -1), (-1, 1), (-1, -1)]\n",
    "    for dx, dy in deltas: # (0, 1)\n",
    "        nx, ny = x + dx, y + dy # 2, 0\n",
    "        while 0 <= nx < N and 0 <= ny < N:\n",
    "            if state[nx][ny] == '·':\n",
    "                new_state = copy.deepcopy(state)\n",
    "                new_state[x][y] = 'x'\n",
    "                new_state[nx][ny] = symbol\n",
    "                states.append((new_state, (nx, ny)))\n",
    "            else:\n",
    "                break\n",
    "            nx += dx\n",
    "            ny += dy\n",
    "    return states"
   ]
  },
  {
   "cell_type": "code",
   "execution_count": null,
   "id": "8737c87c-f933-485c-9066-03d9b05435ce",
   "metadata": {},
   "outputs": [],
   "source": [
    "state = [['·', 'x', 'H', 'x'],\n",
    "         ['S', 'x', 'x', 'x'],\n",
    "         ['·', 'x', 'x', 'x'],\n",
    "         ['·', '·', 'x', '·']]"
   ]
  },
  {
   "cell_type": "code",
   "execution_count": null,
   "id": "c8303467-00ef-4629-a3ea-4d924647fe6d",
   "metadata": {},
   "outputs": [
    {
     "data": {
      "text/plain": [
       "[([['·', 'x', 'H', 'x'],\n",
       "   ['x', 'x', 'x', 'x'],\n",
       "   ['S', 'x', 'x', 'x'],\n",
       "   ['·', '·', 'x', '·']],\n",
       "  (2, 0)),\n",
       " ([['·', 'x', 'H', 'x'],\n",
       "   ['x', 'x', 'x', 'x'],\n",
       "   ['·', 'x', 'x', 'x'],\n",
       "   ['S', '·', 'x', '·']],\n",
       "  (3, 0)),\n",
       " ([['S', 'x', 'H', 'x'],\n",
       "   ['x', 'x', 'x', 'x'],\n",
       "   ['·', 'x', 'x', 'x'],\n",
       "   ['·', '·', 'x', '·']],\n",
       "  (0, 0))]"
      ]
     },
     "execution_count": 224,
     "metadata": {},
     "output_type": "execute_result"
    }
   ],
   "source": [
    "expand_state(state, 1, 0)"
   ]
  },
  {
   "cell_type": "code",
   "execution_count": null,
   "id": "92d52b27-0145-4de0-8d08-76ea14e4ec95",
   "metadata": {},
   "outputs": [],
   "source": [
    "def check_score(state):\n",
    "    N = 4\n",
    "    deltas = [\n",
    "        (0, 1), (0, -1), (1, 0), (-1, 0),\n",
    "        (1, 1), (1, -1), (-1, 1), (-1, -1)]\n",
    "    for symbol in ['H', 'S']:\n",
    "        has_lost = True\n",
    "        x, y = find_symbol_position(state, symbol)\n",
    "        for dx, dy in deltas:\n",
    "            nx, ny = x+dx, y+dy\n",
    "            if 0 <= nx < N and 0 <= ny < N:\n",
    "                if state[nx][ny] == '·':\n",
    "                    has_lost = False\n",
    "                    break\n",
    "        \n",
    "        "
   ]
  },
  {
   "cell_type": "code",
   "execution_count": null,
   "id": "3d6ca989-c6b7-46a9-8292-f2da4bc2de5a",
   "metadata": {},
   "outputs": [],
   "source": [
    "def minimax(self, node, player, alpha=-2, beta=2, depth=0):\n",
    "    winner = self.check_victory(node, 'S' if player == 'MAX' else 'P')\n",
    "    if winner != 'keep_playing':\n",
    "        return self.scores[winner], None\n",
    "    best_value = 2 if player == 'MIN' else -2\n",
    "    best_move = None\n",
    "    for child, move in self.expand_state(node, player):\n",
    "        other_player = 'MIN' if player == 'MAX' else 'MAX'\n",
    "        result, _ = self.minimax(child, other_player, alpha, beta, depth+1)\n",
    "        if player == 'MIN':\n",
    "            if result <= alpha:\n",
    "                return result, best_move\n",
    "            if result < beta:\n",
    "                beta = result\n",
    "            if result < best_value:\n",
    "                best_value = result\n",
    "                best_move = move\n",
    "        elif player == 'MAX':\n",
    "            if result >= beta:\n",
    "                return result, best_move\n",
    "            if result > alpha:\n",
    "                alpha = result\n",
    "            if result > best_value:\n",
    "                best_value = result\n",
    "                best_move = move\n",
    "    return best_value, best_move"
   ]
  }
 ],
 "metadata": {
  "kernelspec": {
   "display_name": "Python 3 (ipykernel)",
   "language": "python",
   "name": "python3"
  },
  "language_info": {
   "codemirror_mode": {
    "name": "ipython",
    "version": 3
   },
   "file_extension": ".py",
   "mimetype": "text/x-python",
   "name": "python",
   "nbconvert_exporter": "python",
   "pygments_lexer": "ipython3",
   "version": "3.10.8"
  }
 },
 "nbformat": 4,
 "nbformat_minor": 5
}
